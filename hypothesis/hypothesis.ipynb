{
 "cells": [
  {
   "cell_type": "markdown",
   "metadata": {},
   "source": [
    "# Анализ гипотез на примере интернет-магазина"
   ]
  },
  {
   "cell_type": "markdown",
   "metadata": {},
   "source": [
    "\n",
    "<b>Цель проекта</b>\n",
    "    \n",
    "На примере интернет-магазина приоритизировать гипотезы для увеличения выручки, запустить A/B-тест и проанализировать результаты.\n"
   ]
  },
  {
   "cell_type": "markdown",
   "metadata": {},
   "source": [
    "**Импорт библиотек**"
   ]
  },
  {
   "cell_type": "code",
   "execution_count": 1,
   "metadata": {},
   "outputs": [],
   "source": [
    "import pandas as pd\n",
    "import numpy as np\n",
    "import datetime as dt\n",
    "import math \n",
    "import matplotlib.pyplot as plt\n",
    "from matplotlib.pyplot import figure\n",
    "import scipy.stats as stats\n",
    "import warnings\n",
    "warnings.filterwarnings('ignore')"
   ]
  },
  {
   "cell_type": "markdown",
   "metadata": {},
   "source": [
    "## 1. Приоритизация гипотез"
   ]
  },
  {
   "cell_type": "markdown",
   "metadata": {},
   "source": [
    "\n",
    "\n",
    "Необходимо приоритизировать гипотезы.  \n",
    "    \n",
    "<b>Требуемые шаги:</b>\n",
    "\n",
    "<li>применение фреймворка ICE, рассчитывается как отношение impact*confidence/efforts</li>\n",
    "<li>применение фреймворка RICE, рассчитывается как отношение reach*impact*confidence/efforts</li>\n",
    "\n",
    "Где:\n",
    "Reach — скольких пользователей затронет изменение\n",
    "Impact — насколько сильно изменение повлияет на пользователей\n",
    "Confidence — уверенность в том, что изменение повлияет на пользователей именно так\n",
    "Efforts — стоимость гипотезы\n",
    "    \n",
    "Параметры фреймворков ICE и RICE оценивается в шкале от 0 до 10.\n"
   ]
  },
  {
   "cell_type": "markdown",
   "metadata": {},
   "source": [
    "**Откроем файл и изучим данные**"
   ]
  },
  {
   "cell_type": "code",
   "execution_count": 2,
   "metadata": {},
   "outputs": [
    {
     "data": {
      "text/html": [
       "<div>\n",
       "<style scoped>\n",
       "    .dataframe tbody tr th:only-of-type {\n",
       "        vertical-align: middle;\n",
       "    }\n",
       "\n",
       "    .dataframe tbody tr th {\n",
       "        vertical-align: top;\n",
       "    }\n",
       "\n",
       "    .dataframe thead th {\n",
       "        text-align: right;\n",
       "    }\n",
       "</style>\n",
       "<table border=\"1\" class=\"dataframe\">\n",
       "  <thead>\n",
       "    <tr style=\"text-align: right;\">\n",
       "      <th></th>\n",
       "      <th>Hypothesis</th>\n",
       "      <th>Reach</th>\n",
       "      <th>Impact</th>\n",
       "      <th>Confidence</th>\n",
       "      <th>Efforts</th>\n",
       "    </tr>\n",
       "  </thead>\n",
       "  <tbody>\n",
       "    <tr>\n",
       "      <td>0</td>\n",
       "      <td>Добавить два новых канала привлечения трафика, что позволит привлекать на 30% больше пользователей</td>\n",
       "      <td>3</td>\n",
       "      <td>10</td>\n",
       "      <td>8</td>\n",
       "      <td>6</td>\n",
       "    </tr>\n",
       "    <tr>\n",
       "      <td>1</td>\n",
       "      <td>Запустить собственную службу доставки, что сократит срок доставки заказов</td>\n",
       "      <td>2</td>\n",
       "      <td>5</td>\n",
       "      <td>4</td>\n",
       "      <td>10</td>\n",
       "    </tr>\n",
       "    <tr>\n",
       "      <td>2</td>\n",
       "      <td>Добавить блоки рекомендаций товаров на сайт интернет магазина, чтобы повысить конверсию и средний чек заказа</td>\n",
       "      <td>8</td>\n",
       "      <td>3</td>\n",
       "      <td>7</td>\n",
       "      <td>3</td>\n",
       "    </tr>\n",
       "    <tr>\n",
       "      <td>3</td>\n",
       "      <td>Изменить структура категорий, что увеличит конверсию, т.к. пользователи быстрее найдут нужный товар</td>\n",
       "      <td>8</td>\n",
       "      <td>3</td>\n",
       "      <td>3</td>\n",
       "      <td>8</td>\n",
       "    </tr>\n",
       "    <tr>\n",
       "      <td>4</td>\n",
       "      <td>Изменить цвет фона главной страницы, чтобы увеличить вовлеченность пользователей</td>\n",
       "      <td>3</td>\n",
       "      <td>1</td>\n",
       "      <td>1</td>\n",
       "      <td>1</td>\n",
       "    </tr>\n",
       "    <tr>\n",
       "      <td>5</td>\n",
       "      <td>Добавить страницу отзывов клиентов о магазине, что позволит увеличить количество заказов</td>\n",
       "      <td>3</td>\n",
       "      <td>2</td>\n",
       "      <td>2</td>\n",
       "      <td>3</td>\n",
       "    </tr>\n",
       "    <tr>\n",
       "      <td>6</td>\n",
       "      <td>Показать на главной странице баннеры с актуальными акциями и распродажами, чтобы увеличить конверсию</td>\n",
       "      <td>5</td>\n",
       "      <td>3</td>\n",
       "      <td>8</td>\n",
       "      <td>3</td>\n",
       "    </tr>\n",
       "    <tr>\n",
       "      <td>7</td>\n",
       "      <td>Добавить форму подписки на все основные страницы, чтобы собрать базу клиентов для email-рассылок</td>\n",
       "      <td>10</td>\n",
       "      <td>7</td>\n",
       "      <td>8</td>\n",
       "      <td>5</td>\n",
       "    </tr>\n",
       "    <tr>\n",
       "      <td>8</td>\n",
       "      <td>Запустить акцию, дающую скидку на товар в день рождения</td>\n",
       "      <td>1</td>\n",
       "      <td>9</td>\n",
       "      <td>9</td>\n",
       "      <td>5</td>\n",
       "    </tr>\n",
       "  </tbody>\n",
       "</table>\n",
       "</div>"
      ],
      "text/plain": [
       "                                                                                                     Hypothesis  \\\n",
       "0            Добавить два новых канала привлечения трафика, что позволит привлекать на 30% больше пользователей   \n",
       "1                                     Запустить собственную службу доставки, что сократит срок доставки заказов   \n",
       "2  Добавить блоки рекомендаций товаров на сайт интернет магазина, чтобы повысить конверсию и средний чек заказа   \n",
       "3           Изменить структура категорий, что увеличит конверсию, т.к. пользователи быстрее найдут нужный товар   \n",
       "4                              Изменить цвет фона главной страницы, чтобы увеличить вовлеченность пользователей   \n",
       "5                      Добавить страницу отзывов клиентов о магазине, что позволит увеличить количество заказов   \n",
       "6          Показать на главной странице баннеры с актуальными акциями и распродажами, чтобы увеличить конверсию   \n",
       "7              Добавить форму подписки на все основные страницы, чтобы собрать базу клиентов для email-рассылок   \n",
       "8                                                       Запустить акцию, дающую скидку на товар в день рождения   \n",
       "\n",
       "   Reach  Impact  Confidence  Efforts  \n",
       "0      3      10           8        6  \n",
       "1      2       5           4       10  \n",
       "2      8       3           7        3  \n",
       "3      8       3           3        8  \n",
       "4      3       1           1        1  \n",
       "5      3       2           2        3  \n",
       "6      5       3           8        3  \n",
       "7     10       7           8        5  \n",
       "8      1       9           9        5  "
      ]
     },
     "execution_count": 2,
     "metadata": {},
     "output_type": "execute_result"
    }
   ],
   "source": [
    "pd.set_option('max_colwidth', 400)\n",
    "try:\n",
    "    hypothesis = pd.read_csv('/datasets/hypothesis.csv')\n",
    "except:\n",
    "    hypothesis = pd.read_csv('hypothesis.csv')\n",
    "hypothesis"
   ]
  },
  {
   "cell_type": "markdown",
   "metadata": {},
   "source": [
    "## 1.1 Фреймворк ICE для приоритизации гипотез"
   ]
  },
  {
   "cell_type": "code",
   "execution_count": 3,
   "metadata": {},
   "outputs": [
    {
     "data": {
      "text/html": [
       "<div>\n",
       "<style scoped>\n",
       "    .dataframe tbody tr th:only-of-type {\n",
       "        vertical-align: middle;\n",
       "    }\n",
       "\n",
       "    .dataframe tbody tr th {\n",
       "        vertical-align: top;\n",
       "    }\n",
       "\n",
       "    .dataframe thead th {\n",
       "        text-align: right;\n",
       "    }\n",
       "</style>\n",
       "<table border=\"1\" class=\"dataframe\">\n",
       "  <thead>\n",
       "    <tr style=\"text-align: right;\">\n",
       "      <th></th>\n",
       "      <th>Hypothesis</th>\n",
       "      <th>ICE</th>\n",
       "    </tr>\n",
       "  </thead>\n",
       "  <tbody>\n",
       "    <tr>\n",
       "      <td>8</td>\n",
       "      <td>Запустить акцию, дающую скидку на товар в день рождения</td>\n",
       "      <td>16.200000</td>\n",
       "    </tr>\n",
       "    <tr>\n",
       "      <td>0</td>\n",
       "      <td>Добавить два новых канала привлечения трафика, что позволит привлекать на 30% больше пользователей</td>\n",
       "      <td>13.333333</td>\n",
       "    </tr>\n",
       "    <tr>\n",
       "      <td>7</td>\n",
       "      <td>Добавить форму подписки на все основные страницы, чтобы собрать базу клиентов для email-рассылок</td>\n",
       "      <td>11.200000</td>\n",
       "    </tr>\n",
       "    <tr>\n",
       "      <td>6</td>\n",
       "      <td>Показать на главной странице баннеры с актуальными акциями и распродажами, чтобы увеличить конверсию</td>\n",
       "      <td>8.000000</td>\n",
       "    </tr>\n",
       "    <tr>\n",
       "      <td>2</td>\n",
       "      <td>Добавить блоки рекомендаций товаров на сайт интернет магазина, чтобы повысить конверсию и средний чек заказа</td>\n",
       "      <td>7.000000</td>\n",
       "    </tr>\n",
       "    <tr>\n",
       "      <td>1</td>\n",
       "      <td>Запустить собственную службу доставки, что сократит срок доставки заказов</td>\n",
       "      <td>2.000000</td>\n",
       "    </tr>\n",
       "    <tr>\n",
       "      <td>5</td>\n",
       "      <td>Добавить страницу отзывов клиентов о магазине, что позволит увеличить количество заказов</td>\n",
       "      <td>1.333333</td>\n",
       "    </tr>\n",
       "    <tr>\n",
       "      <td>3</td>\n",
       "      <td>Изменить структура категорий, что увеличит конверсию, т.к. пользователи быстрее найдут нужный товар</td>\n",
       "      <td>1.125000</td>\n",
       "    </tr>\n",
       "    <tr>\n",
       "      <td>4</td>\n",
       "      <td>Изменить цвет фона главной страницы, чтобы увеличить вовлеченность пользователей</td>\n",
       "      <td>1.000000</td>\n",
       "    </tr>\n",
       "  </tbody>\n",
       "</table>\n",
       "</div>"
      ],
      "text/plain": [
       "                                                                                                     Hypothesis  \\\n",
       "8                                                       Запустить акцию, дающую скидку на товар в день рождения   \n",
       "0            Добавить два новых канала привлечения трафика, что позволит привлекать на 30% больше пользователей   \n",
       "7              Добавить форму подписки на все основные страницы, чтобы собрать базу клиентов для email-рассылок   \n",
       "6          Показать на главной странице баннеры с актуальными акциями и распродажами, чтобы увеличить конверсию   \n",
       "2  Добавить блоки рекомендаций товаров на сайт интернет магазина, чтобы повысить конверсию и средний чек заказа   \n",
       "1                                     Запустить собственную службу доставки, что сократит срок доставки заказов   \n",
       "5                      Добавить страницу отзывов клиентов о магазине, что позволит увеличить количество заказов   \n",
       "3           Изменить структура категорий, что увеличит конверсию, т.к. пользователи быстрее найдут нужный товар   \n",
       "4                              Изменить цвет фона главной страницы, чтобы увеличить вовлеченность пользователей   \n",
       "\n",
       "         ICE  \n",
       "8  16.200000  \n",
       "0  13.333333  \n",
       "7  11.200000  \n",
       "6   8.000000  \n",
       "2   7.000000  \n",
       "1   2.000000  \n",
       "5   1.333333  \n",
       "3   1.125000  \n",
       "4   1.000000  "
      ]
     },
     "metadata": {},
     "output_type": "display_data"
    }
   ],
   "source": [
    "hypothesis['ICE'] = hypothesis['Impact']*hypothesis['Confidence'] / hypothesis['Efforts']\n",
    "display(hypothesis.loc[:,['Hypothesis', 'ICE']].sort_values(by ='ICE', ascending = False)) "
   ]
  },
  {
   "cell_type": "markdown",
   "metadata": {},
   "source": [
    "Наиболее перспективные гипотезы по ICE:\n",
    "* Запустить акцию, дающую скидку на товар в день рождения\n",
    "* Добавить два новых канала привлечения трафика, что позволит привлекать на 30% больше пользователей\n",
    "* Добавить форму подписки на все основные страницы, чтобы собрать базу клиентов для email-рассылок"
   ]
  },
  {
   "cell_type": "markdown",
   "metadata": {},
   "source": [
    "## 1.2 Фреймворк RICE для приоритизации гипотез"
   ]
  },
  {
   "cell_type": "code",
   "execution_count": 4,
   "metadata": {},
   "outputs": [
    {
     "data": {
      "text/html": [
       "<div>\n",
       "<style scoped>\n",
       "    .dataframe tbody tr th:only-of-type {\n",
       "        vertical-align: middle;\n",
       "    }\n",
       "\n",
       "    .dataframe tbody tr th {\n",
       "        vertical-align: top;\n",
       "    }\n",
       "\n",
       "    .dataframe thead th {\n",
       "        text-align: right;\n",
       "    }\n",
       "</style>\n",
       "<table border=\"1\" class=\"dataframe\">\n",
       "  <thead>\n",
       "    <tr style=\"text-align: right;\">\n",
       "      <th></th>\n",
       "      <th>Hypothesis</th>\n",
       "      <th>RICE</th>\n",
       "    </tr>\n",
       "  </thead>\n",
       "  <tbody>\n",
       "    <tr>\n",
       "      <td>7</td>\n",
       "      <td>Добавить форму подписки на все основные страницы, чтобы собрать базу клиентов для email-рассылок</td>\n",
       "      <td>112.0</td>\n",
       "    </tr>\n",
       "    <tr>\n",
       "      <td>2</td>\n",
       "      <td>Добавить блоки рекомендаций товаров на сайт интернет магазина, чтобы повысить конверсию и средний чек заказа</td>\n",
       "      <td>56.0</td>\n",
       "    </tr>\n",
       "    <tr>\n",
       "      <td>0</td>\n",
       "      <td>Добавить два новых канала привлечения трафика, что позволит привлекать на 30% больше пользователей</td>\n",
       "      <td>40.0</td>\n",
       "    </tr>\n",
       "    <tr>\n",
       "      <td>6</td>\n",
       "      <td>Показать на главной странице баннеры с актуальными акциями и распродажами, чтобы увеличить конверсию</td>\n",
       "      <td>40.0</td>\n",
       "    </tr>\n",
       "    <tr>\n",
       "      <td>8</td>\n",
       "      <td>Запустить акцию, дающую скидку на товар в день рождения</td>\n",
       "      <td>16.2</td>\n",
       "    </tr>\n",
       "    <tr>\n",
       "      <td>3</td>\n",
       "      <td>Изменить структура категорий, что увеличит конверсию, т.к. пользователи быстрее найдут нужный товар</td>\n",
       "      <td>9.0</td>\n",
       "    </tr>\n",
       "    <tr>\n",
       "      <td>1</td>\n",
       "      <td>Запустить собственную службу доставки, что сократит срок доставки заказов</td>\n",
       "      <td>4.0</td>\n",
       "    </tr>\n",
       "    <tr>\n",
       "      <td>5</td>\n",
       "      <td>Добавить страницу отзывов клиентов о магазине, что позволит увеличить количество заказов</td>\n",
       "      <td>4.0</td>\n",
       "    </tr>\n",
       "    <tr>\n",
       "      <td>4</td>\n",
       "      <td>Изменить цвет фона главной страницы, чтобы увеличить вовлеченность пользователей</td>\n",
       "      <td>3.0</td>\n",
       "    </tr>\n",
       "  </tbody>\n",
       "</table>\n",
       "</div>"
      ],
      "text/plain": [
       "                                                                                                     Hypothesis  \\\n",
       "7              Добавить форму подписки на все основные страницы, чтобы собрать базу клиентов для email-рассылок   \n",
       "2  Добавить блоки рекомендаций товаров на сайт интернет магазина, чтобы повысить конверсию и средний чек заказа   \n",
       "0            Добавить два новых канала привлечения трафика, что позволит привлекать на 30% больше пользователей   \n",
       "6          Показать на главной странице баннеры с актуальными акциями и распродажами, чтобы увеличить конверсию   \n",
       "8                                                       Запустить акцию, дающую скидку на товар в день рождения   \n",
       "3           Изменить структура категорий, что увеличит конверсию, т.к. пользователи быстрее найдут нужный товар   \n",
       "1                                     Запустить собственную службу доставки, что сократит срок доставки заказов   \n",
       "5                      Добавить страницу отзывов клиентов о магазине, что позволит увеличить количество заказов   \n",
       "4                              Изменить цвет фона главной страницы, чтобы увеличить вовлеченность пользователей   \n",
       "\n",
       "    RICE  \n",
       "7  112.0  \n",
       "2   56.0  \n",
       "0   40.0  \n",
       "6   40.0  \n",
       "8   16.2  \n",
       "3    9.0  \n",
       "1    4.0  \n",
       "5    4.0  \n",
       "4    3.0  "
      ]
     },
     "metadata": {},
     "output_type": "display_data"
    }
   ],
   "source": [
    "hypothesis['RICE'] = hypothesis['Reach']*hypothesis['Impact']*hypothesis['Confidence'] / hypothesis['Efforts']\n",
    "display(hypothesis.loc[:,['Hypothesis', 'RICE']].sort_values(by ='RICE', ascending = False)) "
   ]
  },
  {
   "cell_type": "markdown",
   "metadata": {},
   "source": [
    "Наиболее перспективные гипотезы по RICE:\n",
    "* Добавить форму подписки на все основные страницы, чтобы собрать базу клиентов для email-рассылок\n",
    "* Добавить блоки рекомендаций товаров на сайт интернет магазина, чтобы повысить конверсию и средний чек заказа\n",
    "* Добавить два новых канала привлечения трафика, что позволит привлекать на 30% больше пользователей\n",
    "* Показать на главной странице баннеры с актуальными акциями и распродажами, чтобы увеличить конверсию"
   ]
  },
  {
   "cell_type": "code",
   "execution_count": 5,
   "metadata": {},
   "outputs": [
    {
     "data": {
      "text/html": [
       "<div>\n",
       "<style scoped>\n",
       "    .dataframe tbody tr th:only-of-type {\n",
       "        vertical-align: middle;\n",
       "    }\n",
       "\n",
       "    .dataframe tbody tr th {\n",
       "        vertical-align: top;\n",
       "    }\n",
       "\n",
       "    .dataframe thead th {\n",
       "        text-align: right;\n",
       "    }\n",
       "</style>\n",
       "<table border=\"1\" class=\"dataframe\">\n",
       "  <thead>\n",
       "    <tr style=\"text-align: right;\">\n",
       "      <th></th>\n",
       "      <th>Hypothesis</th>\n",
       "      <th>Reach</th>\n",
       "      <th>Impact</th>\n",
       "      <th>Confidence</th>\n",
       "      <th>Efforts</th>\n",
       "      <th>ICE</th>\n",
       "      <th>RICE</th>\n",
       "    </tr>\n",
       "  </thead>\n",
       "  <tbody>\n",
       "    <tr>\n",
       "      <td>0</td>\n",
       "      <td>Добавить два новых канала привлечения трафика, что позволит привлекать на 30% больше пользователей</td>\n",
       "      <td>3</td>\n",
       "      <td>10</td>\n",
       "      <td>8</td>\n",
       "      <td>6</td>\n",
       "      <td>13.333333</td>\n",
       "      <td>40.0</td>\n",
       "    </tr>\n",
       "    <tr>\n",
       "      <td>1</td>\n",
       "      <td>Запустить собственную службу доставки, что сократит срок доставки заказов</td>\n",
       "      <td>2</td>\n",
       "      <td>5</td>\n",
       "      <td>4</td>\n",
       "      <td>10</td>\n",
       "      <td>2.000000</td>\n",
       "      <td>4.0</td>\n",
       "    </tr>\n",
       "    <tr>\n",
       "      <td>2</td>\n",
       "      <td>Добавить блоки рекомендаций товаров на сайт интернет магазина, чтобы повысить конверсию и средний чек заказа</td>\n",
       "      <td>8</td>\n",
       "      <td>3</td>\n",
       "      <td>7</td>\n",
       "      <td>3</td>\n",
       "      <td>7.000000</td>\n",
       "      <td>56.0</td>\n",
       "    </tr>\n",
       "    <tr>\n",
       "      <td>3</td>\n",
       "      <td>Изменить структура категорий, что увеличит конверсию, т.к. пользователи быстрее найдут нужный товар</td>\n",
       "      <td>8</td>\n",
       "      <td>3</td>\n",
       "      <td>3</td>\n",
       "      <td>8</td>\n",
       "      <td>1.125000</td>\n",
       "      <td>9.0</td>\n",
       "    </tr>\n",
       "    <tr>\n",
       "      <td>4</td>\n",
       "      <td>Изменить цвет фона главной страницы, чтобы увеличить вовлеченность пользователей</td>\n",
       "      <td>3</td>\n",
       "      <td>1</td>\n",
       "      <td>1</td>\n",
       "      <td>1</td>\n",
       "      <td>1.000000</td>\n",
       "      <td>3.0</td>\n",
       "    </tr>\n",
       "    <tr>\n",
       "      <td>5</td>\n",
       "      <td>Добавить страницу отзывов клиентов о магазине, что позволит увеличить количество заказов</td>\n",
       "      <td>3</td>\n",
       "      <td>2</td>\n",
       "      <td>2</td>\n",
       "      <td>3</td>\n",
       "      <td>1.333333</td>\n",
       "      <td>4.0</td>\n",
       "    </tr>\n",
       "    <tr>\n",
       "      <td>6</td>\n",
       "      <td>Показать на главной странице баннеры с актуальными акциями и распродажами, чтобы увеличить конверсию</td>\n",
       "      <td>5</td>\n",
       "      <td>3</td>\n",
       "      <td>8</td>\n",
       "      <td>3</td>\n",
       "      <td>8.000000</td>\n",
       "      <td>40.0</td>\n",
       "    </tr>\n",
       "    <tr>\n",
       "      <td>7</td>\n",
       "      <td>Добавить форму подписки на все основные страницы, чтобы собрать базу клиентов для email-рассылок</td>\n",
       "      <td>10</td>\n",
       "      <td>7</td>\n",
       "      <td>8</td>\n",
       "      <td>5</td>\n",
       "      <td>11.200000</td>\n",
       "      <td>112.0</td>\n",
       "    </tr>\n",
       "    <tr>\n",
       "      <td>8</td>\n",
       "      <td>Запустить акцию, дающую скидку на товар в день рождения</td>\n",
       "      <td>1</td>\n",
       "      <td>9</td>\n",
       "      <td>9</td>\n",
       "      <td>5</td>\n",
       "      <td>16.200000</td>\n",
       "      <td>16.2</td>\n",
       "    </tr>\n",
       "  </tbody>\n",
       "</table>\n",
       "</div>"
      ],
      "text/plain": [
       "                                                                                                     Hypothesis  \\\n",
       "0            Добавить два новых канала привлечения трафика, что позволит привлекать на 30% больше пользователей   \n",
       "1                                     Запустить собственную службу доставки, что сократит срок доставки заказов   \n",
       "2  Добавить блоки рекомендаций товаров на сайт интернет магазина, чтобы повысить конверсию и средний чек заказа   \n",
       "3           Изменить структура категорий, что увеличит конверсию, т.к. пользователи быстрее найдут нужный товар   \n",
       "4                              Изменить цвет фона главной страницы, чтобы увеличить вовлеченность пользователей   \n",
       "5                      Добавить страницу отзывов клиентов о магазине, что позволит увеличить количество заказов   \n",
       "6          Показать на главной странице баннеры с актуальными акциями и распродажами, чтобы увеличить конверсию   \n",
       "7              Добавить форму подписки на все основные страницы, чтобы собрать базу клиентов для email-рассылок   \n",
       "8                                                       Запустить акцию, дающую скидку на товар в день рождения   \n",
       "\n",
       "   Reach  Impact  Confidence  Efforts        ICE   RICE  \n",
       "0      3      10           8        6  13.333333   40.0  \n",
       "1      2       5           4       10   2.000000    4.0  \n",
       "2      8       3           7        3   7.000000   56.0  \n",
       "3      8       3           3        8   1.125000    9.0  \n",
       "4      3       1           1        1   1.000000    3.0  \n",
       "5      3       2           2        3   1.333333    4.0  \n",
       "6      5       3           8        3   8.000000   40.0  \n",
       "7     10       7           8        5  11.200000  112.0  \n",
       "8      1       9           9        5  16.200000   16.2  "
      ]
     },
     "execution_count": 5,
     "metadata": {},
     "output_type": "execute_result"
    }
   ],
   "source": [
    "hypothesis"
   ]
  },
  {
   "cell_type": "markdown",
   "metadata": {},
   "source": [
    "## 1.3 Вывод по приоритизации гипотез"
   ]
  },
  {
   "cell_type": "markdown",
   "metadata": {},
   "source": [
    "Можно заметить, что приоритизация гипотез при применении RICE вместо ICE изменилась. \n",
    "* после применения фрейморка RICE с третьего на первое места переметилась гипотеза о добавлении формы подписки на страницы для сбора email. Это можно объяснить тем, что охват пользователей Reach оценен в 10 баллов, что привело к увеличению числителя в формуле расчета RICE. По этой же причине увеличился приоритет гипотезы о добавлении блока рекомендаций, ее пользовательский охват оценен в 8 баллов.\n",
    "* приоритет гипотезы о добавлении двух новых канало привлечения трафика напротив снизился, за счет небольшого охвата (оценен в 3 балла), однако за счет самого высокого влияния (Impact оценен в 10 баллов) данная гипотеза остается в тройке лидеров.\n",
    "* приоритет гипотезы о показе на главной странице банера с акциями и распродажами не изменился, охват оценивается на половину пользователей, при этом уверенность в оценках параметров достаточна высока - 8 баллов. \n",
    "* гипотеза о скидке в день рождения переместилась на 4 позицию, т.к. хоть влияние на пользователей и уверенность в гипотезе оценены на 9 баллов, показатель охвата оценен в 1 балл, возможно из-за того, что не все пользователи указывают день рождения.\n",
    "* гипотеза об изменении струткуры категории для увеличения конверсии выросла в приоритете, поскольку хоть трудозатраты и велики (8 баллов Efforts) изменения коснутся болшинства пользователей - Reach оценен в 8 баллов.\n",
    "* приоритет гипотезы о собственной службе доставки немного понизился, поскольку охват оценен всего в 2 балла, при этом трудозатраты самые высокие - Efforts оценен в 10 баллов, возможно, проще заключить договор со сторонними службами доставки.\n",
    "* добавление отзывов о магазине и изменение цвета фона главной страницы наименее перспективные гипотезы, трудозатраты по ним небольшие, но охват и влияние также не высоки.  На цвет фона многие не обратят внимание, а отзывы о магазине на сайте магазина могут насторожить клиентов."
   ]
  },
  {
   "cell_type": "markdown",
   "metadata": {},
   "source": [
    "## 2. Анализ A/B-теста"
   ]
  },
  {
   "cell_type": "markdown",
   "metadata": {},
   "source": [
    "\n",
    " \n",
    "Необходимо проанализировать результаты полученного А/В теста.\n",
    "    \n",
    "<b>Требуемые шаги:</b>\n",
    "\n",
    "<li>Построить график кумулятивной выручки по группам</li>\n",
    "<li>Построить график кумулятивного среднего чека по группам</li>\n",
    "<li>Построить график относительного изменения кумулятивного среднего чека группы B к группе A</b>\n",
    "<li>Построить график кумулятивной конверсии по группам</li>\n",
    "<li>Построить график относительного изменения кумулятивной конверсии группы B к группе A</li>\n",
    "<li>Построить точечный график количества заказов по пользователям</li>\n",
    "<li>Посчитать 95-й и 99-й перцентили количества заказов на пользователя</li>\n",
    "<li>Построить точечный график стоимостей заказов</li>\n",
    "<li>Посчитать 95-й и 99-й перцентили стоимости заказов</li>\n",
    "<li>Посчитать статистическую значимость различий в конверсии между группами по «сырым» данным</li>\n",
    "<li>Посчитать статистическую значимость различий в среднем чеке заказа между группами по «сырым» данным</li>\n",
    "<li>Посчитать статистическую значимость различий в конверсии между группами по «очищенным» данным</li>\n",
    "<li>Посчитать статистическую значимость различий в среднем чеке заказа между группами по «очищенным» данным</li>\n",
    "\n",
    "По результатам тестирования необходимо принять решение об остановке теста, зафиксировав победу одной из групп, или, напротив, отсутствие различий между группами, либо принять решение о продолжении теста.\n"
   ]
  },
  {
   "cell_type": "markdown",
   "metadata": {},
   "source": [
    "**Откроем файл и изучим данные:**"
   ]
  },
  {
   "cell_type": "code",
   "execution_count": 7,
   "metadata": {
    "scrolled": true
   },
   "outputs": [
    {
     "data": {
      "text/html": [
       "<div>\n",
       "<style scoped>\n",
       "    .dataframe tbody tr th:only-of-type {\n",
       "        vertical-align: middle;\n",
       "    }\n",
       "\n",
       "    .dataframe tbody tr th {\n",
       "        vertical-align: top;\n",
       "    }\n",
       "\n",
       "    .dataframe thead th {\n",
       "        text-align: right;\n",
       "    }\n",
       "</style>\n",
       "<table border=\"1\" class=\"dataframe\">\n",
       "  <thead>\n",
       "    <tr style=\"text-align: right;\">\n",
       "      <th></th>\n",
       "      <th>transactionId</th>\n",
       "      <th>visitorId</th>\n",
       "      <th>date</th>\n",
       "      <th>revenue</th>\n",
       "      <th>group</th>\n",
       "    </tr>\n",
       "  </thead>\n",
       "  <tbody>\n",
       "    <tr>\n",
       "      <td>0</td>\n",
       "      <td>3667963787</td>\n",
       "      <td>3312258926</td>\n",
       "      <td>2019-08-15</td>\n",
       "      <td>1650</td>\n",
       "      <td>B</td>\n",
       "    </tr>\n",
       "    <tr>\n",
       "      <td>1</td>\n",
       "      <td>2804400009</td>\n",
       "      <td>3642806036</td>\n",
       "      <td>2019-08-15</td>\n",
       "      <td>730</td>\n",
       "      <td>B</td>\n",
       "    </tr>\n",
       "    <tr>\n",
       "      <td>2</td>\n",
       "      <td>2961555356</td>\n",
       "      <td>4069496402</td>\n",
       "      <td>2019-08-15</td>\n",
       "      <td>400</td>\n",
       "      <td>A</td>\n",
       "    </tr>\n",
       "    <tr>\n",
       "      <td>3</td>\n",
       "      <td>3797467345</td>\n",
       "      <td>1196621759</td>\n",
       "      <td>2019-08-15</td>\n",
       "      <td>9759</td>\n",
       "      <td>B</td>\n",
       "    </tr>\n",
       "    <tr>\n",
       "      <td>4</td>\n",
       "      <td>2282983706</td>\n",
       "      <td>2322279887</td>\n",
       "      <td>2019-08-15</td>\n",
       "      <td>2308</td>\n",
       "      <td>B</td>\n",
       "    </tr>\n",
       "  </tbody>\n",
       "</table>\n",
       "</div>"
      ],
      "text/plain": [
       "   transactionId   visitorId        date  revenue group\n",
       "0     3667963787  3312258926  2019-08-15     1650     B\n",
       "1     2804400009  3642806036  2019-08-15      730     B\n",
       "2     2961555356  4069496402  2019-08-15      400     A\n",
       "3     3797467345  1196621759  2019-08-15     9759     B\n",
       "4     2282983706  2322279887  2019-08-15     2308     B"
      ]
     },
     "metadata": {},
     "output_type": "display_data"
    },
    {
     "name": "stdout",
     "output_type": "stream",
     "text": [
      "<class 'pandas.core.frame.DataFrame'>\n",
      "RangeIndex: 1197 entries, 0 to 1196\n",
      "Data columns (total 5 columns):\n",
      "transactionId    1197 non-null int64\n",
      "visitorId        1197 non-null int64\n",
      "date             1197 non-null object\n",
      "revenue          1197 non-null int64\n",
      "group            1197 non-null object\n",
      "dtypes: int64(3), object(2)\n",
      "memory usage: 46.9+ KB\n"
     ]
    },
    {
     "data": {
      "text/html": [
       "<div>\n",
       "<style scoped>\n",
       "    .dataframe tbody tr th:only-of-type {\n",
       "        vertical-align: middle;\n",
       "    }\n",
       "\n",
       "    .dataframe tbody tr th {\n",
       "        vertical-align: top;\n",
       "    }\n",
       "\n",
       "    .dataframe thead th {\n",
       "        text-align: right;\n",
       "    }\n",
       "</style>\n",
       "<table border=\"1\" class=\"dataframe\">\n",
       "  <thead>\n",
       "    <tr style=\"text-align: right;\">\n",
       "      <th></th>\n",
       "      <th>date</th>\n",
       "      <th>group</th>\n",
       "      <th>visitors</th>\n",
       "    </tr>\n",
       "  </thead>\n",
       "  <tbody>\n",
       "    <tr>\n",
       "      <td>0</td>\n",
       "      <td>2019-08-01</td>\n",
       "      <td>A</td>\n",
       "      <td>719</td>\n",
       "    </tr>\n",
       "    <tr>\n",
       "      <td>1</td>\n",
       "      <td>2019-08-02</td>\n",
       "      <td>A</td>\n",
       "      <td>619</td>\n",
       "    </tr>\n",
       "    <tr>\n",
       "      <td>2</td>\n",
       "      <td>2019-08-03</td>\n",
       "      <td>A</td>\n",
       "      <td>507</td>\n",
       "    </tr>\n",
       "    <tr>\n",
       "      <td>3</td>\n",
       "      <td>2019-08-04</td>\n",
       "      <td>A</td>\n",
       "      <td>717</td>\n",
       "    </tr>\n",
       "    <tr>\n",
       "      <td>4</td>\n",
       "      <td>2019-08-05</td>\n",
       "      <td>A</td>\n",
       "      <td>756</td>\n",
       "    </tr>\n",
       "  </tbody>\n",
       "</table>\n",
       "</div>"
      ],
      "text/plain": [
       "         date group  visitors\n",
       "0  2019-08-01     A       719\n",
       "1  2019-08-02     A       619\n",
       "2  2019-08-03     A       507\n",
       "3  2019-08-04     A       717\n",
       "4  2019-08-05     A       756"
      ]
     },
     "metadata": {},
     "output_type": "display_data"
    },
    {
     "name": "stdout",
     "output_type": "stream",
     "text": [
      "<class 'pandas.core.frame.DataFrame'>\n",
      "RangeIndex: 62 entries, 0 to 61\n",
      "Data columns (total 3 columns):\n",
      "date        62 non-null object\n",
      "group       62 non-null object\n",
      "visitors    62 non-null int64\n",
      "dtypes: int64(1), object(2)\n",
      "memory usage: 1.6+ KB\n"
     ]
    }
   ],
   "source": [
    "try:\n",
    "    orders = pd.read_csv('/datasets/orders.csv')\n",
    "    visitors = pd.read_csv('/datasets/visitors.csv')\n",
    "except:\n",
    "    orders = pd.read_csv('orders.csv')\n",
    "    visitors = pd.read_csv('visitors.csv')\n",
    "display(orders.head())\n",
    "orders.info()\n",
    "display(visitors.head())\n",
    "visitors.info()"
   ]
  },
  {
   "cell_type": "code",
   "execution_count": 8,
   "metadata": {},
   "outputs": [
    {
     "data": {
      "text/plain": [
       "count           1197\n",
       "unique            31\n",
       "top       2019-08-05\n",
       "freq              48\n",
       "Name: date, dtype: object"
      ]
     },
     "execution_count": 8,
     "metadata": {},
     "output_type": "execute_result"
    }
   ],
   "source": [
    "orders['date'].describe()"
   ]
  },
  {
   "cell_type": "code",
   "execution_count": 9,
   "metadata": {
    "scrolled": true
   },
   "outputs": [
    {
     "data": {
      "text/plain": [
       "count             62\n",
       "unique            31\n",
       "top       2019-08-04\n",
       "freq               2\n",
       "Name: date, dtype: object"
      ]
     },
     "execution_count": 9,
     "metadata": {},
     "output_type": "execute_result"
    }
   ],
   "source": [
    "visitors['date'].describe()"
   ]
  },
  {
   "cell_type": "code",
   "execution_count": 10,
   "metadata": {},
   "outputs": [
    {
     "data": {
      "text/plain": [
       "0"
      ]
     },
     "execution_count": 10,
     "metadata": {},
     "output_type": "execute_result"
    }
   ],
   "source": [
    "orders.duplicated().sum()"
   ]
  },
  {
   "cell_type": "code",
   "execution_count": 11,
   "metadata": {},
   "outputs": [
    {
     "data": {
      "text/plain": [
       "0"
      ]
     },
     "execution_count": 11,
     "metadata": {},
     "output_type": "execute_result"
    }
   ],
   "source": [
    "visitors.duplicated().sum()"
   ]
  },
  {
   "cell_type": "code",
   "execution_count": 12,
   "metadata": {
    "scrolled": true
   },
   "outputs": [
    {
     "data": {
      "text/plain": [
       "<matplotlib.axes._subplots.AxesSubplot at 0x7f03912b1fd0>"
      ]
     },
     "execution_count": 12,
     "metadata": {},
     "output_type": "execute_result"
    },
    {
     "data": {
      "image/png": "[encoded data removed]",
      "text/plain": [
       "<Figure size 432x288 with 1 Axes>"
      ]
     },
     "metadata": {
      "needs_background": "light"
     },
     "output_type": "display_data"
    }
   ],
   "source": [
    "orders['revenue'].hist(range = (0, 100000))"
   ]
  },
  {
   "cell_type": "markdown",
   "metadata": {},
   "source": [
    "В обоих датасетах представлены данные с 1 по 31 августа 2019 года. Пропуски отсутствуют, дубликатов нет. Выручка в основном в пределах до 100000, но также наблюдаются незначительно количество дорогих заказов - свыше 40000."
   ]
  },
  {
   "cell_type": "markdown",
   "metadata": {},
   "source": [
    "**Приведем даты к типу datetime:**"
   ]
  },
  {
   "cell_type": "code",
   "execution_count": 13,
   "metadata": {},
   "outputs": [],
   "source": [
    "orders['date'] = orders['date'].map(lambda x: dt.datetime.strptime(x, '%Y-%m-%d'))\n",
    "visitors['date'] = visitors['date'].map(lambda x: dt.datetime.strptime(x, '%Y-%m-%d'))"
   ]
  },
  {
   "cell_type": "markdown",
   "metadata": {},
   "source": [
    "**Определим, есть ли посетители, попавшие в обе группы тестирования**"
   ]
  },
  {
   "cell_type": "code",
   "execution_count": 14,
   "metadata": {},
   "outputs": [
    {
     "data": {
      "text/html": [
       "<div>\n",
       "<style scoped>\n",
       "    .dataframe tbody tr th:only-of-type {\n",
       "        vertical-align: middle;\n",
       "    }\n",
       "\n",
       "    .dataframe tbody tr th {\n",
       "        vertical-align: top;\n",
       "    }\n",
       "\n",
       "    .dataframe thead th {\n",
       "        text-align: right;\n",
       "    }\n",
       "</style>\n",
       "<table border=\"1\" class=\"dataframe\">\n",
       "  <thead>\n",
       "    <tr style=\"text-align: right;\">\n",
       "      <th></th>\n",
       "      <th>visitorId</th>\n",
       "      <th>group</th>\n",
       "    </tr>\n",
       "  </thead>\n",
       "  <tbody>\n",
       "    <tr>\n",
       "      <td>639</td>\n",
       "      <td>2654030115</td>\n",
       "      <td>2</td>\n",
       "    </tr>\n",
       "    <tr>\n",
       "      <td>932</td>\n",
       "      <td>3891541246</td>\n",
       "      <td>2</td>\n",
       "    </tr>\n",
       "    <tr>\n",
       "      <td>950</td>\n",
       "      <td>3941795274</td>\n",
       "      <td>2</td>\n",
       "    </tr>\n",
       "    <tr>\n",
       "      <td>340</td>\n",
       "      <td>1404934699</td>\n",
       "      <td>2</td>\n",
       "    </tr>\n",
       "    <tr>\n",
       "      <td>84</td>\n",
       "      <td>351125977</td>\n",
       "      <td>2</td>\n",
       "    </tr>\n",
       "    <tr>\n",
       "      <td>...</td>\n",
       "      <td>...</td>\n",
       "      <td>...</td>\n",
       "    </tr>\n",
       "    <tr>\n",
       "      <td>357</td>\n",
       "      <td>1476256851</td>\n",
       "      <td>1</td>\n",
       "    </tr>\n",
       "    <tr>\n",
       "      <td>358</td>\n",
       "      <td>1476741193</td>\n",
       "      <td>1</td>\n",
       "    </tr>\n",
       "    <tr>\n",
       "      <td>359</td>\n",
       "      <td>1484903144</td>\n",
       "      <td>1</td>\n",
       "    </tr>\n",
       "    <tr>\n",
       "      <td>360</td>\n",
       "      <td>1485964287</td>\n",
       "      <td>1</td>\n",
       "    </tr>\n",
       "    <tr>\n",
       "      <td>1030</td>\n",
       "      <td>4283872382</td>\n",
       "      <td>1</td>\n",
       "    </tr>\n",
       "  </tbody>\n",
       "</table>\n",
       "<p>1031 rows × 2 columns</p>\n",
       "</div>"
      ],
      "text/plain": [
       "       visitorId  group\n",
       "639   2654030115      2\n",
       "932   3891541246      2\n",
       "950   3941795274      2\n",
       "340   1404934699      2\n",
       "84     351125977      2\n",
       "...          ...    ...\n",
       "357   1476256851      1\n",
       "358   1476741193      1\n",
       "359   1484903144      1\n",
       "360   1485964287      1\n",
       "1030  4283872382      1\n",
       "\n",
       "[1031 rows x 2 columns]"
      ]
     },
     "execution_count": 14,
     "metadata": {},
     "output_type": "execute_result"
    }
   ],
   "source": [
    "a_b_visitors = orders.groupby('visitorId')['group'].nunique().reset_index().sort_values(by = 'group', ascending = False)\n",
    "a_b_visitors"
   ]
  },
  {
   "cell_type": "markdown",
   "metadata": {},
   "source": [
    "Уберем визитеров попавших в обе группы:"
   ]
  },
  {
   "cell_type": "code",
   "execution_count": 15,
   "metadata": {},
   "outputs": [
    {
     "data": {
      "text/html": [
       "<div>\n",
       "<style scoped>\n",
       "    .dataframe tbody tr th:only-of-type {\n",
       "        vertical-align: middle;\n",
       "    }\n",
       "\n",
       "    .dataframe tbody tr th {\n",
       "        vertical-align: top;\n",
       "    }\n",
       "\n",
       "    .dataframe thead th {\n",
       "        text-align: right;\n",
       "    }\n",
       "</style>\n",
       "<table border=\"1\" class=\"dataframe\">\n",
       "  <thead>\n",
       "    <tr style=\"text-align: right;\">\n",
       "      <th></th>\n",
       "      <th>transactionId</th>\n",
       "      <th>visitorId</th>\n",
       "      <th>date</th>\n",
       "      <th>revenue</th>\n",
       "      <th>group</th>\n",
       "    </tr>\n",
       "  </thead>\n",
       "  <tbody>\n",
       "    <tr>\n",
       "      <td>0</td>\n",
       "      <td>3667963787</td>\n",
       "      <td>3312258926</td>\n",
       "      <td>2019-08-15</td>\n",
       "      <td>1650</td>\n",
       "      <td>B</td>\n",
       "    </tr>\n",
       "    <tr>\n",
       "      <td>1</td>\n",
       "      <td>2804400009</td>\n",
       "      <td>3642806036</td>\n",
       "      <td>2019-08-15</td>\n",
       "      <td>730</td>\n",
       "      <td>B</td>\n",
       "    </tr>\n",
       "    <tr>\n",
       "      <td>3</td>\n",
       "      <td>3797467345</td>\n",
       "      <td>1196621759</td>\n",
       "      <td>2019-08-15</td>\n",
       "      <td>9759</td>\n",
       "      <td>B</td>\n",
       "    </tr>\n",
       "    <tr>\n",
       "      <td>4</td>\n",
       "      <td>2282983706</td>\n",
       "      <td>2322279887</td>\n",
       "      <td>2019-08-15</td>\n",
       "      <td>2308</td>\n",
       "      <td>B</td>\n",
       "    </tr>\n",
       "    <tr>\n",
       "      <td>5</td>\n",
       "      <td>182168103</td>\n",
       "      <td>935554773</td>\n",
       "      <td>2019-08-15</td>\n",
       "      <td>2210</td>\n",
       "      <td>B</td>\n",
       "    </tr>\n",
       "    <tr>\n",
       "      <td>...</td>\n",
       "      <td>...</td>\n",
       "      <td>...</td>\n",
       "      <td>...</td>\n",
       "      <td>...</td>\n",
       "      <td>...</td>\n",
       "    </tr>\n",
       "    <tr>\n",
       "      <td>1191</td>\n",
       "      <td>3592955527</td>\n",
       "      <td>608641596</td>\n",
       "      <td>2019-08-14</td>\n",
       "      <td>16490</td>\n",
       "      <td>B</td>\n",
       "    </tr>\n",
       "    <tr>\n",
       "      <td>1192</td>\n",
       "      <td>2662137336</td>\n",
       "      <td>3733762160</td>\n",
       "      <td>2019-08-14</td>\n",
       "      <td>6490</td>\n",
       "      <td>B</td>\n",
       "    </tr>\n",
       "    <tr>\n",
       "      <td>1193</td>\n",
       "      <td>2203539145</td>\n",
       "      <td>370388673</td>\n",
       "      <td>2019-08-14</td>\n",
       "      <td>3190</td>\n",
       "      <td>A</td>\n",
       "    </tr>\n",
       "    <tr>\n",
       "      <td>1194</td>\n",
       "      <td>1807773912</td>\n",
       "      <td>573423106</td>\n",
       "      <td>2019-08-14</td>\n",
       "      <td>10550</td>\n",
       "      <td>A</td>\n",
       "    </tr>\n",
       "    <tr>\n",
       "      <td>1196</td>\n",
       "      <td>3936777065</td>\n",
       "      <td>2108080724</td>\n",
       "      <td>2019-08-15</td>\n",
       "      <td>202740</td>\n",
       "      <td>B</td>\n",
       "    </tr>\n",
       "  </tbody>\n",
       "</table>\n",
       "<p>1016 rows × 5 columns</p>\n",
       "</div>"
      ],
      "text/plain": [
       "      transactionId   visitorId       date  revenue group\n",
       "0        3667963787  3312258926 2019-08-15     1650     B\n",
       "1        2804400009  3642806036 2019-08-15      730     B\n",
       "3        3797467345  1196621759 2019-08-15     9759     B\n",
       "4        2282983706  2322279887 2019-08-15     2308     B\n",
       "5         182168103   935554773 2019-08-15     2210     B\n",
       "...             ...         ...        ...      ...   ...\n",
       "1191     3592955527   608641596 2019-08-14    16490     B\n",
       "1192     2662137336  3733762160 2019-08-14     6490     B\n",
       "1193     2203539145   370388673 2019-08-14     3190     A\n",
       "1194     1807773912   573423106 2019-08-14    10550     A\n",
       "1196     3936777065  2108080724 2019-08-15   202740     B\n",
       "\n",
       "[1016 rows x 5 columns]"
      ]
     },
     "execution_count": 15,
     "metadata": {},
     "output_type": "execute_result"
    }
   ],
   "source": [
    "#определим ID с одной группой\n",
    "a_b_visitors = a_b_visitors[a_b_visitors['group'] < 2].reset_index()\n",
    "\n",
    "#срез orders по уникальным ID\n",
    "unique_visitors = a_b_visitors['visitorId']\n",
    "orders = orders.query('visitorId in @unique_visitors')\n",
    "orders"
   ]
  },
  {
   "cell_type": "markdown",
   "metadata": {},
   "source": [
    "**По результатам предобработки можно заключить:**\n",
    "- данные предоставлены без пропусков\n",
    "- дубликаты отсутствуют\n",
    "- данные предоставлены за период с 1 по 31 августа 2019 года\n",
    "- даты были приведены к типу datetime\n",
    "- были обнаружены и убраны посетители, попавшие в обе группы тестирования"
   ]
  },
  {
   "cell_type": "markdown",
   "metadata": {},
   "source": [
    "## 2.1 Кумулятивная выручка по группам"
   ]
  },
  {
   "cell_type": "markdown",
   "metadata": {},
   "source": [
    "Cоздадим массив уникальных пар значений дат и групп теста из orders:"
   ]
  },
  {
   "cell_type": "code",
   "execution_count": 16,
   "metadata": {
    "scrolled": false
   },
   "outputs": [
    {
     "data": {
      "text/html": [
       "<div>\n",
       "<style scoped>\n",
       "    .dataframe tbody tr th:only-of-type {\n",
       "        vertical-align: middle;\n",
       "    }\n",
       "\n",
       "    .dataframe tbody tr th {\n",
       "        vertical-align: top;\n",
       "    }\n",
       "\n",
       "    .dataframe thead th {\n",
       "        text-align: right;\n",
       "    }\n",
       "</style>\n",
       "<table border=\"1\" class=\"dataframe\">\n",
       "  <thead>\n",
       "    <tr style=\"text-align: right;\">\n",
       "      <th></th>\n",
       "      <th>date</th>\n",
       "      <th>group</th>\n",
       "    </tr>\n",
       "  </thead>\n",
       "  <tbody>\n",
       "    <tr>\n",
       "      <td>0</td>\n",
       "      <td>2019-08-15</td>\n",
       "      <td>B</td>\n",
       "    </tr>\n",
       "    <tr>\n",
       "      <td>7</td>\n",
       "      <td>2019-08-15</td>\n",
       "      <td>A</td>\n",
       "    </tr>\n",
       "    <tr>\n",
       "      <td>45</td>\n",
       "      <td>2019-08-16</td>\n",
       "      <td>A</td>\n",
       "    </tr>\n",
       "    <tr>\n",
       "      <td>47</td>\n",
       "      <td>2019-08-16</td>\n",
       "      <td>B</td>\n",
       "    </tr>\n",
       "    <tr>\n",
       "      <td>55</td>\n",
       "      <td>2019-08-01</td>\n",
       "      <td>A</td>\n",
       "    </tr>\n",
       "    <tr>\n",
       "      <td>...</td>\n",
       "      <td>...</td>\n",
       "      <td>...</td>\n",
       "    </tr>\n",
       "    <tr>\n",
       "      <td>1068</td>\n",
       "      <td>2019-08-12</td>\n",
       "      <td>A</td>\n",
       "    </tr>\n",
       "    <tr>\n",
       "      <td>1114</td>\n",
       "      <td>2019-08-13</td>\n",
       "      <td>B</td>\n",
       "    </tr>\n",
       "    <tr>\n",
       "      <td>1116</td>\n",
       "      <td>2019-08-13</td>\n",
       "      <td>A</td>\n",
       "    </tr>\n",
       "    <tr>\n",
       "      <td>1149</td>\n",
       "      <td>2019-08-14</td>\n",
       "      <td>B</td>\n",
       "    </tr>\n",
       "    <tr>\n",
       "      <td>1150</td>\n",
       "      <td>2019-08-14</td>\n",
       "      <td>A</td>\n",
       "    </tr>\n",
       "  </tbody>\n",
       "</table>\n",
       "<p>62 rows × 2 columns</p>\n",
       "</div>"
      ],
      "text/plain": [
       "           date group\n",
       "0    2019-08-15     B\n",
       "7    2019-08-15     A\n",
       "45   2019-08-16     A\n",
       "47   2019-08-16     B\n",
       "55   2019-08-01     A\n",
       "...         ...   ...\n",
       "1068 2019-08-12     A\n",
       "1114 2019-08-13     B\n",
       "1116 2019-08-13     A\n",
       "1149 2019-08-14     B\n",
       "1150 2019-08-14     A\n",
       "\n",
       "[62 rows x 2 columns]"
      ]
     },
     "execution_count": 16,
     "metadata": {},
     "output_type": "execute_result"
    }
   ],
   "source": [
    "datesGroups = orders[['date','group']].drop_duplicates() \n",
    "datesGroups"
   ]
  },
  {
   "cell_type": "markdown",
   "metadata": {},
   "source": [
    "Посчитаем кумулятивные данные о заказах:"
   ]
  },
  {
   "cell_type": "code",
   "execution_count": 17,
   "metadata": {},
   "outputs": [
    {
     "data": {
      "text/html": [
       "<div>\n",
       "<style scoped>\n",
       "    .dataframe tbody tr th:only-of-type {\n",
       "        vertical-align: middle;\n",
       "    }\n",
       "\n",
       "    .dataframe tbody tr th {\n",
       "        vertical-align: top;\n",
       "    }\n",
       "\n",
       "    .dataframe thead th {\n",
       "        text-align: right;\n",
       "    }\n",
       "</style>\n",
       "<table border=\"1\" class=\"dataframe\">\n",
       "  <thead>\n",
       "    <tr style=\"text-align: right;\">\n",
       "      <th></th>\n",
       "      <th>date</th>\n",
       "      <th>group</th>\n",
       "      <th>transactionId</th>\n",
       "      <th>visitorId</th>\n",
       "      <th>revenue</th>\n",
       "    </tr>\n",
       "  </thead>\n",
       "  <tbody>\n",
       "    <tr>\n",
       "      <td>55</td>\n",
       "      <td>2019-08-01</td>\n",
       "      <td>A</td>\n",
       "      <td>23</td>\n",
       "      <td>19</td>\n",
       "      <td>142779</td>\n",
       "    </tr>\n",
       "    <tr>\n",
       "      <td>66</td>\n",
       "      <td>2019-08-01</td>\n",
       "      <td>B</td>\n",
       "      <td>17</td>\n",
       "      <td>17</td>\n",
       "      <td>59758</td>\n",
       "    </tr>\n",
       "    <tr>\n",
       "      <td>175</td>\n",
       "      <td>2019-08-02</td>\n",
       "      <td>A</td>\n",
       "      <td>42</td>\n",
       "      <td>36</td>\n",
       "      <td>234381</td>\n",
       "    </tr>\n",
       "    <tr>\n",
       "      <td>173</td>\n",
       "      <td>2019-08-02</td>\n",
       "      <td>B</td>\n",
       "      <td>40</td>\n",
       "      <td>39</td>\n",
       "      <td>221801</td>\n",
       "    </tr>\n",
       "    <tr>\n",
       "      <td>291</td>\n",
       "      <td>2019-08-03</td>\n",
       "      <td>A</td>\n",
       "      <td>66</td>\n",
       "      <td>60</td>\n",
       "      <td>346854</td>\n",
       "    </tr>\n",
       "    <tr>\n",
       "      <td>...</td>\n",
       "      <td>...</td>\n",
       "      <td>...</td>\n",
       "      <td>...</td>\n",
       "      <td>...</td>\n",
       "      <td>...</td>\n",
       "    </tr>\n",
       "    <tr>\n",
       "      <td>533</td>\n",
       "      <td>2019-08-29</td>\n",
       "      <td>B</td>\n",
       "      <td>510</td>\n",
       "      <td>490</td>\n",
       "      <td>4746610</td>\n",
       "    </tr>\n",
       "    <tr>\n",
       "      <td>757</td>\n",
       "      <td>2019-08-30</td>\n",
       "      <td>A</td>\n",
       "      <td>460</td>\n",
       "      <td>437</td>\n",
       "      <td>3311413</td>\n",
       "    </tr>\n",
       "    <tr>\n",
       "      <td>690</td>\n",
       "      <td>2019-08-30</td>\n",
       "      <td>B</td>\n",
       "      <td>531</td>\n",
       "      <td>511</td>\n",
       "      <td>4955833</td>\n",
       "    </tr>\n",
       "    <tr>\n",
       "      <td>958</td>\n",
       "      <td>2019-08-31</td>\n",
       "      <td>A</td>\n",
       "      <td>468</td>\n",
       "      <td>445</td>\n",
       "      <td>3364656</td>\n",
       "    </tr>\n",
       "    <tr>\n",
       "      <td>930</td>\n",
       "      <td>2019-08-31</td>\n",
       "      <td>B</td>\n",
       "      <td>548</td>\n",
       "      <td>528</td>\n",
       "      <td>5068972</td>\n",
       "    </tr>\n",
       "  </tbody>\n",
       "</table>\n",
       "<p>62 rows × 5 columns</p>\n",
       "</div>"
      ],
      "text/plain": [
       "          date group  transactionId  visitorId  revenue\n",
       "55  2019-08-01     A             23         19   142779\n",
       "66  2019-08-01     B             17         17    59758\n",
       "175 2019-08-02     A             42         36   234381\n",
       "173 2019-08-02     B             40         39   221801\n",
       "291 2019-08-03     A             66         60   346854\n",
       "..         ...   ...            ...        ...      ...\n",
       "533 2019-08-29     B            510        490  4746610\n",
       "757 2019-08-30     A            460        437  3311413\n",
       "690 2019-08-30     B            531        511  4955833\n",
       "958 2019-08-31     A            468        445  3364656\n",
       "930 2019-08-31     B            548        528  5068972\n",
       "\n",
       "[62 rows x 5 columns]"
      ]
     },
     "execution_count": 17,
     "metadata": {},
     "output_type": "execute_result"
    }
   ],
   "source": [
    "ordersAggregated = datesGroups.apply(\n",
    "    lambda x: orders[np.logical_and(orders['date'] <= x['date'], orders['group'] == x['group'])].agg({\n",
    "    'date' : 'max',\n",
    "    'group' : 'max',\n",
    "    'transactionId' : pd.Series.nunique,\n",
    "    'visitorId' : pd.Series.nunique,\n",
    "    'revenue' : 'sum'}), axis=1).sort_values(by=['date','group'])\n",
    " \n",
    "ordersAggregated"
   ]
  },
  {
   "cell_type": "markdown",
   "metadata": {},
   "source": [
    "Посчитаем кумулятивные данные о визитах:"
   ]
  },
  {
   "cell_type": "code",
   "execution_count": 18,
   "metadata": {},
   "outputs": [
    {
     "data": {
      "text/html": [
       "<div>\n",
       "<style scoped>\n",
       "    .dataframe tbody tr th:only-of-type {\n",
       "        vertical-align: middle;\n",
       "    }\n",
       "\n",
       "    .dataframe tbody tr th {\n",
       "        vertical-align: top;\n",
       "    }\n",
       "\n",
       "    .dataframe thead th {\n",
       "        text-align: right;\n",
       "    }\n",
       "</style>\n",
       "<table border=\"1\" class=\"dataframe\">\n",
       "  <thead>\n",
       "    <tr style=\"text-align: right;\">\n",
       "      <th></th>\n",
       "      <th>date</th>\n",
       "      <th>group</th>\n",
       "      <th>visitors</th>\n",
       "    </tr>\n",
       "  </thead>\n",
       "  <tbody>\n",
       "    <tr>\n",
       "      <td>55</td>\n",
       "      <td>2019-08-01</td>\n",
       "      <td>A</td>\n",
       "      <td>719</td>\n",
       "    </tr>\n",
       "    <tr>\n",
       "      <td>66</td>\n",
       "      <td>2019-08-01</td>\n",
       "      <td>B</td>\n",
       "      <td>713</td>\n",
       "    </tr>\n",
       "    <tr>\n",
       "      <td>175</td>\n",
       "      <td>2019-08-02</td>\n",
       "      <td>A</td>\n",
       "      <td>1338</td>\n",
       "    </tr>\n",
       "    <tr>\n",
       "      <td>173</td>\n",
       "      <td>2019-08-02</td>\n",
       "      <td>B</td>\n",
       "      <td>1294</td>\n",
       "    </tr>\n",
       "    <tr>\n",
       "      <td>291</td>\n",
       "      <td>2019-08-03</td>\n",
       "      <td>A</td>\n",
       "      <td>1845</td>\n",
       "    </tr>\n",
       "    <tr>\n",
       "      <td>...</td>\n",
       "      <td>...</td>\n",
       "      <td>...</td>\n",
       "      <td>...</td>\n",
       "    </tr>\n",
       "    <tr>\n",
       "      <td>533</td>\n",
       "      <td>2019-08-29</td>\n",
       "      <td>B</td>\n",
       "      <td>17708</td>\n",
       "    </tr>\n",
       "    <tr>\n",
       "      <td>757</td>\n",
       "      <td>2019-08-30</td>\n",
       "      <td>A</td>\n",
       "      <td>18037</td>\n",
       "    </tr>\n",
       "    <tr>\n",
       "      <td>690</td>\n",
       "      <td>2019-08-30</td>\n",
       "      <td>B</td>\n",
       "      <td>18198</td>\n",
       "    </tr>\n",
       "    <tr>\n",
       "      <td>958</td>\n",
       "      <td>2019-08-31</td>\n",
       "      <td>A</td>\n",
       "      <td>18736</td>\n",
       "    </tr>\n",
       "    <tr>\n",
       "      <td>930</td>\n",
       "      <td>2019-08-31</td>\n",
       "      <td>B</td>\n",
       "      <td>18916</td>\n",
       "    </tr>\n",
       "  </tbody>\n",
       "</table>\n",
       "<p>62 rows × 3 columns</p>\n",
       "</div>"
      ],
      "text/plain": [
       "          date group  visitors\n",
       "55  2019-08-01     A       719\n",
       "66  2019-08-01     B       713\n",
       "175 2019-08-02     A      1338\n",
       "173 2019-08-02     B      1294\n",
       "291 2019-08-03     A      1845\n",
       "..         ...   ...       ...\n",
       "533 2019-08-29     B     17708\n",
       "757 2019-08-30     A     18037\n",
       "690 2019-08-30     B     18198\n",
       "958 2019-08-31     A     18736\n",
       "930 2019-08-31     B     18916\n",
       "\n",
       "[62 rows x 3 columns]"
      ]
     },
     "execution_count": 18,
     "metadata": {},
     "output_type": "execute_result"
    }
   ],
   "source": [
    "visitorsAggregated = datesGroups.apply(\n",
    "    lambda x: visitors[np.logical_and(visitors['date'] <= x['date'], visitors['group'] == x['group'])].agg({\n",
    "         'date' : 'max', \n",
    "         'group' : 'max', \n",
    "         'visitors' : 'sum'}), axis=1).sort_values(by=['date','group'])\n",
    "visitorsAggregated"
   ]
  },
  {
   "cell_type": "code",
   "execution_count": 19,
   "metadata": {},
   "outputs": [
    {
     "data": {
      "text/html": [
       "<div>\n",
       "<style scoped>\n",
       "    .dataframe tbody tr th:only-of-type {\n",
       "        vertical-align: middle;\n",
       "    }\n",
       "\n",
       "    .dataframe tbody tr th {\n",
       "        vertical-align: top;\n",
       "    }\n",
       "\n",
       "    .dataframe thead th {\n",
       "        text-align: right;\n",
       "    }\n",
       "</style>\n",
       "<table border=\"1\" class=\"dataframe\">\n",
       "  <thead>\n",
       "    <tr style=\"text-align: right;\">\n",
       "      <th></th>\n",
       "      <th>date</th>\n",
       "      <th>group</th>\n",
       "      <th>orders</th>\n",
       "      <th>buyers</th>\n",
       "      <th>revenue</th>\n",
       "      <th>visitors</th>\n",
       "    </tr>\n",
       "  </thead>\n",
       "  <tbody>\n",
       "    <tr>\n",
       "      <td>0</td>\n",
       "      <td>2019-08-01</td>\n",
       "      <td>A</td>\n",
       "      <td>23</td>\n",
       "      <td>19</td>\n",
       "      <td>142779</td>\n",
       "      <td>719</td>\n",
       "    </tr>\n",
       "    <tr>\n",
       "      <td>1</td>\n",
       "      <td>2019-08-01</td>\n",
       "      <td>B</td>\n",
       "      <td>17</td>\n",
       "      <td>17</td>\n",
       "      <td>59758</td>\n",
       "      <td>713</td>\n",
       "    </tr>\n",
       "    <tr>\n",
       "      <td>2</td>\n",
       "      <td>2019-08-02</td>\n",
       "      <td>A</td>\n",
       "      <td>42</td>\n",
       "      <td>36</td>\n",
       "      <td>234381</td>\n",
       "      <td>1338</td>\n",
       "    </tr>\n",
       "    <tr>\n",
       "      <td>3</td>\n",
       "      <td>2019-08-02</td>\n",
       "      <td>B</td>\n",
       "      <td>40</td>\n",
       "      <td>39</td>\n",
       "      <td>221801</td>\n",
       "      <td>1294</td>\n",
       "    </tr>\n",
       "    <tr>\n",
       "      <td>4</td>\n",
       "      <td>2019-08-03</td>\n",
       "      <td>A</td>\n",
       "      <td>66</td>\n",
       "      <td>60</td>\n",
       "      <td>346854</td>\n",
       "      <td>1845</td>\n",
       "    </tr>\n",
       "    <tr>\n",
       "      <td>...</td>\n",
       "      <td>...</td>\n",
       "      <td>...</td>\n",
       "      <td>...</td>\n",
       "      <td>...</td>\n",
       "      <td>...</td>\n",
       "      <td>...</td>\n",
       "    </tr>\n",
       "    <tr>\n",
       "      <td>57</td>\n",
       "      <td>2019-08-29</td>\n",
       "      <td>B</td>\n",
       "      <td>510</td>\n",
       "      <td>490</td>\n",
       "      <td>4746610</td>\n",
       "      <td>17708</td>\n",
       "    </tr>\n",
       "    <tr>\n",
       "      <td>58</td>\n",
       "      <td>2019-08-30</td>\n",
       "      <td>A</td>\n",
       "      <td>460</td>\n",
       "      <td>437</td>\n",
       "      <td>3311413</td>\n",
       "      <td>18037</td>\n",
       "    </tr>\n",
       "    <tr>\n",
       "      <td>59</td>\n",
       "      <td>2019-08-30</td>\n",
       "      <td>B</td>\n",
       "      <td>531</td>\n",
       "      <td>511</td>\n",
       "      <td>4955833</td>\n",
       "      <td>18198</td>\n",
       "    </tr>\n",
       "    <tr>\n",
       "      <td>60</td>\n",
       "      <td>2019-08-31</td>\n",
       "      <td>A</td>\n",
       "      <td>468</td>\n",
       "      <td>445</td>\n",
       "      <td>3364656</td>\n",
       "      <td>18736</td>\n",
       "    </tr>\n",
       "    <tr>\n",
       "      <td>61</td>\n",
       "      <td>2019-08-31</td>\n",
       "      <td>B</td>\n",
       "      <td>548</td>\n",
       "      <td>528</td>\n",
       "      <td>5068972</td>\n",
       "      <td>18916</td>\n",
       "    </tr>\n",
       "  </tbody>\n",
       "</table>\n",
       "<p>62 rows × 6 columns</p>\n",
       "</div>"
      ],
      "text/plain": [
       "         date group  orders  buyers  revenue  visitors\n",
       "0  2019-08-01     A      23      19   142779       719\n",
       "1  2019-08-01     B      17      17    59758       713\n",
       "2  2019-08-02     A      42      36   234381      1338\n",
       "3  2019-08-02     B      40      39   221801      1294\n",
       "4  2019-08-03     A      66      60   346854      1845\n",
       "..        ...   ...     ...     ...      ...       ...\n",
       "57 2019-08-29     B     510     490  4746610     17708\n",
       "58 2019-08-30     A     460     437  3311413     18037\n",
       "59 2019-08-30     B     531     511  4955833     18198\n",
       "60 2019-08-31     A     468     445  3364656     18736\n",
       "61 2019-08-31     B     548     528  5068972     18916\n",
       "\n",
       "[62 rows x 6 columns]"
      ]
     },
     "execution_count": 19,
     "metadata": {},
     "output_type": "execute_result"
    }
   ],
   "source": [
    "cumulativeData = ordersAggregated.merge(visitorsAggregated, on=['date', 'group'])\n",
    "cumulativeData.columns = ['date', 'group', 'orders', 'buyers', 'revenue', 'visitors']\n",
    "cumulativeData"
   ]
  },
  {
   "cell_type": "markdown",
   "metadata": {},
   "source": [
    "Построим графики кумулятивной выручки по группам A/B:"
   ]
  },
  {
   "cell_type": "code",
   "execution_count": 20,
   "metadata": {},
   "outputs": [
    {
     "data": {
      "image/png": "[encoded data removed]",
      "text/plain": [
       "<Figure size 1080x504 with 1 Axes>"
      ]
     },
     "metadata": {
      "needs_background": "light"
     },
     "output_type": "display_data"
    }
   ],
   "source": [
    "cumulativeRevenueA = cumulativeData[cumulativeData['group']=='A'][['date','revenue','orders']]\n",
    "cumulativeRevenueB = cumulativeData[cumulativeData['group']=='B'][['date','revenue','orders']]\n",
    "\n",
    "\n",
    "fig= plt.figure(figsize=(15,7))\n",
    "plt.plot(cumulativeRevenueA['date'], cumulativeRevenueA['revenue'], label='A')\n",
    "plt.plot(cumulativeRevenueB['date'], cumulativeRevenueB['revenue'], label='B')\n",
    "\n",
    "plt.legend() \n",
    "plt.xlabel('Дата')\n",
    "plt.ylabel('Выручка')\n",
    "plt.title('График кумулятивной выручки по группам')\n",
    "plt.grid()\n",
    "plt.show()"
   ]
  },
  {
   "cell_type": "markdown",
   "metadata": {},
   "source": [
    "Выручка группы А равномерно увеличивается в течение всего теста. Выручка группы В также растет, но наблюдается резкое увеличение значения выручки 19 августа. Возможно, в этот день было совершено несколько дорогих покупок, либо резко увеличилось число заказов."
   ]
  },
  {
   "cell_type": "markdown",
   "metadata": {},
   "source": [
    "## 2.2 Кумулятивный средний чек по группам"
   ]
  },
  {
   "cell_type": "code",
   "execution_count": 21,
   "metadata": {},
   "outputs": [
    {
     "data": {
      "image/png": "[encoded data removed]",
      "text/plain": [
       "<Figure size 1080x504 with 1 Axes>"
      ]
     },
     "metadata": {
      "needs_background": "light"
     },
     "output_type": "display_data"
    }
   ],
   "source": [
    "fig= plt.figure(figsize=(15,7))\n",
    "plt.plot(cumulativeRevenueA['date'], cumulativeRevenueA['revenue']/cumulativeRevenueA['orders'], label='A')\n",
    "plt.plot(cumulativeRevenueB['date'], cumulativeRevenueB['revenue']/cumulativeRevenueB['orders'], label='B')\n",
    "plt.legend() \n",
    "plt.xlabel('Дата')\n",
    "plt.ylabel('Выручка')\n",
    "plt.title('График среднего чека по группам')\n",
    "plt.grid()\n",
    "plt.show()"
   ]
  },
  {
   "cell_type": "markdown",
   "metadata": {},
   "source": [
    "Кумулятивное значение среднего чека серьезно колеблется по обеим группам.  Возможно, имеют место выбросы, которые искажают результат."
   ]
  },
  {
   "cell_type": "markdown",
   "metadata": {},
   "source": [
    "## 2.3 Изменения кумулятивного среднего чека группы B к группе A"
   ]
  },
  {
   "cell_type": "markdown",
   "metadata": {},
   "source": [
    "Объединим данные групп А и В:"
   ]
  },
  {
   "cell_type": "code",
   "execution_count": 22,
   "metadata": {
    "scrolled": false
   },
   "outputs": [],
   "source": [
    "mergedCumulativeRevenue = cumulativeRevenueA.merge(\n",
    "    cumulativeRevenueB, left_on='date', right_on='date', how='left', suffixes=['A', 'B'])\n",
    "\n"
   ]
  },
  {
   "cell_type": "markdown",
   "metadata": {},
   "source": [
    "Построим график отностельного различия:"
   ]
  },
  {
   "cell_type": "code",
   "execution_count": 23,
   "metadata": {},
   "outputs": [
    {
     "data": {
      "image/png": "[encoded data removed]",
      "text/plain": [
       "<Figure size 1080x504 with 1 Axes>"
      ]
     },
     "metadata": {
      "needs_background": "light"
     },
     "output_type": "display_data"
    }
   ],
   "source": [
    "fig= plt.figure(figsize=(15,7))\n",
    "plt.plot(mergedCumulativeRevenue['date'], \n",
    "         (mergedCumulativeRevenue['revenueB']/mergedCumulativeRevenue['ordersB'])/(mergedCumulativeRevenue['revenueA']/mergedCumulativeRevenue['ordersA'])-1)\n",
    "plt.axhline(y=0, color='black', linestyle='--') \n",
    "plt.xlabel('Дата')\n",
    "plt.title('Изменения кумулятивного среднего чека группы B к группе A')\n",
    "plt.grid()\n",
    "plt.show()"
   ]
  },
  {
   "cell_type": "markdown",
   "metadata": {},
   "source": [
    "Относительное различие в средних чеках между группами резко изменяется в некоторые даты. Помимо уже ранее отмеченного 19 августа, можно увидеть скачкообразное изменение 2, 6, 10 августа, и в период с 13 по 15 августа."
   ]
  },
  {
   "cell_type": "markdown",
   "metadata": {},
   "source": [
    "## 2.4  Кумулятивная конверсия по группам"
   ]
  },
  {
   "cell_type": "markdown",
   "metadata": {},
   "source": [
    "Добавим столбец c отношением числа заказов к количеству пользователей в указанной группе:"
   ]
  },
  {
   "cell_type": "code",
   "execution_count": 24,
   "metadata": {},
   "outputs": [
    {
     "data": {
      "text/html": [
       "<div>\n",
       "<style scoped>\n",
       "    .dataframe tbody tr th:only-of-type {\n",
       "        vertical-align: middle;\n",
       "    }\n",
       "\n",
       "    .dataframe tbody tr th {\n",
       "        vertical-align: top;\n",
       "    }\n",
       "\n",
       "    .dataframe thead th {\n",
       "        text-align: right;\n",
       "    }\n",
       "</style>\n",
       "<table border=\"1\" class=\"dataframe\">\n",
       "  <thead>\n",
       "    <tr style=\"text-align: right;\">\n",
       "      <th></th>\n",
       "      <th>date</th>\n",
       "      <th>group</th>\n",
       "      <th>orders</th>\n",
       "      <th>buyers</th>\n",
       "      <th>revenue</th>\n",
       "      <th>visitors</th>\n",
       "      <th>conversion</th>\n",
       "    </tr>\n",
       "  </thead>\n",
       "  <tbody>\n",
       "    <tr>\n",
       "      <td>0</td>\n",
       "      <td>2019-08-01</td>\n",
       "      <td>A</td>\n",
       "      <td>23</td>\n",
       "      <td>19</td>\n",
       "      <td>142779</td>\n",
       "      <td>719</td>\n",
       "      <td>0.031989</td>\n",
       "    </tr>\n",
       "    <tr>\n",
       "      <td>1</td>\n",
       "      <td>2019-08-01</td>\n",
       "      <td>B</td>\n",
       "      <td>17</td>\n",
       "      <td>17</td>\n",
       "      <td>59758</td>\n",
       "      <td>713</td>\n",
       "      <td>0.023843</td>\n",
       "    </tr>\n",
       "    <tr>\n",
       "      <td>2</td>\n",
       "      <td>2019-08-02</td>\n",
       "      <td>A</td>\n",
       "      <td>42</td>\n",
       "      <td>36</td>\n",
       "      <td>234381</td>\n",
       "      <td>1338</td>\n",
       "      <td>0.031390</td>\n",
       "    </tr>\n",
       "    <tr>\n",
       "      <td>3</td>\n",
       "      <td>2019-08-02</td>\n",
       "      <td>B</td>\n",
       "      <td>40</td>\n",
       "      <td>39</td>\n",
       "      <td>221801</td>\n",
       "      <td>1294</td>\n",
       "      <td>0.030912</td>\n",
       "    </tr>\n",
       "    <tr>\n",
       "      <td>4</td>\n",
       "      <td>2019-08-03</td>\n",
       "      <td>A</td>\n",
       "      <td>66</td>\n",
       "      <td>60</td>\n",
       "      <td>346854</td>\n",
       "      <td>1845</td>\n",
       "      <td>0.035772</td>\n",
       "    </tr>\n",
       "  </tbody>\n",
       "</table>\n",
       "</div>"
      ],
      "text/plain": [
       "        date group  orders  buyers  revenue  visitors  conversion\n",
       "0 2019-08-01     A      23      19   142779       719    0.031989\n",
       "1 2019-08-01     B      17      17    59758       713    0.023843\n",
       "2 2019-08-02     A      42      36   234381      1338    0.031390\n",
       "3 2019-08-02     B      40      39   221801      1294    0.030912\n",
       "4 2019-08-03     A      66      60   346854      1845    0.035772"
      ]
     },
     "execution_count": 24,
     "metadata": {},
     "output_type": "execute_result"
    }
   ],
   "source": [
    "cumulativeData['conversion'] = cumulativeData['orders']/cumulativeData['visitors']\n",
    "cumulativeData.head()"
   ]
  },
  {
   "cell_type": "markdown",
   "metadata": {},
   "source": [
    "Определим конверсию отдельно по группам и построим график:"
   ]
  },
  {
   "cell_type": "code",
   "execution_count": 25,
   "metadata": {},
   "outputs": [
    {
     "data": {
      "image/png": "[encoded data removed]",
      "text/plain": [
       "<Figure size 1080x504 with 1 Axes>"
      ]
     },
     "metadata": {
      "needs_background": "light"
     },
     "output_type": "display_data"
    }
   ],
   "source": [
    "cumulativeDataA = cumulativeData[cumulativeData['group']=='A']\n",
    "cumulativeDataB = cumulativeData[cumulativeData['group']=='B']\n",
    "\n",
    "\n",
    "fig= plt.figure(figsize=(15,7))\n",
    "plt.plot(cumulativeDataA['date'], cumulativeDataA['conversion'], label='A')\n",
    "plt.plot(cumulativeDataB['date'], cumulativeDataB['conversion'], label='B')\n",
    "plt.axis(['2019-08-01', '2019-09-01', 0, 0.05])\n",
    "plt.xlabel('Дата')\n",
    "plt.title('Кумулятивная конверсия по группам')\n",
    "plt.legend()\n",
    "plt.grid()\n",
    "plt.show()"
   ]
  },
  {
   "cell_type": "markdown",
   "metadata": {},
   "source": [
    "Можно отметить, что конверсия группы B изначально несколько меньше конверсии группы A, но после 6 августа конверсия группы B увеличилась, и далее выровнялась около одного значения. Конверсия группы A несколько просела, но также зафиксировалась."
   ]
  },
  {
   "cell_type": "markdown",
   "metadata": {},
   "source": [
    "## 2.5 Относительное изменение кумулятивной конверсии группы B к группе A"
   ]
  },
  {
   "cell_type": "markdown",
   "metadata": {},
   "source": [
    "Построим график относительного различия кумулятивных конверсий:"
   ]
  },
  {
   "cell_type": "code",
   "execution_count": 26,
   "metadata": {
    "scrolled": false
   },
   "outputs": [
    {
     "name": "stderr",
     "output_type": "stream",
     "text": [
      "No handles with labels found to put in legend.\n"
     ]
    },
    {
     "data": {
      "image/png": "[encoded data removed]",
      "text/plain": [
       "<Figure size 1080x504 with 1 Axes>"
      ]
     },
     "metadata": {
      "needs_background": "light"
     },
     "output_type": "display_data"
    }
   ],
   "source": [
    "mergedCumulativeConversions = cumulativeDataA[['date','conversion']].merge(cumulativeDataB[['date','conversion']], left_on='date', right_on='date', how='left', suffixes=['A', 'B'])\n",
    "\n",
    "fig= plt.figure(figsize=(15,7))\n",
    "plt.plot(mergedCumulativeConversions['date'], mergedCumulativeConversions['conversionB']/mergedCumulativeConversions['conversionA']-1)\n",
    "plt.axhline(y=0, color='black', linestyle='--')\n",
    "plt.axhline(y=0.1, color='grey', linestyle='--')\n",
    "plt.axis(['2019-08-01', '2019-09-01', -0.4, 0.4]) \n",
    "plt.xlabel('Дата')\n",
    "plt.title('Относительное изменение кумулятивной конверсии группы B к группе A')\n",
    "line = (mergedCumulativeConversions.query('date > \"2019-08-17\"')['conversionB']/mergedCumulativeConversions.query('date > \"2019-08-17\"')['conversionA']-1).mean()\n",
    "plt.axhline(y = line, color='red', linestyle='--')\n",
    "plt.legend()\n",
    "plt.grid()\n",
    "plt.text('2019-08-02', (line + line/10), round(line, 2),)\n",
    "plt.show()"
   ]
  },
  {
   "cell_type": "markdown",
   "metadata": {},
   "source": [
    "Конверсия группы B после изначального колебания зафиксироваласт около прироста в 10% относительно группы А."
   ]
  },
  {
   "cell_type": "markdown",
   "metadata": {},
   "source": [
    "## 2.6 Анализ количества заказов по пользователям"
   ]
  },
  {
   "cell_type": "markdown",
   "metadata": {},
   "source": [
    "Создадим датафрейм с данными о количестве заказов по пользователям:"
   ]
  },
  {
   "cell_type": "code",
   "execution_count": 27,
   "metadata": {},
   "outputs": [
    {
     "data": {
      "text/html": [
       "<div>\n",
       "<style scoped>\n",
       "    .dataframe tbody tr th:only-of-type {\n",
       "        vertical-align: middle;\n",
       "    }\n",
       "\n",
       "    .dataframe tbody tr th {\n",
       "        vertical-align: top;\n",
       "    }\n",
       "\n",
       "    .dataframe thead th {\n",
       "        text-align: right;\n",
       "    }\n",
       "</style>\n",
       "<table border=\"1\" class=\"dataframe\">\n",
       "  <thead>\n",
       "    <tr style=\"text-align: right;\">\n",
       "      <th></th>\n",
       "      <th>userId</th>\n",
       "      <th>orders</th>\n",
       "    </tr>\n",
       "  </thead>\n",
       "  <tbody>\n",
       "    <tr>\n",
       "      <td>908</td>\n",
       "      <td>3967698036</td>\n",
       "      <td>3</td>\n",
       "    </tr>\n",
       "    <tr>\n",
       "      <td>55</td>\n",
       "      <td>249864742</td>\n",
       "      <td>3</td>\n",
       "    </tr>\n",
       "    <tr>\n",
       "      <td>478</td>\n",
       "      <td>2108163459</td>\n",
       "      <td>3</td>\n",
       "    </tr>\n",
       "    <tr>\n",
       "      <td>687</td>\n",
       "      <td>2988190573</td>\n",
       "      <td>3</td>\n",
       "    </tr>\n",
       "    <tr>\n",
       "      <td>890</td>\n",
       "      <td>3908431265</td>\n",
       "      <td>3</td>\n",
       "    </tr>\n",
       "    <tr>\n",
       "      <td>138</td>\n",
       "      <td>611059232</td>\n",
       "      <td>3</td>\n",
       "    </tr>\n",
       "    <tr>\n",
       "      <td>632</td>\n",
       "      <td>2742574263</td>\n",
       "      <td>3</td>\n",
       "    </tr>\n",
       "    <tr>\n",
       "      <td>157</td>\n",
       "      <td>678354126</td>\n",
       "      <td>2</td>\n",
       "    </tr>\n",
       "    <tr>\n",
       "      <td>323</td>\n",
       "      <td>1404560065</td>\n",
       "      <td>2</td>\n",
       "    </tr>\n",
       "    <tr>\n",
       "      <td>452</td>\n",
       "      <td>1985475298</td>\n",
       "      <td>2</td>\n",
       "    </tr>\n",
       "    <tr>\n",
       "      <td>118</td>\n",
       "      <td>522292794</td>\n",
       "      <td>2</td>\n",
       "    </tr>\n",
       "    <tr>\n",
       "      <td>628</td>\n",
       "      <td>2733145037</td>\n",
       "      <td>2</td>\n",
       "    </tr>\n",
       "    <tr>\n",
       "      <td>634</td>\n",
       "      <td>2744017357</td>\n",
       "      <td>2</td>\n",
       "    </tr>\n",
       "    <tr>\n",
       "      <td>407</td>\n",
       "      <td>1772171838</td>\n",
       "      <td>2</td>\n",
       "    </tr>\n",
       "    <tr>\n",
       "      <td>548</td>\n",
       "      <td>2397843657</td>\n",
       "      <td>2</td>\n",
       "    </tr>\n",
       "  </tbody>\n",
       "</table>\n",
       "</div>"
      ],
      "text/plain": [
       "         userId  orders\n",
       "908  3967698036       3\n",
       "55    249864742       3\n",
       "478  2108163459       3\n",
       "687  2988190573       3\n",
       "890  3908431265       3\n",
       "138   611059232       3\n",
       "632  2742574263       3\n",
       "157   678354126       2\n",
       "323  1404560065       2\n",
       "452  1985475298       2\n",
       "118   522292794       2\n",
       "628  2733145037       2\n",
       "634  2744017357       2\n",
       "407  1772171838       2\n",
       "548  2397843657       2"
      ]
     },
     "execution_count": 27,
     "metadata": {},
     "output_type": "execute_result"
    }
   ],
   "source": [
    "ordersByUsers = orders.drop(['group', 'revenue', 'date'], axis=1).groupby('visitorId', as_index=False).agg({'transactionId' : pd.Series.nunique}).sort_values(by='transactionId',ascending=False)\n",
    "ordersByUsers.columns = ['userId', 'orders']\n",
    "ordersByUsers.head(15)"
   ]
  },
  {
   "cell_type": "markdown",
   "metadata": {},
   "source": [
    "Построим диаграмму количества заказов:"
   ]
  },
  {
   "cell_type": "code",
   "execution_count": 28,
   "metadata": {},
   "outputs": [
    {
     "data": {
      "image/png": "[encoded data removed]",
      "text/plain": [
       "<Figure size 432x288 with 1 Axes>"
      ]
     },
     "metadata": {
      "needs_background": "light"
     },
     "output_type": "display_data"
    }
   ],
   "source": [
    "x_values = pd.Series(range(0, len(ordersByUsers)))\n",
    "plt.scatter(x_values, ordersByUsers['orders']) \n",
    "plt.ylabel('Количество заказов')\n",
    "plt.title('График количества заказов по пользователям')\n",
    "plt.show()"
   ]
  },
  {
   "cell_type": "markdown",
   "metadata": {},
   "source": [
    "Можно заключить, что в основном пользователи делали по 1 заказу."
   ]
  },
  {
   "cell_type": "markdown",
   "metadata": {},
   "source": [
    "**Посчитаем 95-й и 99-й перцентиль количества заказов на пользователя**"
   ]
  },
  {
   "cell_type": "code",
   "execution_count": 29,
   "metadata": {},
   "outputs": [
    {
     "data": {
      "text/plain": [
       "array([1., 2.])"
      ]
     },
     "execution_count": 29,
     "metadata": {},
     "output_type": "execute_result"
    }
   ],
   "source": [
    "np.percentile(ordersByUsers['orders'], [95, 99])"
   ]
  },
  {
   "cell_type": "markdown",
   "metadata": {},
   "source": [
    "Не более 5% пользователей совершали больше одного заказа, и не более 1% пользователей совершали более двух."
   ]
  },
  {
   "cell_type": "markdown",
   "metadata": {},
   "source": [
    "## 2.7 Анализ стоимостей заказов"
   ]
  },
  {
   "cell_type": "code",
   "execution_count": 30,
   "metadata": {},
   "outputs": [
    {
     "data": {
      "text/plain": [
       "Text(0.5, 1.0, 'График стоимостей заказов')"
      ]
     },
     "execution_count": 30,
     "metadata": {},
     "output_type": "execute_result"
    },
    {
     "data": {
      "image/png": "[encoded data removed]",
      "text/plain": [
       "<Figure size 720x360 with 1 Axes>"
      ]
     },
     "metadata": {
      "needs_background": "light"
     },
     "output_type": "display_data"
    }
   ],
   "source": [
    "x_values = pd.Series(range(0, len(orders['revenue'])))\n",
    "fig= plt.figure(figsize=(10,5))\n",
    "plt.scatter(x_values, orders['revenue']) \n",
    "plt.ylabel('Стоимость заказа')\n",
    "plt.title('График стоимостей заказов')"
   ]
  },
  {
   "cell_type": "markdown",
   "metadata": {},
   "source": [
    "Наблюдается аномально дорогой заказ с выручкой более 1200000, а также заказ со стоимостью около 200000. Большинство заказов  укладывается в сумму до 100000. "
   ]
  },
  {
   "cell_type": "markdown",
   "metadata": {},
   "source": [
    "**Посчитаем 95-й и 99-й перцентили стоимости заказов**"
   ]
  },
  {
   "cell_type": "code",
   "execution_count": 31,
   "metadata": {},
   "outputs": [
    {
     "data": {
      "text/plain": [
       "array([26785., 53904.])"
      ]
     },
     "execution_count": 31,
     "metadata": {},
     "output_type": "execute_result"
    }
   ],
   "source": [
    "np.percentile(orders['revenue'], [95, 99])"
   ]
  },
  {
   "cell_type": "markdown",
   "metadata": {},
   "source": [
    "Не более 5% пользователей  делают заказы дороже 26785, и не более 1% - дороже 53904."
   ]
  },
  {
   "cell_type": "markdown",
   "metadata": {},
   "source": [
    "## 2.8 Статистическая значимость различий в конверсии между группами по «сырым» данным"
   ]
  },
  {
   "cell_type": "markdown",
   "metadata": {},
   "source": [
    "Соберем куммулятивные данные в одну таблицу:"
   ]
  },
  {
   "cell_type": "code",
   "execution_count": 32,
   "metadata": {},
   "outputs": [
    {
     "data": {
      "text/html": [
       "<div>\n",
       "<style scoped>\n",
       "    .dataframe tbody tr th:only-of-type {\n",
       "        vertical-align: middle;\n",
       "    }\n",
       "\n",
       "    .dataframe tbody tr th {\n",
       "        vertical-align: top;\n",
       "    }\n",
       "\n",
       "    .dataframe thead th {\n",
       "        text-align: right;\n",
       "    }\n",
       "</style>\n",
       "<table border=\"1\" class=\"dataframe\">\n",
       "  <thead>\n",
       "    <tr style=\"text-align: right;\">\n",
       "      <th></th>\n",
       "      <th>date</th>\n",
       "      <th>ordersPerDateA</th>\n",
       "      <th>revenuePerDateA</th>\n",
       "      <th>ordersPerDateB</th>\n",
       "      <th>revenuePerDateB</th>\n",
       "      <th>ordersCummulativeA</th>\n",
       "      <th>revenueCummulativeA</th>\n",
       "      <th>ordersCummulativeB</th>\n",
       "      <th>revenueCummulativeB</th>\n",
       "      <th>visitorsPerDateA</th>\n",
       "      <th>visitorsPerDateB</th>\n",
       "      <th>visitorsCummulativeA</th>\n",
       "      <th>visitorsCummulativeB</th>\n",
       "    </tr>\n",
       "  </thead>\n",
       "  <tbody>\n",
       "    <tr>\n",
       "      <td>0</td>\n",
       "      <td>2019-08-01</td>\n",
       "      <td>23</td>\n",
       "      <td>142779</td>\n",
       "      <td>17</td>\n",
       "      <td>59758</td>\n",
       "      <td>23</td>\n",
       "      <td>142779</td>\n",
       "      <td>17</td>\n",
       "      <td>59758</td>\n",
       "      <td>719</td>\n",
       "      <td>713</td>\n",
       "      <td>719</td>\n",
       "      <td>713</td>\n",
       "    </tr>\n",
       "    <tr>\n",
       "      <td>1</td>\n",
       "      <td>2019-08-02</td>\n",
       "      <td>19</td>\n",
       "      <td>91602</td>\n",
       "      <td>23</td>\n",
       "      <td>162043</td>\n",
       "      <td>42</td>\n",
       "      <td>234381</td>\n",
       "      <td>40</td>\n",
       "      <td>221801</td>\n",
       "      <td>619</td>\n",
       "      <td>581</td>\n",
       "      <td>1338</td>\n",
       "      <td>1294</td>\n",
       "    </tr>\n",
       "    <tr>\n",
       "      <td>2</td>\n",
       "      <td>2019-08-03</td>\n",
       "      <td>24</td>\n",
       "      <td>112473</td>\n",
       "      <td>14</td>\n",
       "      <td>67049</td>\n",
       "      <td>66</td>\n",
       "      <td>346854</td>\n",
       "      <td>54</td>\n",
       "      <td>288850</td>\n",
       "      <td>507</td>\n",
       "      <td>509</td>\n",
       "      <td>1845</td>\n",
       "      <td>1803</td>\n",
       "    </tr>\n",
       "    <tr>\n",
       "      <td>3</td>\n",
       "      <td>2019-08-04</td>\n",
       "      <td>11</td>\n",
       "      <td>41176</td>\n",
       "      <td>14</td>\n",
       "      <td>96890</td>\n",
       "      <td>77</td>\n",
       "      <td>388030</td>\n",
       "      <td>68</td>\n",
       "      <td>385740</td>\n",
       "      <td>717</td>\n",
       "      <td>770</td>\n",
       "      <td>2562</td>\n",
       "      <td>2573</td>\n",
       "    </tr>\n",
       "    <tr>\n",
       "      <td>4</td>\n",
       "      <td>2019-08-05</td>\n",
       "      <td>22</td>\n",
       "      <td>86383</td>\n",
       "      <td>21</td>\n",
       "      <td>89908</td>\n",
       "      <td>99</td>\n",
       "      <td>474413</td>\n",
       "      <td>89</td>\n",
       "      <td>475648</td>\n",
       "      <td>756</td>\n",
       "      <td>707</td>\n",
       "      <td>3318</td>\n",
       "      <td>3280</td>\n",
       "    </tr>\n",
       "  </tbody>\n",
       "</table>\n",
       "</div>"
      ],
      "text/plain": [
       "        date  ordersPerDateA  revenuePerDateA  ordersPerDateB  \\\n",
       "0 2019-08-01              23           142779              17   \n",
       "1 2019-08-02              19            91602              23   \n",
       "2 2019-08-03              24           112473              14   \n",
       "3 2019-08-04              11            41176              14   \n",
       "4 2019-08-05              22            86383              21   \n",
       "\n",
       "   revenuePerDateB  ordersCummulativeA  revenueCummulativeA  \\\n",
       "0            59758                  23               142779   \n",
       "1           162043                  42               234381   \n",
       "2            67049                  66               346854   \n",
       "3            96890                  77               388030   \n",
       "4            89908                  99               474413   \n",
       "\n",
       "   ordersCummulativeB  revenueCummulativeB  visitorsPerDateA  \\\n",
       "0                  17                59758               719   \n",
       "1                  40               221801               619   \n",
       "2                  54               288850               507   \n",
       "3                  68               385740               717   \n",
       "4                  89               475648               756   \n",
       "\n",
       "   visitorsPerDateB  visitorsCummulativeA  visitorsCummulativeB  \n",
       "0               713                   719                   713  \n",
       "1               581                  1338                  1294  \n",
       "2               509                  1845                  1803  \n",
       "3               770                  2562                  2573  \n",
       "4               707                  3318                  3280  "
      ]
     },
     "execution_count": 32,
     "metadata": {},
     "output_type": "execute_result"
    }
   ],
   "source": [
    "#количество пользователей в указанную дату в группе A\n",
    "visitorsADaily = visitors[visitors['group'] == 'A'][['date', 'visitors']]\n",
    "visitorsADaily.columns = ['date', 'visitorsPerDateA']\n",
    "\n",
    "#количество пользователей до выбранной даты включительно в группе A\n",
    "visitorsACummulative = visitorsADaily.apply(\n",
    "    lambda x: visitorsADaily[visitorsADaily['date'] <= x['date']].agg(\n",
    "        {'date': 'max', 'visitorsPerDateA': 'sum'}\n",
    "    ),\n",
    "    axis=1,\n",
    ")\n",
    "visitorsACummulative.columns = ['date', 'visitorsCummulativeA']\n",
    "\n",
    "#количество пользователей в указанную дату в группе В\n",
    "visitorsBDaily = visitors[visitors['group'] == 'B'][['date', 'visitors']]\n",
    "visitorsBDaily.columns = ['date', 'visitorsPerDateB']\n",
    "\n",
    "#количество пользователей до выбранной даты включительно в группе В\n",
    "visitorsBCummulative = visitorsBDaily.apply(\n",
    "    lambda x: visitorsBDaily[visitorsBDaily['date'] <= x['date']].agg(\n",
    "        {'date': 'max', 'visitorsPerDateB': 'sum'}\n",
    "    ),\n",
    "    axis=1,\n",
    ")\n",
    "visitorsBCummulative.columns = ['date', 'visitorsCummulativeB']\n",
    "\n",
    "#количество заказов и их стоимость в указанную дату в группе A\n",
    "ordersADaily = (\n",
    "    orders[orders['group'] == 'A'][['date', 'transactionId', 'visitorId', 'revenue']]\n",
    "    .groupby('date', as_index=False)\n",
    "    .agg({'transactionId': pd.Series.nunique, 'revenue': 'sum'})\n",
    ")\n",
    "ordersADaily.columns = ['date', 'ordersPerDateA', 'revenuePerDateA']\n",
    "\n",
    "#суммарное количество заказов до выбранной даты включительно в группе A\n",
    "ordersACummulative = ordersADaily.apply(\n",
    "    lambda x: ordersADaily[ordersADaily['date'] <= x['date']].agg(\n",
    "        {'date': 'max', 'ordersPerDateA': 'sum', 'revenuePerDateA': 'sum'}\n",
    "    ),\n",
    "    axis=1,\n",
    ").sort_values(by=['date'])\n",
    "ordersACummulative.columns = ['date','ordersCummulativeA','revenueCummulativeA']\n",
    "\n",
    "#количество заказов и их стоимость в указанную дату в группе B\n",
    "ordersBDaily = (\n",
    "    orders[orders['group'] == 'B'][['date', 'transactionId', 'visitorId', 'revenue']]\n",
    "    .groupby('date', as_index=False)\n",
    "    .agg({'transactionId': pd.Series.nunique, 'revenue': 'sum'})\n",
    ")\n",
    "ordersBDaily.columns = ['date', 'ordersPerDateB', 'revenuePerDateB']\n",
    "\n",
    "#суммарное количество заказов до выбранной даты включительно в группе B\n",
    "ordersBCummulative = ordersBDaily.apply(\n",
    "    lambda x: ordersBDaily[ordersBDaily['date'] <= x['date']].agg(\n",
    "        {'date': 'max', 'ordersPerDateB': 'sum', 'revenuePerDateB': 'sum'}\n",
    "    ),\n",
    "    axis=1,\n",
    ").sort_values(by=['date'])\n",
    "ordersBCummulative.columns = ['date','ordersCummulativeB','revenueCummulativeB']\n",
    "\n",
    "#объединим данные каждой группы в один датафрейм\n",
    "data = (\n",
    "    ordersADaily.merge(ordersBDaily, left_on='date', right_on='date', how='left')\n",
    "    .merge(ordersACummulative, left_on='date', right_on='date', how='left')\n",
    "    .merge(ordersBCummulative, left_on='date', right_on='date', how='left')\n",
    "    .merge(visitorsADaily, left_on='date', right_on='date', how='left')\n",
    "    .merge(visitorsBDaily, left_on='date', right_on='date', how='left')\n",
    "    .merge(visitorsACummulative, left_on='date', right_on='date', how='left')\n",
    "    .merge(visitorsBCummulative, left_on='date', right_on='date', how='left')\n",
    ")\n",
    "\n",
    "data.head(5)"
   ]
  },
  {
   "cell_type": "code",
   "execution_count": 33,
   "metadata": {},
   "outputs": [],
   "source": [
    "#количество заказов для пользователей совершивших хотя бы один заказ в группе A\n",
    "ordersByUsersA = (orders[orders['group'] == 'A'].groupby('visitorId', as_index=False).agg({'transactionId': pd.Series.nunique}))\n",
    "ordersByUsersA.columns = ['userId', 'orders']\n",
    "\n",
    "#количество заказов для пользователей совершивших хотя бы один заказ в группе B\n",
    "ordersByUsersB = (orders[orders['group'] == 'B'].groupby('visitorId', as_index=False).agg({'transactionId': pd.Series.nunique}))\n",
    "ordersByUsersB.columns = ['userId', 'orders']\n",
    "\n",
    "#число заказов определённого пользователя\n",
    "#для пользователей группы A, которые ничего не заказали укажем нули\n",
    "sampleA = pd.concat(\n",
    "    [\n",
    "        ordersByUsersA['orders'],\n",
    "        pd.Series(\n",
    "            0,\n",
    "            index=np.arange(\n",
    "                data['visitorsPerDateA'].sum() - len(ordersByUsersA['orders'])\n",
    "            ),\n",
    "            name='orders',\n",
    "        ),\n",
    "    ],\n",
    "    axis=0,\n",
    ")\n",
    "\n",
    "#число заказов определённого пользователя\n",
    "#для пользователей группы B, которые ничего не заказали укажем нули\n",
    "sampleB = pd.concat(\n",
    "    [\n",
    "        ordersByUsersB['orders'],\n",
    "        pd.Series(\n",
    "            0,\n",
    "            index=np.arange(\n",
    "                data['visitorsPerDateB'].sum() - len(ordersByUsersB['orders'])\n",
    "            ),\n",
    "            name='orders',\n",
    "        ),\n",
    "    ],\n",
    "    axis=0,\n",
    ")"
   ]
  },
  {
   "cell_type": "markdown",
   "metadata": {},
   "source": [
    "Для определения статистической значимости различий в конверсии между группами по «сырым» данным сформулируем гипотезы:\n",
    "<li>нулевая гипотеза: статистически значимых различий в конверсии между группами А и В нет</li>\n",
    "<li>альтернативная гипотеза: статистически значимые различия в конверсии между группами А и В есть</li>\n",
    "Уровень статистической значимости определим в 5%. Применим критерий Манна-Уитни."
   ]
  },
  {
   "cell_type": "code",
   "execution_count": 34,
   "metadata": {},
   "outputs": [
    {
     "name": "stdout",
     "output_type": "stream",
     "text": [
      "0.00551\n",
      "0.160\n"
     ]
    }
   ],
   "source": [
    "#p-value\n",
    "print(\"{0:.5f}\".format(stats.mannwhitneyu(sampleA, sampleB)[1], alternative='two-sided'))\n",
    "\n",
    "#прирост конверсии группы В\n",
    "print(\"{0:.3f}\".format(sampleB.mean() / sampleA.mean() - 1))"
   ]
  },
  {
   "cell_type": "markdown",
   "metadata": {},
   "source": [
    "p-value значительно меньше 0,05, поэтому нулевую гипотезу отвергаем. Анализ сырых данных сообщает, что в конверсии между группами есть статистически значимые различия. Относительный прирост конверсии группы В к конверсии группы А составляет 16%."
   ]
  },
  {
   "cell_type": "markdown",
   "metadata": {},
   "source": [
    "## 2.9 Статистическая значимость различий в среднем чеке заказа между группами по «сырым» данным"
   ]
  },
  {
   "cell_type": "markdown",
   "metadata": {},
   "source": [
    "Найдём относительные различия в среднем чеке между группами.\n",
    "Для определения статистической значимости различий в среднем чеке заказа между группами по «сырым» данным сформулируем гипотезы:\n",
    "<li>нулевая гипотеза: статистически значимых различий в среднем чеке между группами А и В нет</li>\n",
    "<li>альтернативная гипотеза: статистически значимые различия в среднем чеке между группами А и В есть</li>\n",
    "Уровень статистической значимости определим в 5%. Применим критерий Манна-Уитни."
   ]
  },
  {
   "cell_type": "code",
   "execution_count": 35,
   "metadata": {},
   "outputs": [
    {
     "name": "stdout",
     "output_type": "stream",
     "text": [
      "0.415\n",
      "0.287\n"
     ]
    }
   ],
   "source": [
    "#p-value\n",
    "print('{0:.3f}'.format(stats.mannwhitneyu(orders[orders['group']=='A']['revenue'], orders[orders['group']=='B']['revenue'])[1], alternative='two-sided'))\n",
    "\n",
    "#прирост среднего чека группы В\n",
    "print('{0:.3f}'.format(orders[orders['group']=='B']['revenue'].mean()/orders[orders['group']=='A']['revenue'].mean()-1))"
   ]
  },
  {
   "cell_type": "markdown",
   "metadata": {},
   "source": [
    "p-value значительно выше 0,05, то есть статистически значимых отличий в среднем чеке между группами нет. Таким образом, нет причин отвергать нулевую гипотезу.  Средний чек группы В выше среднего чека группы А на 28,7%"
   ]
  },
  {
   "cell_type": "markdown",
   "metadata": {},
   "source": [
    "## 2.9 Статистическая значимость различий в конверсии между группами по «очищенным» данным"
   ]
  },
  {
   "cell_type": "markdown",
   "metadata": {},
   "source": [
    "Подготовим \"очищенные\" данные. Как было расчитано ранее, 95-й и 99-й перцентили числа заказов на одного пользователя равны 1 и 2 заказам на пользователя. При этом 95-й и 99-й перцентили средних чеков равны 26785 и 53904.\n",
    "Примем за аномальных пользователей тех, кто совершил 2 заказа и более, или совершил заказ на сумму свыше 30000. Таким образом, мы уберём 1% пользователей с наибольшим числом заказов и от 1% до 5% заказов с наибольшей стоимостью."
   ]
  },
  {
   "cell_type": "code",
   "execution_count": 36,
   "metadata": {
    "scrolled": false
   },
   "outputs": [
    {
     "name": "stdout",
     "output_type": "stream",
     "text": [
      "Количество аномальных пользователей: (77,)\n"
     ]
    },
    {
     "data": {
      "text/plain": [
       "1099    148427295\n",
       "928     204675465\n",
       "33      249864742\n",
       "684     358944393\n",
       "36      366673373\n",
       "dtype: int64"
      ]
     },
     "execution_count": 36,
     "metadata": {},
     "output_type": "execute_result"
    }
   ],
   "source": [
    "#пользователи с количеством заказов больше 4\n",
    "usersWithManyOrders = pd.concat([\n",
    "        ordersByUsersA[ordersByUsersA['orders'] > 1]['userId'],\n",
    "        ordersByUsersB[ordersByUsersB['orders'] > 1]['userId'],\n",
    "], axis=0,)\n",
    "\n",
    "#пользователи с заказами на сумму свыше 30000\n",
    "usersWithExpensiveOrders = orders[orders['revenue'] > 30000]['visitorId']\n",
    "\n",
    "#общее количество аномальных пользователей\n",
    "abnormalUsers = (pd.concat([usersWithManyOrders, usersWithExpensiveOrders], axis=0).drop_duplicates().sort_values())\n",
    "\n",
    "print('Количество аномальных пользователей:', abnormalUsers.shape)\n",
    "abnormalUsers.head()"
   ]
  },
  {
   "cell_type": "markdown",
   "metadata": {},
   "source": [
    "Выявлено 77 пользователй, у которых сумма заказа превышает 30000 и количество заказов больше 1. Уберем данные об аномальных заказах из групп А и В."
   ]
  },
  {
   "cell_type": "code",
   "execution_count": 37,
   "metadata": {
    "scrolled": true
   },
   "outputs": [],
   "source": [
    "#очищенные данные группы А\n",
    "sampleAFiltered = pd.concat(\n",
    "    [\n",
    "        ordersByUsersA[np.logical_not(ordersByUsersA['userId'].isin(abnormalUsers))]['orders'],\n",
    "        pd.Series(0,index=np.arange(data['visitorsPerDateA'].sum() - len(ordersByUsersA['orders'])),name='orders',),\n",
    "    ],\n",
    "    axis=0,\n",
    ")\n",
    "\n",
    "#очищенные данные группы В\n",
    "sampleBFiltered = pd.concat(\n",
    "    [ordersByUsersB[np.logical_not(ordersByUsersB['userId'].isin(abnormalUsers))]['orders'],\n",
    "     pd.Series(0,index=np.arange(data['visitorsPerDateB'].sum() - len(ordersByUsersB['orders'])),name='orders',),\n",
    "    ],\n",
    "    axis=0,\n",
    ")"
   ]
  },
  {
   "cell_type": "markdown",
   "metadata": {},
   "source": [
    "Посчитаем статистическую значимость различий в конверсии между группами А и В по очищенным данным. "
   ]
  },
  {
   "cell_type": "code",
   "execution_count": 38,
   "metadata": {},
   "outputs": [
    {
     "name": "stdout",
     "output_type": "stream",
     "text": [
      "0.00627\n",
      "0.180\n"
     ]
    }
   ],
   "source": [
    "#p-value\n",
    "print('{0:.5f}'.format(stats.mannwhitneyu(sampleAFiltered, sampleBFiltered)[1], alternative='two-sided'))\n",
    "\n",
    "#прирост конверсии группы В\n",
    "print('{0:.3f}'.format(sampleBFiltered.mean()/sampleAFiltered.mean()-1))"
   ]
  },
  {
   "cell_type": "markdown",
   "metadata": {},
   "source": [
    "Можно заметить, что по сравнению с \"сырыми\" данными значения изменились незначительно. Анализ очищенных данных подтверждает, что в конверсии между группами А и В есть статистически значимые различия. Относительный прирост конверсии группы В к конверсии группы А по очищенным данным несколько вырос и составил 18%."
   ]
  },
  {
   "cell_type": "markdown",
   "metadata": {},
   "source": [
    "## 2.9 Статистическая значимость различий в среднем чеке заказа между группами по «очищенным» данным"
   ]
  },
  {
   "cell_type": "code",
   "execution_count": 39,
   "metadata": {},
   "outputs": [
    {
     "name": "stdout",
     "output_type": "stream",
     "text": [
      "0.414\n",
      "-0.011\n"
     ]
    }
   ],
   "source": [
    "#p-value\n",
    "print('{0:.3f}'.format(stats.mannwhitneyu(\n",
    "    orders[np.logical_and(orders['group'] == 'A',\n",
    "                                np.logical_not(orders['visitorId'].isin(abnormalUsers)),)\n",
    "            ]['revenue'],\n",
    "            orders[\n",
    "                np.logical_and(\n",
    "                    orders['group'] == 'B',\n",
    "                    np.logical_not(orders['visitorId'].isin(abnormalUsers)),\n",
    "                )\n",
    "            ]['revenue'],\n",
    "        )[1], alternative='two-sided'\n",
    "    )\n",
    ")\n",
    "\n",
    "\n",
    "#прирост среднего чека группы В\n",
    "print(\n",
    "    \"{0:.3f}\".format(\n",
    "        orders[\n",
    "            np.logical_and(\n",
    "                orders['group'] == 'B',\n",
    "                np.logical_not(orders['visitorId'].isin(abnormalUsers)),\n",
    "            )\n",
    "        ]['revenue'].mean()\n",
    "        / orders[\n",
    "            np.logical_and(\n",
    "                orders['group'] == 'A',\n",
    "                np.logical_not(orders['visitorId'].isin(abnormalUsers)),\n",
    "            )\n",
    "        ]['revenue'].mean()\n",
    "        - 1\n",
    "    )\n",
    ")"
   ]
  },
  {
   "cell_type": "markdown",
   "metadata": {},
   "source": [
    "Значение p-value практически не изменилось, что подтверждает анализ по \"сырым\" данным, что статистически значимых отличий в среднем чеке между группами нет. Однако, \"очищенные\" данные показали, что средний чек группы В ниже среднего чека группы А на 1,1%. Можно сделать вывод, что аномальные заказы сильно искажали результаты теста."
   ]
  },
  {
   "cell_type": "markdown",
   "metadata": {},
   "source": [
    "## 2.10 Выводы по результатам А/В теста"
   ]
  },
  {
   "cell_type": "markdown",
   "metadata": {},
   "source": [
    "По результатм проведения А/В теста заключим следующее:\n",
    "<li>в конверсии между группами А и В есть статистически значимые различия, как по сырым данным, так и по очищенным </li>\n",
    "<li>в среднем чеке между группами А и В статистически значимых различий нет, при этом при этом средний чек группы В стал несущественно ниже среднего чека группы А, после удаления аномальных данных</li>\n",
    "<li>судя по графику различия конверсий, конверсия группы B имеет тенденцию к стабильному приросту, в отличие от группы А</li>\n",
    "<li>график различия среднего чека серьезно колеблется, что указало на возможные аномалии</li>\n",
    "Тест можно остановить, определив группу В как выигрышную."
   ]
  }
 ],
 "metadata": {
  "ExecuteTimeLog": [
   {
    "duration": 1346,
    "start_time": "2021-06-12T08:55:49.735Z"
   },
   {
    "duration": 31,
    "start_time": "2021-06-12T08:55:51.084Z"
   },
   {
    "duration": 16,
    "start_time": "2021-06-12T08:55:51.118Z"
   },
   {
    "duration": 12,
    "start_time": "2021-06-12T08:55:51.137Z"
   },
   {
    "duration": 125,
    "start_time": "2021-06-12T08:55:51.151Z"
   },
   {
    "duration": 23,
    "start_time": "2021-06-12T08:55:51.278Z"
   },
   {
    "duration": 21,
    "start_time": "2021-06-12T08:55:51.304Z"
   },
   {
    "duration": 354,
    "start_time": "2021-06-12T08:55:51.329Z"
   },
   {
    "duration": 296,
    "start_time": "2021-06-12T08:55:51.685Z"
   },
   {
    "duration": 46,
    "start_time": "2021-06-12T08:55:51.984Z"
   },
   {
    "duration": 506,
    "start_time": "2021-06-12T08:55:52.033Z"
   },
   {
    "duration": 471,
    "start_time": "2021-06-12T08:55:52.542Z"
   },
   {
    "duration": 377,
    "start_time": "2021-06-12T09:09:35.362Z"
   },
   {
    "duration": 476,
    "start_time": "2021-06-12T09:58:31.331Z"
   },
   {
    "duration": 277,
    "start_time": "2021-06-12T09:59:14.590Z"
   },
   {
    "duration": 6,
    "start_time": "2021-06-12T09:59:56.854Z"
   },
   {
    "duration": 9,
    "start_time": "2021-06-12T10:00:10.764Z"
   },
   {
    "duration": 9,
    "start_time": "2021-06-12T10:02:17.446Z"
   },
   {
    "duration": 284,
    "start_time": "2021-06-12T10:02:36.466Z"
   },
   {
    "duration": 11,
    "start_time": "2021-06-12T10:02:44.598Z"
   },
   {
    "duration": 8,
    "start_time": "2021-06-12T10:02:55.854Z"
   },
   {
    "duration": 291,
    "start_time": "2021-06-12T10:12:26.299Z"
   },
   {
    "duration": 284,
    "start_time": "2021-06-12T10:12:35.147Z"
   },
   {
    "duration": 276,
    "start_time": "2021-06-12T10:14:46.666Z"
   },
   {
    "duration": 13,
    "start_time": "2021-06-12T10:16:16.131Z"
   },
   {
    "duration": 7569,
    "start_time": "2021-06-12T10:16:26.986Z"
   },
   {
    "duration": 9083,
    "start_time": "2021-06-12T10:16:53.003Z"
   },
   {
    "duration": 7565,
    "start_time": "2021-06-12T10:17:51.242Z"
   },
   {
    "duration": 7532,
    "start_time": "2021-06-12T10:18:20.683Z"
   },
   {
    "duration": 7209,
    "start_time": "2021-06-12T10:43:26.827Z"
   },
   {
    "duration": 7536,
    "start_time": "2021-06-12T10:44:00.618Z"
   },
   {
    "duration": 1447,
    "start_time": "2021-06-12T15:33:43.234Z"
   },
   {
    "duration": 32,
    "start_time": "2021-06-12T15:33:44.684Z"
   },
   {
    "duration": 13,
    "start_time": "2021-06-12T15:33:44.719Z"
   },
   {
    "duration": 23,
    "start_time": "2021-06-12T15:33:44.735Z"
   },
   {
    "duration": 91,
    "start_time": "2021-06-12T15:33:44.762Z"
   },
   {
    "duration": 32,
    "start_time": "2021-06-12T15:33:44.859Z"
   },
   {
    "duration": 19,
    "start_time": "2021-06-12T15:33:44.894Z"
   },
   {
    "duration": 413,
    "start_time": "2021-06-12T15:33:44.916Z"
   },
   {
    "duration": 7,
    "start_time": "2021-06-12T15:33:45.332Z"
   },
   {
    "duration": 317,
    "start_time": "2021-06-12T15:33:45.342Z"
   },
   {
    "duration": 32,
    "start_time": "2021-06-12T15:33:45.664Z"
   },
   {
    "duration": 538,
    "start_time": "2021-06-12T15:33:45.698Z"
   },
   {
    "duration": 501,
    "start_time": "2021-06-12T15:33:46.239Z"
   },
   {
    "duration": 444,
    "start_time": "2021-06-12T15:33:46.742Z"
   },
   {
    "duration": 9,
    "start_time": "2021-06-12T15:34:09.522Z"
   },
   {
    "duration": 24,
    "start_time": "2021-06-12T15:42:05.513Z"
   },
   {
    "duration": 27,
    "start_time": "2021-06-12T15:42:39.394Z"
   },
   {
    "duration": 27,
    "start_time": "2021-06-12T15:42:53.866Z"
   },
   {
    "duration": 10,
    "start_time": "2021-06-12T15:43:12.927Z"
   },
   {
    "duration": 10,
    "start_time": "2021-06-12T15:43:26.496Z"
   },
   {
    "duration": 1322,
    "start_time": "2021-06-12T15:44:37.399Z"
   },
   {
    "duration": 33,
    "start_time": "2021-06-12T15:44:38.724Z"
   },
   {
    "duration": 19,
    "start_time": "2021-06-12T15:44:38.761Z"
   },
   {
    "duration": 12,
    "start_time": "2021-06-12T15:44:38.783Z"
   },
   {
    "duration": 88,
    "start_time": "2021-06-12T15:44:38.798Z"
   },
   {
    "duration": 22,
    "start_time": "2021-06-12T15:44:38.889Z"
   },
   {
    "duration": 17,
    "start_time": "2021-06-12T15:44:38.913Z"
   },
   {
    "duration": 376,
    "start_time": "2021-06-12T15:44:38.954Z"
   },
   {
    "duration": 39,
    "start_time": "2021-06-12T15:44:39.333Z"
   },
   {
    "duration": 9,
    "start_time": "2021-06-12T15:44:39.375Z"
   },
   {
    "duration": 15,
    "start_time": "2021-06-12T15:44:39.387Z"
   },
   {
    "duration": 317,
    "start_time": "2021-06-12T15:44:39.405Z"
   },
   {
    "duration": 44,
    "start_time": "2021-06-12T15:44:39.724Z"
   },
   {
    "duration": 513,
    "start_time": "2021-06-12T15:44:39.771Z"
   },
   {
    "duration": 488,
    "start_time": "2021-06-12T15:44:40.286Z"
   },
   {
    "duration": 398,
    "start_time": "2021-06-12T15:44:40.777Z"
   },
   {
    "duration": 1374,
    "start_time": "2021-06-12T15:47:57.850Z"
   },
   {
    "duration": 33,
    "start_time": "2021-06-12T15:47:59.227Z"
   },
   {
    "duration": 21,
    "start_time": "2021-06-12T15:47:59.263Z"
   },
   {
    "duration": 14,
    "start_time": "2021-06-12T15:47:59.288Z"
   },
   {
    "duration": 86,
    "start_time": "2021-06-12T15:47:59.305Z"
   },
   {
    "duration": 22,
    "start_time": "2021-06-12T15:47:59.393Z"
   },
   {
    "duration": 45,
    "start_time": "2021-06-12T15:47:59.418Z"
   },
   {
    "duration": 402,
    "start_time": "2021-06-12T15:47:59.467Z"
   },
   {
    "duration": 3,
    "start_time": "2021-06-12T15:47:59.873Z"
   },
   {
    "duration": 7,
    "start_time": "2021-06-12T15:47:59.880Z"
   },
   {
    "duration": 6,
    "start_time": "2021-06-12T15:47:59.890Z"
   },
   {
    "duration": 316,
    "start_time": "2021-06-12T15:47:59.899Z"
   },
   {
    "duration": 39,
    "start_time": "2021-06-12T15:48:00.218Z"
   },
   {
    "duration": 507,
    "start_time": "2021-06-12T15:48:00.264Z"
   },
   {
    "duration": 496,
    "start_time": "2021-06-12T15:48:00.774Z"
   },
   {
    "duration": 406,
    "start_time": "2021-06-12T15:48:01.272Z"
   },
   {
    "duration": 13,
    "start_time": "2021-06-12T15:51:48.534Z"
   },
   {
    "duration": 398,
    "start_time": "2021-06-12T15:58:39.804Z"
   },
   {
    "duration": 302,
    "start_time": "2021-06-12T16:00:19.392Z"
   },
   {
    "duration": 421,
    "start_time": "2021-06-12T16:00:31.710Z"
   },
   {
    "duration": 465,
    "start_time": "2021-06-12T16:01:21.001Z"
   },
   {
    "duration": 1300,
    "start_time": "2021-06-12T16:03:30.818Z"
   },
   {
    "duration": 31,
    "start_time": "2021-06-12T16:03:32.121Z"
   },
   {
    "duration": 25,
    "start_time": "2021-06-12T16:03:32.155Z"
   },
   {
    "duration": 12,
    "start_time": "2021-06-12T16:03:32.184Z"
   },
   {
    "duration": 89,
    "start_time": "2021-06-12T16:03:32.198Z"
   },
   {
    "duration": 21,
    "start_time": "2021-06-12T16:03:32.289Z"
   },
   {
    "duration": 24,
    "start_time": "2021-06-12T16:03:32.313Z"
   },
   {
    "duration": 358,
    "start_time": "2021-06-12T16:03:32.365Z"
   },
   {
    "duration": 3,
    "start_time": "2021-06-12T16:03:32.726Z"
   },
   {
    "duration": 18,
    "start_time": "2021-06-12T16:03:32.731Z"
   },
   {
    "duration": 3,
    "start_time": "2021-06-12T16:03:32.764Z"
   },
   {
    "duration": 270,
    "start_time": "2021-06-12T16:03:32.770Z"
   },
   {
    "duration": 40,
    "start_time": "2021-06-12T16:03:33.042Z"
   },
   {
    "duration": 514,
    "start_time": "2021-06-12T16:03:33.085Z"
   },
   {
    "duration": 483,
    "start_time": "2021-06-12T16:03:33.601Z"
   },
   {
    "duration": 10,
    "start_time": "2021-06-12T16:03:34.086Z"
   },
   {
    "duration": 479,
    "start_time": "2021-06-12T16:03:34.099Z"
   },
   {
    "duration": 567,
    "start_time": "2021-06-12T16:10:36.158Z"
   },
   {
    "duration": 6,
    "start_time": "2021-06-12T16:30:12.980Z"
   },
   {
    "duration": 21,
    "start_time": "2021-06-12T16:30:16.296Z"
   },
   {
    "duration": 345,
    "start_time": "2021-06-12T16:32:09.281Z"
   },
   {
    "duration": 310,
    "start_time": "2021-06-12T16:33:12.978Z"
   },
   {
    "duration": 329,
    "start_time": "2021-06-12T16:33:33.656Z"
   },
   {
    "duration": 338,
    "start_time": "2021-06-12T16:33:42.131Z"
   },
   {
    "duration": 458,
    "start_time": "2021-06-12T16:34:04.911Z"
   },
   {
    "duration": 548,
    "start_time": "2021-06-12T16:34:24.360Z"
   },
   {
    "duration": 427,
    "start_time": "2021-06-12T16:43:10.666Z"
   },
   {
    "duration": 460,
    "start_time": "2021-06-12T16:44:15.914Z"
   },
   {
    "duration": 485,
    "start_time": "2021-06-12T16:44:30.731Z"
   },
   {
    "duration": 120,
    "start_time": "2021-06-12T16:45:15.544Z"
   },
   {
    "duration": 780,
    "start_time": "2021-06-12T16:45:21.215Z"
   },
   {
    "duration": 758,
    "start_time": "2021-06-12T16:46:03.903Z"
   },
   {
    "duration": 461,
    "start_time": "2021-06-12T16:46:09.614Z"
   },
   {
    "duration": 425,
    "start_time": "2021-06-12T16:46:40.702Z"
   },
   {
    "duration": 610,
    "start_time": "2021-06-12T16:47:11.422Z"
   },
   {
    "duration": 569,
    "start_time": "2021-06-12T16:47:54.200Z"
   },
   {
    "duration": 617,
    "start_time": "2021-06-12T16:48:36.920Z"
   },
   {
    "duration": 584,
    "start_time": "2021-06-12T16:48:44.870Z"
   },
   {
    "duration": 1375,
    "start_time": "2021-06-12T17:02:12.057Z"
   },
   {
    "duration": 36,
    "start_time": "2021-06-12T17:02:13.435Z"
   },
   {
    "duration": 17,
    "start_time": "2021-06-12T17:02:13.474Z"
   },
   {
    "duration": 13,
    "start_time": "2021-06-12T17:02:13.494Z"
   },
   {
    "duration": 90,
    "start_time": "2021-06-12T17:02:13.514Z"
   },
   {
    "duration": 22,
    "start_time": "2021-06-12T17:02:13.607Z"
   },
   {
    "duration": 44,
    "start_time": "2021-06-12T17:02:13.632Z"
   },
   {
    "duration": 444,
    "start_time": "2021-06-12T17:02:13.680Z"
   },
   {
    "duration": 4,
    "start_time": "2021-06-12T17:02:14.128Z"
   },
   {
    "duration": 21,
    "start_time": "2021-06-12T17:02:14.135Z"
   },
   {
    "duration": 7,
    "start_time": "2021-06-12T17:02:14.160Z"
   },
   {
    "duration": 356,
    "start_time": "2021-06-12T17:02:14.169Z"
   },
   {
    "duration": 52,
    "start_time": "2021-06-12T17:02:14.528Z"
   },
   {
    "duration": 541,
    "start_time": "2021-06-12T17:02:14.583Z"
   },
   {
    "duration": 490,
    "start_time": "2021-06-12T17:02:15.126Z"
   },
   {
    "duration": 10,
    "start_time": "2021-06-12T17:02:15.619Z"
   },
   {
    "duration": 583,
    "start_time": "2021-06-12T17:02:15.632Z"
   },
   {
    "duration": 15,
    "start_time": "2021-06-12T17:02:16.218Z"
   },
   {
    "duration": 496,
    "start_time": "2021-06-12T17:02:16.236Z"
   },
   {
    "duration": 607,
    "start_time": "2021-06-12T17:02:16.734Z"
   },
   {
    "duration": 215,
    "start_time": "2021-06-12T17:20:40.622Z"
   },
   {
    "duration": 220,
    "start_time": "2021-06-12T17:20:56.712Z"
   },
   {
    "duration": 332,
    "start_time": "2021-06-12T17:21:06.258Z"
   },
   {
    "duration": 264,
    "start_time": "2021-06-12T17:21:21.290Z"
   },
   {
    "duration": 476,
    "start_time": "2021-06-12T17:21:52.907Z"
   },
   {
    "duration": 390,
    "start_time": "2021-06-12T17:22:35.681Z"
   },
   {
    "duration": 271,
    "start_time": "2021-06-12T17:23:00.026Z"
   },
   {
    "duration": 507,
    "start_time": "2021-06-12T17:27:21.686Z"
   },
   {
    "duration": 1335,
    "start_time": "2021-06-12T17:28:44.194Z"
   },
   {
    "duration": 35,
    "start_time": "2021-06-12T17:28:45.532Z"
   },
   {
    "duration": 20,
    "start_time": "2021-06-12T17:28:45.570Z"
   },
   {
    "duration": 12,
    "start_time": "2021-06-12T17:28:45.593Z"
   },
   {
    "duration": 78,
    "start_time": "2021-06-12T17:28:45.607Z"
   },
   {
    "duration": 21,
    "start_time": "2021-06-12T17:28:45.688Z"
   },
   {
    "duration": 22,
    "start_time": "2021-06-12T17:28:45.712Z"
   },
   {
    "duration": 375,
    "start_time": "2021-06-12T17:28:45.756Z"
   },
   {
    "duration": 3,
    "start_time": "2021-06-12T17:28:46.134Z"
   },
   {
    "duration": 21,
    "start_time": "2021-06-12T17:28:46.140Z"
   },
   {
    "duration": 8,
    "start_time": "2021-06-12T17:28:46.165Z"
   },
   {
    "duration": 298,
    "start_time": "2021-06-12T17:28:46.175Z"
   },
   {
    "duration": 25,
    "start_time": "2021-06-12T17:28:46.477Z"
   },
   {
    "duration": 536,
    "start_time": "2021-06-12T17:28:46.505Z"
   },
   {
    "duration": 504,
    "start_time": "2021-06-12T17:28:47.043Z"
   },
   {
    "duration": 12,
    "start_time": "2021-06-12T17:28:47.550Z"
   },
   {
    "duration": 557,
    "start_time": "2021-06-12T17:28:47.564Z"
   },
   {
    "duration": 16,
    "start_time": "2021-06-12T17:28:48.123Z"
   },
   {
    "duration": 482,
    "start_time": "2021-06-12T17:28:48.155Z"
   },
   {
    "duration": 612,
    "start_time": "2021-06-12T17:28:48.640Z"
   },
   {
    "duration": 215,
    "start_time": "2021-06-12T17:28:49.254Z"
   },
   {
    "duration": 406,
    "start_time": "2021-06-12T17:28:49.471Z"
   },
   {
    "duration": 8,
    "start_time": "2021-06-12T17:36:07.347Z"
   },
   {
    "duration": 16,
    "start_time": "2021-06-12T17:41:25.923Z"
   },
   {
    "duration": 27,
    "start_time": "2021-06-12T17:41:45.036Z"
   },
   {
    "duration": 400,
    "start_time": "2021-06-12T17:42:26.816Z"
   },
   {
    "duration": 555,
    "start_time": "2021-06-12T17:43:32.738Z"
   },
   {
    "duration": 422,
    "start_time": "2021-06-12T17:43:41.978Z"
   },
   {
    "duration": 530,
    "start_time": "2021-06-12T17:46:41.058Z"
   },
   {
    "duration": 382,
    "start_time": "2021-06-12T17:54:21.115Z"
   },
   {
    "duration": 7,
    "start_time": "2021-06-12T17:54:54.347Z"
   },
   {
    "duration": 1345,
    "start_time": "2021-06-12T17:57:07.146Z"
   },
   {
    "duration": 30,
    "start_time": "2021-06-12T17:57:08.494Z"
   },
   {
    "duration": 17,
    "start_time": "2021-06-12T17:57:08.527Z"
   },
   {
    "duration": 20,
    "start_time": "2021-06-12T17:57:08.547Z"
   },
   {
    "duration": 78,
    "start_time": "2021-06-12T17:57:08.570Z"
   },
   {
    "duration": 27,
    "start_time": "2021-06-12T17:57:08.651Z"
   },
   {
    "duration": 20,
    "start_time": "2021-06-12T17:57:08.680Z"
   },
   {
    "duration": 386,
    "start_time": "2021-06-12T17:57:08.703Z"
   },
   {
    "duration": 3,
    "start_time": "2021-06-12T17:57:09.092Z"
   },
   {
    "duration": 9,
    "start_time": "2021-06-12T17:57:09.097Z"
   },
   {
    "duration": 5,
    "start_time": "2021-06-12T17:57:09.109Z"
   },
   {
    "duration": 305,
    "start_time": "2021-06-12T17:57:09.116Z"
   },
   {
    "duration": 48,
    "start_time": "2021-06-12T17:57:09.424Z"
   },
   {
    "duration": 518,
    "start_time": "2021-06-12T17:57:09.474Z"
   },
   {
    "duration": 480,
    "start_time": "2021-06-12T17:57:09.995Z"
   },
   {
    "duration": 9,
    "start_time": "2021-06-12T17:57:10.477Z"
   },
   {
    "duration": 540,
    "start_time": "2021-06-12T17:57:10.488Z"
   },
   {
    "duration": 24,
    "start_time": "2021-06-12T17:57:11.031Z"
   },
   {
    "duration": 464,
    "start_time": "2021-06-12T17:57:11.057Z"
   },
   {
    "duration": 725,
    "start_time": "2021-06-12T17:57:11.523Z"
   },
   {
    "duration": 217,
    "start_time": "2021-06-12T17:57:12.251Z"
   },
   {
    "duration": 384,
    "start_time": "2021-06-12T17:57:12.471Z"
   },
   {
    "duration": 11,
    "start_time": "2021-06-12T17:57:12.860Z"
   },
   {
    "duration": 445,
    "start_time": "2021-06-12T17:57:12.874Z"
   },
   {
    "duration": 8,
    "start_time": "2021-06-12T17:57:13.322Z"
   },
   {
    "duration": 634,
    "start_time": "2021-06-12T18:03:05.540Z"
   },
   {
    "duration": 466,
    "start_time": "2021-06-12T18:15:16.901Z"
   },
   {
    "duration": 454,
    "start_time": "2021-06-12T18:27:55.139Z"
   },
   {
    "duration": 450,
    "start_time": "2021-06-12T18:51:33.708Z"
   },
   {
    "duration": 519,
    "start_time": "2021-06-12T18:56:36.658Z"
   },
   {
    "duration": 472,
    "start_time": "2021-06-12T18:57:01.241Z"
   },
   {
    "duration": 486,
    "start_time": "2021-06-12T18:57:21.049Z"
   },
   {
    "duration": 771,
    "start_time": "2021-06-12T18:58:50.624Z"
   },
   {
    "duration": 273,
    "start_time": "2021-06-12T19:02:19.462Z"
   },
   {
    "duration": 490,
    "start_time": "2021-06-12T19:03:37.272Z"
   },
   {
    "duration": 484,
    "start_time": "2021-06-12T19:04:12.739Z"
   },
   {
    "duration": 1354,
    "start_time": "2021-06-12T19:04:19.485Z"
   },
   {
    "duration": 37,
    "start_time": "2021-06-12T19:04:20.842Z"
   },
   {
    "duration": 14,
    "start_time": "2021-06-12T19:04:20.883Z"
   },
   {
    "duration": 11,
    "start_time": "2021-06-12T19:04:20.901Z"
   },
   {
    "duration": 79,
    "start_time": "2021-06-12T19:04:20.915Z"
   },
   {
    "duration": 24,
    "start_time": "2021-06-12T19:04:20.997Z"
   },
   {
    "duration": 59,
    "start_time": "2021-06-12T19:04:21.023Z"
   },
   {
    "duration": 368,
    "start_time": "2021-06-12T19:04:21.086Z"
   },
   {
    "duration": 281,
    "start_time": "2021-06-12T19:04:21.457Z"
   },
   {
    "duration": 29,
    "start_time": "2021-06-12T19:04:21.740Z"
   },
   {
    "duration": 528,
    "start_time": "2021-06-12T19:04:21.775Z"
   },
   {
    "duration": 490,
    "start_time": "2021-06-12T19:04:22.306Z"
   },
   {
    "duration": 9,
    "start_time": "2021-06-12T19:04:22.798Z"
   },
   {
    "duration": 614,
    "start_time": "2021-06-12T19:04:22.810Z"
   },
   {
    "duration": 17,
    "start_time": "2021-06-12T19:04:23.426Z"
   },
   {
    "duration": 481,
    "start_time": "2021-06-12T19:04:23.459Z"
   },
   {
    "duration": 641,
    "start_time": "2021-06-12T19:04:23.942Z"
   },
   {
    "duration": 271,
    "start_time": "2021-06-12T19:04:24.586Z"
   },
   {
    "duration": 399,
    "start_time": "2021-06-12T19:04:24.860Z"
   },
   {
    "duration": 10,
    "start_time": "2021-06-12T19:04:25.262Z"
   },
   {
    "duration": 458,
    "start_time": "2021-06-12T19:04:25.275Z"
   },
   {
    "duration": 18,
    "start_time": "2021-06-12T19:04:25.736Z"
   },
   {
    "duration": 475,
    "start_time": "2021-06-12T19:04:25.760Z"
   },
   {
    "duration": 647,
    "start_time": "2021-06-12T19:04:26.237Z"
   },
   {
    "duration": 230,
    "start_time": "2021-06-12T19:07:10.426Z"
   },
   {
    "duration": 223,
    "start_time": "2021-06-12T19:12:01.119Z"
   },
   {
    "duration": 277,
    "start_time": "2021-06-12T19:12:09.920Z"
   },
   {
    "duration": 222,
    "start_time": "2021-06-12T19:12:18.994Z"
   },
   {
    "duration": 247,
    "start_time": "2021-06-12T19:12:46.361Z"
   },
   {
    "duration": 232,
    "start_time": "2021-06-12T19:18:20.292Z"
   },
   {
    "duration": 336,
    "start_time": "2021-06-12T19:20:36.710Z"
   },
   {
    "duration": 236,
    "start_time": "2021-06-12T19:20:52.256Z"
   },
   {
    "duration": 296,
    "start_time": "2021-06-12T19:21:25.695Z"
   },
   {
    "duration": 1346,
    "start_time": "2021-06-12T19:22:25.405Z"
   },
   {
    "duration": 35,
    "start_time": "2021-06-12T19:22:26.755Z"
   },
   {
    "duration": 22,
    "start_time": "2021-06-12T19:22:26.793Z"
   },
   {
    "duration": 39,
    "start_time": "2021-06-12T19:22:26.819Z"
   },
   {
    "duration": 78,
    "start_time": "2021-06-12T19:22:26.861Z"
   },
   {
    "duration": 27,
    "start_time": "2021-06-12T19:22:26.941Z"
   },
   {
    "duration": 30,
    "start_time": "2021-06-12T19:22:26.972Z"
   },
   {
    "duration": 670,
    "start_time": "2021-06-12T19:22:27.007Z"
   },
   {
    "duration": 312,
    "start_time": "2021-06-12T19:22:27.681Z"
   },
   {
    "duration": 25,
    "start_time": "2021-06-12T19:22:27.996Z"
   },
   {
    "duration": 553,
    "start_time": "2021-06-12T19:22:28.024Z"
   },
   {
    "duration": 738,
    "start_time": "2021-06-12T19:22:28.580Z"
   },
   {
    "duration": 12,
    "start_time": "2021-06-12T19:22:29.321Z"
   },
   {
    "duration": 744,
    "start_time": "2021-06-12T19:22:29.355Z"
   },
   {
    "duration": 20,
    "start_time": "2021-06-12T19:22:30.102Z"
   },
   {
    "duration": 741,
    "start_time": "2021-06-12T19:22:30.126Z"
   },
   {
    "duration": 608,
    "start_time": "2021-06-12T19:22:30.870Z"
   },
   {
    "duration": 258,
    "start_time": "2021-06-12T19:22:31.481Z"
   },
   {
    "duration": 540,
    "start_time": "2021-06-12T19:22:31.756Z"
   },
   {
    "duration": 8,
    "start_time": "2021-06-12T19:22:32.298Z"
   },
   {
    "duration": 530,
    "start_time": "2021-06-12T19:22:32.308Z"
   },
   {
    "duration": 18,
    "start_time": "2021-06-12T19:22:32.840Z"
   },
   {
    "duration": 504,
    "start_time": "2021-06-12T19:22:32.863Z"
   },
   {
    "duration": 231,
    "start_time": "2021-06-12T19:22:33.371Z"
   },
   {
    "duration": 14,
    "start_time": "2021-06-12T19:22:33.604Z"
   },
   {
    "duration": 13,
    "start_time": "2021-06-12T19:22:43.708Z"
   },
   {
    "duration": 19,
    "start_time": "2021-06-12T19:28:51.570Z"
   },
   {
    "duration": 1327,
    "start_time": "2021-06-12T19:34:56.078Z"
   },
   {
    "duration": 31,
    "start_time": "2021-06-12T19:34:57.408Z"
   },
   {
    "duration": 19,
    "start_time": "2021-06-12T19:34:57.442Z"
   },
   {
    "duration": 18,
    "start_time": "2021-06-12T19:34:57.465Z"
   },
   {
    "duration": 81,
    "start_time": "2021-06-12T19:34:57.486Z"
   },
   {
    "duration": 26,
    "start_time": "2021-06-12T19:34:57.570Z"
   },
   {
    "duration": 23,
    "start_time": "2021-06-12T19:34:57.599Z"
   },
   {
    "duration": 434,
    "start_time": "2021-06-12T19:34:57.626Z"
   },
   {
    "duration": 355,
    "start_time": "2021-06-12T19:34:58.063Z"
   },
   {
    "duration": 41,
    "start_time": "2021-06-12T19:34:58.420Z"
   },
   {
    "duration": 527,
    "start_time": "2021-06-12T19:34:58.466Z"
   },
   {
    "duration": 568,
    "start_time": "2021-06-12T19:34:58.996Z"
   },
   {
    "duration": 15,
    "start_time": "2021-06-12T19:34:59.568Z"
   },
   {
    "duration": 646,
    "start_time": "2021-06-12T19:34:59.589Z"
   },
   {
    "duration": 28,
    "start_time": "2021-06-12T19:35:00.237Z"
   },
   {
    "duration": 491,
    "start_time": "2021-06-12T19:35:00.268Z"
   },
   {
    "duration": 694,
    "start_time": "2021-06-12T19:35:00.765Z"
   },
   {
    "duration": 249,
    "start_time": "2021-06-12T19:35:01.463Z"
   },
   {
    "duration": 532,
    "start_time": "2021-06-12T19:35:01.715Z"
   },
   {
    "duration": 8,
    "start_time": "2021-06-12T19:35:02.254Z"
   },
   {
    "duration": 475,
    "start_time": "2021-06-12T19:35:02.270Z"
   },
   {
    "duration": 18,
    "start_time": "2021-06-12T19:35:02.748Z"
   },
   {
    "duration": 494,
    "start_time": "2021-06-12T19:35:02.774Z"
   },
   {
    "duration": 313,
    "start_time": "2021-06-12T19:35:03.271Z"
   },
   {
    "duration": 14,
    "start_time": "2021-06-12T19:35:03.587Z"
   },
   {
    "duration": 16,
    "start_time": "2021-06-12T19:35:03.604Z"
   },
   {
    "duration": 411,
    "start_time": "2021-06-16T16:53:28.848Z"
   },
   {
    "duration": 1376,
    "start_time": "2021-06-16T16:53:39.244Z"
   },
   {
    "duration": 31,
    "start_time": "2021-06-16T16:53:40.623Z"
   },
   {
    "duration": 16,
    "start_time": "2021-06-16T16:53:40.657Z"
   },
   {
    "duration": 14,
    "start_time": "2021-06-16T16:53:40.675Z"
   },
   {
    "duration": 107,
    "start_time": "2021-06-16T16:53:40.691Z"
   },
   {
    "duration": 25,
    "start_time": "2021-06-16T16:53:40.800Z"
   },
   {
    "duration": 36,
    "start_time": "2021-06-16T16:53:40.827Z"
   },
   {
    "duration": 377,
    "start_time": "2021-06-16T16:53:40.867Z"
   },
   {
    "duration": 347,
    "start_time": "2021-06-16T16:53:41.247Z"
   },
   {
    "duration": 34,
    "start_time": "2021-06-16T16:53:41.597Z"
   },
   {
    "duration": 541,
    "start_time": "2021-06-16T16:53:41.633Z"
   },
   {
    "duration": 485,
    "start_time": "2021-06-16T16:53:42.176Z"
   },
   {
    "duration": 8,
    "start_time": "2021-06-16T16:53:42.664Z"
   },
   {
    "duration": 633,
    "start_time": "2021-06-16T16:53:42.674Z"
   },
   {
    "duration": 15,
    "start_time": "2021-06-16T16:53:43.309Z"
   },
   {
    "duration": 499,
    "start_time": "2021-06-16T16:53:43.327Z"
   },
   {
    "duration": 598,
    "start_time": "2021-06-16T16:53:43.829Z"
   },
   {
    "duration": 203,
    "start_time": "2021-06-16T16:53:44.430Z"
   },
   {
    "duration": 422,
    "start_time": "2021-06-16T16:53:44.635Z"
   },
   {
    "duration": 7,
    "start_time": "2021-06-16T16:53:45.059Z"
   },
   {
    "duration": 452,
    "start_time": "2021-06-16T16:53:45.068Z"
   },
   {
    "duration": 7,
    "start_time": "2021-06-16T16:53:45.523Z"
   },
   {
    "duration": 477,
    "start_time": "2021-06-16T16:53:45.533Z"
   },
   {
    "duration": 239,
    "start_time": "2021-06-16T16:53:46.012Z"
   },
   {
    "duration": 15,
    "start_time": "2021-06-16T16:53:46.253Z"
   },
   {
    "duration": 14,
    "start_time": "2021-06-16T16:53:46.271Z"
   },
   {
    "duration": 8041,
    "start_time": "2021-06-16T17:27:03.418Z"
   },
   {
    "duration": 1413,
    "start_time": "2021-06-16T17:27:31.811Z"
   },
   {
    "duration": 30,
    "start_time": "2021-06-16T17:27:33.227Z"
   },
   {
    "duration": 14,
    "start_time": "2021-06-16T17:27:33.262Z"
   },
   {
    "duration": 35,
    "start_time": "2021-06-16T17:27:33.278Z"
   },
   {
    "duration": 79,
    "start_time": "2021-06-16T17:27:33.315Z"
   },
   {
    "duration": 22,
    "start_time": "2021-06-16T17:27:33.397Z"
   },
   {
    "duration": 41,
    "start_time": "2021-06-16T17:27:33.421Z"
   },
   {
    "duration": 528,
    "start_time": "2021-06-16T17:27:33.467Z"
   },
   {
    "duration": 444,
    "start_time": "2021-06-16T17:27:33.998Z"
   },
   {
    "duration": 49,
    "start_time": "2021-06-16T17:27:34.445Z"
   },
   {
    "duration": 729,
    "start_time": "2021-06-16T17:27:34.499Z"
   },
   {
    "duration": 668,
    "start_time": "2021-06-16T17:27:35.231Z"
   },
   {
    "duration": 12,
    "start_time": "2021-06-16T17:27:35.902Z"
   },
   {
    "duration": 731,
    "start_time": "2021-06-16T17:27:35.918Z"
   },
   {
    "duration": 22,
    "start_time": "2021-06-16T17:27:36.652Z"
   },
   {
    "duration": 530,
    "start_time": "2021-06-16T17:27:36.678Z"
   },
   {
    "duration": 610,
    "start_time": "2021-06-16T17:27:37.211Z"
   },
   {
    "duration": 361,
    "start_time": "2021-06-16T17:27:37.823Z"
   },
   {
    "duration": 529,
    "start_time": "2021-06-16T17:27:38.187Z"
   },
   {
    "duration": 9,
    "start_time": "2021-06-16T17:27:38.719Z"
   },
   {
    "duration": 651,
    "start_time": "2021-06-16T17:27:38.730Z"
   },
   {
    "duration": 8,
    "start_time": "2021-06-16T17:27:39.384Z"
   },
   {
    "duration": 764,
    "start_time": "2021-06-16T17:27:39.399Z"
   },
   {
    "duration": 401,
    "start_time": "2021-06-16T17:27:40.167Z"
   },
   {
    "duration": 14,
    "start_time": "2021-06-16T17:27:40.572Z"
   },
   {
    "duration": 18,
    "start_time": "2021-06-16T17:27:40.589Z"
   },
   {
    "duration": 9175,
    "start_time": "2021-06-16T17:27:40.610Z"
   },
   {
    "duration": 16,
    "start_time": "2021-06-16T17:31:52.236Z"
   },
   {
    "duration": 14,
    "start_time": "2021-06-16T17:33:37.900Z"
   },
   {
    "duration": 6,
    "start_time": "2021-06-16T17:34:00.164Z"
   },
   {
    "duration": 15,
    "start_time": "2021-06-16T17:34:03.205Z"
   },
   {
    "duration": 7,
    "start_time": "2021-06-16T17:36:41.445Z"
   },
   {
    "duration": 16,
    "start_time": "2021-06-16T17:36:57.256Z"
   },
   {
    "duration": 16,
    "start_time": "2021-06-16T17:37:13.780Z"
   },
   {
    "duration": 16,
    "start_time": "2021-06-16T17:38:12.520Z"
   },
   {
    "duration": 17,
    "start_time": "2021-06-16T17:38:45.255Z"
   },
   {
    "duration": 19,
    "start_time": "2021-06-16T17:40:25.710Z"
   },
   {
    "duration": 16,
    "start_time": "2021-06-16T17:45:59.229Z"
   },
   {
    "duration": 9,
    "start_time": "2021-06-16T17:47:19.918Z"
   },
   {
    "duration": 8788,
    "start_time": "2021-06-16T17:52:30.199Z"
   },
   {
    "duration": 8963,
    "start_time": "2021-06-16T17:54:09.468Z"
   },
   {
    "duration": 22,
    "start_time": "2021-06-16T17:54:38.088Z"
   },
   {
    "duration": 22,
    "start_time": "2021-06-16T18:01:05.584Z"
   },
   {
    "duration": 582,
    "start_time": "2021-06-16T18:21:05.169Z"
   },
   {
    "duration": 685,
    "start_time": "2021-06-16T18:21:14.935Z"
   },
   {
    "duration": 1510,
    "start_time": "2021-06-16T18:30:04.727Z"
   },
   {
    "duration": 32,
    "start_time": "2021-06-16T18:30:06.240Z"
   },
   {
    "duration": 18,
    "start_time": "2021-06-16T18:30:06.275Z"
   },
   {
    "duration": 12,
    "start_time": "2021-06-16T18:30:06.296Z"
   },
   {
    "duration": 87,
    "start_time": "2021-06-16T18:30:06.311Z"
   },
   {
    "duration": 23,
    "start_time": "2021-06-16T18:30:06.401Z"
   },
   {
    "duration": 48,
    "start_time": "2021-06-16T18:30:06.427Z"
   },
   {
    "duration": 386,
    "start_time": "2021-06-16T18:30:06.479Z"
   },
   {
    "duration": 360,
    "start_time": "2021-06-16T18:30:06.869Z"
   },
   {
    "duration": 43,
    "start_time": "2021-06-16T18:30:07.232Z"
   },
   {
    "duration": 504,
    "start_time": "2021-06-16T18:30:07.277Z"
   },
   {
    "duration": 546,
    "start_time": "2021-06-16T18:30:07.784Z"
   },
   {
    "duration": 11,
    "start_time": "2021-06-16T18:30:08.333Z"
   },
   {
    "duration": 590,
    "start_time": "2021-06-16T18:30:08.363Z"
   },
   {
    "duration": 17,
    "start_time": "2021-06-16T18:30:08.961Z"
   },
   {
    "duration": 554,
    "start_time": "2021-06-16T18:30:08.981Z"
   },
   {
    "duration": 601,
    "start_time": "2021-06-16T18:30:09.537Z"
   },
   {
    "duration": 258,
    "start_time": "2021-06-16T18:30:10.140Z"
   },
   {
    "duration": 378,
    "start_time": "2021-06-16T18:30:10.400Z"
   },
   {
    "duration": 6,
    "start_time": "2021-06-16T18:30:10.781Z"
   },
   {
    "duration": 451,
    "start_time": "2021-06-16T18:30:10.790Z"
   },
   {
    "duration": 18,
    "start_time": "2021-06-16T18:30:11.243Z"
   },
   {
    "duration": 490,
    "start_time": "2021-06-16T18:30:11.266Z"
   },
   {
    "duration": 234,
    "start_time": "2021-06-16T18:30:11.762Z"
   },
   {
    "duration": 11,
    "start_time": "2021-06-16T18:30:11.998Z"
   },
   {
    "duration": 19,
    "start_time": "2021-06-16T18:30:12.012Z"
   },
   {
    "duration": 43,
    "start_time": "2021-06-16T18:30:12.033Z"
   },
   {
    "duration": 20,
    "start_time": "2021-06-16T18:30:12.078Z"
   },
   {
    "duration": 21,
    "start_time": "2021-06-16T18:30:12.101Z"
   },
   {
    "duration": 39,
    "start_time": "2021-06-16T18:30:12.125Z"
   },
   {
    "duration": 1301,
    "start_time": "2021-06-16T19:08:55.052Z"
   },
   {
    "duration": 31,
    "start_time": "2021-06-16T19:08:56.355Z"
   },
   {
    "duration": 13,
    "start_time": "2021-06-16T19:08:56.389Z"
   },
   {
    "duration": 12,
    "start_time": "2021-06-16T19:08:56.405Z"
   },
   {
    "duration": 72,
    "start_time": "2021-06-16T19:08:56.419Z"
   },
   {
    "duration": 21,
    "start_time": "2021-06-16T19:08:56.493Z"
   },
   {
    "duration": 20,
    "start_time": "2021-06-16T19:08:56.517Z"
   },
   {
    "duration": 353,
    "start_time": "2021-06-16T19:08:56.540Z"
   },
   {
    "duration": 297,
    "start_time": "2021-06-16T19:08:56.897Z"
   },
   {
    "duration": 23,
    "start_time": "2021-06-16T19:08:57.196Z"
   },
   {
    "duration": 506,
    "start_time": "2021-06-16T19:08:57.221Z"
   },
   {
    "duration": 460,
    "start_time": "2021-06-16T19:08:57.730Z"
   },
   {
    "duration": 11,
    "start_time": "2021-06-16T19:08:58.193Z"
   },
   {
    "duration": 546,
    "start_time": "2021-06-16T19:08:58.206Z"
   },
   {
    "duration": 14,
    "start_time": "2021-06-16T19:08:58.755Z"
   },
   {
    "duration": 475,
    "start_time": "2021-06-16T19:08:58.772Z"
   },
   {
    "duration": 626,
    "start_time": "2021-06-16T19:08:59.250Z"
   },
   {
    "duration": 207,
    "start_time": "2021-06-16T19:08:59.879Z"
   },
   {
    "duration": 372,
    "start_time": "2021-06-16T19:09:00.088Z"
   },
   {
    "duration": 7,
    "start_time": "2021-06-16T19:09:00.462Z"
   },
   {
    "duration": 466,
    "start_time": "2021-06-16T19:09:00.471Z"
   },
   {
    "duration": 7,
    "start_time": "2021-06-16T19:09:00.940Z"
   },
   {
    "duration": 573,
    "start_time": "2021-06-16T19:09:00.952Z"
   },
   {
    "duration": 216,
    "start_time": "2021-06-16T19:09:01.528Z"
   },
   {
    "duration": 12,
    "start_time": "2021-06-16T19:09:01.747Z"
   },
   {
    "duration": 31,
    "start_time": "2021-06-16T19:09:01.761Z"
   },
   {
    "duration": 18,
    "start_time": "2021-06-16T19:09:01.794Z"
   },
   {
    "duration": 25,
    "start_time": "2021-06-16T19:09:01.815Z"
   },
   {
    "duration": 24,
    "start_time": "2021-06-16T19:09:01.842Z"
   },
   {
    "duration": 35,
    "start_time": "2021-06-16T19:09:01.868Z"
   },
   {
    "duration": 19,
    "start_time": "2021-06-16T19:09:19.003Z"
   },
   {
    "duration": 15,
    "start_time": "2021-06-16T19:09:28.977Z"
   },
   {
    "duration": 1839,
    "start_time": "2021-06-16T19:10:05.088Z"
   },
   {
    "duration": 632,
    "start_time": "2021-06-16T19:10:23.670Z"
   },
   {
    "duration": 522,
    "start_time": "2021-06-16T19:10:31.663Z"
   },
   {
    "duration": 1644,
    "start_time": "2021-06-16T19:10:53.406Z"
   },
   {
    "duration": 642,
    "start_time": "2021-06-16T19:11:23.875Z"
   },
   {
    "duration": 1233,
    "start_time": "2021-06-16T19:11:30.082Z"
   },
   {
    "duration": 1225,
    "start_time": "2021-06-16T19:11:38.970Z"
   },
   {
    "duration": 1375,
    "start_time": "2021-06-16T19:11:42.330Z"
   },
   {
    "duration": 1258,
    "start_time": "2021-06-16T19:11:53.697Z"
   },
   {
    "duration": 1242,
    "start_time": "2021-06-16T19:12:01.033Z"
   },
   {
    "duration": 1223,
    "start_time": "2021-06-16T19:13:37.889Z"
   },
   {
    "duration": 1349,
    "start_time": "2021-06-16T19:13:41.707Z"
   },
   {
    "duration": 1060,
    "start_time": "2021-06-16T19:13:49.365Z"
   },
   {
    "duration": 1428,
    "start_time": "2021-06-16T19:14:44.063Z"
   },
   {
    "duration": 1257,
    "start_time": "2021-06-16T19:14:50.503Z"
   },
   {
    "duration": 1361,
    "start_time": "2021-06-16T19:15:03.822Z"
   },
   {
    "duration": 1242,
    "start_time": "2021-06-16T19:15:32.180Z"
   },
   {
    "duration": 623,
    "start_time": "2021-06-16T19:16:39.680Z"
   },
   {
    "duration": 630,
    "start_time": "2021-06-16T19:16:47.872Z"
   },
   {
    "duration": 703,
    "start_time": "2021-06-16T19:16:58.088Z"
   },
   {
    "duration": 268,
    "start_time": "2021-06-16T19:17:00.359Z"
   },
   {
    "duration": 16,
    "start_time": "2021-06-16T19:19:50.815Z"
   },
   {
    "duration": 452,
    "start_time": "2021-06-16T19:19:57.148Z"
   },
   {
    "duration": 475,
    "start_time": "2021-06-16T19:20:39.103Z"
   },
   {
    "duration": 586,
    "start_time": "2021-06-16T19:26:49.655Z"
   },
   {
    "duration": 549,
    "start_time": "2021-06-16T19:26:59.179Z"
   },
   {
    "duration": 1351,
    "start_time": "2021-06-16T19:37:33.476Z"
   },
   {
    "duration": 31,
    "start_time": "2021-06-16T19:37:34.829Z"
   },
   {
    "duration": 20,
    "start_time": "2021-06-16T19:37:34.863Z"
   },
   {
    "duration": 12,
    "start_time": "2021-06-16T19:37:34.886Z"
   },
   {
    "duration": 70,
    "start_time": "2021-06-16T19:37:34.906Z"
   },
   {
    "duration": 21,
    "start_time": "2021-06-16T19:37:34.979Z"
   },
   {
    "duration": 22,
    "start_time": "2021-06-16T19:37:35.002Z"
   },
   {
    "duration": 355,
    "start_time": "2021-06-16T19:37:35.028Z"
   },
   {
    "duration": 307,
    "start_time": "2021-06-16T19:37:35.386Z"
   },
   {
    "duration": 23,
    "start_time": "2021-06-16T19:37:35.695Z"
   },
   {
    "duration": 481,
    "start_time": "2021-06-16T19:37:35.720Z"
   },
   {
    "duration": 455,
    "start_time": "2021-06-16T19:37:36.204Z"
   },
   {
    "duration": 27,
    "start_time": "2021-06-16T19:37:36.661Z"
   },
   {
    "duration": 553,
    "start_time": "2021-06-16T19:37:36.690Z"
   },
   {
    "duration": 15,
    "start_time": "2021-06-16T19:37:37.245Z"
   },
   {
    "duration": 463,
    "start_time": "2021-06-16T19:37:37.263Z"
   },
   {
    "duration": 729,
    "start_time": "2021-06-16T19:37:37.728Z"
   },
   {
    "duration": 206,
    "start_time": "2021-06-16T19:37:38.460Z"
   },
   {
    "duration": 410,
    "start_time": "2021-06-16T19:37:38.668Z"
   },
   {
    "duration": 6,
    "start_time": "2021-06-16T19:37:39.081Z"
   },
   {
    "duration": 444,
    "start_time": "2021-06-16T19:37:39.090Z"
   },
   {
    "duration": 6,
    "start_time": "2021-06-16T19:37:39.536Z"
   },
   {
    "duration": 452,
    "start_time": "2021-06-16T19:37:39.547Z"
   },
   {
    "duration": 217,
    "start_time": "2021-06-16T19:37:40.002Z"
   },
   {
    "duration": 11,
    "start_time": "2021-06-16T19:37:40.222Z"
   },
   {
    "duration": 14,
    "start_time": "2021-06-16T19:37:40.235Z"
   },
   {
    "duration": 44,
    "start_time": "2021-06-16T19:37:40.251Z"
   },
   {
    "duration": 11,
    "start_time": "2021-06-16T19:37:40.297Z"
   },
   {
    "duration": 10,
    "start_time": "2021-06-16T19:37:40.310Z"
   },
   {
    "duration": 60,
    "start_time": "2021-06-16T19:37:40.323Z"
   },
   {
    "duration": 1457,
    "start_time": "2021-06-17T06:34:05.231Z"
   },
   {
    "duration": 29,
    "start_time": "2021-06-17T06:34:06.691Z"
   },
   {
    "duration": 12,
    "start_time": "2021-06-17T06:34:06.723Z"
   },
   {
    "duration": 11,
    "start_time": "2021-06-17T06:34:06.738Z"
   },
   {
    "duration": 82,
    "start_time": "2021-06-17T06:34:06.752Z"
   },
   {
    "duration": 23,
    "start_time": "2021-06-17T06:34:06.836Z"
   },
   {
    "duration": 17,
    "start_time": "2021-06-17T06:34:06.861Z"
   },
   {
    "duration": 400,
    "start_time": "2021-06-17T06:34:06.881Z"
   },
   {
    "duration": 292,
    "start_time": "2021-06-17T06:34:07.284Z"
   },
   {
    "duration": 24,
    "start_time": "2021-06-17T06:34:07.578Z"
   },
   {
    "duration": 513,
    "start_time": "2021-06-17T06:34:07.626Z"
   },
   {
    "duration": 484,
    "start_time": "2021-06-17T06:34:08.141Z"
   },
   {
    "duration": 9,
    "start_time": "2021-06-17T06:34:08.627Z"
   },
   {
    "duration": 615,
    "start_time": "2021-06-17T06:34:08.638Z"
   },
   {
    "duration": 15,
    "start_time": "2021-06-17T06:34:09.256Z"
   },
   {
    "duration": 506,
    "start_time": "2021-06-17T06:34:09.274Z"
   },
   {
    "duration": 633,
    "start_time": "2021-06-17T06:34:09.782Z"
   },
   {
    "duration": 250,
    "start_time": "2021-06-17T06:34:10.417Z"
   },
   {
    "duration": 383,
    "start_time": "2021-06-17T06:34:10.669Z"
   },
   {
    "duration": 7,
    "start_time": "2021-06-17T06:34:11.055Z"
   },
   {
    "duration": 453,
    "start_time": "2021-06-17T06:34:11.065Z"
   },
   {
    "duration": 9,
    "start_time": "2021-06-17T06:34:11.520Z"
   },
   {
    "duration": 499,
    "start_time": "2021-06-17T06:34:11.533Z"
   },
   {
    "duration": 305,
    "start_time": "2021-06-17T06:34:12.035Z"
   },
   {
    "duration": 11,
    "start_time": "2021-06-17T06:34:12.343Z"
   },
   {
    "duration": 14,
    "start_time": "2021-06-17T06:34:12.357Z"
   },
   {
    "duration": 55,
    "start_time": "2021-06-17T06:34:12.375Z"
   },
   {
    "duration": 13,
    "start_time": "2021-06-17T06:34:12.434Z"
   },
   {
    "duration": 9,
    "start_time": "2021-06-17T06:34:12.449Z"
   },
   {
    "duration": 21,
    "start_time": "2021-06-17T06:34:12.461Z"
   },
   {
    "duration": 1392,
    "start_time": "2021-06-17T06:35:23.133Z"
   },
   {
    "duration": 31,
    "start_time": "2021-06-17T06:35:24.528Z"
   },
   {
    "duration": 14,
    "start_time": "2021-06-17T06:35:24.561Z"
   },
   {
    "duration": 13,
    "start_time": "2021-06-17T06:35:24.577Z"
   },
   {
    "duration": 98,
    "start_time": "2021-06-17T06:35:24.593Z"
   },
   {
    "duration": 22,
    "start_time": "2021-06-17T06:35:24.694Z"
   },
   {
    "duration": 23,
    "start_time": "2021-06-17T06:35:24.719Z"
   },
   {
    "duration": 370,
    "start_time": "2021-06-17T06:35:24.745Z"
   },
   {
    "duration": 309,
    "start_time": "2021-06-17T06:35:25.118Z"
   },
   {
    "duration": 26,
    "start_time": "2021-06-17T06:35:25.429Z"
   },
   {
    "duration": 534,
    "start_time": "2021-06-17T06:35:25.458Z"
   },
   {
    "duration": 485,
    "start_time": "2021-06-17T06:35:25.994Z"
   },
   {
    "duration": 9,
    "start_time": "2021-06-17T06:35:26.482Z"
   },
   {
    "duration": 619,
    "start_time": "2021-06-17T06:35:26.493Z"
   },
   {
    "duration": 23,
    "start_time": "2021-06-17T06:35:27.114Z"
   },
   {
    "duration": 479,
    "start_time": "2021-06-17T06:35:27.139Z"
   },
   {
    "duration": 603,
    "start_time": "2021-06-17T06:35:27.625Z"
   },
   {
    "duration": 226,
    "start_time": "2021-06-17T06:35:28.231Z"
   },
   {
    "duration": 385,
    "start_time": "2021-06-17T06:35:28.460Z"
   },
   {
    "duration": 9,
    "start_time": "2021-06-17T06:35:28.848Z"
   },
   {
    "duration": 445,
    "start_time": "2021-06-17T06:35:28.860Z"
   },
   {
    "duration": 18,
    "start_time": "2021-06-17T06:35:29.308Z"
   },
   {
    "duration": 579,
    "start_time": "2021-06-17T06:35:29.331Z"
   },
   {
    "duration": 278,
    "start_time": "2021-06-17T06:35:29.913Z"
   },
   {
    "duration": 10,
    "start_time": "2021-06-17T06:35:30.194Z"
   },
   {
    "duration": 31,
    "start_time": "2021-06-17T06:35:30.206Z"
   },
   {
    "duration": 19,
    "start_time": "2021-06-17T06:35:30.239Z"
   },
   {
    "duration": 16,
    "start_time": "2021-06-17T06:35:30.260Z"
   },
   {
    "duration": 20,
    "start_time": "2021-06-17T06:35:30.278Z"
   },
   {
    "duration": 42,
    "start_time": "2021-06-17T06:35:30.300Z"
   },
   {
    "duration": 559,
    "start_time": "2021-06-17T06:39:32.514Z"
   },
   {
    "duration": 14,
    "start_time": "2021-06-17T06:39:56.453Z"
   },
   {
    "duration": 1309,
    "start_time": "2021-06-17T07:14:50.976Z"
   },
   {
    "duration": 31,
    "start_time": "2021-06-17T07:14:52.288Z"
   },
   {
    "duration": 12,
    "start_time": "2021-06-17T07:14:52.325Z"
   },
   {
    "duration": 12,
    "start_time": "2021-06-17T07:14:52.340Z"
   },
   {
    "duration": 15,
    "start_time": "2021-06-17T07:14:52.354Z"
   },
   {
    "duration": 71,
    "start_time": "2021-06-17T07:14:52.371Z"
   },
   {
    "duration": 22,
    "start_time": "2021-06-17T07:14:52.445Z"
   },
   {
    "duration": 19,
    "start_time": "2021-06-17T07:14:52.472Z"
   },
   {
    "duration": 391,
    "start_time": "2021-06-17T07:14:52.494Z"
   },
   {
    "duration": 285,
    "start_time": "2021-06-17T07:14:52.888Z"
   },
   {
    "duration": 24,
    "start_time": "2021-06-17T07:14:53.176Z"
   },
   {
    "duration": 533,
    "start_time": "2021-06-17T07:14:53.203Z"
   },
   {
    "duration": 491,
    "start_time": "2021-06-17T07:14:53.739Z"
   },
   {
    "duration": 8,
    "start_time": "2021-06-17T07:14:54.233Z"
   },
   {
    "duration": 662,
    "start_time": "2021-06-17T07:14:54.243Z"
   },
   {
    "duration": 33,
    "start_time": "2021-06-17T07:14:54.909Z"
   },
   {
    "duration": 608,
    "start_time": "2021-06-17T07:14:54.945Z"
   },
   {
    "duration": 588,
    "start_time": "2021-06-17T07:14:55.556Z"
   },
   {
    "duration": 228,
    "start_time": "2021-06-17T07:14:56.147Z"
   },
   {
    "duration": 389,
    "start_time": "2021-06-17T07:14:56.377Z"
   },
   {
    "duration": 6,
    "start_time": "2021-06-17T07:14:56.769Z"
   },
   {
    "duration": 496,
    "start_time": "2021-06-17T07:14:56.777Z"
   },
   {
    "duration": 7,
    "start_time": "2021-06-17T07:14:57.277Z"
   },
   {
    "duration": 502,
    "start_time": "2021-06-17T07:14:57.287Z"
   },
   {
    "duration": 214,
    "start_time": "2021-06-17T07:14:57.791Z"
   },
   {
    "duration": 18,
    "start_time": "2021-06-17T07:14:58.007Z"
   },
   {
    "duration": 13,
    "start_time": "2021-06-17T07:14:58.027Z"
   },
   {
    "duration": 18,
    "start_time": "2021-06-17T07:14:58.043Z"
   },
   {
    "duration": 12,
    "start_time": "2021-06-17T07:14:58.063Z"
   },
   {
    "duration": 48,
    "start_time": "2021-06-17T07:14:58.077Z"
   },
   {
    "duration": 20,
    "start_time": "2021-06-17T07:14:58.128Z"
   },
   {
    "duration": 28,
    "start_time": "2021-06-17T07:41:43.403Z"
   },
   {
    "duration": 11,
    "start_time": "2021-06-17T07:41:59.075Z"
   },
   {
    "duration": 16,
    "start_time": "2021-06-17T07:42:17.704Z"
   },
   {
    "duration": 15,
    "start_time": "2021-06-17T07:42:23.861Z"
   },
   {
    "duration": 462,
    "start_time": "2021-06-17T07:43:21.651Z"
   },
   {
    "duration": 368,
    "start_time": "2021-06-17T07:43:28.463Z"
   },
   {
    "duration": 8,
    "start_time": "2021-06-17T07:53:29.975Z"
   },
   {
    "duration": 7,
    "start_time": "2021-06-17T07:54:10.134Z"
   },
   {
    "duration": 363,
    "start_time": "2021-06-17T07:56:33.411Z"
   },
   {
    "duration": 382,
    "start_time": "2021-06-17T07:56:43.357Z"
   },
   {
    "duration": 303,
    "start_time": "2021-06-17T07:57:15.125Z"
   },
   {
    "duration": 529,
    "start_time": "2021-06-17T08:09:43.276Z"
   },
   {
    "duration": 274,
    "start_time": "2021-06-17T08:10:41.744Z"
   },
   {
    "duration": 26,
    "start_time": "2021-06-17T08:31:46.490Z"
   },
   {
    "duration": 117,
    "start_time": "2021-06-17T08:32:33.371Z"
   },
   {
    "duration": 9,
    "start_time": "2021-06-17T08:32:37.701Z"
   },
   {
    "duration": 8,
    "start_time": "2021-06-17T08:33:47.566Z"
   },
   {
    "duration": 10,
    "start_time": "2021-06-17T08:35:02.998Z"
   },
   {
    "duration": 333,
    "start_time": "2021-06-17T08:36:02.630Z"
   },
   {
    "duration": 350,
    "start_time": "2021-06-17T08:36:09.225Z"
   },
   {
    "duration": 384,
    "start_time": "2021-06-17T08:37:45.227Z"
   },
   {
    "duration": 22,
    "start_time": "2021-06-17T08:38:44.663Z"
   },
   {
    "duration": 21,
    "start_time": "2021-06-17T08:39:13.222Z"
   },
   {
    "duration": 1315,
    "start_time": "2021-06-17T08:39:40.528Z"
   },
   {
    "duration": 9,
    "start_time": "2021-06-17T08:42:44.050Z"
   },
   {
    "duration": 14,
    "start_time": "2021-06-17T08:43:11.809Z"
   },
   {
    "duration": 15,
    "start_time": "2021-06-17T08:43:36.458Z"
   },
   {
    "duration": 16,
    "start_time": "2021-06-17T08:50:27.433Z"
   },
   {
    "duration": 18,
    "start_time": "2021-06-17T09:11:24.676Z"
   },
   {
    "duration": 424,
    "start_time": "2021-06-17T09:12:10.824Z"
   },
   {
    "duration": 6,
    "start_time": "2021-06-17T09:12:22.054Z"
   },
   {
    "duration": 1402,
    "start_time": "2021-06-17T09:12:45.682Z"
   },
   {
    "duration": 32,
    "start_time": "2021-06-17T09:12:47.087Z"
   },
   {
    "duration": 13,
    "start_time": "2021-06-17T09:12:47.125Z"
   },
   {
    "duration": 12,
    "start_time": "2021-06-17T09:12:47.141Z"
   },
   {
    "duration": 17,
    "start_time": "2021-06-17T09:12:47.156Z"
   },
   {
    "duration": 89,
    "start_time": "2021-06-17T09:12:47.176Z"
   },
   {
    "duration": 11,
    "start_time": "2021-06-17T09:12:47.267Z"
   },
   {
    "duration": 11,
    "start_time": "2021-06-17T09:12:47.281Z"
   },
   {
    "duration": 33,
    "start_time": "2021-06-17T09:12:47.295Z"
   },
   {
    "duration": 7,
    "start_time": "2021-06-17T09:12:47.330Z"
   },
   {
    "duration": 316,
    "start_time": "2021-06-17T09:12:47.339Z"
   },
   {
    "duration": 24,
    "start_time": "2021-06-17T09:12:47.657Z"
   },
   {
    "duration": 6,
    "start_time": "2021-06-17T09:12:47.683Z"
   },
   {
    "duration": 39,
    "start_time": "2021-06-17T09:12:47.692Z"
   },
   {
    "duration": 7,
    "start_time": "2021-06-17T09:12:47.733Z"
   },
   {
    "duration": 4,
    "start_time": "2021-06-17T09:12:47.742Z"
   },
   {
    "duration": 20,
    "start_time": "2021-06-17T09:12:47.749Z"
   },
   {
    "duration": 397,
    "start_time": "2021-06-17T09:12:47.772Z"
   },
   {
    "duration": 295,
    "start_time": "2021-06-17T09:12:48.172Z"
   },
   {
    "duration": 24,
    "start_time": "2021-06-17T09:12:48.469Z"
   },
   {
    "duration": 543,
    "start_time": "2021-06-17T09:12:48.495Z"
   },
   {
    "duration": 484,
    "start_time": "2021-06-17T09:12:49.041Z"
   },
   {
    "duration": 9,
    "start_time": "2021-06-17T09:12:49.529Z"
   },
   {
    "duration": 571,
    "start_time": "2021-06-17T09:12:49.541Z"
   },
   {
    "duration": 20,
    "start_time": "2021-06-17T09:12:50.115Z"
   },
   {
    "duration": 506,
    "start_time": "2021-06-17T09:12:50.138Z"
   },
   {
    "duration": 569,
    "start_time": "2021-06-17T09:12:50.647Z"
   },
   {
    "duration": 222,
    "start_time": "2021-06-17T09:12:51.226Z"
   },
   {
    "duration": 385,
    "start_time": "2021-06-17T09:12:51.451Z"
   },
   {
    "duration": 8,
    "start_time": "2021-06-17T09:12:51.839Z"
   },
   {
    "duration": 462,
    "start_time": "2021-06-17T09:12:51.849Z"
   },
   {
    "duration": 15,
    "start_time": "2021-06-17T09:12:52.313Z"
   },
   {
    "duration": 563,
    "start_time": "2021-06-17T09:12:52.330Z"
   },
   {
    "duration": 245,
    "start_time": "2021-06-17T09:12:52.895Z"
   },
   {
    "duration": 11,
    "start_time": "2021-06-17T09:12:53.142Z"
   },
   {
    "duration": 14,
    "start_time": "2021-06-17T09:12:53.155Z"
   },
   {
    "duration": 20,
    "start_time": "2021-06-17T09:12:53.172Z"
   },
   {
    "duration": 14,
    "start_time": "2021-06-17T09:12:53.227Z"
   },
   {
    "duration": 11,
    "start_time": "2021-06-17T09:12:53.244Z"
   },
   {
    "duration": 21,
    "start_time": "2021-06-17T09:12:53.257Z"
   },
   {
    "duration": 15,
    "start_time": "2021-06-17T09:13:31.517Z"
   },
   {
    "duration": 15,
    "start_time": "2021-06-17T09:13:43.141Z"
   },
   {
    "duration": 515,
    "start_time": "2021-06-17T09:15:29.298Z"
   },
   {
    "duration": 1472,
    "start_time": "2021-06-17T09:15:41.627Z"
   },
   {
    "duration": 31,
    "start_time": "2021-06-17T09:15:43.102Z"
   },
   {
    "duration": 18,
    "start_time": "2021-06-17T09:15:43.136Z"
   },
   {
    "duration": 15,
    "start_time": "2021-06-17T09:15:43.156Z"
   },
   {
    "duration": 18,
    "start_time": "2021-06-17T09:15:43.173Z"
   },
   {
    "duration": 78,
    "start_time": "2021-06-17T09:15:43.225Z"
   },
   {
    "duration": 9,
    "start_time": "2021-06-17T09:15:43.306Z"
   },
   {
    "duration": 11,
    "start_time": "2021-06-17T09:15:43.318Z"
   },
   {
    "duration": 17,
    "start_time": "2021-06-17T09:15:43.333Z"
   },
   {
    "duration": 8,
    "start_time": "2021-06-17T09:15:43.353Z"
   },
   {
    "duration": 327,
    "start_time": "2021-06-17T09:15:43.363Z"
   },
   {
    "duration": 23,
    "start_time": "2021-06-17T09:15:43.692Z"
   },
   {
    "duration": 3,
    "start_time": "2021-06-17T09:15:43.726Z"
   },
   {
    "duration": 20,
    "start_time": "2021-06-17T09:15:43.731Z"
   },
   {
    "duration": 7,
    "start_time": "2021-06-17T09:15:43.753Z"
   },
   {
    "duration": 8,
    "start_time": "2021-06-17T09:15:43.762Z"
   },
   {
    "duration": 54,
    "start_time": "2021-06-17T09:15:43.772Z"
   },
   {
    "duration": 378,
    "start_time": "2021-06-17T09:15:43.828Z"
   },
   {
    "duration": 294,
    "start_time": "2021-06-17T09:15:44.209Z"
   },
   {
    "duration": 39,
    "start_time": "2021-06-17T09:15:44.506Z"
   },
   {
    "duration": 518,
    "start_time": "2021-06-17T09:15:44.547Z"
   },
   {
    "duration": 590,
    "start_time": "2021-06-17T09:15:45.068Z"
   },
   {
    "duration": 9,
    "start_time": "2021-06-17T09:15:45.660Z"
   },
   {
    "duration": 624,
    "start_time": "2021-06-17T09:15:45.672Z"
   },
   {
    "duration": 27,
    "start_time": "2021-06-17T09:15:46.299Z"
   },
   {
    "duration": 477,
    "start_time": "2021-06-17T09:15:46.328Z"
   },
   {
    "duration": 598,
    "start_time": "2021-06-17T09:15:46.809Z"
   },
   {
    "duration": 233,
    "start_time": "2021-06-17T09:15:47.410Z"
   },
   {
    "duration": 384,
    "start_time": "2021-06-17T09:15:47.646Z"
   },
   {
    "duration": 7,
    "start_time": "2021-06-17T09:15:48.033Z"
   },
   {
    "duration": 462,
    "start_time": "2021-06-17T09:15:48.042Z"
   },
   {
    "duration": 7,
    "start_time": "2021-06-17T09:15:48.506Z"
   },
   {
    "duration": 559,
    "start_time": "2021-06-17T09:15:48.526Z"
   },
   {
    "duration": 256,
    "start_time": "2021-06-17T09:15:49.088Z"
   },
   {
    "duration": 14,
    "start_time": "2021-06-17T09:15:49.346Z"
   },
   {
    "duration": 16,
    "start_time": "2021-06-17T09:15:49.363Z"
   },
   {
    "duration": 54,
    "start_time": "2021-06-17T09:15:49.382Z"
   },
   {
    "duration": 14,
    "start_time": "2021-06-17T09:15:49.439Z"
   },
   {
    "duration": 11,
    "start_time": "2021-06-17T09:15:49.456Z"
   },
   {
    "duration": 69,
    "start_time": "2021-06-17T09:15:49.470Z"
   },
   {
    "duration": 19,
    "start_time": "2021-06-17T09:20:26.857Z"
   },
   {
    "duration": 19,
    "start_time": "2021-06-17T09:20:38.245Z"
   },
   {
    "duration": 14,
    "start_time": "2021-06-17T09:21:11.354Z"
   },
   {
    "duration": 16,
    "start_time": "2021-06-17T09:21:19.366Z"
   },
   {
    "duration": 1443,
    "start_time": "2021-06-17T09:21:46.188Z"
   },
   {
    "duration": 31,
    "start_time": "2021-06-17T09:21:47.634Z"
   },
   {
    "duration": 17,
    "start_time": "2021-06-17T09:21:47.668Z"
   },
   {
    "duration": 15,
    "start_time": "2021-06-17T09:21:47.688Z"
   },
   {
    "duration": 14,
    "start_time": "2021-06-17T09:21:47.726Z"
   },
   {
    "duration": 69,
    "start_time": "2021-06-17T09:21:47.743Z"
   },
   {
    "duration": 12,
    "start_time": "2021-06-17T09:21:47.815Z"
   },
   {
    "duration": 10,
    "start_time": "2021-06-17T09:21:47.831Z"
   },
   {
    "duration": 9,
    "start_time": "2021-06-17T09:21:47.844Z"
   },
   {
    "duration": 7,
    "start_time": "2021-06-17T09:21:47.855Z"
   },
   {
    "duration": 329,
    "start_time": "2021-06-17T09:21:47.865Z"
   },
   {
    "duration": 29,
    "start_time": "2021-06-17T09:21:48.197Z"
   },
   {
    "duration": 6,
    "start_time": "2021-06-17T09:21:48.229Z"
   },
   {
    "duration": 20,
    "start_time": "2021-06-17T09:21:48.237Z"
   },
   {
    "duration": 13,
    "start_time": "2021-06-17T09:21:48.260Z"
   },
   {
    "duration": 4,
    "start_time": "2021-06-17T09:21:48.276Z"
   },
   {
    "duration": 56,
    "start_time": "2021-06-17T09:21:48.283Z"
   },
   {
    "duration": 376,
    "start_time": "2021-06-17T09:21:48.341Z"
   },
   {
    "duration": 287,
    "start_time": "2021-06-17T09:21:48.719Z"
   },
   {
    "duration": 34,
    "start_time": "2021-06-17T09:21:49.009Z"
   },
   {
    "duration": 510,
    "start_time": "2021-06-17T09:21:49.046Z"
   },
   {
    "duration": 584,
    "start_time": "2021-06-17T09:21:49.559Z"
   },
   {
    "duration": 9,
    "start_time": "2021-06-17T09:21:50.148Z"
   },
   {
    "duration": 540,
    "start_time": "2021-06-17T09:21:50.160Z"
   },
   {
    "duration": 25,
    "start_time": "2021-06-17T09:21:50.703Z"
   },
   {
    "duration": 474,
    "start_time": "2021-06-17T09:21:50.731Z"
   },
   {
    "duration": 601,
    "start_time": "2021-06-17T09:21:51.209Z"
   },
   {
    "duration": 222,
    "start_time": "2021-06-17T09:21:51.813Z"
   },
   {
    "duration": 391,
    "start_time": "2021-06-17T09:21:52.038Z"
   },
   {
    "duration": 6,
    "start_time": "2021-06-17T09:21:52.431Z"
   },
   {
    "duration": 458,
    "start_time": "2021-06-17T09:21:52.439Z"
   },
   {
    "duration": 6,
    "start_time": "2021-06-17T09:21:52.900Z"
   },
   {
    "duration": 531,
    "start_time": "2021-06-17T09:21:52.909Z"
   },
   {
    "duration": 250,
    "start_time": "2021-06-17T09:21:53.443Z"
   },
   {
    "duration": 31,
    "start_time": "2021-06-17T09:21:53.695Z"
   },
   {
    "duration": 14,
    "start_time": "2021-06-17T09:21:53.729Z"
   },
   {
    "duration": 17,
    "start_time": "2021-06-17T09:21:53.745Z"
   },
   {
    "duration": 14,
    "start_time": "2021-06-17T09:21:53.764Z"
   },
   {
    "duration": 45,
    "start_time": "2021-06-17T09:21:53.781Z"
   },
   {
    "duration": 20,
    "start_time": "2021-06-17T09:21:53.829Z"
   },
   {
    "duration": 958,
    "start_time": "2021-06-17T09:22:33.317Z"
   },
   {
    "duration": 17,
    "start_time": "2021-06-17T09:22:38.368Z"
   },
   {
    "duration": 18,
    "start_time": "2021-06-17T09:23:00.036Z"
   },
   {
    "duration": 18,
    "start_time": "2021-06-17T09:23:47.144Z"
   },
   {
    "duration": 2335,
    "start_time": "2021-06-17T09:27:33.295Z"
   },
   {
    "duration": 6,
    "start_time": "2021-06-17T09:27:51.309Z"
   },
   {
    "duration": 9,
    "start_time": "2021-06-17T09:28:07.239Z"
   },
   {
    "duration": 10,
    "start_time": "2021-06-17T09:28:43.260Z"
   },
   {
    "duration": 360,
    "start_time": "2021-06-17T09:29:54.676Z"
   },
   {
    "duration": 399,
    "start_time": "2021-06-17T09:30:16.852Z"
   },
   {
    "duration": 408,
    "start_time": "2021-06-17T09:36:16.200Z"
   },
   {
    "duration": 9,
    "start_time": "2021-06-17T09:36:22.236Z"
   },
   {
    "duration": 11,
    "start_time": "2021-06-17T09:36:30.424Z"
   },
   {
    "duration": 1410,
    "start_time": "2021-06-17T09:40:49.396Z"
   },
   {
    "duration": 30,
    "start_time": "2021-06-17T09:40:50.808Z"
   },
   {
    "duration": 18,
    "start_time": "2021-06-17T09:40:50.842Z"
   },
   {
    "duration": 15,
    "start_time": "2021-06-17T09:40:50.863Z"
   },
   {
    "duration": 47,
    "start_time": "2021-06-17T09:40:50.881Z"
   },
   {
    "duration": 71,
    "start_time": "2021-06-17T09:40:50.931Z"
   },
   {
    "duration": 10,
    "start_time": "2021-06-17T09:40:51.005Z"
   },
   {
    "duration": 21,
    "start_time": "2021-06-17T09:40:51.019Z"
   },
   {
    "duration": 9,
    "start_time": "2021-06-17T09:40:51.043Z"
   },
   {
    "duration": 7,
    "start_time": "2021-06-17T09:40:51.055Z"
   },
   {
    "duration": 319,
    "start_time": "2021-06-17T09:40:51.065Z"
   },
   {
    "duration": 22,
    "start_time": "2021-06-17T09:40:51.386Z"
   },
   {
    "duration": 3,
    "start_time": "2021-06-17T09:40:51.425Z"
   },
   {
    "duration": 23,
    "start_time": "2021-06-17T09:40:51.430Z"
   },
   {
    "duration": 13,
    "start_time": "2021-06-17T09:40:51.456Z"
   },
   {
    "duration": 14,
    "start_time": "2021-06-17T09:40:51.471Z"
   },
   {
    "duration": 40,
    "start_time": "2021-06-17T09:40:51.487Z"
   },
   {
    "duration": 14,
    "start_time": "2021-06-17T09:40:51.530Z"
   },
   {
    "duration": 13,
    "start_time": "2021-06-17T09:40:51.547Z"
   },
   {
    "duration": 1503,
    "start_time": "2021-06-17T09:40:51.562Z"
   },
   {
    "duration": -5580,
    "start_time": "2021-06-17T09:40:58.648Z"
   },
   {
    "duration": -5591,
    "start_time": "2021-06-17T09:40:58.660Z"
   },
   {
    "duration": -5600,
    "start_time": "2021-06-17T09:40:58.670Z"
   },
   {
    "duration": -5606,
    "start_time": "2021-06-17T09:40:58.678Z"
   },
   {
    "duration": -5616,
    "start_time": "2021-06-17T09:40:58.689Z"
   },
   {
    "duration": -5623,
    "start_time": "2021-06-17T09:40:58.697Z"
   },
   {
    "duration": -5630,
    "start_time": "2021-06-17T09:40:58.706Z"
   },
   {
    "duration": -5637,
    "start_time": "2021-06-17T09:40:58.714Z"
   },
   {
    "duration": -5644,
    "start_time": "2021-06-17T09:40:58.723Z"
   },
   {
    "duration": -5649,
    "start_time": "2021-06-17T09:40:58.729Z"
   },
   {
    "duration": -5653,
    "start_time": "2021-06-17T09:40:58.735Z"
   },
   {
    "duration": -5660,
    "start_time": "2021-06-17T09:40:58.743Z"
   },
   {
    "duration": -5680,
    "start_time": "2021-06-17T09:40:58.765Z"
   },
   {
    "duration": -5688,
    "start_time": "2021-06-17T09:40:58.774Z"
   },
   {
    "duration": -5697,
    "start_time": "2021-06-17T09:40:58.784Z"
   },
   {
    "duration": -5703,
    "start_time": "2021-06-17T09:40:58.791Z"
   },
   {
    "duration": -5707,
    "start_time": "2021-06-17T09:40:58.797Z"
   },
   {
    "duration": -5713,
    "start_time": "2021-06-17T09:40:58.804Z"
   },
   {
    "duration": -5719,
    "start_time": "2021-06-17T09:40:58.811Z"
   },
   {
    "duration": -5724,
    "start_time": "2021-06-17T09:40:58.818Z"
   },
   {
    "duration": 382,
    "start_time": "2021-06-17T09:41:28.177Z"
   },
   {
    "duration": 12,
    "start_time": "2021-06-17T09:41:34.130Z"
   },
   {
    "duration": 17,
    "start_time": "2021-06-17T09:42:09.097Z"
   },
   {
    "duration": 12,
    "start_time": "2021-06-17T09:42:13.297Z"
   },
   {
    "duration": 346,
    "start_time": "2021-06-17T09:43:23.109Z"
   },
   {
    "duration": 372,
    "start_time": "2021-06-17T09:43:29.660Z"
   },
   {
    "duration": 1505,
    "start_time": "2021-06-17T09:43:53.491Z"
   },
   {
    "duration": 32,
    "start_time": "2021-06-17T09:43:54.999Z"
   },
   {
    "duration": 25,
    "start_time": "2021-06-17T09:43:55.034Z"
   },
   {
    "duration": 16,
    "start_time": "2021-06-17T09:43:55.062Z"
   },
   {
    "duration": 17,
    "start_time": "2021-06-17T09:43:55.081Z"
   },
   {
    "duration": 73,
    "start_time": "2021-06-17T09:43:55.125Z"
   },
   {
    "duration": 12,
    "start_time": "2021-06-17T09:43:55.201Z"
   },
   {
    "duration": 21,
    "start_time": "2021-06-17T09:43:55.218Z"
   },
   {
    "duration": 16,
    "start_time": "2021-06-17T09:43:55.243Z"
   },
   {
    "duration": 8,
    "start_time": "2021-06-17T09:43:55.261Z"
   },
   {
    "duration": 344,
    "start_time": "2021-06-17T09:43:55.272Z"
   },
   {
    "duration": 22,
    "start_time": "2021-06-17T09:43:55.619Z"
   },
   {
    "duration": 9,
    "start_time": "2021-06-17T09:43:55.643Z"
   },
   {
    "duration": 20,
    "start_time": "2021-06-17T09:43:55.654Z"
   },
   {
    "duration": 6,
    "start_time": "2021-06-17T09:43:55.677Z"
   },
   {
    "duration": 46,
    "start_time": "2021-06-17T09:43:55.686Z"
   },
   {
    "duration": 9,
    "start_time": "2021-06-17T09:43:55.735Z"
   },
   {
    "duration": 17,
    "start_time": "2021-06-17T09:43:55.746Z"
   },
   {
    "duration": 14,
    "start_time": "2021-06-17T09:43:55.765Z"
   },
   {
    "duration": 1904,
    "start_time": "2021-06-17T09:43:55.782Z"
   },
   {
    "duration": -5598,
    "start_time": "2021-06-17T09:44:03.289Z"
   },
   {
    "duration": -5607,
    "start_time": "2021-06-17T09:44:03.299Z"
   },
   {
    "duration": -5619,
    "start_time": "2021-06-17T09:44:03.312Z"
   },
   {
    "duration": -5627,
    "start_time": "2021-06-17T09:44:03.322Z"
   },
   {
    "duration": -5635,
    "start_time": "2021-06-17T09:44:03.331Z"
   },
   {
    "duration": -5643,
    "start_time": "2021-06-17T09:44:03.341Z"
   },
   {
    "duration": -5663,
    "start_time": "2021-06-17T09:44:03.362Z"
   },
   {
    "duration": -5670,
    "start_time": "2021-06-17T09:44:03.370Z"
   },
   {
    "duration": -5673,
    "start_time": "2021-06-17T09:44:03.375Z"
   },
   {
    "duration": -5679,
    "start_time": "2021-06-17T09:44:03.382Z"
   },
   {
    "duration": -5696,
    "start_time": "2021-06-17T09:44:03.401Z"
   },
   {
    "duration": -5706,
    "start_time": "2021-06-17T09:44:03.412Z"
   },
   {
    "duration": -5713,
    "start_time": "2021-06-17T09:44:03.420Z"
   },
   {
    "duration": -5721,
    "start_time": "2021-06-17T09:44:03.429Z"
   },
   {
    "duration": -5727,
    "start_time": "2021-06-17T09:44:03.436Z"
   },
   {
    "duration": -5733,
    "start_time": "2021-06-17T09:44:03.444Z"
   },
   {
    "duration": -5741,
    "start_time": "2021-06-17T09:44:03.453Z"
   },
   {
    "duration": -5748,
    "start_time": "2021-06-17T09:44:03.461Z"
   },
   {
    "duration": -5756,
    "start_time": "2021-06-17T09:44:03.470Z"
   },
   {
    "duration": -5762,
    "start_time": "2021-06-17T09:44:03.478Z"
   },
   {
    "duration": 1350,
    "start_time": "2021-06-17T09:50:05.859Z"
   },
   {
    "duration": 31,
    "start_time": "2021-06-17T09:50:07.212Z"
   },
   {
    "duration": 18,
    "start_time": "2021-06-17T09:50:07.246Z"
   },
   {
    "duration": 17,
    "start_time": "2021-06-17T09:50:07.266Z"
   },
   {
    "duration": 44,
    "start_time": "2021-06-17T09:50:07.285Z"
   },
   {
    "duration": 73,
    "start_time": "2021-06-17T09:50:07.331Z"
   },
   {
    "duration": 11,
    "start_time": "2021-06-17T09:50:07.407Z"
   },
   {
    "duration": 10,
    "start_time": "2021-06-17T09:50:07.422Z"
   },
   {
    "duration": 8,
    "start_time": "2021-06-17T09:50:07.436Z"
   },
   {
    "duration": 8,
    "start_time": "2021-06-17T09:50:07.447Z"
   },
   {
    "duration": 331,
    "start_time": "2021-06-17T09:50:07.458Z"
   },
   {
    "duration": 23,
    "start_time": "2021-06-17T09:50:07.791Z"
   },
   {
    "duration": 3,
    "start_time": "2021-06-17T09:50:07.826Z"
   },
   {
    "duration": 22,
    "start_time": "2021-06-17T09:50:07.831Z"
   },
   {
    "duration": 398,
    "start_time": "2021-06-17T09:50:07.855Z"
   },
   {
    "duration": 301,
    "start_time": "2021-06-17T09:50:08.256Z"
   },
   {
    "duration": 25,
    "start_time": "2021-06-17T09:50:08.559Z"
   },
   {
    "duration": 525,
    "start_time": "2021-06-17T09:50:08.586Z"
   },
   {
    "duration": 495,
    "start_time": "2021-06-17T09:50:09.113Z"
   },
   {
    "duration": 15,
    "start_time": "2021-06-17T09:50:09.611Z"
   },
   {
    "duration": 569,
    "start_time": "2021-06-17T09:50:09.629Z"
   },
   {
    "duration": 26,
    "start_time": "2021-06-17T09:50:10.201Z"
   },
   {
    "duration": 470,
    "start_time": "2021-06-17T09:50:10.231Z"
   },
   {
    "duration": 626,
    "start_time": "2021-06-17T09:50:10.704Z"
   },
   {
    "duration": 217,
    "start_time": "2021-06-17T09:50:11.333Z"
   },
   {
    "duration": 380,
    "start_time": "2021-06-17T09:50:11.553Z"
   },
   {
    "duration": 8,
    "start_time": "2021-06-17T09:50:11.936Z"
   },
   {
    "duration": 462,
    "start_time": "2021-06-17T09:50:11.946Z"
   },
   {
    "duration": 15,
    "start_time": "2021-06-17T09:50:12.410Z"
   },
   {
    "duration": 568,
    "start_time": "2021-06-17T09:50:12.428Z"
   },
   {
    "duration": 242,
    "start_time": "2021-06-17T09:50:12.998Z"
   },
   {
    "duration": 10,
    "start_time": "2021-06-17T09:50:13.243Z"
   },
   {
    "duration": 13,
    "start_time": "2021-06-17T09:50:13.256Z"
   },
   {
    "duration": 20,
    "start_time": "2021-06-17T09:50:13.272Z"
   },
   {
    "duration": 11,
    "start_time": "2021-06-17T09:50:13.326Z"
   },
   {
    "duration": 9,
    "start_time": "2021-06-17T09:50:13.340Z"
   },
   {
    "duration": 20,
    "start_time": "2021-06-17T09:50:13.351Z"
   },
   {
    "duration": 502,
    "start_time": "2021-06-17T09:51:00.975Z"
   },
   {
    "duration": 475,
    "start_time": "2021-06-17T09:52:01.538Z"
   },
   {
    "duration": 543,
    "start_time": "2021-06-17T09:52:18.365Z"
   },
   {
    "duration": 618,
    "start_time": "2021-06-17T09:53:28.828Z"
   },
   {
    "duration": 391,
    "start_time": "2021-06-17T09:54:22.188Z"
   },
   {
    "duration": 1426,
    "start_time": "2021-06-17T10:11:24.351Z"
   },
   {
    "duration": 32,
    "start_time": "2021-06-17T10:11:25.780Z"
   },
   {
    "duration": 23,
    "start_time": "2021-06-17T10:11:25.815Z"
   },
   {
    "duration": 16,
    "start_time": "2021-06-17T10:11:25.841Z"
   },
   {
    "duration": 14,
    "start_time": "2021-06-17T10:11:25.860Z"
   },
   {
    "duration": 76,
    "start_time": "2021-06-17T10:11:25.877Z"
   },
   {
    "duration": 12,
    "start_time": "2021-06-17T10:11:25.955Z"
   },
   {
    "duration": 12,
    "start_time": "2021-06-17T10:11:25.970Z"
   },
   {
    "duration": 43,
    "start_time": "2021-06-17T10:11:25.986Z"
   },
   {
    "duration": 8,
    "start_time": "2021-06-17T10:11:26.032Z"
   },
   {
    "duration": 327,
    "start_time": "2021-06-17T10:11:26.042Z"
   },
   {
    "duration": 22,
    "start_time": "2021-06-17T10:11:26.371Z"
   },
   {
    "duration": 13,
    "start_time": "2021-06-17T10:11:26.396Z"
   },
   {
    "duration": 25,
    "start_time": "2021-06-17T10:11:26.411Z"
   },
   {
    "duration": 388,
    "start_time": "2021-06-17T10:11:26.438Z"
   },
   {
    "duration": 309,
    "start_time": "2021-06-17T10:11:26.828Z"
   },
   {
    "duration": 23,
    "start_time": "2021-06-17T10:11:27.140Z"
   },
   {
    "duration": 609,
    "start_time": "2021-06-17T10:11:27.165Z"
   },
   {
    "duration": 510,
    "start_time": "2021-06-17T10:11:27.777Z"
   },
   {
    "duration": 10,
    "start_time": "2021-06-17T10:11:28.290Z"
   },
   {
    "duration": 593,
    "start_time": "2021-06-17T10:11:28.303Z"
   },
   {
    "duration": 28,
    "start_time": "2021-06-17T10:11:28.899Z"
   },
   {
    "duration": 497,
    "start_time": "2021-06-17T10:11:28.931Z"
   },
   {
    "duration": 696,
    "start_time": "2021-06-17T10:11:29.431Z"
   },
   {
    "duration": 220,
    "start_time": "2021-06-17T10:11:30.130Z"
   },
   {
    "duration": 380,
    "start_time": "2021-06-17T10:11:30.352Z"
   },
   {
    "duration": 7,
    "start_time": "2021-06-17T10:11:30.734Z"
   },
   {
    "duration": 450,
    "start_time": "2021-06-17T10:11:30.744Z"
   },
   {
    "duration": 7,
    "start_time": "2021-06-17T10:11:31.196Z"
   },
   {
    "duration": 562,
    "start_time": "2021-06-17T10:11:31.205Z"
   },
   {
    "duration": 239,
    "start_time": "2021-06-17T10:11:31.770Z"
   },
   {
    "duration": 21,
    "start_time": "2021-06-17T10:11:32.012Z"
   },
   {
    "duration": 14,
    "start_time": "2021-06-17T10:11:32.035Z"
   },
   {
    "duration": 18,
    "start_time": "2021-06-17T10:11:32.052Z"
   },
   {
    "duration": 16,
    "start_time": "2021-06-17T10:11:32.073Z"
   },
   {
    "duration": 42,
    "start_time": "2021-06-17T10:11:32.091Z"
   },
   {
    "duration": 36,
    "start_time": "2021-06-17T10:11:32.135Z"
   },
   {
    "duration": 16,
    "start_time": "2021-06-17T12:04:34.330Z"
   },
   {
    "duration": 7,
    "start_time": "2021-06-17T12:05:27.785Z"
   },
   {
    "duration": 10,
    "start_time": "2021-06-17T12:05:40.712Z"
   },
   {
    "duration": 22,
    "start_time": "2021-06-17T12:06:00.855Z"
   },
   {
    "duration": 1447,
    "start_time": "2021-06-17T12:06:34.043Z"
   },
   {
    "duration": 31,
    "start_time": "2021-06-17T12:06:35.492Z"
   },
   {
    "duration": 23,
    "start_time": "2021-06-17T12:06:35.526Z"
   },
   {
    "duration": 17,
    "start_time": "2021-06-17T12:06:35.552Z"
   },
   {
    "duration": 26,
    "start_time": "2021-06-17T12:06:35.571Z"
   },
   {
    "duration": 136,
    "start_time": "2021-06-17T12:06:35.601Z"
   },
   {
    "duration": 11,
    "start_time": "2021-06-17T12:06:35.740Z"
   },
   {
    "duration": 18,
    "start_time": "2021-06-17T12:06:35.756Z"
   },
   {
    "duration": 14,
    "start_time": "2021-06-17T12:06:35.777Z"
   },
   {
    "duration": 41,
    "start_time": "2021-06-17T12:06:35.793Z"
   },
   {
    "duration": 332,
    "start_time": "2021-06-17T12:06:35.837Z"
   },
   {
    "duration": 22,
    "start_time": "2021-06-17T12:06:36.172Z"
   },
   {
    "duration": 11,
    "start_time": "2021-06-17T12:06:36.197Z"
   },
   {
    "duration": 35,
    "start_time": "2021-06-17T12:06:36.210Z"
   },
   {
    "duration": 12,
    "start_time": "2021-06-17T12:06:36.248Z"
   },
   {
    "duration": 31,
    "start_time": "2021-06-17T12:06:36.263Z"
   },
   {
    "duration": 49,
    "start_time": "2021-06-17T12:06:36.297Z"
   },
   {
    "duration": 417,
    "start_time": "2021-06-17T12:06:36.348Z"
   },
   {
    "duration": 310,
    "start_time": "2021-06-17T12:06:36.767Z"
   },
   {
    "duration": 26,
    "start_time": "2021-06-17T12:06:37.079Z"
   },
   {
    "duration": 554,
    "start_time": "2021-06-17T12:06:37.108Z"
   },
   {
    "duration": 530,
    "start_time": "2021-06-17T12:06:37.664Z"
   },
   {
    "duration": 8,
    "start_time": "2021-06-17T12:06:38.199Z"
   },
   {
    "duration": 599,
    "start_time": "2021-06-17T12:06:38.210Z"
   },
   {
    "duration": 30,
    "start_time": "2021-06-17T12:06:38.811Z"
   },
   {
    "duration": 518,
    "start_time": "2021-06-17T12:06:38.844Z"
   },
   {
    "duration": 704,
    "start_time": "2021-06-17T12:06:39.364Z"
   },
   {
    "duration": 206,
    "start_time": "2021-06-17T12:06:40.071Z"
   },
   {
    "duration": 451,
    "start_time": "2021-06-17T12:06:40.280Z"
   },
   {
    "duration": 8,
    "start_time": "2021-06-17T12:06:40.734Z"
   },
   {
    "duration": 468,
    "start_time": "2021-06-17T12:06:40.745Z"
   },
   {
    "duration": 15,
    "start_time": "2021-06-17T12:06:41.216Z"
   },
   {
    "duration": 585,
    "start_time": "2021-06-17T12:06:41.235Z"
   },
   {
    "duration": 237,
    "start_time": "2021-06-17T12:06:41.822Z"
   },
   {
    "duration": 11,
    "start_time": "2021-06-17T12:06:42.062Z"
   },
   {
    "duration": 14,
    "start_time": "2021-06-17T12:06:42.076Z"
   },
   {
    "duration": 48,
    "start_time": "2021-06-17T12:06:42.092Z"
   },
   {
    "duration": 12,
    "start_time": "2021-06-17T12:06:42.143Z"
   },
   {
    "duration": 14,
    "start_time": "2021-06-17T12:06:42.158Z"
   },
   {
    "duration": 66,
    "start_time": "2021-06-17T12:06:42.175Z"
   },
   {
    "duration": 1956,
    "start_time": "2021-06-17T12:10:35.853Z"
   },
   {
    "duration": 44,
    "start_time": "2021-06-17T12:10:37.812Z"
   },
   {
    "duration": 25,
    "start_time": "2021-06-17T12:10:37.861Z"
   },
   {
    "duration": 45,
    "start_time": "2021-06-17T12:10:37.889Z"
   },
   {
    "duration": 26,
    "start_time": "2021-06-17T12:10:37.937Z"
   },
   {
    "duration": 135,
    "start_time": "2021-06-17T12:10:37.966Z"
   },
   {
    "duration": 14,
    "start_time": "2021-06-17T12:10:38.104Z"
   },
   {
    "duration": 15,
    "start_time": "2021-06-17T12:10:38.123Z"
   },
   {
    "duration": 12,
    "start_time": "2021-06-17T12:10:38.142Z"
   },
   {
    "duration": 7,
    "start_time": "2021-06-17T12:10:38.157Z"
   },
   {
    "duration": 326,
    "start_time": "2021-06-17T12:10:38.167Z"
   },
   {
    "duration": 30,
    "start_time": "2021-06-17T12:10:38.495Z"
   },
   {
    "duration": 3,
    "start_time": "2021-06-17T12:10:38.528Z"
   },
   {
    "duration": 18,
    "start_time": "2021-06-17T12:10:38.534Z"
   },
   {
    "duration": 16,
    "start_time": "2021-06-17T12:10:38.555Z"
   },
   {
    "duration": 10,
    "start_time": "2021-06-17T12:10:38.573Z"
   },
   {
    "duration": 58,
    "start_time": "2021-06-17T12:10:38.585Z"
   },
   {
    "duration": 33,
    "start_time": "2021-06-17T12:10:38.646Z"
   },
   {
    "duration": 381,
    "start_time": "2021-06-17T12:10:38.681Z"
   },
   {
    "duration": 305,
    "start_time": "2021-06-17T12:10:39.065Z"
   },
   {
    "duration": 24,
    "start_time": "2021-06-17T12:10:39.373Z"
   },
   {
    "duration": 518,
    "start_time": "2021-06-17T12:10:39.399Z"
   },
   {
    "duration": 499,
    "start_time": "2021-06-17T12:10:39.926Z"
   },
   {
    "duration": 9,
    "start_time": "2021-06-17T12:10:40.428Z"
   },
   {
    "duration": 771,
    "start_time": "2021-06-17T12:10:40.440Z"
   },
   {
    "duration": 31,
    "start_time": "2021-06-17T12:10:41.214Z"
   },
   {
    "duration": 503,
    "start_time": "2021-06-17T12:10:41.248Z"
   },
   {
    "duration": 685,
    "start_time": "2021-06-17T12:10:41.753Z"
   },
   {
    "duration": 214,
    "start_time": "2021-06-17T12:10:42.442Z"
   },
   {
    "duration": 409,
    "start_time": "2021-06-17T12:10:42.659Z"
   },
   {
    "duration": 7,
    "start_time": "2021-06-17T12:10:43.071Z"
   },
   {
    "duration": 518,
    "start_time": "2021-06-17T12:10:43.080Z"
   },
   {
    "duration": 6,
    "start_time": "2021-06-17T12:10:43.600Z"
   },
   {
    "duration": 570,
    "start_time": "2021-06-17T12:10:43.609Z"
   },
   {
    "duration": 346,
    "start_time": "2021-06-17T12:10:44.182Z"
   },
   {
    "duration": 13,
    "start_time": "2021-06-17T12:10:44.531Z"
   },
   {
    "duration": 19,
    "start_time": "2021-06-17T12:10:44.548Z"
   },
   {
    "duration": 54,
    "start_time": "2021-06-17T12:10:44.571Z"
   },
   {
    "duration": 12,
    "start_time": "2021-06-17T12:10:44.628Z"
   },
   {
    "duration": 9,
    "start_time": "2021-06-17T12:10:44.644Z"
   },
   {
    "duration": 21,
    "start_time": "2021-06-17T12:10:44.656Z"
   },
   {
    "duration": 1434,
    "start_time": "2021-06-17T12:18:20.066Z"
   },
   {
    "duration": 32,
    "start_time": "2021-06-17T12:18:21.503Z"
   },
   {
    "duration": 26,
    "start_time": "2021-06-17T12:18:21.539Z"
   },
   {
    "duration": 18,
    "start_time": "2021-06-17T12:18:21.568Z"
   },
   {
    "duration": 49,
    "start_time": "2021-06-17T12:18:21.590Z"
   },
   {
    "duration": 80,
    "start_time": "2021-06-17T12:18:21.642Z"
   },
   {
    "duration": 12,
    "start_time": "2021-06-17T12:18:21.725Z"
   },
   {
    "duration": 13,
    "start_time": "2021-06-17T12:18:21.742Z"
   },
   {
    "duration": 8,
    "start_time": "2021-06-17T12:18:21.758Z"
   },
   {
    "duration": 7,
    "start_time": "2021-06-17T12:18:21.768Z"
   },
   {
    "duration": 371,
    "start_time": "2021-06-17T12:18:21.777Z"
   },
   {
    "duration": 22,
    "start_time": "2021-06-17T12:18:22.151Z"
   },
   {
    "duration": 19,
    "start_time": "2021-06-17T12:18:22.176Z"
   },
   {
    "duration": 43,
    "start_time": "2021-06-17T12:18:22.197Z"
   },
   {
    "duration": 9,
    "start_time": "2021-06-17T12:18:22.243Z"
   },
   {
    "duration": 33,
    "start_time": "2021-06-17T12:18:22.254Z"
   },
   {
    "duration": 43,
    "start_time": "2021-06-17T12:18:22.289Z"
   },
   {
    "duration": 411,
    "start_time": "2021-06-17T12:18:22.334Z"
   },
   {
    "duration": 311,
    "start_time": "2021-06-17T12:18:22.748Z"
   },
   {
    "duration": 25,
    "start_time": "2021-06-17T12:18:23.062Z"
   },
   {
    "duration": 590,
    "start_time": "2021-06-17T12:18:23.089Z"
   },
   {
    "duration": 523,
    "start_time": "2021-06-17T12:18:23.681Z"
   },
   {
    "duration": 21,
    "start_time": "2021-06-17T12:18:24.210Z"
   },
   {
    "duration": 606,
    "start_time": "2021-06-17T12:18:24.235Z"
   },
   {
    "duration": 17,
    "start_time": "2021-06-17T12:18:24.843Z"
   },
   {
    "duration": 527,
    "start_time": "2021-06-17T12:18:24.862Z"
   },
   {
    "duration": 755,
    "start_time": "2021-06-17T12:18:25.391Z"
   },
   {
    "duration": 238,
    "start_time": "2021-06-17T12:18:26.149Z"
   },
   {
    "duration": 471,
    "start_time": "2021-06-17T12:18:26.390Z"
   },
   {
    "duration": 6,
    "start_time": "2021-06-17T12:18:26.864Z"
   },
   {
    "duration": 438,
    "start_time": "2021-06-17T12:18:26.873Z"
   },
   {
    "duration": 22,
    "start_time": "2021-06-17T12:18:27.314Z"
   },
   {
    "duration": 632,
    "start_time": "2021-06-17T12:18:27.339Z"
   },
   {
    "duration": 219,
    "start_time": "2021-06-17T12:18:27.973Z"
   },
   {
    "duration": 9,
    "start_time": "2021-06-17T12:18:28.194Z"
   },
   {
    "duration": 35,
    "start_time": "2021-06-17T12:18:28.205Z"
   },
   {
    "duration": 23,
    "start_time": "2021-06-17T12:18:28.244Z"
   },
   {
    "duration": 17,
    "start_time": "2021-06-17T12:18:28.270Z"
   },
   {
    "duration": 40,
    "start_time": "2021-06-17T12:18:28.289Z"
   },
   {
    "duration": 26,
    "start_time": "2021-06-17T12:18:28.332Z"
   },
   {
    "duration": 14,
    "start_time": "2021-06-17T12:21:18.392Z"
   },
   {
    "duration": 8310,
    "start_time": "2021-06-17T12:21:43.952Z"
   },
   {
    "duration": 17,
    "start_time": "2021-06-17T12:21:57.502Z"
   },
   {
    "duration": 1603,
    "start_time": "2021-06-17T12:22:04.298Z"
   },
   {
    "duration": 31,
    "start_time": "2021-06-17T12:22:05.904Z"
   },
   {
    "duration": 17,
    "start_time": "2021-06-17T12:22:05.938Z"
   },
   {
    "duration": 15,
    "start_time": "2021-06-17T12:22:05.958Z"
   },
   {
    "duration": 20,
    "start_time": "2021-06-17T12:22:05.975Z"
   },
   {
    "duration": 80,
    "start_time": "2021-06-17T12:22:06.026Z"
   },
   {
    "duration": 12,
    "start_time": "2021-06-17T12:22:06.108Z"
   },
   {
    "duration": 15,
    "start_time": "2021-06-17T12:22:06.125Z"
   },
   {
    "duration": 12,
    "start_time": "2021-06-17T12:22:06.142Z"
   },
   {
    "duration": 8,
    "start_time": "2021-06-17T12:22:06.157Z"
   },
   {
    "duration": 324,
    "start_time": "2021-06-17T12:22:06.167Z"
   },
   {
    "duration": 33,
    "start_time": "2021-06-17T12:22:06.493Z"
   },
   {
    "duration": 20,
    "start_time": "2021-06-17T12:22:06.529Z"
   },
   {
    "duration": 16,
    "start_time": "2021-06-17T12:22:06.551Z"
   },
   {
    "duration": 7,
    "start_time": "2021-06-17T12:22:06.569Z"
   },
   {
    "duration": 60,
    "start_time": "2021-06-17T12:22:06.578Z"
   },
   {
    "duration": 19,
    "start_time": "2021-06-17T12:22:06.640Z"
   },
   {
    "duration": 379,
    "start_time": "2021-06-17T12:22:06.661Z"
   },
   {
    "duration": 302,
    "start_time": "2021-06-17T12:22:07.043Z"
   },
   {
    "duration": 24,
    "start_time": "2021-06-17T12:22:07.348Z"
   },
   {
    "duration": 514,
    "start_time": "2021-06-17T12:22:07.374Z"
   },
   {
    "duration": 488,
    "start_time": "2021-06-17T12:22:07.890Z"
   },
   {
    "duration": 9,
    "start_time": "2021-06-17T12:22:08.383Z"
   },
   {
    "duration": 600,
    "start_time": "2021-06-17T12:22:08.394Z"
   },
   {
    "duration": 15,
    "start_time": "2021-06-17T12:22:08.996Z"
   },
   {
    "duration": 478,
    "start_time": "2021-06-17T12:22:09.026Z"
   },
   {
    "duration": 732,
    "start_time": "2021-06-17T12:22:09.506Z"
   },
   {
    "duration": 219,
    "start_time": "2021-06-17T12:22:10.240Z"
   },
   {
    "duration": 381,
    "start_time": "2021-06-17T12:22:10.462Z"
   },
   {
    "duration": 6,
    "start_time": "2021-06-17T12:22:10.845Z"
   },
   {
    "duration": 446,
    "start_time": "2021-06-17T12:22:10.853Z"
   },
   {
    "duration": 6,
    "start_time": "2021-06-17T12:22:11.302Z"
   },
   {
    "duration": 552,
    "start_time": "2021-06-17T12:22:11.325Z"
   },
   {
    "duration": 215,
    "start_time": "2021-06-17T12:22:11.880Z"
   },
   {
    "duration": 10,
    "start_time": "2021-06-17T12:22:12.098Z"
   },
   {
    "duration": 25,
    "start_time": "2021-06-17T12:22:12.111Z"
   },
   {
    "duration": 17,
    "start_time": "2021-06-17T12:22:12.138Z"
   },
   {
    "duration": 13,
    "start_time": "2021-06-17T12:22:12.158Z"
   },
   {
    "duration": 11,
    "start_time": "2021-06-17T12:22:12.173Z"
   },
   {
    "duration": 54,
    "start_time": "2021-06-17T12:22:12.186Z"
   },
   {
    "duration": 1428,
    "start_time": "2021-06-17T12:23:41.134Z"
   },
   {
    "duration": 31,
    "start_time": "2021-06-17T12:23:42.565Z"
   },
   {
    "duration": 31,
    "start_time": "2021-06-17T12:23:42.599Z"
   },
   {
    "duration": 16,
    "start_time": "2021-06-17T12:23:42.633Z"
   },
   {
    "duration": 16,
    "start_time": "2021-06-17T12:23:42.651Z"
   },
   {
    "duration": 79,
    "start_time": "2021-06-17T12:23:42.670Z"
   },
   {
    "duration": 12,
    "start_time": "2021-06-17T12:23:42.752Z"
   },
   {
    "duration": 11,
    "start_time": "2021-06-17T12:23:42.768Z"
   },
   {
    "duration": 48,
    "start_time": "2021-06-17T12:23:42.782Z"
   },
   {
    "duration": 7,
    "start_time": "2021-06-17T12:23:42.832Z"
   },
   {
    "duration": 308,
    "start_time": "2021-06-17T12:23:42.841Z"
   },
   {
    "duration": 23,
    "start_time": "2021-06-17T12:23:43.151Z"
   },
   {
    "duration": 25,
    "start_time": "2021-06-17T12:23:43.177Z"
   },
   {
    "duration": 28,
    "start_time": "2021-06-17T12:23:43.205Z"
   },
   {
    "duration": 18,
    "start_time": "2021-06-17T12:23:43.236Z"
   },
   {
    "duration": 387,
    "start_time": "2021-06-17T12:23:43.256Z"
   },
   {
    "duration": 283,
    "start_time": "2021-06-17T12:23:43.645Z"
   },
   {
    "duration": 25,
    "start_time": "2021-06-17T12:23:43.930Z"
   },
   {
    "duration": 522,
    "start_time": "2021-06-17T12:23:43.957Z"
   },
   {
    "duration": 539,
    "start_time": "2021-06-17T12:23:44.481Z"
   },
   {
    "duration": 8,
    "start_time": "2021-06-17T12:23:45.026Z"
   },
   {
    "duration": 543,
    "start_time": "2021-06-17T12:23:45.036Z"
   },
   {
    "duration": 16,
    "start_time": "2021-06-17T12:23:45.584Z"
   },
   {
    "duration": 484,
    "start_time": "2021-06-17T12:23:45.602Z"
   },
   {
    "duration": 629,
    "start_time": "2021-06-17T12:23:46.088Z"
   },
   {
    "duration": 207,
    "start_time": "2021-06-17T12:23:46.719Z"
   },
   {
    "duration": 411,
    "start_time": "2021-06-17T12:23:46.929Z"
   },
   {
    "duration": 6,
    "start_time": "2021-06-17T12:23:47.342Z"
   },
   {
    "duration": 435,
    "start_time": "2021-06-17T12:23:47.351Z"
   },
   {
    "duration": 7,
    "start_time": "2021-06-17T12:23:47.789Z"
   },
   {
    "duration": 559,
    "start_time": "2021-06-17T12:23:47.798Z"
   },
   {
    "duration": 220,
    "start_time": "2021-06-17T12:23:48.360Z"
   },
   {
    "duration": 9,
    "start_time": "2021-06-17T12:23:48.582Z"
   },
   {
    "duration": 31,
    "start_time": "2021-06-17T12:23:48.594Z"
   },
   {
    "duration": 16,
    "start_time": "2021-06-17T12:23:48.628Z"
   },
   {
    "duration": 15,
    "start_time": "2021-06-17T12:23:48.647Z"
   },
   {
    "duration": 11,
    "start_time": "2021-06-17T12:23:48.665Z"
   },
   {
    "duration": 61,
    "start_time": "2021-06-17T12:23:48.679Z"
   },
   {
    "duration": 25,
    "start_time": "2021-06-17T12:24:42.935Z"
   },
   {
    "duration": 1341,
    "start_time": "2021-06-17T12:29:54.244Z"
   },
   {
    "duration": 31,
    "start_time": "2021-06-17T12:29:55.587Z"
   },
   {
    "duration": 16,
    "start_time": "2021-06-17T12:29:55.621Z"
   },
   {
    "duration": 15,
    "start_time": "2021-06-17T12:29:55.640Z"
   },
   {
    "duration": 15,
    "start_time": "2021-06-17T12:29:55.657Z"
   },
   {
    "duration": 76,
    "start_time": "2021-06-17T12:29:55.675Z"
   },
   {
    "duration": 12,
    "start_time": "2021-06-17T12:29:55.754Z"
   },
   {
    "duration": 11,
    "start_time": "2021-06-17T12:29:55.772Z"
   },
   {
    "duration": 9,
    "start_time": "2021-06-17T12:29:55.827Z"
   },
   {
    "duration": 7,
    "start_time": "2021-06-17T12:29:55.839Z"
   },
   {
    "duration": 319,
    "start_time": "2021-06-17T12:29:55.848Z"
   },
   {
    "duration": 23,
    "start_time": "2021-06-17T12:29:56.170Z"
   },
   {
    "duration": 35,
    "start_time": "2021-06-17T12:29:56.195Z"
   },
   {
    "duration": 24,
    "start_time": "2021-06-17T12:29:56.232Z"
   },
   {
    "duration": 18,
    "start_time": "2021-06-17T12:29:56.258Z"
   },
   {
    "duration": 395,
    "start_time": "2021-06-17T12:29:56.279Z"
   },
   {
    "duration": 296,
    "start_time": "2021-06-17T12:29:56.676Z"
   },
   {
    "duration": 25,
    "start_time": "2021-06-17T12:29:56.974Z"
   },
   {
    "duration": 553,
    "start_time": "2021-06-17T12:29:57.001Z"
   },
   {
    "duration": 513,
    "start_time": "2021-06-17T12:29:57.557Z"
   },
   {
    "duration": 10,
    "start_time": "2021-06-17T12:29:58.073Z"
   },
   {
    "duration": 582,
    "start_time": "2021-06-17T12:29:58.086Z"
   },
   {
    "duration": 15,
    "start_time": "2021-06-17T12:29:58.673Z"
   },
   {
    "duration": 494,
    "start_time": "2021-06-17T12:29:58.691Z"
   },
   {
    "duration": 653,
    "start_time": "2021-06-17T12:29:59.189Z"
   },
   {
    "duration": 235,
    "start_time": "2021-06-17T12:29:59.845Z"
   },
   {
    "duration": 437,
    "start_time": "2021-06-17T12:30:00.083Z"
   },
   {
    "duration": 7,
    "start_time": "2021-06-17T12:30:00.526Z"
   },
   {
    "duration": 439,
    "start_time": "2021-06-17T12:30:00.536Z"
   },
   {
    "duration": 7,
    "start_time": "2021-06-17T12:30:00.978Z"
   },
   {
    "duration": 559,
    "start_time": "2021-06-17T12:30:00.987Z"
   },
   {
    "duration": 221,
    "start_time": "2021-06-17T12:30:01.548Z"
   },
   {
    "duration": 11,
    "start_time": "2021-06-17T12:30:01.772Z"
   },
   {
    "duration": 34,
    "start_time": "2021-06-17T12:30:01.785Z"
   },
   {
    "duration": 39,
    "start_time": "2021-06-17T12:30:01.825Z"
   },
   {
    "duration": 36,
    "start_time": "2021-06-17T12:30:01.867Z"
   },
   {
    "duration": 17,
    "start_time": "2021-06-17T12:30:01.906Z"
   },
   {
    "duration": 22,
    "start_time": "2021-06-17T12:30:01.926Z"
   },
   {
    "duration": 467,
    "start_time": "2021-06-17T12:39:54.266Z"
   },
   {
    "duration": 14,
    "start_time": "2021-06-17T12:40:34.619Z"
   },
   {
    "duration": 1382,
    "start_time": "2021-06-17T12:40:50.113Z"
   },
   {
    "duration": 30,
    "start_time": "2021-06-17T12:40:51.497Z"
   },
   {
    "duration": 16,
    "start_time": "2021-06-17T12:40:51.530Z"
   },
   {
    "duration": 16,
    "start_time": "2021-06-17T12:40:51.549Z"
   },
   {
    "duration": 18,
    "start_time": "2021-06-17T12:40:51.567Z"
   },
   {
    "duration": 85,
    "start_time": "2021-06-17T12:40:51.588Z"
   },
   {
    "duration": 10,
    "start_time": "2021-06-17T12:40:51.675Z"
   },
   {
    "duration": 10,
    "start_time": "2021-06-17T12:40:51.690Z"
   },
   {
    "duration": 8,
    "start_time": "2021-06-17T12:40:51.727Z"
   },
   {
    "duration": 7,
    "start_time": "2021-06-17T12:40:51.738Z"
   },
   {
    "duration": 326,
    "start_time": "2021-06-17T12:40:51.748Z"
   },
   {
    "duration": 21,
    "start_time": "2021-06-17T12:40:52.077Z"
   },
   {
    "duration": 37,
    "start_time": "2021-06-17T12:40:52.101Z"
   },
   {
    "duration": 26,
    "start_time": "2021-06-17T12:40:52.140Z"
   },
   {
    "duration": 17,
    "start_time": "2021-06-17T12:40:52.168Z"
   },
   {
    "duration": 399,
    "start_time": "2021-06-17T12:40:52.188Z"
   },
   {
    "duration": 300,
    "start_time": "2021-06-17T12:40:52.590Z"
   },
   {
    "duration": 42,
    "start_time": "2021-06-17T12:40:52.892Z"
   },
   {
    "duration": 525,
    "start_time": "2021-06-17T12:40:52.937Z"
   },
   {
    "duration": 518,
    "start_time": "2021-06-17T12:40:53.464Z"
   },
   {
    "duration": 9,
    "start_time": "2021-06-17T12:40:53.984Z"
   },
   {
    "duration": 687,
    "start_time": "2021-06-17T12:40:53.995Z"
   },
   {
    "duration": 15,
    "start_time": "2021-06-17T12:40:54.690Z"
   },
   {
    "duration": 480,
    "start_time": "2021-06-17T12:40:54.728Z"
   },
   {
    "duration": 622,
    "start_time": "2021-06-17T12:40:55.211Z"
   },
   {
    "duration": 200,
    "start_time": "2021-06-17T12:40:55.836Z"
   },
   {
    "duration": 406,
    "start_time": "2021-06-17T12:40:56.038Z"
   },
   {
    "duration": 7,
    "start_time": "2021-06-17T12:40:56.446Z"
   },
   {
    "duration": 433,
    "start_time": "2021-06-17T12:40:56.456Z"
   },
   {
    "duration": 6,
    "start_time": "2021-06-17T12:40:56.892Z"
   },
   {
    "duration": 598,
    "start_time": "2021-06-17T12:40:56.901Z"
   },
   {
    "duration": 271,
    "start_time": "2021-06-17T12:40:57.502Z"
   },
   {
    "duration": 9,
    "start_time": "2021-06-17T12:40:57.775Z"
   },
   {
    "duration": 39,
    "start_time": "2021-06-17T12:40:57.787Z"
   },
   {
    "duration": 17,
    "start_time": "2021-06-17T12:40:57.829Z"
   },
   {
    "duration": 12,
    "start_time": "2021-06-17T12:40:57.849Z"
   },
   {
    "duration": 9,
    "start_time": "2021-06-17T12:40:57.864Z"
   },
   {
    "duration": 65,
    "start_time": "2021-06-17T12:40:57.876Z"
   },
   {
    "duration": 17,
    "start_time": "2021-06-17T12:44:36.514Z"
   },
   {
    "duration": 1423,
    "start_time": "2021-06-17T12:46:18.439Z"
   },
   {
    "duration": 31,
    "start_time": "2021-06-17T12:46:19.865Z"
   },
   {
    "duration": 28,
    "start_time": "2021-06-17T12:46:19.899Z"
   },
   {
    "duration": 16,
    "start_time": "2021-06-17T12:46:19.931Z"
   },
   {
    "duration": 14,
    "start_time": "2021-06-17T12:46:19.950Z"
   },
   {
    "duration": 105,
    "start_time": "2021-06-17T12:46:19.966Z"
   },
   {
    "duration": 14,
    "start_time": "2021-06-17T12:46:20.073Z"
   },
   {
    "duration": 35,
    "start_time": "2021-06-17T12:46:20.092Z"
   },
   {
    "duration": 11,
    "start_time": "2021-06-17T12:46:20.131Z"
   },
   {
    "duration": 8,
    "start_time": "2021-06-17T12:46:20.145Z"
   },
   {
    "duration": 428,
    "start_time": "2021-06-17T12:46:20.156Z"
   },
   {
    "duration": 47,
    "start_time": "2021-06-17T12:46:20.587Z"
   },
   {
    "duration": 17,
    "start_time": "2021-06-17T12:46:20.636Z"
   },
   {
    "duration": 26,
    "start_time": "2021-06-17T12:46:20.655Z"
   },
   {
    "duration": 60,
    "start_time": "2021-06-17T12:46:20.684Z"
   },
   {
    "duration": 557,
    "start_time": "2021-06-17T12:46:20.747Z"
   },
   {
    "duration": 292,
    "start_time": "2021-06-17T12:46:21.306Z"
   },
   {
    "duration": 40,
    "start_time": "2021-06-17T12:46:21.600Z"
   },
   {
    "duration": 526,
    "start_time": "2021-06-17T12:46:21.642Z"
   },
   {
    "duration": 514,
    "start_time": "2021-06-17T12:46:22.172Z"
   },
   {
    "duration": 9,
    "start_time": "2021-06-17T12:46:22.689Z"
   },
   {
    "duration": 573,
    "start_time": "2021-06-17T12:46:22.700Z"
   },
   {
    "duration": 16,
    "start_time": "2021-06-17T12:46:23.279Z"
   },
   {
    "duration": 502,
    "start_time": "2021-06-17T12:46:23.299Z"
   },
   {
    "duration": 609,
    "start_time": "2021-06-17T12:46:23.804Z"
   },
   {
    "duration": 240,
    "start_time": "2021-06-17T12:46:24.416Z"
   },
   {
    "duration": 702,
    "start_time": "2021-06-17T12:46:24.660Z"
   },
   {
    "duration": 8,
    "start_time": "2021-06-17T12:46:25.365Z"
   },
   {
    "duration": 635,
    "start_time": "2021-06-17T12:46:25.376Z"
   },
   {
    "duration": 15,
    "start_time": "2021-06-17T12:46:26.013Z"
   },
   {
    "duration": 567,
    "start_time": "2021-06-17T12:46:26.032Z"
   },
   {
    "duration": 209,
    "start_time": "2021-06-17T12:46:26.601Z"
   },
   {
    "duration": 13,
    "start_time": "2021-06-17T12:46:26.813Z"
   },
   {
    "duration": 13,
    "start_time": "2021-06-17T12:46:26.829Z"
   },
   {
    "duration": 17,
    "start_time": "2021-06-17T12:46:26.845Z"
   },
   {
    "duration": 60,
    "start_time": "2021-06-17T12:46:26.865Z"
   },
   {
    "duration": 10,
    "start_time": "2021-06-17T12:46:26.928Z"
   },
   {
    "duration": 21,
    "start_time": "2021-06-17T12:46:26.941Z"
   },
   {
    "duration": 1403,
    "start_time": "2021-06-17T12:47:49.273Z"
   },
   {
    "duration": 32,
    "start_time": "2021-06-17T12:47:50.679Z"
   },
   {
    "duration": 24,
    "start_time": "2021-06-17T12:47:50.714Z"
   },
   {
    "duration": 16,
    "start_time": "2021-06-17T12:47:50.741Z"
   },
   {
    "duration": 22,
    "start_time": "2021-06-17T12:47:50.760Z"
   },
   {
    "duration": 124,
    "start_time": "2021-06-17T12:47:50.785Z"
   },
   {
    "duration": 10,
    "start_time": "2021-06-17T12:47:50.912Z"
   },
   {
    "duration": 11,
    "start_time": "2021-06-17T12:47:50.925Z"
   },
   {
    "duration": 8,
    "start_time": "2021-06-17T12:47:50.939Z"
   },
   {
    "duration": 7,
    "start_time": "2021-06-17T12:47:50.950Z"
   },
   {
    "duration": 415,
    "start_time": "2021-06-17T12:47:50.960Z"
   },
   {
    "duration": 53,
    "start_time": "2021-06-17T12:47:51.378Z"
   },
   {
    "duration": 25,
    "start_time": "2021-06-17T12:47:51.434Z"
   },
   {
    "duration": 36,
    "start_time": "2021-06-17T12:47:51.462Z"
   },
   {
    "duration": 42,
    "start_time": "2021-06-17T12:47:51.501Z"
   },
   {
    "duration": 388,
    "start_time": "2021-06-17T12:47:51.546Z"
   },
   {
    "duration": 291,
    "start_time": "2021-06-17T12:47:51.937Z"
   },
   {
    "duration": 40,
    "start_time": "2021-06-17T12:47:52.231Z"
   },
   {
    "duration": 526,
    "start_time": "2021-06-17T12:47:52.274Z"
   },
   {
    "duration": 501,
    "start_time": "2021-06-17T12:47:52.803Z"
   },
   {
    "duration": 19,
    "start_time": "2021-06-17T12:47:53.307Z"
   },
   {
    "duration": 554,
    "start_time": "2021-06-17T12:47:53.329Z"
   },
   {
    "duration": 15,
    "start_time": "2021-06-17T12:47:53.888Z"
   },
   {
    "duration": 472,
    "start_time": "2021-06-17T12:47:53.926Z"
   },
   {
    "duration": 723,
    "start_time": "2021-06-17T12:47:54.402Z"
   },
   {
    "duration": 340,
    "start_time": "2021-06-17T12:47:55.128Z"
   },
   {
    "duration": 412,
    "start_time": "2021-06-17T12:47:55.470Z"
   },
   {
    "duration": 9,
    "start_time": "2021-06-17T12:47:55.884Z"
   },
   {
    "duration": 467,
    "start_time": "2021-06-17T12:47:55.896Z"
   },
   {
    "duration": 7,
    "start_time": "2021-06-17T12:47:56.366Z"
   },
   {
    "duration": 565,
    "start_time": "2021-06-17T12:47:56.375Z"
   },
   {
    "duration": 234,
    "start_time": "2021-06-17T12:47:56.943Z"
   },
   {
    "duration": 10,
    "start_time": "2021-06-17T12:47:57.179Z"
   },
   {
    "duration": 38,
    "start_time": "2021-06-17T12:47:57.193Z"
   },
   {
    "duration": 26,
    "start_time": "2021-06-17T12:47:57.234Z"
   },
   {
    "duration": 16,
    "start_time": "2021-06-17T12:47:57.263Z"
   },
   {
    "duration": 49,
    "start_time": "2021-06-17T12:47:57.282Z"
   },
   {
    "duration": 51,
    "start_time": "2021-06-17T12:47:57.334Z"
   },
   {
    "duration": 9,
    "start_time": "2021-06-17T12:53:43.728Z"
   },
   {
    "duration": 9,
    "start_time": "2021-06-17T12:54:01.053Z"
   },
   {
    "duration": 22,
    "start_time": "2021-06-17T12:54:15.882Z"
   },
   {
    "duration": 1509,
    "start_time": "2021-06-17T12:54:25.152Z"
   },
   {
    "duration": 31,
    "start_time": "2021-06-17T12:54:26.664Z"
   },
   {
    "duration": 30,
    "start_time": "2021-06-17T12:54:26.699Z"
   },
   {
    "duration": 16,
    "start_time": "2021-06-17T12:54:26.732Z"
   },
   {
    "duration": 17,
    "start_time": "2021-06-17T12:54:26.750Z"
   },
   {
    "duration": 106,
    "start_time": "2021-06-17T12:54:26.770Z"
   },
   {
    "duration": 14,
    "start_time": "2021-06-17T12:54:26.879Z"
   },
   {
    "duration": 14,
    "start_time": "2021-06-17T12:54:26.898Z"
   },
   {
    "duration": 10,
    "start_time": "2021-06-17T12:54:26.928Z"
   },
   {
    "duration": 8,
    "start_time": "2021-06-17T12:54:26.941Z"
   },
   {
    "duration": 325,
    "start_time": "2021-06-17T12:54:26.952Z"
   },
   {
    "duration": 22,
    "start_time": "2021-06-17T12:54:27.279Z"
   },
   {
    "duration": 33,
    "start_time": "2021-06-17T12:54:27.304Z"
   },
   {
    "duration": 29,
    "start_time": "2021-06-17T12:54:27.339Z"
   },
   {
    "duration": 59,
    "start_time": "2021-06-17T12:54:27.371Z"
   },
   {
    "duration": 569,
    "start_time": "2021-06-17T12:54:27.433Z"
   },
   {
    "duration": 413,
    "start_time": "2021-06-17T12:54:28.005Z"
   },
   {
    "duration": 34,
    "start_time": "2021-06-17T12:54:28.425Z"
   },
   {
    "duration": 742,
    "start_time": "2021-06-17T12:54:28.462Z"
   },
   {
    "duration": 734,
    "start_time": "2021-06-17T12:54:29.207Z"
   },
   {
    "duration": 12,
    "start_time": "2021-06-17T12:54:29.944Z"
   },
   {
    "duration": 792,
    "start_time": "2021-06-17T12:54:29.959Z"
   },
   {
    "duration": 21,
    "start_time": "2021-06-17T12:54:30.758Z"
   },
   {
    "duration": 490,
    "start_time": "2021-06-17T12:54:30.781Z"
   },
   {
    "duration": 716,
    "start_time": "2021-06-17T12:54:31.274Z"
   },
   {
    "duration": 215,
    "start_time": "2021-06-17T12:54:31.992Z"
   },
   {
    "duration": 443,
    "start_time": "2021-06-17T12:54:32.210Z"
   },
   {
    "duration": 6,
    "start_time": "2021-06-17T12:54:32.655Z"
   },
   {
    "duration": 435,
    "start_time": "2021-06-17T12:54:32.663Z"
   },
   {
    "duration": 30,
    "start_time": "2021-06-17T12:54:33.102Z"
   },
   {
    "duration": 949,
    "start_time": "2021-06-17T12:54:33.136Z"
   },
   {
    "duration": 215,
    "start_time": "2021-06-17T12:54:34.087Z"
   },
   {
    "duration": 10,
    "start_time": "2021-06-17T12:54:34.304Z"
   },
   {
    "duration": 15,
    "start_time": "2021-06-17T12:54:34.324Z"
   },
   {
    "duration": 17,
    "start_time": "2021-06-17T12:54:34.342Z"
   },
   {
    "duration": 13,
    "start_time": "2021-06-17T12:54:34.362Z"
   },
   {
    "duration": 56,
    "start_time": "2021-06-17T12:54:34.378Z"
   },
   {
    "duration": 20,
    "start_time": "2021-06-17T12:54:34.437Z"
   },
   {
    "duration": 1372,
    "start_time": "2021-06-17T17:30:26.617Z"
   },
   {
    "duration": 34,
    "start_time": "2021-06-17T17:30:27.992Z"
   },
   {
    "duration": 24,
    "start_time": "2021-06-17T17:30:28.029Z"
   },
   {
    "duration": 16,
    "start_time": "2021-06-17T17:30:28.056Z"
   },
   {
    "duration": 23,
    "start_time": "2021-06-17T17:30:28.074Z"
   },
   {
    "duration": 97,
    "start_time": "2021-06-17T17:30:28.099Z"
   },
   {
    "duration": 11,
    "start_time": "2021-06-17T17:30:28.199Z"
   },
   {
    "duration": 19,
    "start_time": "2021-06-17T17:30:28.213Z"
   },
   {
    "duration": 9,
    "start_time": "2021-06-17T17:30:28.235Z"
   },
   {
    "duration": 7,
    "start_time": "2021-06-17T17:30:28.247Z"
   },
   {
    "duration": 316,
    "start_time": "2021-06-17T17:30:28.256Z"
   },
   {
    "duration": 22,
    "start_time": "2021-06-17T17:30:28.574Z"
   },
   {
    "duration": 38,
    "start_time": "2021-06-17T17:30:28.599Z"
   },
   {
    "duration": 25,
    "start_time": "2021-06-17T17:30:28.640Z"
   },
   {
    "duration": 19,
    "start_time": "2021-06-17T17:30:28.667Z"
   },
   {
    "duration": 569,
    "start_time": "2021-06-17T17:30:28.689Z"
   },
   {
    "duration": 497,
    "start_time": "2021-06-17T17:30:29.261Z"
   },
   {
    "duration": 80,
    "start_time": "2021-06-17T17:30:29.760Z"
   },
   {
    "duration": 801,
    "start_time": "2021-06-17T17:30:29.842Z"
   },
   {
    "duration": 561,
    "start_time": "2021-06-17T17:30:30.645Z"
   },
   {
    "duration": 22,
    "start_time": "2021-06-17T17:30:31.209Z"
   },
   {
    "duration": 706,
    "start_time": "2021-06-17T17:30:31.233Z"
   },
   {
    "duration": 17,
    "start_time": "2021-06-17T17:30:31.944Z"
   },
   {
    "duration": 479,
    "start_time": "2021-06-17T17:30:31.964Z"
   },
   {
    "duration": 657,
    "start_time": "2021-06-17T17:30:32.445Z"
   },
   {
    "duration": 204,
    "start_time": "2021-06-17T17:30:33.105Z"
   },
   {
    "duration": 423,
    "start_time": "2021-06-17T17:30:33.312Z"
   },
   {
    "duration": 8,
    "start_time": "2021-06-17T17:30:33.737Z"
   },
   {
    "duration": 783,
    "start_time": "2021-06-17T17:30:33.747Z"
   },
   {
    "duration": 7,
    "start_time": "2021-06-17T17:30:34.533Z"
   },
   {
    "duration": 864,
    "start_time": "2021-06-17T17:30:34.543Z"
   },
   {
    "duration": 241,
    "start_time": "2021-06-17T17:30:35.410Z"
   },
   {
    "duration": 11,
    "start_time": "2021-06-17T17:30:35.653Z"
   },
   {
    "duration": 66,
    "start_time": "2021-06-17T17:30:35.667Z"
   },
   {
    "duration": 20,
    "start_time": "2021-06-17T17:30:35.737Z"
   },
   {
    "duration": 73,
    "start_time": "2021-06-17T17:30:35.759Z"
   },
   {
    "duration": 11,
    "start_time": "2021-06-17T17:30:35.836Z"
   },
   {
    "duration": 20,
    "start_time": "2021-06-17T17:30:35.850Z"
   },
   {
    "duration": 774,
    "start_time": "2021-06-17T17:45:53.662Z"
   },
   {
    "duration": 419,
    "start_time": "2021-06-17T17:55:59.807Z"
   },
   {
    "duration": 1434,
    "start_time": "2021-06-17T17:56:07.834Z"
   },
   {
    "duration": 30,
    "start_time": "2021-06-17T17:56:09.271Z"
   },
   {
    "duration": 33,
    "start_time": "2021-06-17T17:56:09.303Z"
   },
   {
    "duration": 15,
    "start_time": "2021-06-17T17:56:09.341Z"
   },
   {
    "duration": 18,
    "start_time": "2021-06-17T17:56:09.358Z"
   },
   {
    "duration": 967,
    "start_time": "2021-06-17T17:56:09.378Z"
   },
   {
    "duration": 92,
    "start_time": "2021-06-17T17:56:10.347Z"
   },
   {
    "duration": 10,
    "start_time": "2021-06-17T17:56:10.443Z"
   },
   {
    "duration": 13,
    "start_time": "2021-06-17T17:56:10.456Z"
   },
   {
    "duration": 12,
    "start_time": "2021-06-17T17:56:10.471Z"
   },
   {
    "duration": 43,
    "start_time": "2021-06-17T17:56:10.486Z"
   },
   {
    "duration": 303,
    "start_time": "2021-06-17T17:56:10.534Z"
   },
   {
    "duration": 25,
    "start_time": "2021-06-17T17:56:10.839Z"
   },
   {
    "duration": 17,
    "start_time": "2021-06-17T17:56:10.866Z"
   },
   {
    "duration": 55,
    "start_time": "2021-06-17T17:56:10.885Z"
   },
   {
    "duration": 19,
    "start_time": "2021-06-17T17:56:10.942Z"
   },
   {
    "duration": 557,
    "start_time": "2021-06-17T17:56:10.964Z"
   },
   {
    "duration": 377,
    "start_time": "2021-06-17T17:56:11.526Z"
   },
   {
    "duration": 41,
    "start_time": "2021-06-17T17:56:11.906Z"
   },
   {
    "duration": 552,
    "start_time": "2021-06-17T17:56:11.951Z"
   },
   {
    "duration": 523,
    "start_time": "2021-06-17T17:56:12.505Z"
   },
   {
    "duration": 12,
    "start_time": "2021-06-17T17:56:13.031Z"
   },
   {
    "duration": 569,
    "start_time": "2021-06-17T17:56:13.049Z"
   },
   {
    "duration": 24,
    "start_time": "2021-06-17T17:56:13.624Z"
   },
   {
    "duration": 518,
    "start_time": "2021-06-17T17:56:13.650Z"
   },
   {
    "duration": 724,
    "start_time": "2021-06-17T17:56:14.170Z"
   },
   {
    "duration": 198,
    "start_time": "2021-06-17T17:56:14.897Z"
   },
   {
    "duration": 471,
    "start_time": "2021-06-17T17:56:15.097Z"
   },
   {
    "duration": 7,
    "start_time": "2021-06-17T17:56:15.571Z"
   },
   {
    "duration": 540,
    "start_time": "2021-06-17T17:56:15.581Z"
   },
   {
    "duration": 7,
    "start_time": "2021-06-17T17:56:16.123Z"
   },
   {
    "duration": 494,
    "start_time": "2021-06-17T17:56:16.132Z"
   },
   {
    "duration": 219,
    "start_time": "2021-06-17T17:56:16.629Z"
   },
   {
    "duration": 11,
    "start_time": "2021-06-17T17:56:16.850Z"
   },
   {
    "duration": 16,
    "start_time": "2021-06-17T17:56:16.864Z"
   },
   {
    "duration": 55,
    "start_time": "2021-06-17T17:56:16.883Z"
   },
   {
    "duration": 14,
    "start_time": "2021-06-17T17:56:16.940Z"
   },
   {
    "duration": 10,
    "start_time": "2021-06-17T17:56:16.957Z"
   },
   {
    "duration": 68,
    "start_time": "2021-06-17T17:56:16.970Z"
   }
  ],
  "kernelspec": {
   "display_name": "Python 3",
   "language": "python",
   "name": "python3"
  },
  "language_info": {
   "codemirror_mode": {
    "name": "ipython",
    "version": 3
   },
   "file_extension": ".py",
   "mimetype": "text/x-python",
   "name": "python",
   "nbconvert_exporter": "python",
   "pygments_lexer": "ipython3",
   "version": "3.8.8"
  },
  "toc": {
   "base_numbering": 1,
   "nav_menu": {},
   "number_sections": false,
   "sideBar": true,
   "skip_h1_title": true,
   "title_cell": "Table of Contents",
   "title_sidebar": "Contents",
   "toc_cell": false,
   "toc_position": {
    "height": "calc(100% - 180px)",
    "left": "10px",
    "top": "150px",
    "width": "494.391px"
   },
   "toc_section_display": true,
   "toc_window_display": true
  }
 },
 "nbformat": 4,
 "nbformat_minor": 2
}
