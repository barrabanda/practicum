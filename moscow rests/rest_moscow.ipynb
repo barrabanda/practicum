{
 "cells": [
  {
   "cell_type": "markdown",
   "metadata": {},
   "source": [
    "# Рынок заведений общественного питания Москвы"
   ]
  },
  {
   "cell_type": "markdown",
   "metadata": {},
   "source": [
    "\n",
    "<b>Цель проекта</b>\n",
    "    \n",
    "Используя открытые данные подготовить исследование рынка общественного питания в городе Москва. Дать рекомендации для открытия нового заведения, которое будут обслуживать роботы.\n"
   ]
  },
  {
   "cell_type": "markdown",
   "metadata": {},
   "source": [
    "\n",
    "\n",
    "<b>Требуемые шаги:</b>   \n",
    "<li>Исследование соотношения видов объектов общественного питания по количеству</li>\n",
    "<li>Исследование соотношения сетевых и несетевых заведений по количеству</li>\n",
    "<li>Определение вида объекта общественного питания, для которого характерно сетевое распространение</li>\n",
    "<li>Характеристика сетевых заведений</li>\n",
    "<li>Среднее количество посадочных мест для каждого вида объекта общественного питания</li>\n",
    "<li>Определение топ-10 улиц по количеству объектов общественного питания</li>\n",
    "<li>Определение числа улиц с одним объектом общественного питания</li>\n",
    "<li>Закономерности распределения количества посадочных мест для улиц с большим количеством объектов общественного питания</li>\n",
    "\n",
    "По результатам исследования необходимо дать рекомендации о возможности развития сети: о виде заведения, количестве посадочных мест, а также районе расположения.\n"
   ]
  },
  {
   "cell_type": "markdown",
   "metadata": {},
   "source": [
    "##  Предобработка данных"
   ]
  },
  {
   "cell_type": "markdown",
   "metadata": {},
   "source": [
    "**Импорт библиотек**"
   ]
  },
  {
   "cell_type": "code",
   "execution_count": 1,
   "metadata": {},
   "outputs": [],
   "source": [
    "import pandas as pd\n",
    "import seaborn as sns\n",
    "import numpy as np\n",
    "import datetime as dt\n",
    "import matplotlib.pyplot as plt\n",
    "from matplotlib.pyplot import figure\n",
    "import warnings\n",
    "warnings.filterwarnings('ignore')"
   ]
  },
  {
   "cell_type": "markdown",
   "metadata": {},
   "source": [
    "**Откроем файл и изучим данные**"
   ]
  },
  {
   "cell_type": "code",
   "execution_count": 2,
   "metadata": {
    "scrolled": true
   },
   "outputs": [
    {
     "data": {
      "text/html": [
       "<div>\n",
       "<style scoped>\n",
       "    .dataframe tbody tr th:only-of-type {\n",
       "        vertical-align: middle;\n",
       "    }\n",
       "\n",
       "    .dataframe tbody tr th {\n",
       "        vertical-align: top;\n",
       "    }\n",
       "\n",
       "    .dataframe thead th {\n",
       "        text-align: right;\n",
       "    }\n",
       "</style>\n",
       "<table border=\"1\" class=\"dataframe\">\n",
       "  <thead>\n",
       "    <tr style=\"text-align: right;\">\n",
       "      <th></th>\n",
       "      <th>id</th>\n",
       "      <th>object_name</th>\n",
       "      <th>chain</th>\n",
       "      <th>object_type</th>\n",
       "      <th>address</th>\n",
       "      <th>number</th>\n",
       "    </tr>\n",
       "  </thead>\n",
       "  <tbody>\n",
       "    <tr>\n",
       "      <th>0</th>\n",
       "      <td>151635</td>\n",
       "      <td>СМЕТАНА</td>\n",
       "      <td>нет</td>\n",
       "      <td>кафе</td>\n",
       "      <td>город Москва, улица Егора Абакумова, дом 9</td>\n",
       "      <td>48</td>\n",
       "    </tr>\n",
       "    <tr>\n",
       "      <th>1</th>\n",
       "      <td>77874</td>\n",
       "      <td>Родник</td>\n",
       "      <td>нет</td>\n",
       "      <td>кафе</td>\n",
       "      <td>город Москва, улица Талалихина, дом 2/1, корпус 1</td>\n",
       "      <td>35</td>\n",
       "    </tr>\n",
       "    <tr>\n",
       "      <th>2</th>\n",
       "      <td>24309</td>\n",
       "      <td>Кафе «Академия»</td>\n",
       "      <td>нет</td>\n",
       "      <td>кафе</td>\n",
       "      <td>город Москва, Абельмановская улица, дом 6</td>\n",
       "      <td>95</td>\n",
       "    </tr>\n",
       "    <tr>\n",
       "      <th>3</th>\n",
       "      <td>21894</td>\n",
       "      <td>ПИЦЦЕТОРИЯ</td>\n",
       "      <td>да</td>\n",
       "      <td>кафе</td>\n",
       "      <td>город Москва, Абрамцевская улица, дом 1</td>\n",
       "      <td>40</td>\n",
       "    </tr>\n",
       "    <tr>\n",
       "      <th>4</th>\n",
       "      <td>119365</td>\n",
       "      <td>Кафе «Вишневая метель»</td>\n",
       "      <td>нет</td>\n",
       "      <td>кафе</td>\n",
       "      <td>город Москва, Абрамцевская улица, дом 9, корпус 1</td>\n",
       "      <td>50</td>\n",
       "    </tr>\n",
       "  </tbody>\n",
       "</table>\n",
       "</div>"
      ],
      "text/plain": [
       "       id             object_name chain object_type  \\\n",
       "0  151635                 СМЕТАНА   нет        кафе   \n",
       "1   77874                  Родник   нет        кафе   \n",
       "2   24309         Кафе «Академия»   нет        кафе   \n",
       "3   21894              ПИЦЦЕТОРИЯ    да        кафе   \n",
       "4  119365  Кафе «Вишневая метель»   нет        кафе   \n",
       "\n",
       "                                             address  number  \n",
       "0         город Москва, улица Егора Абакумова, дом 9      48  \n",
       "1  город Москва, улица Талалихина, дом 2/1, корпус 1      35  \n",
       "2          город Москва, Абельмановская улица, дом 6      95  \n",
       "3            город Москва, Абрамцевская улица, дом 1      40  \n",
       "4  город Москва, Абрамцевская улица, дом 9, корпус 1      50  "
      ]
     },
     "execution_count": 2,
     "metadata": {},
     "output_type": "execute_result"
    }
   ],
   "source": [
    "try:\n",
    "    rest_data = pd.read_csv('/datasets/rest_data.csv')\n",
    "except:\n",
    "    rest_data = pd.read_csv('rest_data.csv')\n",
    "rest_data.head()"
   ]
  },
  {
   "cell_type": "markdown",
   "metadata": {},
   "source": [
    "Посмотрим общую информацию о датасете:"
   ]
  },
  {
   "cell_type": "code",
   "execution_count": 3,
   "metadata": {
    "scrolled": true
   },
   "outputs": [
    {
     "name": "stdout",
     "output_type": "stream",
     "text": [
      "<class 'pandas.core.frame.DataFrame'>\n",
      "RangeIndex: 15366 entries, 0 to 15365\n",
      "Data columns (total 6 columns):\n",
      " #   Column       Non-Null Count  Dtype \n",
      "---  ------       --------------  ----- \n",
      " 0   id           15366 non-null  int64 \n",
      " 1   object_name  15366 non-null  object\n",
      " 2   chain        15366 non-null  object\n",
      " 3   object_type  15366 non-null  object\n",
      " 4   address      15366 non-null  object\n",
      " 5   number       15366 non-null  int64 \n",
      "dtypes: int64(2), object(4)\n",
      "memory usage: 720.4+ KB\n"
     ]
    }
   ],
   "source": [
    "rest_data.info()"
   ]
  },
  {
   "cell_type": "markdown",
   "metadata": {},
   "source": [
    "Типы данных соответствуют, пропуски отсутствуют. Проверим наличие дубликатов:"
   ]
  },
  {
   "cell_type": "code",
   "execution_count": 4,
   "metadata": {
    "scrolled": true
   },
   "outputs": [
    {
     "data": {
      "text/plain": [
       "0"
      ]
     },
     "execution_count": 4,
     "metadata": {},
     "output_type": "execute_result"
    }
   ],
   "source": [
    "rest_data.duplicated().sum()"
   ]
  },
  {
   "cell_type": "markdown",
   "metadata": {},
   "source": [
    "Проверим, что количество объектов соответствуют количеству уникальных идентификаторов id:"
   ]
  },
  {
   "cell_type": "code",
   "execution_count": 5,
   "metadata": {},
   "outputs": [
    {
     "name": "stdout",
     "output_type": "stream",
     "text": [
      "15366\n"
     ]
    }
   ],
   "source": [
    "print(rest_data['id'].nunique())"
   ]
  },
  {
   "cell_type": "markdown",
   "metadata": {},
   "source": [
    "Как видно, названия объектов общественного питания object_name имеют разный регистр. Для удобства приведем к единому виду:"
   ]
  },
  {
   "cell_type": "code",
   "execution_count": 6,
   "metadata": {},
   "outputs": [
    {
     "name": "stdout",
     "output_type": "stream",
     "text": [
      "столовая                             321\n",
      "кафе                                 278\n",
      "шаурма                               250\n",
      "шоколадница                          158\n",
      "kfc                                  155\n",
      "                                    ... \n",
      "ресторан на болотном                   1\n",
      "sushisale                              1\n",
      "кафетерий-кондитерская «ватрушка»      1\n",
      "ресторан «пикколо диаболо»             1\n",
      "хан кебаб                              1\n",
      "Name: object_name, Length: 9924, dtype: int64\n"
     ]
    }
   ],
   "source": [
    "rest_data['object_name'] = rest_data['object_name'].str.lower()\n",
    "print(rest_data['object_name'].value_counts()) "
   ]
  },
  {
   "cell_type": "markdown",
   "metadata": {},
   "source": [
    "Проверим, нет ли аномальных данных (помимо \"нет\" и \"да\") в столбце chain - сетевой ресторан: "
   ]
  },
  {
   "cell_type": "code",
   "execution_count": 7,
   "metadata": {},
   "outputs": [
    {
     "name": "stdout",
     "output_type": "stream",
     "text": [
      "['нет' 'да']\n"
     ]
    }
   ],
   "source": [
    "print(rest_data['chain'].unique())"
   ]
  },
  {
   "cell_type": "markdown",
   "metadata": {},
   "source": [
    "Определим, какие типы объекта общественного питания object_type представлены:"
   ]
  },
  {
   "cell_type": "code",
   "execution_count": 8,
   "metadata": {
    "scrolled": true
   },
   "outputs": [
    {
     "name": "stdout",
     "output_type": "stream",
     "text": [
      "['кафе' 'столовая' 'закусочная' 'предприятие быстрого обслуживания'\n",
      " 'ресторан' 'кафетерий' 'буфет' 'бар' 'магазин (отдел кулинарии)']\n"
     ]
    }
   ],
   "source": [
    "print(rest_data['object_type'].unique())"
   ]
  },
  {
   "cell_type": "markdown",
   "metadata": {},
   "source": [
    "Посмотрим, какое количество заведений может быть расположено по одному адресу:"
   ]
  },
  {
   "cell_type": "code",
   "execution_count": 9,
   "metadata": {},
   "outputs": [
    {
     "name": "stdout",
     "output_type": "stream",
     "text": [
      "город Москва, Ходынский бульвар, дом 4                        95\n",
      "город Москва, Пресненская набережная, дом 2                   63\n",
      "город Москва, проспект Мира, дом 211, корпус 2                60\n",
      "город Москва, Кировоградская улица, дом 13А                   53\n",
      "город Москва, площадь Киевского Вокзала, дом 2                48\n",
      "                                                              ..\n",
      "город Москва, Кустанайская улица, дом 10, корпус 2             1\n",
      "город Москва, Щукинская улица, дом 1                           1\n",
      "город Москва, улица Цюрупы, дом 14Б                            1\n",
      "город Москва, Верхняя Радищевская улица, дом 7, строение 1     1\n",
      "город Москва, Нагорный бульвар, дом 5, корпус 1                1\n",
      "Name: address, Length: 9108, dtype: int64\n"
     ]
    }
   ],
   "source": [
    "print(rest_data['address'].value_counts())"
   ]
  },
  {
   "cell_type": "markdown",
   "metadata": {},
   "source": [
    "Определим возможные вариации посадочных мест:"
   ]
  },
  {
   "cell_type": "code",
   "execution_count": 10,
   "metadata": {
    "scrolled": true
   },
   "outputs": [
    {
     "name": "stdout",
     "output_type": "stream",
     "text": [
      "[  48   35   95   40   50  240   10   90  150  120    5   24  140   32\n",
      "  270  320    7    2  160   20   30  110    6  192   65   45    4  125\n",
      "  100   49   63   70   22   56   38  220   78    3   80   46   15   96\n",
      "   60   47  180  250  200   25   12   14   16  420   98   75   34  216\n",
      "   43   54  580  159    0   28   64   67   42  124   82   36  114    8\n",
      "   71   18  158   55  196   44   76  144   41   26   68  143  198   79\n",
      "    1   86  148  190  202  131   52   92  300   85  102   88   84  246\n",
      "   81   94   23   37   39   99   61   11  130   74  128  106   58  260\n",
      "   27   19   29   13    9  168  350   93   33  105  239  104   17   62\n",
      "  230  132   87   89  170   83   21  108  210   51   53  115   66  280\n",
      "  126   97  356  156  428  380  138   72  118  139  236  450  194  330\n",
      "  225  500  112  109  146  306  272  290  176  175  252  122  400  542\n",
      "  424 1040  660  282  145  395  188  149  157  103   69  184  185  121\n",
      "  187  247  217  313  155  310  328  101  226  398  430  166  301  245\n",
      "  238  283  133  142   73   77  650   57   59  154  222  174 1200  204\n",
      "  127  360  178  680  244  134  213  214  152  206  248  324  224  165\n",
      "   31  277  337  259  167  266  481  273  136  229  242  533  218  173\n",
      "  228  760  585  195  284  305  215  162  135  116   91  644  600  177\n",
      "  338  181  302  237  288  362  141  111  153  123  495  186  275  232\n",
      "  480  164  255  147  189  286  625  207  520  675  292  340  205  278\n",
      "  151  343 1500 1400  308  161  483  107  243  371  276  257  271  456\n",
      " 1288  172  478  113  199  920  287  326  208  472  234  455  307 1700\n",
      "  490  491  700  295  268  212  119]\n"
     ]
    }
   ],
   "source": [
    "print(rest_data['number'].unique())"
   ]
  },
  {
   "cell_type": "markdown",
   "metadata": {},
   "source": [
    "Для удобства отображения переименуем некоторые значения типов объектов общественного питания:"
   ]
  },
  {
   "cell_type": "code",
   "execution_count": 11,
   "metadata": {},
   "outputs": [],
   "source": [
    "rest_data = rest_data.replace({'object_type' :{'предприятие быстрого обслуживания' : 'фаст-фуд', 'магазин (отдел кулинарии)' : 'отдел кулинарии'}})"
   ]
  },
  {
   "cell_type": "markdown",
   "metadata": {},
   "source": [
    "\n",
    "<b>Вывод по результатам предобработки:</b>  \n",
    "<li>типы данных соответствуют, преобразований не требуется</li>\n",
    "<li>пропуски отсутствуют, как и дубликаты</li>\n",
    "<li>идентификатор заведения id является уникальным для каждого заведения</li>\n",
    "<li>названия объектов общественного питания были приведены к единому виду</li>\n",
    "<li>принадлежность к сети представлена двумя возможными значениями - \"да\" и \"нет\"</li>\n",
    "<li>заведения общественного питания имеют следующие типы:\"кафе\", \"столовая\", \"закусочная\", \"предприятие быстрого обслуживания\",\n",
    " \"ресторан\", \"кафетерий\", \"буфет\", \"бар\", \"магазин (отдел кулинарии)\" </li>\n",
    "<li>по одному адресу может быть расположено большое количество заведений, что не является аномалией, так как заведения могут быть расположены в торговом центре </li>\n",
    "<li>заведение может не иметь посадочных мест (равно 0), так как может работать на вынос. Также возможно большое количество посадочных мест, в случае, например, банкетного зала или концертной площадки.</li>\n",
    "\n",
    "По результатам предобработки принято решение не проводить лемматизацию названий объектов общественного питания, из-за похожести названий заведений и связанных с этим опасений некорректного объединения. При необходимости будем ориентироваться на имеющийся уникальный идентификатор заведения и признак сети.\n",
    "    \n"
   ]
  },
  {
   "cell_type": "markdown",
   "metadata": {},
   "source": [
    "# Исследование соотношения видов объектов общественного питания по количеству"
   ]
  },
  {
   "cell_type": "code",
   "execution_count": 12,
   "metadata": {},
   "outputs": [
    {
     "data": {
      "text/html": [
       "<div>\n",
       "<style scoped>\n",
       "    .dataframe tbody tr th:only-of-type {\n",
       "        vertical-align: middle;\n",
       "    }\n",
       "\n",
       "    .dataframe tbody tr th {\n",
       "        vertical-align: top;\n",
       "    }\n",
       "\n",
       "    .dataframe thead th {\n",
       "        text-align: right;\n",
       "    }\n",
       "</style>\n",
       "<table border=\"1\" class=\"dataframe\">\n",
       "  <thead>\n",
       "    <tr style=\"text-align: right;\">\n",
       "      <th></th>\n",
       "      <th>object_type</th>\n",
       "      <th>id</th>\n",
       "    </tr>\n",
       "  </thead>\n",
       "  <tbody>\n",
       "    <tr>\n",
       "      <th>3</th>\n",
       "      <td>кафе</td>\n",
       "      <td>6099</td>\n",
       "    </tr>\n",
       "    <tr>\n",
       "      <th>7</th>\n",
       "      <td>столовая</td>\n",
       "      <td>2587</td>\n",
       "    </tr>\n",
       "    <tr>\n",
       "      <th>6</th>\n",
       "      <td>ресторан</td>\n",
       "      <td>2285</td>\n",
       "    </tr>\n",
       "    <tr>\n",
       "      <th>8</th>\n",
       "      <td>фаст-фуд</td>\n",
       "      <td>1923</td>\n",
       "    </tr>\n",
       "    <tr>\n",
       "      <th>0</th>\n",
       "      <td>бар</td>\n",
       "      <td>856</td>\n",
       "    </tr>\n",
       "    <tr>\n",
       "      <th>1</th>\n",
       "      <td>буфет</td>\n",
       "      <td>585</td>\n",
       "    </tr>\n",
       "    <tr>\n",
       "      <th>4</th>\n",
       "      <td>кафетерий</td>\n",
       "      <td>398</td>\n",
       "    </tr>\n",
       "    <tr>\n",
       "      <th>2</th>\n",
       "      <td>закусочная</td>\n",
       "      <td>360</td>\n",
       "    </tr>\n",
       "    <tr>\n",
       "      <th>5</th>\n",
       "      <td>отдел кулинарии</td>\n",
       "      <td>273</td>\n",
       "    </tr>\n",
       "  </tbody>\n",
       "</table>\n",
       "</div>"
      ],
      "text/plain": [
       "       object_type    id\n",
       "3             кафе  6099\n",
       "7         столовая  2587\n",
       "6         ресторан  2285\n",
       "8         фаст-фуд  1923\n",
       "0              бар   856\n",
       "1            буфет   585\n",
       "4        кафетерий   398\n",
       "2       закусочная   360\n",
       "5  отдел кулинарии   273"
      ]
     },
     "execution_count": 12,
     "metadata": {},
     "output_type": "execute_result"
    }
   ],
   "source": [
    "rest_type_count = rest_data.groupby('object_type')['id'].count().reset_index().sort_values(by='id',ascending = False)\n",
    "rest_type_count"
   ]
  },
  {
   "cell_type": "code",
   "execution_count": 13,
   "metadata": {
    "scrolled": true
   },
   "outputs": [
    {
     "data": {
      "image/png": "[encoded data removed]",
      "text/plain": [
       "<Figure size 864x504 with 1 Axes>"
      ]
     },
     "metadata": {
      "needs_background": "light"
     },
     "output_type": "display_data"
    }
   ],
   "source": [
    "fig= plt.figure(figsize=(12,7))\n",
    "sns.color_palette('pastel') \n",
    "splot = sns.barplot(x='object_type', y='id', data=rest_type_count, color = '#2b70b0')\n",
    "for p in splot.patches:\n",
    "    splot.annotate(format(p.get_height(), '.0f'), (p.get_x() + p.get_width() / 2., p.get_height()), ha = 'center', va = 'center',  xytext = (0, 10), textcoords = 'offset points')\n",
    "\n",
    "plt.title('Соотношение типов объектов общественного питания')\n",
    "plt.xlabel('Тип заведения')\n",
    "plt.ylabel('Количество, шт.')\n",
    "plt.xticks(rotation = 45)\n",
    "plt.show()"
   ]
  },
  {
   "cell_type": "markdown",
   "metadata": {},
   "source": [
    "Можно заключить, что большинство заведений позиционируют себя как кафе. Численность можно объяснить тем, что кафе может иметь множество направленностей (например, кафе-пекарня, кафе-мороженое, придорожное кафе). Далее по распространенности идут столовые - 2587 объектов. Столовые работают в основном для обеспечения питанием работников (утреннее и обеденное время), и могут располагаться в зданиях предприятий, либо рядом с офис-центрами. Рестораны распространены чуть меньше - 2285 заведений. Далее располагаются предприятия быстрого обслуживания - 1923 заведения. Фаст-фуд характеризутся быстрым приготовлением пищи, а также минимальным или отсутствующим обслуживанием посетителей официантом. Гораздо меньше баров - 856 объектов, в барах больший акцент сделан на продаже алкоголя, что автоматически уменьшает возможную аудиторию. Буфеты реализуют ограниченный ассортимент продукции из полуфабрикатов, и их количество значительно ниже - 585 заведений. Кафетерии и закусочные распространены приблизительно одинаково - 398 и 360 заведений соответственно, они реализуют довольно ограниченный ассортимент продукции. Отдельно выделены отделы кулинарии в магазинах - 273 объекта, чаще всего такие магазины реализуют продукцию собственного приготовления."
   ]
  },
  {
   "cell_type": "markdown",
   "metadata": {},
   "source": [
    "# Исследование соотношения сетевых и несетевых заведений по количеству"
   ]
  },
  {
   "cell_type": "code",
   "execution_count": 14,
   "metadata": {},
   "outputs": [
    {
     "data": {
      "text/html": [
       "<div>\n",
       "<style scoped>\n",
       "    .dataframe tbody tr th:only-of-type {\n",
       "        vertical-align: middle;\n",
       "    }\n",
       "\n",
       "    .dataframe tbody tr th {\n",
       "        vertical-align: top;\n",
       "    }\n",
       "\n",
       "    .dataframe thead th {\n",
       "        text-align: right;\n",
       "    }\n",
       "</style>\n",
       "<table border=\"1\" class=\"dataframe\">\n",
       "  <thead>\n",
       "    <tr style=\"text-align: right;\">\n",
       "      <th>chain</th>\n",
       "      <th>да</th>\n",
       "      <th>нет</th>\n",
       "    </tr>\n",
       "    <tr>\n",
       "      <th>object_type</th>\n",
       "      <th></th>\n",
       "      <th></th>\n",
       "    </tr>\n",
       "  </thead>\n",
       "  <tbody>\n",
       "    <tr>\n",
       "      <th>бар</th>\n",
       "      <td>37</td>\n",
       "      <td>819</td>\n",
       "    </tr>\n",
       "    <tr>\n",
       "      <th>буфет</th>\n",
       "      <td>11</td>\n",
       "      <td>574</td>\n",
       "    </tr>\n",
       "    <tr>\n",
       "      <th>закусочная</th>\n",
       "      <td>56</td>\n",
       "      <td>304</td>\n",
       "    </tr>\n",
       "    <tr>\n",
       "      <th>кафе</th>\n",
       "      <td>1396</td>\n",
       "      <td>4703</td>\n",
       "    </tr>\n",
       "    <tr>\n",
       "      <th>кафетерий</th>\n",
       "      <td>52</td>\n",
       "      <td>346</td>\n",
       "    </tr>\n",
       "    <tr>\n",
       "      <th>отдел кулинарии</th>\n",
       "      <td>78</td>\n",
       "      <td>195</td>\n",
       "    </tr>\n",
       "    <tr>\n",
       "      <th>ресторан</th>\n",
       "      <td>544</td>\n",
       "      <td>1741</td>\n",
       "    </tr>\n",
       "    <tr>\n",
       "      <th>столовая</th>\n",
       "      <td>3</td>\n",
       "      <td>2584</td>\n",
       "    </tr>\n",
       "    <tr>\n",
       "      <th>фаст-фуд</th>\n",
       "      <td>791</td>\n",
       "      <td>1132</td>\n",
       "    </tr>\n",
       "  </tbody>\n",
       "</table>\n",
       "</div>"
      ],
      "text/plain": [
       "chain              да   нет\n",
       "object_type                \n",
       "бар                37   819\n",
       "буфет              11   574\n",
       "закусочная         56   304\n",
       "кафе             1396  4703\n",
       "кафетерий          52   346\n",
       "отдел кулинарии    78   195\n",
       "ресторан          544  1741\n",
       "столовая            3  2584\n",
       "фаст-фуд          791  1132"
      ]
     },
     "execution_count": 14,
     "metadata": {},
     "output_type": "execute_result"
    }
   ],
   "source": [
    "chain_count = rest_data.pivot_table(index = 'object_type', columns = 'chain', values = 'id', aggfunc = 'count')\n",
    "chain_count"
   ]
  },
  {
   "cell_type": "code",
   "execution_count": 15,
   "metadata": {},
   "outputs": [
    {
     "data": {
      "image/png": "[encoded data removed]",
      "text/plain": [
       "<Figure size 864x504 with 1 Axes>"
      ]
     },
     "metadata": {
      "needs_background": "light"
     },
     "output_type": "display_data"
    }
   ],
   "source": [
    "chain_count.plot(kind = 'bar', figsize=(12, 7))\n",
    "plt.legend()\n",
    "plt.title('Соотношение сетевых и несетевых заведений')\n",
    "plt.xlabel('Тип заведения')\n",
    "plt.ylabel('Количество, шт.')\n",
    "plt.xticks(rotation = 45)\n",
    "plt.show()"
   ]
  },
  {
   "cell_type": "markdown",
   "metadata": {},
   "source": [
    "Большинство сетевых заведений - кафе, что обусловено, во-первых, большим количеством заведений такого типа, а во-вторых, как уже отмечалось ранее, узкой направленностью (например, кафе-кофейни). Также сетевыми являются большинство предприятий быстрого обслуживания - 791 заведение из 1132. Это может быть обусловлено распространенностью франшизы крупных сетей вроде KFC. По этой же причине треть ресторанов также сетевые. Отделы кулинарии часто располагаются в сетевых магазинах и гипермаркетах.  Оставвшиеся категории заведений - бары, буфеты, закусочные, кафетерии и столовые в основном не сетевые. "
   ]
  },
  {
   "cell_type": "markdown",
   "metadata": {},
   "source": [
    "# Характеристика сетевых заведений"
   ]
  },
  {
   "cell_type": "markdown",
   "metadata": {},
   "source": [
    "Определим, что характерно для сетевых заведений: много заведений с небольшим числом посадочных мест, или мало заведений с большим количеством посадочных мест."
   ]
  },
  {
   "cell_type": "code",
   "execution_count": 16,
   "metadata": {},
   "outputs": [
    {
     "data": {
      "text/html": [
       "<div>\n",
       "<style scoped>\n",
       "    .dataframe tbody tr th:only-of-type {\n",
       "        vertical-align: middle;\n",
       "    }\n",
       "\n",
       "    .dataframe tbody tr th {\n",
       "        vertical-align: top;\n",
       "    }\n",
       "\n",
       "    .dataframe thead th {\n",
       "        text-align: right;\n",
       "    }\n",
       "</style>\n",
       "<table border=\"1\" class=\"dataframe\">\n",
       "  <thead>\n",
       "    <tr style=\"text-align: right;\">\n",
       "      <th></th>\n",
       "      <th>id</th>\n",
       "      <th>object_name</th>\n",
       "      <th>chain</th>\n",
       "      <th>object_type</th>\n",
       "      <th>address</th>\n",
       "      <th>number</th>\n",
       "    </tr>\n",
       "  </thead>\n",
       "  <tbody>\n",
       "    <tr>\n",
       "      <th>3</th>\n",
       "      <td>21894</td>\n",
       "      <td>пиццетория</td>\n",
       "      <td>да</td>\n",
       "      <td>кафе</td>\n",
       "      <td>город Москва, Абрамцевская улица, дом 1</td>\n",
       "      <td>40</td>\n",
       "    </tr>\n",
       "    <tr>\n",
       "      <th>6</th>\n",
       "      <td>148815</td>\n",
       "      <td>брусника</td>\n",
       "      <td>да</td>\n",
       "      <td>кафе</td>\n",
       "      <td>город Москва, переулок Сивцев Вражек, дом 6/2</td>\n",
       "      <td>10</td>\n",
       "    </tr>\n",
       "    <tr>\n",
       "      <th>13</th>\n",
       "      <td>22579</td>\n",
       "      <td>алло пицца</td>\n",
       "      <td>да</td>\n",
       "      <td>кафе</td>\n",
       "      <td>город Москва, улица Авиаторов, дом 14</td>\n",
       "      <td>32</td>\n",
       "    </tr>\n",
       "    <tr>\n",
       "      <th>16</th>\n",
       "      <td>144107</td>\n",
       "      <td>суши wok</td>\n",
       "      <td>да</td>\n",
       "      <td>фаст-фуд</td>\n",
       "      <td>город Москва, Азовская улица, дом 3</td>\n",
       "      <td>7</td>\n",
       "    </tr>\n",
       "    <tr>\n",
       "      <th>18</th>\n",
       "      <td>58565</td>\n",
       "      <td>тануки</td>\n",
       "      <td>да</td>\n",
       "      <td>ресторан</td>\n",
       "      <td>город Москва, Большая Академическая улица, дом 65</td>\n",
       "      <td>160</td>\n",
       "    </tr>\n",
       "    <tr>\n",
       "      <th>...</th>\n",
       "      <td>...</td>\n",
       "      <td>...</td>\n",
       "      <td>...</td>\n",
       "      <td>...</td>\n",
       "      <td>...</td>\n",
       "      <td>...</td>\n",
       "    </tr>\n",
       "    <tr>\n",
       "      <th>15361</th>\n",
       "      <td>208537</td>\n",
       "      <td>шоколадница</td>\n",
       "      <td>да</td>\n",
       "      <td>кафе</td>\n",
       "      <td>город Москва, 3-й Крутицкий переулок, дом 18</td>\n",
       "      <td>50</td>\n",
       "    </tr>\n",
       "    <tr>\n",
       "      <th>15362</th>\n",
       "      <td>209264</td>\n",
       "      <td>шоколадница</td>\n",
       "      <td>да</td>\n",
       "      <td>кафе</td>\n",
       "      <td>город Москва, улица Земляной Вал, дом 33</td>\n",
       "      <td>10</td>\n",
       "    </tr>\n",
       "    <tr>\n",
       "      <th>15363</th>\n",
       "      <td>209186</td>\n",
       "      <td>шоколадница</td>\n",
       "      <td>да</td>\n",
       "      <td>кафе</td>\n",
       "      <td>город Москва, улица Земляной Вал, дом 33</td>\n",
       "      <td>20</td>\n",
       "    </tr>\n",
       "    <tr>\n",
       "      <th>15364</th>\n",
       "      <td>221900</td>\n",
       "      <td>шоколадница</td>\n",
       "      <td>да</td>\n",
       "      <td>кафе</td>\n",
       "      <td>город Москва, поселение Московский, Киевское ш...</td>\n",
       "      <td>36</td>\n",
       "    </tr>\n",
       "    <tr>\n",
       "      <th>15365</th>\n",
       "      <td>222535</td>\n",
       "      <td>шоколадница</td>\n",
       "      <td>да</td>\n",
       "      <td>кафе</td>\n",
       "      <td>город Москва, Ходынский бульвар, дом 4</td>\n",
       "      <td>10</td>\n",
       "    </tr>\n",
       "  </tbody>\n",
       "</table>\n",
       "<p>2968 rows × 6 columns</p>\n",
       "</div>"
      ],
      "text/plain": [
       "           id  object_name chain object_type  \\\n",
       "3       21894   пиццетория    да        кафе   \n",
       "6      148815     брусника    да        кафе   \n",
       "13      22579   алло пицца    да        кафе   \n",
       "16     144107     суши wok    да    фаст-фуд   \n",
       "18      58565       тануки    да    ресторан   \n",
       "...       ...          ...   ...         ...   \n",
       "15361  208537  шоколадница    да        кафе   \n",
       "15362  209264  шоколадница    да        кафе   \n",
       "15363  209186  шоколадница    да        кафе   \n",
       "15364  221900  шоколадница    да        кафе   \n",
       "15365  222535  шоколадница    да        кафе   \n",
       "\n",
       "                                                 address  number  \n",
       "3                город Москва, Абрамцевская улица, дом 1      40  \n",
       "6          город Москва, переулок Сивцев Вражек, дом 6/2      10  \n",
       "13                 город Москва, улица Авиаторов, дом 14      32  \n",
       "16                   город Москва, Азовская улица, дом 3       7  \n",
       "18     город Москва, Большая Академическая улица, дом 65     160  \n",
       "...                                                  ...     ...  \n",
       "15361       город Москва, 3-й Крутицкий переулок, дом 18      50  \n",
       "15362           город Москва, улица Земляной Вал, дом 33      10  \n",
       "15363           город Москва, улица Земляной Вал, дом 33      20  \n",
       "15364  город Москва, поселение Московский, Киевское ш...      36  \n",
       "15365             город Москва, Ходынский бульвар, дом 4      10  \n",
       "\n",
       "[2968 rows x 6 columns]"
      ]
     },
     "execution_count": 16,
     "metadata": {},
     "output_type": "execute_result"
    }
   ],
   "source": [
    "rest_chain = rest_data.query('chain == \"да\"')\n",
    "rest_chain"
   ]
  },
  {
   "cell_type": "code",
   "execution_count": 17,
   "metadata": {},
   "outputs": [
    {
     "data": {
      "text/html": [
       "<div>\n",
       "<style scoped>\n",
       "    .dataframe tbody tr th:only-of-type {\n",
       "        vertical-align: middle;\n",
       "    }\n",
       "\n",
       "    .dataframe tbody tr th {\n",
       "        vertical-align: top;\n",
       "    }\n",
       "\n",
       "    .dataframe thead th {\n",
       "        text-align: right;\n",
       "    }\n",
       "</style>\n",
       "<table border=\"1\" class=\"dataframe\">\n",
       "  <thead>\n",
       "    <tr style=\"text-align: right;\">\n",
       "      <th></th>\n",
       "      <th>number</th>\n",
       "      <th>id</th>\n",
       "    </tr>\n",
       "    <tr>\n",
       "      <th>object_name</th>\n",
       "      <th></th>\n",
       "      <th></th>\n",
       "    </tr>\n",
       "  </thead>\n",
       "  <tbody>\n",
       "    <tr>\n",
       "      <th>beverly hills diner</th>\n",
       "      <td>88.0</td>\n",
       "      <td>1</td>\n",
       "    </tr>\n",
       "    <tr>\n",
       "      <th>bierloga</th>\n",
       "      <td>75.0</td>\n",
       "      <td>1</td>\n",
       "    </tr>\n",
       "    <tr>\n",
       "      <th>black &amp; white</th>\n",
       "      <td>40.0</td>\n",
       "      <td>1</td>\n",
       "    </tr>\n",
       "    <tr>\n",
       "      <th>bocconcino</th>\n",
       "      <td>68.0</td>\n",
       "      <td>3</td>\n",
       "    </tr>\n",
       "    <tr>\n",
       "      <th>boobo</th>\n",
       "      <td>46.0</td>\n",
       "      <td>1</td>\n",
       "    </tr>\n",
       "    <tr>\n",
       "      <th>...</th>\n",
       "      <td>...</td>\n",
       "      <td>...</td>\n",
       "    </tr>\n",
       "    <tr>\n",
       "      <th>ямми микс</th>\n",
       "      <td>2.0</td>\n",
       "      <td>1</td>\n",
       "    </tr>\n",
       "    <tr>\n",
       "      <th>ян примус</th>\n",
       "      <td>300.0</td>\n",
       "      <td>1</td>\n",
       "    </tr>\n",
       "    <tr>\n",
       "      <th>японский ресторан «ваби-саби»</th>\n",
       "      <td>155.0</td>\n",
       "      <td>1</td>\n",
       "    </tr>\n",
       "    <tr>\n",
       "      <th>япоша</th>\n",
       "      <td>105.0</td>\n",
       "      <td>2</td>\n",
       "    </tr>\n",
       "    <tr>\n",
       "      <th>ёрш</th>\n",
       "      <td>104.0</td>\n",
       "      <td>4</td>\n",
       "    </tr>\n",
       "  </tbody>\n",
       "</table>\n",
       "<p>577 rows × 2 columns</p>\n",
       "</div>"
      ],
      "text/plain": [
       "                               number  id\n",
       "object_name                              \n",
       "beverly hills diner              88.0   1\n",
       "bierloga                         75.0   1\n",
       "black & white                    40.0   1\n",
       "bocconcino                       68.0   3\n",
       "boobo                            46.0   1\n",
       "...                               ...  ..\n",
       "ямми микс                         2.0   1\n",
       "ян примус                       300.0   1\n",
       "японский ресторан «ваби-саби»   155.0   1\n",
       "япоша                           105.0   2\n",
       "ёрш                             104.0   4\n",
       "\n",
       "[577 rows x 2 columns]"
      ]
     },
     "execution_count": 17,
     "metadata": {},
     "output_type": "execute_result"
    }
   ],
   "source": [
    "chain_seats = rest_chain.groupby(['object_name']).agg({'number':'median', 'id':'count'})\n",
    "chain_seats"
   ]
  },
  {
   "cell_type": "code",
   "execution_count": 18,
   "metadata": {
    "scrolled": true
   },
   "outputs": [
    {
     "data": {
      "image/png": "[encoded data removed]",
      "text/plain": [
       "<Figure size 576x576 with 3 Axes>"
      ]
     },
     "metadata": {
      "needs_background": "light"
     },
     "output_type": "display_data"
    }
   ],
   "source": [
    "gr = sns.jointplot(x='number', y='id', data=chain_seats, height=8, color = '#2b70b0') \n",
    "gr.set_axis_labels(xlabel= \"Число посадочных мест\", ylabel=\"Количество заведений, шт.\")\n",
    "plt.show()"
   ]
  },
  {
   "cell_type": "markdown",
   "metadata": {},
   "source": [
    "Из полученного представления можно сделать вывод, что для сетевых заведений более характерно много заведений с небольшим числом посадочных мест. Количество заведений с большим числом (больше 100) посадочных мест очень мало. Большинство заведений имеют в среднем до 50 мест. Также много заведений без мест вообще, эти заведения работают на вынос."
   ]
  },
  {
   "cell_type": "code",
   "execution_count": 19,
   "metadata": {},
   "outputs": [
    {
     "data": {
      "text/plain": [
       "5.143847487001733"
      ]
     },
     "metadata": {},
     "output_type": "display_data"
    },
    {
     "data": {
      "text/plain": [
       "1.0"
      ]
     },
     "metadata": {},
     "output_type": "display_data"
    }
   ],
   "source": [
    "display(chain_seats['id'].mean(), chain_seats['id'].median())"
   ]
  },
  {
   "cell_type": "markdown",
   "metadata": {},
   "source": [
    "# Среднее количество посадочных мест для каждого вида объекта общественного питания"
   ]
  },
  {
   "cell_type": "code",
   "execution_count": 20,
   "metadata": {},
   "outputs": [
    {
     "data": {
      "text/html": [
       "<div>\n",
       "<style scoped>\n",
       "    .dataframe tbody tr th:only-of-type {\n",
       "        vertical-align: middle;\n",
       "    }\n",
       "\n",
       "    .dataframe tbody tr th {\n",
       "        vertical-align: top;\n",
       "    }\n",
       "\n",
       "    .dataframe thead th {\n",
       "        text-align: right;\n",
       "    }\n",
       "</style>\n",
       "<table border=\"1\" class=\"dataframe\">\n",
       "  <thead>\n",
       "    <tr style=\"text-align: right;\">\n",
       "      <th></th>\n",
       "      <th>object_type</th>\n",
       "      <th>number</th>\n",
       "    </tr>\n",
       "  </thead>\n",
       "  <tbody>\n",
       "    <tr>\n",
       "      <th>7</th>\n",
       "      <td>столовая</td>\n",
       "      <td>130.246618</td>\n",
       "    </tr>\n",
       "    <tr>\n",
       "      <th>6</th>\n",
       "      <td>ресторан</td>\n",
       "      <td>96.834136</td>\n",
       "    </tr>\n",
       "    <tr>\n",
       "      <th>1</th>\n",
       "      <td>буфет</td>\n",
       "      <td>51.129915</td>\n",
       "    </tr>\n",
       "    <tr>\n",
       "      <th>0</th>\n",
       "      <td>бар</td>\n",
       "      <td>43.494159</td>\n",
       "    </tr>\n",
       "    <tr>\n",
       "      <th>3</th>\n",
       "      <td>кафе</td>\n",
       "      <td>39.716019</td>\n",
       "    </tr>\n",
       "    <tr>\n",
       "      <th>8</th>\n",
       "      <td>фаст-фуд</td>\n",
       "      <td>20.552262</td>\n",
       "    </tr>\n",
       "    <tr>\n",
       "      <th>4</th>\n",
       "      <td>кафетерий</td>\n",
       "      <td>9.123116</td>\n",
       "    </tr>\n",
       "    <tr>\n",
       "      <th>2</th>\n",
       "      <td>закусочная</td>\n",
       "      <td>7.608333</td>\n",
       "    </tr>\n",
       "    <tr>\n",
       "      <th>5</th>\n",
       "      <td>отдел кулинарии</td>\n",
       "      <td>5.589744</td>\n",
       "    </tr>\n",
       "  </tbody>\n",
       "</table>\n",
       "</div>"
      ],
      "text/plain": [
       "       object_type      number\n",
       "7         столовая  130.246618\n",
       "6         ресторан   96.834136\n",
       "1            буфет   51.129915\n",
       "0              бар   43.494159\n",
       "3             кафе   39.716019\n",
       "8         фаст-фуд   20.552262\n",
       "4        кафетерий    9.123116\n",
       "2       закусочная    7.608333\n",
       "5  отдел кулинарии    5.589744"
      ]
     },
     "execution_count": 20,
     "metadata": {},
     "output_type": "execute_result"
    }
   ],
   "source": [
    "seats_type = rest_data.groupby(['object_type']).agg({'number':'mean'}).reset_index().sort_values(by='number',ascending = False)\n",
    "seats_type"
   ]
  },
  {
   "cell_type": "code",
   "execution_count": 21,
   "metadata": {},
   "outputs": [
    {
     "data": {
      "image/png": "[encoded data removed]",
      "text/plain": [
       "<Figure size 864x504 with 1 Axes>"
      ]
     },
     "metadata": {
      "needs_background": "light"
     },
     "output_type": "display_data"
    }
   ],
   "source": [
    "fig= plt.figure(figsize=(12,7))\n",
    "sns.color_palette('pastel') \n",
    "splot = sns.barplot(x='object_type', y='number', data=seats_type, color = '#2b70b0')\n",
    "for p in splot.patches:\n",
    "    splot.annotate(format(p.get_height(), '.0f'), (p.get_x() + p.get_width() / 2., p.get_height()), ha = 'center', va = 'center',  xytext = (0, 10), textcoords = 'offset points')\n",
    "\n",
    "plt.title('Среднее количество посадочных мест')\n",
    "plt.xlabel('Тип заведения')\n",
    "plt.ylabel('Количество мест, шт.')\n",
    "plt.xticks(rotation = 45)\n",
    "plt.show()"
   ]
  },
  {
   "cell_type": "markdown",
   "metadata": {},
   "source": [
    "Наибольшее количество посадочных мест в столовых - это может быть связано с тем, что для столовых характерны пиковые загрузки в определенные часы (например, в обеденное время), когда требуется посадить одновременно большое количество посетителей. В ресторанах также в среднем довольно большое количество мест, возможно из-за того, что ресторан больше воспринимается как место для отдыха, соответственно время пребывания в нем больше, чем в других заведениях. Также на время пребывания может повлиять более длительное время обслуживания и приготовления блюд. Буфеты бары и кафе находятся примерно на одном уровне по посадочным местам - от 40 до 50. Для фастфуда характерно небольшое количество посадочных мест - в среднем 21, что связано с малым временем пребывания в заведении, а также с тем, что из фастфуда часто берут блюда на вынос. Кафетерии, закусочные и отделы кулинарии имеют малое количество мест для посадки - таких заведений в принципе меньше, чем остальных, а также ассортимент довольно ограничен."
   ]
  },
  {
   "cell_type": "markdown",
   "metadata": {},
   "source": [
    "# Топ-10 улиц по количеству объектов общественного питания"
   ]
  },
  {
   "cell_type": "markdown",
   "metadata": {},
   "source": [
    "Выделим в отдельный столбец информацию об улице из столбца address:"
   ]
  },
  {
   "cell_type": "code",
   "execution_count": 22,
   "metadata": {
    "scrolled": false
   },
   "outputs": [
    {
     "data": {
      "text/html": [
       "<div>\n",
       "<style scoped>\n",
       "    .dataframe tbody tr th:only-of-type {\n",
       "        vertical-align: middle;\n",
       "    }\n",
       "\n",
       "    .dataframe tbody tr th {\n",
       "        vertical-align: top;\n",
       "    }\n",
       "\n",
       "    .dataframe thead th {\n",
       "        text-align: right;\n",
       "    }\n",
       "</style>\n",
       "<table border=\"1\" class=\"dataframe\">\n",
       "  <thead>\n",
       "    <tr style=\"text-align: right;\">\n",
       "      <th></th>\n",
       "      <th>id</th>\n",
       "      <th>object_name</th>\n",
       "      <th>chain</th>\n",
       "      <th>object_type</th>\n",
       "      <th>address</th>\n",
       "      <th>number</th>\n",
       "      <th>street</th>\n",
       "    </tr>\n",
       "  </thead>\n",
       "  <tbody>\n",
       "    <tr>\n",
       "      <th>0</th>\n",
       "      <td>151635</td>\n",
       "      <td>сметана</td>\n",
       "      <td>нет</td>\n",
       "      <td>кафе</td>\n",
       "      <td>город Москва, улица Егора Абакумова, дом 9</td>\n",
       "      <td>48</td>\n",
       "      <td>улица Егора Абакумова</td>\n",
       "    </tr>\n",
       "    <tr>\n",
       "      <th>1</th>\n",
       "      <td>77874</td>\n",
       "      <td>родник</td>\n",
       "      <td>нет</td>\n",
       "      <td>кафе</td>\n",
       "      <td>город Москва, улица Талалихина, дом 2/1, корпус 1</td>\n",
       "      <td>35</td>\n",
       "      <td>улица Талалихина</td>\n",
       "    </tr>\n",
       "    <tr>\n",
       "      <th>2</th>\n",
       "      <td>24309</td>\n",
       "      <td>кафе «академия»</td>\n",
       "      <td>нет</td>\n",
       "      <td>кафе</td>\n",
       "      <td>город Москва, Абельмановская улица, дом 6</td>\n",
       "      <td>95</td>\n",
       "      <td>Абельмановская улица</td>\n",
       "    </tr>\n",
       "    <tr>\n",
       "      <th>3</th>\n",
       "      <td>21894</td>\n",
       "      <td>пиццетория</td>\n",
       "      <td>да</td>\n",
       "      <td>кафе</td>\n",
       "      <td>город Москва, Абрамцевская улица, дом 1</td>\n",
       "      <td>40</td>\n",
       "      <td>Абрамцевская улица</td>\n",
       "    </tr>\n",
       "    <tr>\n",
       "      <th>4</th>\n",
       "      <td>119365</td>\n",
       "      <td>кафе «вишневая метель»</td>\n",
       "      <td>нет</td>\n",
       "      <td>кафе</td>\n",
       "      <td>город Москва, Абрамцевская улица, дом 9, корпус 1</td>\n",
       "      <td>50</td>\n",
       "      <td>Абрамцевская улица</td>\n",
       "    </tr>\n",
       "  </tbody>\n",
       "</table>\n",
       "</div>"
      ],
      "text/plain": [
       "       id             object_name chain object_type  \\\n",
       "0  151635                 сметана   нет        кафе   \n",
       "1   77874                  родник   нет        кафе   \n",
       "2   24309         кафе «академия»   нет        кафе   \n",
       "3   21894              пиццетория    да        кафе   \n",
       "4  119365  кафе «вишневая метель»   нет        кафе   \n",
       "\n",
       "                                             address  number  \\\n",
       "0         город Москва, улица Егора Абакумова, дом 9      48   \n",
       "1  город Москва, улица Талалихина, дом 2/1, корпус 1      35   \n",
       "2          город Москва, Абельмановская улица, дом 6      95   \n",
       "3            город Москва, Абрамцевская улица, дом 1      40   \n",
       "4  город Москва, Абрамцевская улица, дом 9, корпус 1      50   \n",
       "\n",
       "                  street  \n",
       "0  улица Егора Абакумова  \n",
       "1       улица Талалихина  \n",
       "2   Абельмановская улица  \n",
       "3     Абрамцевская улица  \n",
       "4     Абрамцевская улица  "
      ]
     },
     "execution_count": 22,
     "metadata": {},
     "output_type": "execute_result"
    }
   ],
   "source": [
    "address_type = ['улица','площадь','проспект','бульвар','переулок','проезд','набережная','аллея','шоссе','тупик','просека']\n",
    "\n",
    "def split_address(row):\n",
    "    for element in row.split(', '):\n",
    "        for address in address_type:\n",
    "                if address in element:\n",
    "                    return element\n",
    "rest_data['street'] = rest_data['address'].apply(split_address)\n",
    "\n",
    "rest_data.head()"
   ]
  },
  {
   "cell_type": "markdown",
   "metadata": {},
   "source": [
    "Добавим в таблицу информацию о районах города Москва воспользовавшись открытыми данными с сайта Мосгаза:"
   ]
  },
  {
   "cell_type": "code",
   "execution_count": 23,
   "metadata": {
    "scrolled": true
   },
   "outputs": [
    {
     "data": {
      "text/html": [
       "<div>\n",
       "<style scoped>\n",
       "    .dataframe tbody tr th:only-of-type {\n",
       "        vertical-align: middle;\n",
       "    }\n",
       "\n",
       "    .dataframe tbody tr th {\n",
       "        vertical-align: top;\n",
       "    }\n",
       "\n",
       "    .dataframe thead th {\n",
       "        text-align: right;\n",
       "    }\n",
       "</style>\n",
       "<table border=\"1\" class=\"dataframe\">\n",
       "  <thead>\n",
       "    <tr style=\"text-align: right;\">\n",
       "      <th></th>\n",
       "      <th>street</th>\n",
       "      <th>areaid</th>\n",
       "      <th>okrug</th>\n",
       "      <th>area</th>\n",
       "    </tr>\n",
       "  </thead>\n",
       "  <tbody>\n",
       "    <tr>\n",
       "      <th>0</th>\n",
       "      <td>Выставочный переулок</td>\n",
       "      <td>17</td>\n",
       "      <td>ЦАО</td>\n",
       "      <td>Пресненский район</td>\n",
       "    </tr>\n",
       "    <tr>\n",
       "      <th>1</th>\n",
       "      <td>улица Гашека</td>\n",
       "      <td>17</td>\n",
       "      <td>ЦАО</td>\n",
       "      <td>Пресненский район</td>\n",
       "    </tr>\n",
       "    <tr>\n",
       "      <th>2</th>\n",
       "      <td>Большая Никитская улица</td>\n",
       "      <td>17</td>\n",
       "      <td>ЦАО</td>\n",
       "      <td>Пресненский район</td>\n",
       "    </tr>\n",
       "    <tr>\n",
       "      <th>3</th>\n",
       "      <td>Глубокий переулок</td>\n",
       "      <td>17</td>\n",
       "      <td>ЦАО</td>\n",
       "      <td>Пресненский район</td>\n",
       "    </tr>\n",
       "    <tr>\n",
       "      <th>4</th>\n",
       "      <td>Большой Гнездниковский переулок</td>\n",
       "      <td>17</td>\n",
       "      <td>ЦАО</td>\n",
       "      <td>Пресненский район</td>\n",
       "    </tr>\n",
       "    <tr>\n",
       "      <th>...</th>\n",
       "      <td>...</td>\n",
       "      <td>...</td>\n",
       "      <td>...</td>\n",
       "      <td>...</td>\n",
       "    </tr>\n",
       "    <tr>\n",
       "      <th>4393</th>\n",
       "      <td>Вознесенский проезд</td>\n",
       "      <td>17</td>\n",
       "      <td>ЦАО</td>\n",
       "      <td>Пресненский район</td>\n",
       "    </tr>\n",
       "    <tr>\n",
       "      <th>4394</th>\n",
       "      <td>Волков переулок</td>\n",
       "      <td>17</td>\n",
       "      <td>ЦАО</td>\n",
       "      <td>Пресненский район</td>\n",
       "    </tr>\n",
       "    <tr>\n",
       "      <th>4395</th>\n",
       "      <td>Поварская улица</td>\n",
       "      <td>17</td>\n",
       "      <td>ЦАО</td>\n",
       "      <td>Пресненский район</td>\n",
       "    </tr>\n",
       "    <tr>\n",
       "      <th>4396</th>\n",
       "      <td>Кудринская площадь</td>\n",
       "      <td>17</td>\n",
       "      <td>ЦАО</td>\n",
       "      <td>Пресненский район</td>\n",
       "    </tr>\n",
       "    <tr>\n",
       "      <th>4397</th>\n",
       "      <td>Вспольный переулок</td>\n",
       "      <td>17</td>\n",
       "      <td>ЦАО</td>\n",
       "      <td>Пресненский район</td>\n",
       "    </tr>\n",
       "  </tbody>\n",
       "</table>\n",
       "<p>4398 rows × 4 columns</p>\n",
       "</div>"
      ],
      "text/plain": [
       "                               street  areaid okrug               area\n",
       "0                Выставочный переулок      17   ЦАО  Пресненский район\n",
       "1                        улица Гашека      17   ЦАО  Пресненский район\n",
       "2             Большая Никитская улица      17   ЦАО  Пресненский район\n",
       "3                   Глубокий переулок      17   ЦАО  Пресненский район\n",
       "4     Большой Гнездниковский переулок      17   ЦАО  Пресненский район\n",
       "...                               ...     ...   ...                ...\n",
       "4393              Вознесенский проезд      17   ЦАО  Пресненский район\n",
       "4394                  Волков переулок      17   ЦАО  Пресненский район\n",
       "4395                  Поварская улица      17   ЦАО  Пресненский район\n",
       "4396               Кудринская площадь      17   ЦАО  Пресненский район\n",
       "4397               Вспольный переулок      17   ЦАО  Пресненский район\n",
       "\n",
       "[4398 rows x 4 columns]"
      ]
     },
     "execution_count": 23,
     "metadata": {},
     "output_type": "execute_result"
    }
   ],
   "source": [
    "from io import BytesIO\n",
    "import requests\n",
    "spreadsheet_id = '1kWy6YsDQ07qjJ-T32oFDH0GgarNKkXlygk-QsCKv6Oc'\n",
    "file_name = 'https://docs.google.com/spreadsheets/d/{}/export?format=csv'.format(spreadsheet_id)\n",
    "r = requests.get(file_name)\n",
    "mosgaz = pd.read_csv(BytesIO(r.content))\n",
    "mosgaz"
   ]
  },
  {
   "cell_type": "code",
   "execution_count": 24,
   "metadata": {},
   "outputs": [
    {
     "data": {
      "text/html": [
       "<div>\n",
       "<style scoped>\n",
       "    .dataframe tbody tr th:only-of-type {\n",
       "        vertical-align: middle;\n",
       "    }\n",
       "\n",
       "    .dataframe tbody tr th {\n",
       "        vertical-align: top;\n",
       "    }\n",
       "\n",
       "    .dataframe thead th {\n",
       "        text-align: right;\n",
       "    }\n",
       "</style>\n",
       "<table border=\"1\" class=\"dataframe\">\n",
       "  <thead>\n",
       "    <tr style=\"text-align: right;\">\n",
       "      <th></th>\n",
       "      <th>id</th>\n",
       "      <th>object_name</th>\n",
       "      <th>chain</th>\n",
       "      <th>object_type</th>\n",
       "      <th>address</th>\n",
       "      <th>number</th>\n",
       "      <th>street</th>\n",
       "      <th>areaid</th>\n",
       "      <th>okrug</th>\n",
       "      <th>area</th>\n",
       "    </tr>\n",
       "  </thead>\n",
       "  <tbody>\n",
       "    <tr>\n",
       "      <th>0</th>\n",
       "      <td>151635</td>\n",
       "      <td>сметана</td>\n",
       "      <td>нет</td>\n",
       "      <td>кафе</td>\n",
       "      <td>город Москва, улица Егора Абакумова, дом 9</td>\n",
       "      <td>48</td>\n",
       "      <td>улица Егора Абакумова</td>\n",
       "      <td>86.0</td>\n",
       "      <td>СВАО</td>\n",
       "      <td>Ярославский Район</td>\n",
       "    </tr>\n",
       "    <tr>\n",
       "      <th>1</th>\n",
       "      <td>77874</td>\n",
       "      <td>родник</td>\n",
       "      <td>нет</td>\n",
       "      <td>кафе</td>\n",
       "      <td>город Москва, улица Талалихина, дом 2/1, корпус 1</td>\n",
       "      <td>35</td>\n",
       "      <td>улица Талалихина</td>\n",
       "      <td>18.0</td>\n",
       "      <td>ЦАО</td>\n",
       "      <td>Таганский район</td>\n",
       "    </tr>\n",
       "    <tr>\n",
       "      <th>2</th>\n",
       "      <td>77874</td>\n",
       "      <td>родник</td>\n",
       "      <td>нет</td>\n",
       "      <td>кафе</td>\n",
       "      <td>город Москва, улица Талалихина, дом 2/1, корпус 1</td>\n",
       "      <td>35</td>\n",
       "      <td>улица Талалихина</td>\n",
       "      <td>117.0</td>\n",
       "      <td>ЮВАО</td>\n",
       "      <td>Нижегородский район</td>\n",
       "    </tr>\n",
       "    <tr>\n",
       "      <th>3</th>\n",
       "      <td>77874</td>\n",
       "      <td>родник</td>\n",
       "      <td>нет</td>\n",
       "      <td>кафе</td>\n",
       "      <td>город Москва, улица Талалихина, дом 2/1, корпус 1</td>\n",
       "      <td>35</td>\n",
       "      <td>улица Талалихина</td>\n",
       "      <td>133.0</td>\n",
       "      <td>ЮЗАО</td>\n",
       "      <td>Район Южное Бутово</td>\n",
       "    </tr>\n",
       "    <tr>\n",
       "      <th>4</th>\n",
       "      <td>24309</td>\n",
       "      <td>кафе «академия»</td>\n",
       "      <td>нет</td>\n",
       "      <td>кафе</td>\n",
       "      <td>город Москва, Абельмановская улица, дом 6</td>\n",
       "      <td>95</td>\n",
       "      <td>Абельмановская улица</td>\n",
       "      <td>18.0</td>\n",
       "      <td>ЦАО</td>\n",
       "      <td>Таганский район</td>\n",
       "    </tr>\n",
       "  </tbody>\n",
       "</table>\n",
       "</div>"
      ],
      "text/plain": [
       "       id      object_name chain object_type  \\\n",
       "0  151635          сметана   нет        кафе   \n",
       "1   77874           родник   нет        кафе   \n",
       "2   77874           родник   нет        кафе   \n",
       "3   77874           родник   нет        кафе   \n",
       "4   24309  кафе «академия»   нет        кафе   \n",
       "\n",
       "                                             address  number  \\\n",
       "0         город Москва, улица Егора Абакумова, дом 9      48   \n",
       "1  город Москва, улица Талалихина, дом 2/1, корпус 1      35   \n",
       "2  город Москва, улица Талалихина, дом 2/1, корпус 1      35   \n",
       "3  город Москва, улица Талалихина, дом 2/1, корпус 1      35   \n",
       "4          город Москва, Абельмановская улица, дом 6      95   \n",
       "\n",
       "                  street  areaid okrug                 area  \n",
       "0  улица Егора Абакумова    86.0  СВАО    Ярославский Район  \n",
       "1       улица Талалихина    18.0   ЦАО      Таганский район  \n",
       "2       улица Талалихина   117.0  ЮВАО  Нижегородский район  \n",
       "3       улица Талалихина   133.0  ЮЗАО   Район Южное Бутово  \n",
       "4   Абельмановская улица    18.0   ЦАО      Таганский район  "
      ]
     },
     "execution_count": 24,
     "metadata": {},
     "output_type": "execute_result"
    }
   ],
   "source": [
    "rest_data_full = rest_data.merge(mosgaz, on='street', how='left')\n",
    "rest_data_full.head()"
   ]
  },
  {
   "cell_type": "markdown",
   "metadata": {},
   "source": [
    "Определим топ-10 улиц с наибольшим количеством заведений:"
   ]
  },
  {
   "cell_type": "code",
   "execution_count": 25,
   "metadata": {},
   "outputs": [
    {
     "data": {
      "text/html": [
       "<div>\n",
       "<style scoped>\n",
       "    .dataframe tbody tr th:only-of-type {\n",
       "        vertical-align: middle;\n",
       "    }\n",
       "\n",
       "    .dataframe tbody tr th {\n",
       "        vertical-align: top;\n",
       "    }\n",
       "\n",
       "    .dataframe thead th {\n",
       "        text-align: right;\n",
       "    }\n",
       "</style>\n",
       "<table border=\"1\" class=\"dataframe\">\n",
       "  <thead>\n",
       "    <tr style=\"text-align: right;\">\n",
       "      <th></th>\n",
       "      <th>street</th>\n",
       "      <th>id</th>\n",
       "    </tr>\n",
       "  </thead>\n",
       "  <tbody>\n",
       "    <tr>\n",
       "      <th>1415</th>\n",
       "      <td>проспект Мира</td>\n",
       "      <td>204</td>\n",
       "    </tr>\n",
       "    <tr>\n",
       "      <th>1007</th>\n",
       "      <td>Профсоюзная улица</td>\n",
       "      <td>183</td>\n",
       "    </tr>\n",
       "    <tr>\n",
       "      <th>680</th>\n",
       "      <td>Ленинградский проспект</td>\n",
       "      <td>173</td>\n",
       "    </tr>\n",
       "    <tr>\n",
       "      <th>991</th>\n",
       "      <td>Пресненская набережная</td>\n",
       "      <td>167</td>\n",
       "    </tr>\n",
       "    <tr>\n",
       "      <th>393</th>\n",
       "      <td>Варшавское шоссе</td>\n",
       "      <td>165</td>\n",
       "    </tr>\n",
       "    <tr>\n",
       "      <th>683</th>\n",
       "      <td>Ленинский проспект</td>\n",
       "      <td>148</td>\n",
       "    </tr>\n",
       "    <tr>\n",
       "      <th>1411</th>\n",
       "      <td>проспект Вернадского</td>\n",
       "      <td>132</td>\n",
       "    </tr>\n",
       "    <tr>\n",
       "      <th>670</th>\n",
       "      <td>Кутузовский проспект</td>\n",
       "      <td>114</td>\n",
       "    </tr>\n",
       "    <tr>\n",
       "      <th>593</th>\n",
       "      <td>Каширское шоссе</td>\n",
       "      <td>112</td>\n",
       "    </tr>\n",
       "    <tr>\n",
       "      <th>600</th>\n",
       "      <td>Кировоградская улица</td>\n",
       "      <td>110</td>\n",
       "    </tr>\n",
       "  </tbody>\n",
       "</table>\n",
       "</div>"
      ],
      "text/plain": [
       "                      street   id\n",
       "1415           проспект Мира  204\n",
       "1007       Профсоюзная улица  183\n",
       "680   Ленинградский проспект  173\n",
       "991   Пресненская набережная  167\n",
       "393         Варшавское шоссе  165\n",
       "683       Ленинский проспект  148\n",
       "1411    проспект Вернадского  132\n",
       "670     Кутузовский проспект  114\n",
       "593          Каширское шоссе  112\n",
       "600     Кировоградская улица  110"
      ]
     },
     "execution_count": 25,
     "metadata": {},
     "output_type": "execute_result"
    }
   ],
   "source": [
    "top_10 = rest_data_full.groupby('street').agg({'id':'nunique'}).reset_index().sort_values(by='id',ascending = False)\n",
    "top_10 = top_10.head(10)\n",
    "top_10"
   ]
  },
  {
   "cell_type": "markdown",
   "metadata": {},
   "source": [
    "Определим, к каким районам города Москвы принадлежат эти улицы:"
   ]
  },
  {
   "cell_type": "code",
   "execution_count": 26,
   "metadata": {
    "scrolled": false
   },
   "outputs": [
    {
     "data": {
      "text/html": [
       "<div>\n",
       "<style scoped>\n",
       "    .dataframe tbody tr th:only-of-type {\n",
       "        vertical-align: middle;\n",
       "    }\n",
       "\n",
       "    .dataframe tbody tr th {\n",
       "        vertical-align: top;\n",
       "    }\n",
       "\n",
       "    .dataframe thead th {\n",
       "        text-align: right;\n",
       "    }\n",
       "</style>\n",
       "<table border=\"1\" class=\"dataframe\">\n",
       "  <thead>\n",
       "    <tr style=\"text-align: right;\">\n",
       "      <th></th>\n",
       "      <th>area</th>\n",
       "    </tr>\n",
       "    <tr>\n",
       "      <th>street</th>\n",
       "      <th></th>\n",
       "    </tr>\n",
       "  </thead>\n",
       "  <tbody>\n",
       "    <tr>\n",
       "      <th>Варшавское шоссе</th>\n",
       "      <td>[Район Чертаново Центральное, Район Чертаново Северное, Район Чертаново Южное, Донской район, Район Нагатино-Садовники, Нагорный район, Район Северное Бутово, Район Южное Бутово]</td>\n",
       "    </tr>\n",
       "    <tr>\n",
       "      <th>Каширское шоссе</th>\n",
       "      <td>[Район Москворечье-Сабурово, Район Нагатино-Садовники, Район Орехово-Борисово Южное, Район Орехово-Борисово Северное]</td>\n",
       "    </tr>\n",
       "    <tr>\n",
       "      <th>Кировоградская улица</th>\n",
       "      <td>[Район Чертаново Центральное, Район Чертаново Северное, Район Чертаново Южное]</td>\n",
       "    </tr>\n",
       "    <tr>\n",
       "      <th>Кутузовский проспект</th>\n",
       "      <td>[Район Дорогомилово, Район Фили-Давыдково]</td>\n",
       "    </tr>\n",
       "    <tr>\n",
       "      <th>Ленинградский проспект</th>\n",
       "      <td>[Район Аэропорт, Район Беговой, Хорошевский район, Район Сокол]</td>\n",
       "    </tr>\n",
       "    <tr>\n",
       "      <th>Ленинский проспект</th>\n",
       "      <td>[Район Проспект Вернадского, Район Тропарево-Никулино, Донской район, Район Гагаринский, Ломоносовский район, Обручевский район, Район Теплый Стан, Район Якиманка]</td>\n",
       "    </tr>\n",
       "    <tr>\n",
       "      <th>Пресненская набережная</th>\n",
       "      <td>[Пресненский район]</td>\n",
       "    </tr>\n",
       "    <tr>\n",
       "      <th>Профсоюзная улица</th>\n",
       "      <td>[Академический район, Район Черемушки, Район Ясенево, Район Коньково, Обручевский район, Район Теплый Стан]</td>\n",
       "    </tr>\n",
       "    <tr>\n",
       "      <th>проспект Вернадского</th>\n",
       "      <td>[Район Проспект Вернадского, Район Раменки, Район Тропарево-Никулино, Район Гагаринский, Ломоносовский район]</td>\n",
       "    </tr>\n",
       "    <tr>\n",
       "      <th>проспект Мира</th>\n",
       "      <td>[Алексеевский район, Ярославский Район, Район Марьина роща, Останкинский район, Район Ростокино, Район Свиблово, Мещанский район]</td>\n",
       "    </tr>\n",
       "  </tbody>\n",
       "</table>\n",
       "</div>"
      ],
      "text/plain": [
       "                                                                                                                                                                                                      area\n",
       "street                                                                                                                                                                                                    \n",
       "Варшавское шоссе        [Район Чертаново Центральное, Район Чертаново Северное, Район Чертаново Южное, Донской район, Район Нагатино-Садовники, Нагорный район, Район Северное Бутово, Район Южное Бутово]\n",
       "Каширское шоссе                                                                      [Район Москворечье-Сабурово, Район Нагатино-Садовники, Район Орехово-Борисово Южное, Район Орехово-Борисово Северное]\n",
       "Кировоградская улица                                                                                                        [Район Чертаново Центральное, Район Чертаново Северное, Район Чертаново Южное]\n",
       "Кутузовский проспект                                                                                                                                            [Район Дорогомилово, Район Фили-Давыдково]\n",
       "Ленинградский проспект                                                                                                                     [Район Аэропорт, Район Беговой, Хорошевский район, Район Сокол]\n",
       "Ленинский проспект                     [Район Проспект Вернадского, Район Тропарево-Никулино, Донской район, Район Гагаринский, Ломоносовский район, Обручевский район, Район Теплый Стан, Район Якиманка]\n",
       "Пресненская набережная                                                                                                                                                                 [Пресненский район]\n",
       "Профсоюзная улица                                                                              [Академический район, Район Черемушки, Район Ясенево, Район Коньково, Обручевский район, Район Теплый Стан]\n",
       "проспект Вернадского                                                                         [Район Проспект Вернадского, Район Раменки, Район Тропарево-Никулино, Район Гагаринский, Ломоносовский район]\n",
       "проспект Мира                                                            [Алексеевский район, Ярославский Район, Район Марьина роща, Останкинский район, Район Ростокино, Район Свиблово, Мещанский район]"
      ]
     },
     "execution_count": 26,
     "metadata": {},
     "output_type": "execute_result"
    }
   ],
   "source": [
    "pd.set_option('max_colwidth', 400)\n",
    "street_10 = top_10['street']\n",
    "top_10_area = rest_data_full.query('street in @street_10')\n",
    "top_10_area.groupby('street').agg({'area': 'unique'})"
   ]
  },
  {
   "cell_type": "code",
   "execution_count": 27,
   "metadata": {},
   "outputs": [
    {
     "data": {
      "image/png": "[encoded data removed]",
      "text/plain": [
       "<Figure size 864x504 with 1 Axes>"
      ]
     },
     "metadata": {
      "needs_background": "light"
     },
     "output_type": "display_data"
    }
   ],
   "source": [
    "fig= plt.figure(figsize=(12,7))\n",
    "sns.color_palette('pastel') \n",
    "splot = sns.barplot(x='street', y='id', data=top_10, color = '#2b70b0')\n",
    "for p in splot.patches:\n",
    "    splot.annotate(format(p.get_height(), '.0f'), (p.get_x() + p.get_width() / 2., p.get_height()), ha = 'center', va = 'center',  xytext = (0, 10), textcoords = 'offset points')\n",
    "\n",
    "plt.title('Топ-10 улиц с наибольшим количеством заведений')\n",
    "plt.xlabel('Улица')\n",
    "plt.ylabel('Количество заведений, шт.')\n",
    "plt.xticks(rotation = 45)\n",
    "plt.show()"
   ]
  },
  {
   "cell_type": "markdown",
   "metadata": {},
   "source": [
    "Можно заметить, что большинство заведений расположено на крупных улицах города. Наибольшее количество заведений - от 173 до 204, расположено на проспекте Мира, Профсоюзной улице и Ленинградском проспекте. Эти улицы характеризуются большой протяженностью, и проходят через несколько районов города. На Пресненской набережной также расположено большое количество заведений, это деловой центр города. Варшавское шоссе и Ленинский проспект являются магистральными улицами большой протяженности, там раположено 165 и 148 заведений соответственно. На проспекте Вернадского, Кутузовском проспекте и Каширском шоссе и Кировградской улице точек общепита примерно поровну."
   ]
  },
  {
   "cell_type": "markdown",
   "metadata": {},
   "source": [
    "# Улицы с одним объектом общественного питания"
   ]
  },
  {
   "cell_type": "markdown",
   "metadata": {},
   "source": [
    "Определим, на каких улицах горда Москвы расположено всего по одноу объекту общественного питания:"
   ]
  },
  {
   "cell_type": "code",
   "execution_count": 28,
   "metadata": {
    "scrolled": true
   },
   "outputs": [
    {
     "name": "stdout",
     "output_type": "stream",
     "text": [
      "<class 'pandas.core.frame.DataFrame'>\n",
      "Int64Index: 0 entries\n",
      "Data columns (total 2 columns):\n",
      " #   Column  Non-Null Count  Dtype \n",
      "---  ------  --------------  ----- \n",
      " 0   street  0 non-null      object\n",
      " 1   id      0 non-null      int64 \n",
      "dtypes: int64(1), object(1)\n",
      "memory usage: 0.0+ bytes\n"
     ]
    }
   ],
   "source": [
    "top_1 = rest_data_full.groupby('street').agg({'id':'nunique'}).reset_index().sort_values(by='id',ascending = True)\n",
    "single = top_1.query('id ==\"1\"')\n",
    "single.info()"
   ]
  },
  {
   "cell_type": "markdown",
   "metadata": {},
   "source": [
    "Выявлено 546 улиц с только одним заведением. Определим районы, к которым принадлежат эти улицы:"
   ]
  },
  {
   "cell_type": "code",
   "execution_count": 29,
   "metadata": {},
   "outputs": [
    {
     "data": {
      "text/html": [
       "<div>\n",
       "<style scoped>\n",
       "    .dataframe tbody tr th:only-of-type {\n",
       "        vertical-align: middle;\n",
       "    }\n",
       "\n",
       "    .dataframe tbody tr th {\n",
       "        vertical-align: top;\n",
       "    }\n",
       "\n",
       "    .dataframe thead th {\n",
       "        text-align: right;\n",
       "    }\n",
       "</style>\n",
       "<table border=\"1\" class=\"dataframe\">\n",
       "  <thead>\n",
       "    <tr style=\"text-align: right;\">\n",
       "      <th></th>\n",
       "      <th>street</th>\n",
       "    </tr>\n",
       "    <tr>\n",
       "      <th>area</th>\n",
       "      <th></th>\n",
       "    </tr>\n",
       "  </thead>\n",
       "  <tbody>\n",
       "    <tr>\n",
       "      <th>Академический район</th>\n",
       "      <td>[улица Ивана Бабушкина, улица Вавилова, Нахимовский проспект, улица Кржижановского, Профсоюзная улица, улица Дмитрия Ульянова, улица Шверника, проспект 60-летия Октября, Новочерёмушкинская улица, Большая Черёмушкинская улица, улица Кедрова, улица Гримау, улица Винокурова]</td>\n",
       "    </tr>\n",
       "    <tr>\n",
       "      <th>Алексеевский район</th>\n",
       "      <td>[улица Бориса Галушкина, улица Кибальчича, улица Павла Корчагина, улица Космонавтов, проспект Мира, Ярославская улица, Маломосковская улица, Кучин переулок, Кулаков переулок, Староалексеевская улица, Графский переулок, 1-я Мытищинская улица, улица Касаткина, Зубарев переулок, 3-я Мытищинская улица, Новоалексеевская улица, 1-й Рижский переулок, улица Константинова, Рижский проезд]</td>\n",
       "    </tr>\n",
       "    <tr>\n",
       "      <th>Алтуфьевский район</th>\n",
       "      <td>[Алтуфьевское шоссе, Бибиревская улица, Путевой проезд, Инженерная улица, Стандартная улица, Костромская улица, улица Бегичева]</td>\n",
       "    </tr>\n",
       "    <tr>\n",
       "      <th>Бабушкинский район</th>\n",
       "      <td>[Анадырский проезд, Енисейская улица, улица Коминтерна, улица Менжинского, Осташковская улица, Староватутинский проезд, Печорская улица, Ленская улица, Радужная улица, Олонецкий проезд, улица Рудневой, Чукотский проезд, улица Лётчика Бабушкина, Кольская улица]</td>\n",
       "    </tr>\n",
       "    <tr>\n",
       "      <th>Басманный район</th>\n",
       "      <td>[Новая Басманная улица, Бауманская улица, Бригадирский переулок, улица Госпитальный Вал, улица Жуковского, улица Казакова, Старая Басманная улица, Мясницкая улица, Большой Козловский переулок, Большой Златоустинский переулок, Кривоколенный переулок, Ладожская улица, Лялин переулок, улица Макаренко, улица Покровка, улица Машкова, Новорязанская улица, улица Воронцово Поле, Подсосенский переулок,...</td>\n",
       "    </tr>\n",
       "    <tr>\n",
       "      <th>...</th>\n",
       "      <td>...</td>\n",
       "    </tr>\n",
       "    <tr>\n",
       "      <th>Тверской район</th>\n",
       "      <td>[2-я Брестская улица, Большая Бронная улица, Васильевская улица, Весковский переулок, Воротниковский переулок, Большая Никитская улица, Большой Гнездниковский переулок, Малый Гнездниковский переулок, Тверская улица, 1-я Тверская-Ямская улица, улица Чаянова, Большая Грузинская улица, улица Грузинский Вал, Большой Каретный переулок, Долгоруковская улица, 2-й Колобовский переулок, Лесная улица, Н...</td>\n",
       "    </tr>\n",
       "    <tr>\n",
       "      <th>Тимирязевский Район</th>\n",
       "      <td>[Большая Академическая улица, Бутырская улица, Дмитровское шоссе, улица Костякова, Лиственничная аллея, 3-й Нижнелихоборский проезд, Тимирязевская улица, Линейный проезд, улица Немчинова, улица Вучетича, Астрадамский проезд, Дмитровский проезд, улица Прянишникова, Тимирязевский проезд, Чуксин тупик, Локомотивный проезд, улица Дубки, Красностуденческий проезд, улица Линии Октябрьской Железной Д...</td>\n",
       "    </tr>\n",
       "    <tr>\n",
       "      <th>Хорошевский район</th>\n",
       "      <td>[Беговая улица, Ленинградский проспект, 1-й Хорошёвский проезд, Хорошёвское шоссе, Чапаевский переулок, улица Гризодубовой, проезд Берёзовой Рощи, улица Розанова, 2-й Магистральный тупик, 2-й Хорошёвский проезд, улица Зорге, улица Куусинена, улица Поликарпова, улица Острякова, проезд Аэропорта, 3-я Песчаная улица, 1-я Магистральная улица, улица Викторенко, 5-я Магистральная улица, 1-й Магистра...</td>\n",
       "    </tr>\n",
       "    <tr>\n",
       "      <th>Южнопортовый Район</th>\n",
       "      <td>[проспект Андропова, Велозаводская улица, Волгоградский проспект, 1-я Дубровская улица, 5-я Кожуховская улица, 3-й Крутицкий переулок, улица Петра Романова, улица Симоновский Вал, улица Трофимова, Шарикоподшипниковская улица, Южнопортовая улица, 1-я улица Машиностроения, 2-й Южнопортовый проезд, 3-й Кожуховский проезд, Новоостаповская улица, 6-я Кожуховская улица, улица Крутицкий Вал, 7-я Кожу...</td>\n",
       "    </tr>\n",
       "    <tr>\n",
       "      <th>Ярославский Район</th>\n",
       "      <td>[улица Егора Абакумова, улица Вешних Вод, улица Дудинка, проспект Мира, улица Проходчиков, Холмогорская улица, Ярославское шоссе, Хибинский проезд, Палехская улица, улица Ротерта, Федоскинская улица, Югорский проезд, Лосевская улица, улица Красная Сосна]</td>\n",
       "    </tr>\n",
       "  </tbody>\n",
       "</table>\n",
       "<p>123 rows × 1 columns</p>\n",
       "</div>"
      ],
      "text/plain": [
       "                                                                                                                                                                                                                                                                                                                                                                                                                              street\n",
       "area                                                                                                                                                                                                                                                                                                                                                                                                                                \n",
       "Академический район                                                                                                                                 [улица Ивана Бабушкина, улица Вавилова, Нахимовский проспект, улица Кржижановского, Профсоюзная улица, улица Дмитрия Ульянова, улица Шверника, проспект 60-летия Октября, Новочерёмушкинская улица, Большая Черёмушкинская улица, улица Кедрова, улица Гримау, улица Винокурова]\n",
       "Алексеевский район                    [улица Бориса Галушкина, улица Кибальчича, улица Павла Корчагина, улица Космонавтов, проспект Мира, Ярославская улица, Маломосковская улица, Кучин переулок, Кулаков переулок, Староалексеевская улица, Графский переулок, 1-я Мытищинская улица, улица Касаткина, Зубарев переулок, 3-я Мытищинская улица, Новоалексеевская улица, 1-й Рижский переулок, улица Константинова, Рижский проезд]\n",
       "Алтуфьевский район                                                                                                                                                                                                                                                                                   [Алтуфьевское шоссе, Бибиревская улица, Путевой проезд, Инженерная улица, Стандартная улица, Костромская улица, улица Бегичева]\n",
       "Бабушкинский район                                                                                                                                              [Анадырский проезд, Енисейская улица, улица Коминтерна, улица Менжинского, Осташковская улица, Староватутинский проезд, Печорская улица, Ленская улица, Радужная улица, Олонецкий проезд, улица Рудневой, Чукотский проезд, улица Лётчика Бабушкина, Кольская улица]\n",
       "Басманный район      [Новая Басманная улица, Бауманская улица, Бригадирский переулок, улица Госпитальный Вал, улица Жуковского, улица Казакова, Старая Басманная улица, Мясницкая улица, Большой Козловский переулок, Большой Златоустинский переулок, Кривоколенный переулок, Ладожская улица, Лялин переулок, улица Макаренко, улица Покровка, улица Машкова, Новорязанская улица, улица Воронцово Поле, Подсосенский переулок,...\n",
       "...                                                                                                                                                                                                                                                                                                                                                                                                                              ...\n",
       "Тверской район       [2-я Брестская улица, Большая Бронная улица, Васильевская улица, Весковский переулок, Воротниковский переулок, Большая Никитская улица, Большой Гнездниковский переулок, Малый Гнездниковский переулок, Тверская улица, 1-я Тверская-Ямская улица, улица Чаянова, Большая Грузинская улица, улица Грузинский Вал, Большой Каретный переулок, Долгоруковская улица, 2-й Колобовский переулок, Лесная улица, Н...\n",
       "Тимирязевский Район  [Большая Академическая улица, Бутырская улица, Дмитровское шоссе, улица Костякова, Лиственничная аллея, 3-й Нижнелихоборский проезд, Тимирязевская улица, Линейный проезд, улица Немчинова, улица Вучетича, Астрадамский проезд, Дмитровский проезд, улица Прянишникова, Тимирязевский проезд, Чуксин тупик, Локомотивный проезд, улица Дубки, Красностуденческий проезд, улица Линии Октябрьской Железной Д...\n",
       "Хорошевский район    [Беговая улица, Ленинградский проспект, 1-й Хорошёвский проезд, Хорошёвское шоссе, Чапаевский переулок, улица Гризодубовой, проезд Берёзовой Рощи, улица Розанова, 2-й Магистральный тупик, 2-й Хорошёвский проезд, улица Зорге, улица Куусинена, улица Поликарпова, улица Острякова, проезд Аэропорта, 3-я Песчаная улица, 1-я Магистральная улица, улица Викторенко, 5-я Магистральная улица, 1-й Магистра...\n",
       "Южнопортовый Район   [проспект Андропова, Велозаводская улица, Волгоградский проспект, 1-я Дубровская улица, 5-я Кожуховская улица, 3-й Крутицкий переулок, улица Петра Романова, улица Симоновский Вал, улица Трофимова, Шарикоподшипниковская улица, Южнопортовая улица, 1-я улица Машиностроения, 2-й Южнопортовый проезд, 3-й Кожуховский проезд, Новоостаповская улица, 6-я Кожуховская улица, улица Крутицкий Вал, 7-я Кожу...\n",
       "Ярославский Район                                                                                                                                                     [улица Егора Абакумова, улица Вешних Вод, улица Дудинка, проспект Мира, улица Проходчиков, Холмогорская улица, Ярославское шоссе, Хибинский проезд, Палехская улица, улица Ротерта, Федоскинская улица, Югорский проезд, Лосевская улица, улица Красная Сосна]\n",
       "\n",
       "[123 rows x 1 columns]"
      ]
     },
     "execution_count": 29,
     "metadata": {},
     "output_type": "execute_result"
    }
   ],
   "source": [
    "pd.set_option('max_colwidth', 400)\n",
    "street_single = top_1['street']\n",
    "top_1_area = rest_data_full.query('street in @street_single')\n",
    "top_1_area.groupby('area').agg({'street': 'unique'})"
   ]
  },
  {
   "cell_type": "markdown",
   "metadata": {},
   "source": [
    "Какой-либо взаимосвязи малого количества заведений и района не наблюдается. В список попали как окраинные районы, так и центральные. Наличие только одной точки общепита может зависеть от ряда факторов, как например, длина улицы (слишком короткая); историческая застройка, которая может не попадать под стандарты заведений; расположение рядом с центральной улицей с большим количеством заведений; новый район, в котором заведения еще не открылись."
   ]
  },
  {
   "cell_type": "markdown",
   "metadata": {},
   "source": [
    "# Распределение количества посадочных мест для улиц с большим количеством объектов общественного питания"
   ]
  },
  {
   "cell_type": "markdown",
   "metadata": {},
   "source": [
    "Для исследования обратимся к полученным ранее топ-10 улиц с большим количеством заведений:"
   ]
  },
  {
   "cell_type": "code",
   "execution_count": 30,
   "metadata": {},
   "outputs": [],
   "source": [
    "top_seats = rest_data.query('street in @street_10')"
   ]
  },
  {
   "cell_type": "code",
   "execution_count": 31,
   "metadata": {
    "scrolled": true
   },
   "outputs": [
    {
     "data": {
      "text/html": [
       "<div>\n",
       "<style scoped>\n",
       "    .dataframe tbody tr th:only-of-type {\n",
       "        vertical-align: middle;\n",
       "    }\n",
       "\n",
       "    .dataframe tbody tr th {\n",
       "        vertical-align: top;\n",
       "    }\n",
       "\n",
       "    .dataframe thead th {\n",
       "        text-align: right;\n",
       "    }\n",
       "</style>\n",
       "<table border=\"1\" class=\"dataframe\">\n",
       "  <thead>\n",
       "    <tr style=\"text-align: right;\">\n",
       "      <th></th>\n",
       "      <th>number</th>\n",
       "    </tr>\n",
       "    <tr>\n",
       "      <th>street</th>\n",
       "      <th></th>\n",
       "    </tr>\n",
       "  </thead>\n",
       "  <tbody>\n",
       "    <tr>\n",
       "      <th>Кутузовский проспект</th>\n",
       "      <td>85.061404</td>\n",
       "    </tr>\n",
       "    <tr>\n",
       "      <th>проспект Вернадского</th>\n",
       "      <td>66.969697</td>\n",
       "    </tr>\n",
       "    <tr>\n",
       "      <th>Ленинский проспект</th>\n",
       "      <td>63.148649</td>\n",
       "    </tr>\n",
       "    <tr>\n",
       "      <th>проспект Мира</th>\n",
       "      <td>62.696078</td>\n",
       "    </tr>\n",
       "    <tr>\n",
       "      <th>Кировоградская улица</th>\n",
       "      <td>59.790909</td>\n",
       "    </tr>\n",
       "    <tr>\n",
       "      <th>Каширское шоссе</th>\n",
       "      <td>55.098214</td>\n",
       "    </tr>\n",
       "    <tr>\n",
       "      <th>Варшавское шоссе</th>\n",
       "      <td>52.278788</td>\n",
       "    </tr>\n",
       "    <tr>\n",
       "      <th>Ленинградский проспект</th>\n",
       "      <td>52.265896</td>\n",
       "    </tr>\n",
       "    <tr>\n",
       "      <th>Профсоюзная улица</th>\n",
       "      <td>47.360656</td>\n",
       "    </tr>\n",
       "    <tr>\n",
       "      <th>Пресненская набережная</th>\n",
       "      <td>45.844311</td>\n",
       "    </tr>\n",
       "  </tbody>\n",
       "</table>\n",
       "</div>"
      ],
      "text/plain": [
       "                           number\n",
       "street                           \n",
       "Кутузовский проспект    85.061404\n",
       "проспект Вернадского    66.969697\n",
       "Ленинский проспект      63.148649\n",
       "проспект Мира           62.696078\n",
       "Кировоградская улица    59.790909\n",
       "Каширское шоссе         55.098214\n",
       "Варшавское шоссе        52.278788\n",
       "Ленинградский проспект  52.265896\n",
       "Профсоюзная улица       47.360656\n",
       "Пресненская набережная  45.844311"
      ]
     },
     "execution_count": 31,
     "metadata": {},
     "output_type": "execute_result"
    }
   ],
   "source": [
    "top_street_seats = top_seats.groupby(['street']).agg({'number':'mean'}).sort_values(by='number',ascending = False)\n",
    "top_street_seats"
   ]
  },
  {
   "cell_type": "code",
   "execution_count": 32,
   "metadata": {
    "scrolled": true
   },
   "outputs": [
    {
     "data": {
      "image/png": "[encoded data removed]",
      "text/plain": [
       "<Figure size 864x504 with 1 Axes>"
      ]
     },
     "metadata": {
      "needs_background": "light"
     },
     "output_type": "display_data"
    }
   ],
   "source": [
    "top_street_seats.plot(kind = 'bar', figsize=(12, 7), legend = False)\n",
    "plt.title('Распределение количества посадочных мест')\n",
    "plt.xlabel('Улица')\n",
    "plt.ylabel('Количество посадочных мест, шт.')\n",
    "plt.xticks(rotation = 45)\n",
    "plt.show()"
   ]
  },
  {
   "cell_type": "markdown",
   "metadata": {},
   "source": [
    "Можно заметить, что наибольшее количество мест в заведениях на Кутузовском проспекте, при том, что количество заведений меньше, чем на других улицах из топ-10. Возможно, на этой улице располагаются крупные банкет-залы либо концерт-холлы. На остальных улицах количество посадочных мест различается не сильно - от 50 до 65 мест в среднем. Скорее всего это преимущественно кафе и рестораны."
   ]
  },
  {
   "cell_type": "markdown",
   "metadata": {},
   "source": [
    "# Выводы"
   ]
  },
  {
   "cell_type": "markdown",
   "metadata": {},
   "source": [
    "\n",
    "<b>По результатам исследования можно заключить:</b>  \n",
    "<li>Наиболее популярным типом заведения является кафе. Далее идут рестораны, столовые и фастфуды</li>   \n",
    "<li>Сетевых заведений гораздо меньше, чем не сетевых. Наиболее частые встречающиеся сетевые заведения - фастфуды, открытые по франшизе</li>\n",
    "<li>Сетевые заведения имеют в среднем 50 посадочных мест</li>\n",
    "<li>Наибольшее число посадочных мест в столовых и ресторанах - около 100 мест </li>\n",
    "<li>Наибольшее число заведений располагается на длинных центральных и магистральных улицах</li>\n",
    "<li>На улице может располагаться только одно заведение, вне зависимости от района</li>\n",
    "<li>Для улиц с большим количеством объектов общественного питания характерно в среднем 50-70 посадочных мест</li>\n",
    "    \n",
    "Опираясь на вышеизложенное, можно дать следующие рекомендации для открытия нового заведения, которое будут обслуживать роботы:\n",
    "<li>Наиболее предпочтительный вариант типа заведения - кафе, с средним количеством посадочных мест (50-60). Наиболее предпочтительный район расположения - Пресненский, хоть там и расположено большое количество заведений, в данном районе находятся международные и деловые центры, что обеспечит разнообразие посетителей и большую проходимость.</li>\n",
    "<li>Для развития сети кафе необходимо также выбирать центральные улицы, возможно, в том числе улицы пропускающие через себя большой поток турисутов. Для расположения рекомендуется избегать торговых центров - в них чаще располагаются сети другого типа - быстрого питания.</li>\n",
    "\n",
    "    \n"
   ]
  }
 ],
 "metadata": {
  "ExecuteTimeLog": [
   {
    "duration": 1527,
    "start_time": "2021-06-17T18:27:26.101Z"
   },
   {
    "duration": 1853,
    "start_time": "2021-06-17T18:28:35.342Z"
   },
   {
    "duration": 82,
    "start_time": "2021-06-17T18:30:32.318Z"
   },
   {
    "duration": 74,
    "start_time": "2021-06-17T18:47:31.703Z"
   },
   {
    "duration": 72,
    "start_time": "2021-06-17T18:47:41.150Z"
   },
   {
    "duration": 12,
    "start_time": "2021-06-17T18:47:44.993Z"
   },
   {
    "duration": 24,
    "start_time": "2021-06-17T18:49:13.671Z"
   },
   {
    "duration": 8,
    "start_time": "2021-06-17T18:55:00.287Z"
   },
   {
    "duration": 14,
    "start_time": "2021-06-17T18:55:24.884Z"
   },
   {
    "duration": 13,
    "start_time": "2021-06-17T18:55:38.713Z"
   },
   {
    "duration": 21,
    "start_time": "2021-06-17T18:55:57.870Z"
   },
   {
    "duration": 13,
    "start_time": "2021-06-17T18:58:49.679Z"
   },
   {
    "duration": 14,
    "start_time": "2021-06-17T18:59:07.118Z"
   },
   {
    "duration": 35,
    "start_time": "2021-06-17T18:59:46.715Z"
   },
   {
    "duration": 11,
    "start_time": "2021-06-17T19:01:24.064Z"
   },
   {
    "duration": 18,
    "start_time": "2021-06-17T19:03:21.127Z"
   },
   {
    "duration": 507,
    "start_time": "2021-06-17T19:04:54.390Z"
   },
   {
    "duration": 26,
    "start_time": "2021-06-17T19:05:02.576Z"
   },
   {
    "duration": 23,
    "start_time": "2021-06-17T19:05:35.455Z"
   },
   {
    "duration": 1429,
    "start_time": "2021-06-17T19:05:41.251Z"
   },
   {
    "duration": 77,
    "start_time": "2021-06-17T19:05:42.683Z"
   },
   {
    "duration": 15,
    "start_time": "2021-06-17T19:05:42.763Z"
   },
   {
    "duration": 49,
    "start_time": "2021-06-17T19:05:42.781Z"
   },
   {
    "duration": 15,
    "start_time": "2021-06-17T19:05:42.833Z"
   },
   {
    "duration": 23,
    "start_time": "2021-06-17T19:05:42.850Z"
   },
   {
    "duration": 11,
    "start_time": "2021-06-17T19:05:42.875Z"
   },
   {
    "duration": 48,
    "start_time": "2021-06-17T19:05:42.890Z"
   },
   {
    "duration": 27,
    "start_time": "2021-06-17T19:05:42.942Z"
   },
   {
    "duration": 12,
    "start_time": "2021-06-17T19:05:42.971Z"
   },
   {
    "duration": 18,
    "start_time": "2021-06-17T19:05:43.026Z"
   },
   {
    "duration": 29,
    "start_time": "2021-06-17T19:05:43.047Z"
   },
   {
    "duration": 65,
    "start_time": "2021-06-17T19:05:43.079Z"
   },
   {
    "duration": 35,
    "start_time": "2021-06-17T19:06:12.342Z"
   },
   {
    "duration": 17,
    "start_time": "2021-06-17T19:06:39.015Z"
   },
   {
    "duration": 7,
    "start_time": "2021-06-17T19:09:14.062Z"
   },
   {
    "duration": 33,
    "start_time": "2021-06-17T19:12:05.143Z"
   },
   {
    "duration": 13,
    "start_time": "2021-06-17T19:16:50.034Z"
   },
   {
    "duration": 1397,
    "start_time": "2021-06-17T19:19:42.687Z"
   },
   {
    "duration": 77,
    "start_time": "2021-06-17T19:19:44.087Z"
   },
   {
    "duration": 13,
    "start_time": "2021-06-17T19:19:44.168Z"
   },
   {
    "duration": 46,
    "start_time": "2021-06-17T19:19:44.184Z"
   },
   {
    "duration": 6,
    "start_time": "2021-06-17T19:19:44.232Z"
   },
   {
    "duration": 29,
    "start_time": "2021-06-17T19:19:44.241Z"
   },
   {
    "duration": 5,
    "start_time": "2021-06-17T19:19:44.272Z"
   },
   {
    "duration": 7,
    "start_time": "2021-06-17T19:19:44.280Z"
   },
   {
    "duration": 48,
    "start_time": "2021-06-17T19:19:44.290Z"
   },
   {
    "duration": 5,
    "start_time": "2021-06-17T19:19:44.341Z"
   },
   {
    "duration": 1551,
    "start_time": "2021-06-17T19:20:23.246Z"
   },
   {
    "duration": 78,
    "start_time": "2021-06-17T19:20:24.800Z"
   },
   {
    "duration": 13,
    "start_time": "2021-06-17T19:20:24.885Z"
   },
   {
    "duration": 47,
    "start_time": "2021-06-17T19:20:24.901Z"
   },
   {
    "duration": 5,
    "start_time": "2021-06-17T19:20:24.951Z"
   },
   {
    "duration": 27,
    "start_time": "2021-06-17T19:20:24.959Z"
   },
   {
    "duration": 38,
    "start_time": "2021-06-17T19:20:24.990Z"
   },
   {
    "duration": 10,
    "start_time": "2021-06-17T19:20:25.031Z"
   },
   {
    "duration": 15,
    "start_time": "2021-06-17T19:20:25.043Z"
   },
   {
    "duration": 6,
    "start_time": "2021-06-17T19:20:25.061Z"
   },
   {
    "duration": 1495,
    "start_time": "2021-06-17T19:37:39.191Z"
   },
   {
    "duration": 79,
    "start_time": "2021-06-17T19:37:40.689Z"
   },
   {
    "duration": 12,
    "start_time": "2021-06-17T19:37:40.771Z"
   },
   {
    "duration": 48,
    "start_time": "2021-06-17T19:37:40.786Z"
   },
   {
    "duration": 6,
    "start_time": "2021-06-17T19:37:40.836Z"
   },
   {
    "duration": 27,
    "start_time": "2021-06-17T19:37:40.845Z"
   },
   {
    "duration": 6,
    "start_time": "2021-06-17T19:37:40.875Z"
   },
   {
    "duration": 42,
    "start_time": "2021-06-17T19:37:40.885Z"
   },
   {
    "duration": 15,
    "start_time": "2021-06-17T19:37:40.930Z"
   },
   {
    "duration": 6,
    "start_time": "2021-06-17T19:37:40.948Z"
   },
   {
    "duration": 3,
    "start_time": "2021-06-17T19:49:21.120Z"
   },
   {
    "duration": 486,
    "start_time": "2021-06-17T19:49:28.383Z"
   },
   {
    "duration": 22,
    "start_time": "2021-06-17T19:49:37.940Z"
   },
   {
    "duration": 674,
    "start_time": "2021-06-17T19:50:31.991Z"
   },
   {
    "duration": 1700,
    "start_time": "2021-06-17T19:50:40.012Z"
   },
   {
    "duration": 85,
    "start_time": "2021-06-17T19:50:41.714Z"
   },
   {
    "duration": 13,
    "start_time": "2021-06-17T19:50:41.802Z"
   },
   {
    "duration": 27,
    "start_time": "2021-06-17T19:50:41.824Z"
   },
   {
    "duration": 7,
    "start_time": "2021-06-17T19:50:41.853Z"
   },
   {
    "duration": 73,
    "start_time": "2021-06-17T19:50:41.863Z"
   },
   {
    "duration": 5,
    "start_time": "2021-06-17T19:50:41.938Z"
   },
   {
    "duration": 9,
    "start_time": "2021-06-17T19:50:41.946Z"
   },
   {
    "duration": 24,
    "start_time": "2021-06-17T19:50:41.959Z"
   },
   {
    "duration": 43,
    "start_time": "2021-06-17T19:50:41.986Z"
   },
   {
    "duration": 13,
    "start_time": "2021-06-17T19:50:42.032Z"
   },
   {
    "duration": 709,
    "start_time": "2021-06-17T19:50:42.047Z"
   },
   {
    "duration": 957,
    "start_time": "2021-06-17T19:50:54.143Z"
   },
   {
    "duration": 384,
    "start_time": "2021-06-17T19:51:15.062Z"
   },
   {
    "duration": 16,
    "start_time": "2021-06-17T19:51:38.909Z"
   },
   {
    "duration": 467,
    "start_time": "2021-06-17T19:51:41.678Z"
   },
   {
    "duration": 308,
    "start_time": "2021-06-17T19:51:45.852Z"
   },
   {
    "duration": 661,
    "start_time": "2021-06-17T19:52:42.197Z"
   },
   {
    "duration": 519,
    "start_time": "2021-06-17T19:52:54.942Z"
   },
   {
    "duration": 573,
    "start_time": "2021-06-17T19:53:02.967Z"
   },
   {
    "duration": 16,
    "start_time": "2021-06-17T19:53:30.501Z"
   },
   {
    "duration": 300,
    "start_time": "2021-06-17T19:53:34.349Z"
   },
   {
    "duration": 1692,
    "start_time": "2021-06-17T19:54:20.549Z"
   },
   {
    "duration": 79,
    "start_time": "2021-06-17T19:54:22.243Z"
   },
   {
    "duration": 13,
    "start_time": "2021-06-17T19:54:22.324Z"
   },
   {
    "duration": 26,
    "start_time": "2021-06-17T19:54:22.340Z"
   },
   {
    "duration": 6,
    "start_time": "2021-06-17T19:54:22.368Z"
   },
   {
    "duration": 63,
    "start_time": "2021-06-17T19:54:22.377Z"
   },
   {
    "duration": 6,
    "start_time": "2021-06-17T19:54:22.443Z"
   },
   {
    "duration": 6,
    "start_time": "2021-06-17T19:54:22.452Z"
   },
   {
    "duration": 14,
    "start_time": "2021-06-17T19:54:22.461Z"
   },
   {
    "duration": 6,
    "start_time": "2021-06-17T19:54:22.478Z"
   },
   {
    "duration": 15,
    "start_time": "2021-06-17T19:54:22.526Z"
   },
   {
    "duration": 407,
    "start_time": "2021-06-17T19:54:22.543Z"
   },
   {
    "duration": 319,
    "start_time": "2021-06-17T19:55:17.110Z"
   },
   {
    "duration": 342,
    "start_time": "2021-06-17T19:56:31.327Z"
   },
   {
    "duration": 308,
    "start_time": "2021-06-17T19:56:47.205Z"
   },
   {
    "duration": 334,
    "start_time": "2021-06-17T19:56:53.239Z"
   },
   {
    "duration": 429,
    "start_time": "2021-06-17T19:57:16.725Z"
   },
   {
    "duration": 2216,
    "start_time": "2021-06-17T19:57:29.735Z"
   },
   {
    "duration": 83,
    "start_time": "2021-06-17T19:57:31.954Z"
   },
   {
    "duration": 15,
    "start_time": "2021-06-17T19:57:32.041Z"
   },
   {
    "duration": 25,
    "start_time": "2021-06-17T19:57:32.059Z"
   },
   {
    "duration": 7,
    "start_time": "2021-06-17T19:57:32.087Z"
   },
   {
    "duration": 28,
    "start_time": "2021-06-17T19:57:32.127Z"
   },
   {
    "duration": 6,
    "start_time": "2021-06-17T19:57:32.158Z"
   },
   {
    "duration": 8,
    "start_time": "2021-06-17T19:57:32.168Z"
   },
   {
    "duration": 58,
    "start_time": "2021-06-17T19:57:32.179Z"
   },
   {
    "duration": 6,
    "start_time": "2021-06-17T19:57:32.240Z"
   },
   {
    "duration": 20,
    "start_time": "2021-06-17T19:57:32.249Z"
   },
   {
    "duration": 404,
    "start_time": "2021-06-17T19:57:32.272Z"
   },
   {
    "duration": 346,
    "start_time": "2021-06-17T19:58:50.751Z"
   },
   {
    "duration": 444,
    "start_time": "2021-06-17T19:59:10.653Z"
   },
   {
    "duration": 304,
    "start_time": "2021-06-17T19:59:48.555Z"
   },
   {
    "duration": 311,
    "start_time": "2021-06-17T20:00:42.805Z"
   },
   {
    "duration": 528,
    "start_time": "2021-06-17T20:03:23.381Z"
   },
   {
    "duration": 393,
    "start_time": "2021-06-17T20:03:38.076Z"
   },
   {
    "duration": 339,
    "start_time": "2021-06-17T20:04:55.158Z"
   },
   {
    "duration": 486,
    "start_time": "2021-06-17T20:05:50.812Z"
   },
   {
    "duration": 497,
    "start_time": "2021-06-17T20:07:53.309Z"
   },
   {
    "duration": 388,
    "start_time": "2021-06-17T20:08:01.885Z"
   },
   {
    "duration": 400,
    "start_time": "2021-06-17T20:08:37.574Z"
   },
   {
    "duration": 1101,
    "start_time": "2021-06-18T15:22:09.387Z"
   },
   {
    "duration": 56,
    "start_time": "2021-06-18T15:22:10.490Z"
   },
   {
    "duration": 7,
    "start_time": "2021-06-18T15:22:10.548Z"
   },
   {
    "duration": 18,
    "start_time": "2021-06-18T15:22:10.557Z"
   },
   {
    "duration": 10,
    "start_time": "2021-06-18T15:22:10.576Z"
   },
   {
    "duration": 19,
    "start_time": "2021-06-18T15:22:10.588Z"
   },
   {
    "duration": 4,
    "start_time": "2021-06-18T15:22:10.608Z"
   },
   {
    "duration": 5,
    "start_time": "2021-06-18T15:22:10.614Z"
   },
   {
    "duration": 11,
    "start_time": "2021-06-18T15:22:10.620Z"
   },
   {
    "duration": 4,
    "start_time": "2021-06-18T15:22:10.632Z"
   },
   {
    "duration": 11,
    "start_time": "2021-06-18T15:22:10.637Z"
   },
   {
    "duration": 58,
    "start_time": "2021-06-18T15:22:10.649Z"
   },
   {
    "duration": 56,
    "start_time": "2021-06-18T15:22:42.344Z"
   },
   {
    "duration": 62,
    "start_time": "2021-06-18T15:23:25.686Z"
   },
   {
    "duration": 273,
    "start_time": "2021-06-18T15:23:44.989Z"
   },
   {
    "duration": 254,
    "start_time": "2021-06-18T15:24:15.661Z"
   },
   {
    "duration": 255,
    "start_time": "2021-06-18T15:24:26.606Z"
   },
   {
    "duration": 268,
    "start_time": "2021-06-18T15:24:40.796Z"
   },
   {
    "duration": 304,
    "start_time": "2021-06-18T15:24:45.445Z"
   },
   {
    "duration": 291,
    "start_time": "2021-06-18T15:25:05.452Z"
   },
   {
    "duration": 15,
    "start_time": "2021-06-18T15:55:31.473Z"
   },
   {
    "duration": 13,
    "start_time": "2021-06-18T15:55:54.077Z"
   },
   {
    "duration": 23,
    "start_time": "2021-06-18T15:56:21.051Z"
   },
   {
    "duration": 77,
    "start_time": "2021-06-18T15:56:49.909Z"
   },
   {
    "duration": 213,
    "start_time": "2021-06-18T15:57:36.602Z"
   },
   {
    "duration": 60,
    "start_time": "2021-06-18T15:58:15.222Z"
   },
   {
    "duration": 257,
    "start_time": "2021-06-18T15:58:18.932Z"
   },
   {
    "duration": 294,
    "start_time": "2021-06-18T15:59:44.238Z"
   },
   {
    "duration": 296,
    "start_time": "2021-06-18T16:00:00.463Z"
   },
   {
    "duration": 529,
    "start_time": "2021-06-18T16:02:40.205Z"
   },
   {
    "duration": 441,
    "start_time": "2021-06-18T16:04:52.348Z"
   },
   {
    "duration": 445,
    "start_time": "2021-06-18T16:05:10.405Z"
   },
   {
    "duration": 174,
    "start_time": "2021-06-18T16:06:02.124Z"
   },
   {
    "duration": 293,
    "start_time": "2021-06-18T16:06:15.595Z"
   },
   {
    "duration": 300,
    "start_time": "2021-06-18T16:07:08.812Z"
   },
   {
    "duration": 180,
    "start_time": "2021-06-18T16:07:55.966Z"
   },
   {
    "duration": 182,
    "start_time": "2021-06-18T16:08:16.403Z"
   },
   {
    "duration": 1044,
    "start_time": "2021-06-18T16:08:31.755Z"
   },
   {
    "duration": 57,
    "start_time": "2021-06-18T16:08:32.801Z"
   },
   {
    "duration": 8,
    "start_time": "2021-06-18T16:08:32.860Z"
   },
   {
    "duration": 22,
    "start_time": "2021-06-18T16:08:32.870Z"
   },
   {
    "duration": 4,
    "start_time": "2021-06-18T16:08:32.893Z"
   },
   {
    "duration": 21,
    "start_time": "2021-06-18T16:08:32.899Z"
   },
   {
    "duration": 8,
    "start_time": "2021-06-18T16:08:32.922Z"
   },
   {
    "duration": 6,
    "start_time": "2021-06-18T16:08:32.932Z"
   },
   {
    "duration": 10,
    "start_time": "2021-06-18T16:08:32.939Z"
   },
   {
    "duration": 3,
    "start_time": "2021-06-18T16:08:32.951Z"
   },
   {
    "duration": 37,
    "start_time": "2021-06-18T16:08:32.956Z"
   },
   {
    "duration": 318,
    "start_time": "2021-06-18T16:08:32.994Z"
   },
   {
    "duration": 283,
    "start_time": "2021-06-18T16:08:33.314Z"
   },
   {
    "duration": -133,
    "start_time": "2021-06-18T16:08:33.731Z"
   },
   {
    "duration": 195,
    "start_time": "2021-06-18T16:08:46.920Z"
   },
   {
    "duration": 199,
    "start_time": "2021-06-18T16:08:57.602Z"
   },
   {
    "duration": 17,
    "start_time": "2021-06-18T16:09:08.129Z"
   },
   {
    "duration": 282,
    "start_time": "2021-06-18T16:09:12.394Z"
   },
   {
    "duration": 67,
    "start_time": "2021-06-18T16:13:17.218Z"
   },
   {
    "duration": 56,
    "start_time": "2021-06-18T16:13:25.841Z"
   },
   {
    "duration": 211,
    "start_time": "2021-06-18T16:13:30.360Z"
   },
   {
    "duration": 176,
    "start_time": "2021-06-18T16:13:53.265Z"
   },
   {
    "duration": 187,
    "start_time": "2021-06-18T16:13:59.291Z"
   },
   {
    "duration": 301,
    "start_time": "2021-06-18T16:14:10.739Z"
   },
   {
    "duration": 16,
    "start_time": "2021-06-18T16:49:22.618Z"
   },
   {
    "duration": 5,
    "start_time": "2021-06-18T17:00:37.190Z"
   },
   {
    "duration": 172,
    "start_time": "2021-06-18T17:05:03.263Z"
   },
   {
    "duration": 1347,
    "start_time": "2021-06-18T17:05:09.953Z"
   },
   {
    "duration": 57,
    "start_time": "2021-06-18T17:05:11.302Z"
   },
   {
    "duration": 8,
    "start_time": "2021-06-18T17:05:11.361Z"
   },
   {
    "duration": 25,
    "start_time": "2021-06-18T17:05:11.371Z"
   },
   {
    "duration": 4,
    "start_time": "2021-06-18T17:05:11.398Z"
   },
   {
    "duration": 18,
    "start_time": "2021-06-18T17:05:11.404Z"
   },
   {
    "duration": 3,
    "start_time": "2021-06-18T17:05:11.424Z"
   },
   {
    "duration": 6,
    "start_time": "2021-06-18T17:05:11.429Z"
   },
   {
    "duration": 11,
    "start_time": "2021-06-18T17:05:11.436Z"
   },
   {
    "duration": 5,
    "start_time": "2021-06-18T17:05:11.449Z"
   },
   {
    "duration": 10,
    "start_time": "2021-06-18T17:05:11.485Z"
   },
   {
    "duration": 341,
    "start_time": "2021-06-18T17:05:11.497Z"
   },
   {
    "duration": 18,
    "start_time": "2021-06-18T17:05:11.840Z"
   },
   {
    "duration": 342,
    "start_time": "2021-06-18T17:05:11.860Z"
   },
   {
    "duration": 18,
    "start_time": "2021-06-18T17:05:12.204Z"
   },
   {
    "duration": 4,
    "start_time": "2021-06-18T17:05:12.224Z"
   },
   {
    "duration": 11,
    "start_time": "2021-06-18T17:05:12.230Z"
   },
   {
    "duration": 13,
    "start_time": "2021-06-18T17:05:18.156Z"
   },
   {
    "duration": 275,
    "start_time": "2021-06-18T17:05:41.486Z"
   },
   {
    "duration": 15,
    "start_time": "2021-06-18T17:05:51.991Z"
   },
   {
    "duration": 676,
    "start_time": "2021-06-18T17:09:03.068Z"
   },
   {
    "duration": 13,
    "start_time": "2021-06-18T17:12:01.628Z"
   },
   {
    "duration": 650,
    "start_time": "2021-06-18T17:12:52.670Z"
   },
   {
    "duration": 1090,
    "start_time": "2021-06-18T17:13:04.366Z"
   },
   {
    "duration": 1194,
    "start_time": "2021-06-18T17:14:13.646Z"
   },
   {
    "duration": 1005,
    "start_time": "2021-06-18T17:15:33.560Z"
   },
   {
    "duration": 1119,
    "start_time": "2021-06-18T17:16:47.255Z"
   },
   {
    "duration": 966,
    "start_time": "2021-06-18T17:16:52.389Z"
   },
   {
    "duration": 1113,
    "start_time": "2021-06-18T17:17:10.199Z"
   },
   {
    "duration": 56,
    "start_time": "2021-06-18T17:17:11.314Z"
   },
   {
    "duration": 8,
    "start_time": "2021-06-18T17:17:11.372Z"
   },
   {
    "duration": 29,
    "start_time": "2021-06-18T17:17:11.385Z"
   },
   {
    "duration": 4,
    "start_time": "2021-06-18T17:17:11.415Z"
   },
   {
    "duration": 20,
    "start_time": "2021-06-18T17:17:11.421Z"
   },
   {
    "duration": 9,
    "start_time": "2021-06-18T17:17:11.442Z"
   },
   {
    "duration": 5,
    "start_time": "2021-06-18T17:17:11.453Z"
   },
   {
    "duration": 37,
    "start_time": "2021-06-18T17:17:11.460Z"
   },
   {
    "duration": 14,
    "start_time": "2021-06-18T17:17:11.500Z"
   },
   {
    "duration": 12,
    "start_time": "2021-06-18T17:17:11.516Z"
   },
   {
    "duration": 341,
    "start_time": "2021-06-18T17:17:11.530Z"
   },
   {
    "duration": 24,
    "start_time": "2021-06-18T17:17:11.873Z"
   },
   {
    "duration": 325,
    "start_time": "2021-06-18T17:17:11.899Z"
   },
   {
    "duration": 16,
    "start_time": "2021-06-18T17:17:12.225Z"
   },
   {
    "duration": 61,
    "start_time": "2021-06-18T17:17:12.242Z"
   },
   {
    "duration": -134,
    "start_time": "2021-06-18T17:17:12.439Z"
   },
   {
    "duration": 14,
    "start_time": "2021-06-18T17:17:17.729Z"
   },
   {
    "duration": 1148,
    "start_time": "2021-06-18T17:17:23.634Z"
   },
   {
    "duration": 59,
    "start_time": "2021-06-18T17:17:24.785Z"
   },
   {
    "duration": 10,
    "start_time": "2021-06-18T17:17:24.846Z"
   },
   {
    "duration": 29,
    "start_time": "2021-06-18T17:17:24.857Z"
   },
   {
    "duration": 5,
    "start_time": "2021-06-18T17:17:24.889Z"
   },
   {
    "duration": 19,
    "start_time": "2021-06-18T17:17:24.897Z"
   },
   {
    "duration": 4,
    "start_time": "2021-06-18T17:17:24.918Z"
   },
   {
    "duration": 5,
    "start_time": "2021-06-18T17:17:24.925Z"
   },
   {
    "duration": 11,
    "start_time": "2021-06-18T17:17:24.932Z"
   },
   {
    "duration": 41,
    "start_time": "2021-06-18T17:17:24.945Z"
   },
   {
    "duration": 12,
    "start_time": "2021-06-18T17:17:24.988Z"
   },
   {
    "duration": 342,
    "start_time": "2021-06-18T17:17:25.002Z"
   },
   {
    "duration": 17,
    "start_time": "2021-06-18T17:17:25.346Z"
   },
   {
    "duration": 331,
    "start_time": "2021-06-18T17:17:25.364Z"
   },
   {
    "duration": 14,
    "start_time": "2021-06-18T17:17:25.697Z"
   },
   {
    "duration": 13,
    "start_time": "2021-06-18T17:17:25.713Z"
   },
   {
    "duration": 1020,
    "start_time": "2021-06-18T17:17:25.727Z"
   },
   {
    "duration": 1045,
    "start_time": "2021-06-18T17:18:57.169Z"
   },
   {
    "duration": 984,
    "start_time": "2021-06-18T17:20:15.776Z"
   },
   {
    "duration": 1041,
    "start_time": "2021-06-18T17:20:21.190Z"
   },
   {
    "duration": 1045,
    "start_time": "2021-06-18T17:20:31.137Z"
   },
   {
    "duration": 1151,
    "start_time": "2021-06-18T17:21:51.649Z"
   },
   {
    "duration": 1073,
    "start_time": "2021-06-18T17:22:00.734Z"
   },
   {
    "duration": 1018,
    "start_time": "2021-06-18T17:22:05.934Z"
   },
   {
    "duration": 1221,
    "start_time": "2021-06-18T17:22:13.392Z"
   },
   {
    "duration": 984,
    "start_time": "2021-06-18T17:24:28.995Z"
   },
   {
    "duration": 1054,
    "start_time": "2021-06-18T17:37:39.150Z"
   },
   {
    "duration": 1017,
    "start_time": "2021-06-18T17:38:06.463Z"
   },
   {
    "duration": 1101,
    "start_time": "2021-06-18T17:38:13.960Z"
   },
   {
    "duration": 1042,
    "start_time": "2021-06-18T17:39:32.503Z"
   },
   {
    "duration": 1072,
    "start_time": "2021-06-18T17:39:46.488Z"
   },
   {
    "duration": 997,
    "start_time": "2021-06-18T17:39:55.258Z"
   },
   {
    "duration": 1072,
    "start_time": "2021-06-18T17:40:19.532Z"
   },
   {
    "duration": 59,
    "start_time": "2021-06-18T17:40:20.606Z"
   },
   {
    "duration": 9,
    "start_time": "2021-06-18T17:40:20.668Z"
   },
   {
    "duration": 26,
    "start_time": "2021-06-18T17:40:20.685Z"
   },
   {
    "duration": 4,
    "start_time": "2021-06-18T17:40:20.713Z"
   },
   {
    "duration": 20,
    "start_time": "2021-06-18T17:40:20.718Z"
   },
   {
    "duration": 5,
    "start_time": "2021-06-18T17:40:20.739Z"
   },
   {
    "duration": 5,
    "start_time": "2021-06-18T17:40:20.746Z"
   },
   {
    "duration": 37,
    "start_time": "2021-06-18T17:40:20.753Z"
   },
   {
    "duration": 6,
    "start_time": "2021-06-18T17:40:20.795Z"
   },
   {
    "duration": 14,
    "start_time": "2021-06-18T17:40:20.803Z"
   },
   {
    "duration": 331,
    "start_time": "2021-06-18T17:40:20.819Z"
   },
   {
    "duration": 39,
    "start_time": "2021-06-18T17:40:21.152Z"
   },
   {
    "duration": 309,
    "start_time": "2021-06-18T17:40:21.193Z"
   },
   {
    "duration": 16,
    "start_time": "2021-06-18T17:40:21.503Z"
   },
   {
    "duration": 12,
    "start_time": "2021-06-18T17:40:21.520Z"
   },
   {
    "duration": 1053,
    "start_time": "2021-06-18T17:40:21.533Z"
   },
   {
    "duration": 994,
    "start_time": "2021-06-18T17:44:27.447Z"
   },
   {
    "duration": 270,
    "start_time": "2021-06-18T17:45:35.313Z"
   },
   {
    "duration": 17,
    "start_time": "2021-06-18T17:45:43.386Z"
   },
   {
    "duration": 241,
    "start_time": "2021-06-18T17:45:47.897Z"
   },
   {
    "duration": 907,
    "start_time": "2021-06-18T17:45:59.679Z"
   },
   {
    "duration": 903,
    "start_time": "2021-06-18T17:46:46.440Z"
   },
   {
    "duration": 1056,
    "start_time": "2021-06-18T17:47:45.121Z"
   },
   {
    "duration": 61,
    "start_time": "2021-06-18T17:47:46.179Z"
   },
   {
    "duration": 7,
    "start_time": "2021-06-18T17:47:46.242Z"
   },
   {
    "duration": 20,
    "start_time": "2021-06-18T17:47:46.251Z"
   },
   {
    "duration": 13,
    "start_time": "2021-06-18T17:47:46.272Z"
   },
   {
    "duration": 25,
    "start_time": "2021-06-18T17:47:46.289Z"
   },
   {
    "duration": 6,
    "start_time": "2021-06-18T17:47:46.316Z"
   },
   {
    "duration": 4,
    "start_time": "2021-06-18T17:47:46.325Z"
   },
   {
    "duration": 9,
    "start_time": "2021-06-18T17:47:46.331Z"
   },
   {
    "duration": 4,
    "start_time": "2021-06-18T17:47:46.342Z"
   },
   {
    "duration": 47,
    "start_time": "2021-06-18T17:47:46.347Z"
   },
   {
    "duration": 329,
    "start_time": "2021-06-18T17:47:46.396Z"
   },
   {
    "duration": 20,
    "start_time": "2021-06-18T17:47:46.727Z"
   },
   {
    "duration": 326,
    "start_time": "2021-06-18T17:47:46.748Z"
   },
   {
    "duration": 28,
    "start_time": "2021-06-18T17:47:47.076Z"
   },
   {
    "duration": 11,
    "start_time": "2021-06-18T17:47:47.106Z"
   },
   {
    "duration": 1202,
    "start_time": "2021-06-18T17:47:47.119Z"
   },
   {
    "duration": 1050,
    "start_time": "2021-06-18T17:48:13.777Z"
   },
   {
    "duration": 1143,
    "start_time": "2021-06-18T17:48:59.461Z"
   },
   {
    "duration": 58,
    "start_time": "2021-06-18T17:49:00.606Z"
   },
   {
    "duration": 9,
    "start_time": "2021-06-18T17:49:00.666Z"
   },
   {
    "duration": 32,
    "start_time": "2021-06-18T17:49:00.677Z"
   },
   {
    "duration": 6,
    "start_time": "2021-06-18T17:49:00.711Z"
   },
   {
    "duration": 42,
    "start_time": "2021-06-18T17:49:00.718Z"
   },
   {
    "duration": 5,
    "start_time": "2021-06-18T17:49:00.763Z"
   },
   {
    "duration": 11,
    "start_time": "2021-06-18T17:49:00.772Z"
   },
   {
    "duration": 21,
    "start_time": "2021-06-18T17:49:00.786Z"
   },
   {
    "duration": 7,
    "start_time": "2021-06-18T17:49:00.809Z"
   },
   {
    "duration": 32,
    "start_time": "2021-06-18T17:49:00.818Z"
   },
   {
    "duration": 324,
    "start_time": "2021-06-18T17:49:00.853Z"
   },
   {
    "duration": 28,
    "start_time": "2021-06-18T17:49:01.180Z"
   },
   {
    "duration": 306,
    "start_time": "2021-06-18T17:49:01.210Z"
   },
   {
    "duration": 16,
    "start_time": "2021-06-18T17:49:01.518Z"
   },
   {
    "duration": 12,
    "start_time": "2021-06-18T17:49:01.535Z"
   },
   {
    "duration": 958,
    "start_time": "2021-06-18T17:49:01.549Z"
   },
   {
    "duration": 1027,
    "start_time": "2021-06-18T17:49:46.169Z"
   },
   {
    "duration": 186,
    "start_time": "2021-06-18T17:49:58.321Z"
   },
   {
    "duration": 967,
    "start_time": "2021-06-18T17:50:05.266Z"
   },
   {
    "duration": 1528,
    "start_time": "2021-06-18T17:50:14.879Z"
   },
   {
    "duration": 1136,
    "start_time": "2021-06-18T17:50:23.936Z"
   },
   {
    "duration": 1199,
    "start_time": "2021-06-18T17:50:35.031Z"
   },
   {
    "duration": 952,
    "start_time": "2021-06-18T17:50:43.626Z"
   },
   {
    "duration": 1027,
    "start_time": "2021-06-18T17:50:49.930Z"
   },
   {
    "duration": 1220,
    "start_time": "2021-06-18T17:51:03.019Z"
   },
   {
    "duration": 1642,
    "start_time": "2021-06-18T17:51:29.761Z"
   },
   {
    "duration": 1042,
    "start_time": "2021-06-18T17:51:48.809Z"
   },
   {
    "duration": 1078,
    "start_time": "2021-06-18T17:52:27.937Z"
   },
   {
    "duration": 1074,
    "start_time": "2021-06-18T17:52:51.439Z"
   },
   {
    "duration": 1012,
    "start_time": "2021-06-18T17:52:59.560Z"
   },
   {
    "duration": 1057,
    "start_time": "2021-06-18T17:53:05.415Z"
   },
   {
    "duration": 887,
    "start_time": "2021-06-18T17:53:14.968Z"
   },
   {
    "duration": 975,
    "start_time": "2021-06-18T17:53:22.474Z"
   },
   {
    "duration": 1074,
    "start_time": "2021-06-18T17:53:28.313Z"
   },
   {
    "duration": 1305,
    "start_time": "2021-06-18T17:54:07.003Z"
   },
   {
    "duration": 1186,
    "start_time": "2021-06-18T17:56:04.929Z"
   },
   {
    "duration": 1043,
    "start_time": "2021-06-18T17:56:41.673Z"
   },
   {
    "duration": 1057,
    "start_time": "2021-06-18T17:56:53.249Z"
   },
   {
    "duration": 1164,
    "start_time": "2021-06-18T17:57:13.689Z"
   },
   {
    "duration": 1286,
    "start_time": "2021-06-18T17:57:20.898Z"
   },
   {
    "duration": 1091,
    "start_time": "2021-06-18T17:57:27.091Z"
   },
   {
    "duration": 1083,
    "start_time": "2021-06-18T17:57:31.688Z"
   },
   {
    "duration": 1085,
    "start_time": "2021-06-18T17:57:50.289Z"
   },
   {
    "duration": 1092,
    "start_time": "2021-06-18T17:59:10.076Z"
   },
   {
    "duration": 183,
    "start_time": "2021-06-18T18:00:25.320Z"
   },
   {
    "duration": 17,
    "start_time": "2021-06-18T18:00:33.455Z"
   },
   {
    "duration": 1127,
    "start_time": "2021-06-18T18:00:40.677Z"
   },
   {
    "duration": 57,
    "start_time": "2021-06-18T18:00:41.806Z"
   },
   {
    "duration": 8,
    "start_time": "2021-06-18T18:00:41.865Z"
   },
   {
    "duration": 33,
    "start_time": "2021-06-18T18:00:41.875Z"
   },
   {
    "duration": 6,
    "start_time": "2021-06-18T18:00:41.911Z"
   },
   {
    "duration": 17,
    "start_time": "2021-06-18T18:00:41.919Z"
   },
   {
    "duration": 3,
    "start_time": "2021-06-18T18:00:41.938Z"
   },
   {
    "duration": 6,
    "start_time": "2021-06-18T18:00:41.944Z"
   },
   {
    "duration": 9,
    "start_time": "2021-06-18T18:00:41.952Z"
   },
   {
    "duration": 26,
    "start_time": "2021-06-18T18:00:41.962Z"
   },
   {
    "duration": 16,
    "start_time": "2021-06-18T18:00:41.991Z"
   },
   {
    "duration": 348,
    "start_time": "2021-06-18T18:00:42.008Z"
   },
   {
    "duration": 17,
    "start_time": "2021-06-18T18:00:42.357Z"
   },
   {
    "duration": 321,
    "start_time": "2021-06-18T18:00:42.388Z"
   },
   {
    "duration": 14,
    "start_time": "2021-06-18T18:00:42.711Z"
   },
   {
    "duration": 17,
    "start_time": "2021-06-18T18:00:42.727Z"
   },
   {
    "duration": 1072,
    "start_time": "2021-06-18T18:00:42.745Z"
   },
   {
    "duration": 1120,
    "start_time": "2021-06-18T18:01:01.704Z"
   },
   {
    "duration": 933,
    "start_time": "2021-06-18T18:02:53.987Z"
   },
   {
    "duration": 1038,
    "start_time": "2021-06-18T18:03:15.265Z"
   },
   {
    "duration": 58,
    "start_time": "2021-06-18T18:03:57.655Z"
   },
   {
    "duration": 1105,
    "start_time": "2021-06-18T18:04:03.239Z"
   },
   {
    "duration": 1069,
    "start_time": "2021-06-18T18:04:21.988Z"
   },
   {
    "duration": 1108,
    "start_time": "2021-06-18T18:13:58.004Z"
   },
   {
    "duration": 56,
    "start_time": "2021-06-18T18:13:59.114Z"
   },
   {
    "duration": 9,
    "start_time": "2021-06-18T18:13:59.173Z"
   },
   {
    "duration": 21,
    "start_time": "2021-06-18T18:13:59.190Z"
   },
   {
    "duration": 4,
    "start_time": "2021-06-18T18:13:59.213Z"
   },
   {
    "duration": 20,
    "start_time": "2021-06-18T18:13:59.219Z"
   },
   {
    "duration": 5,
    "start_time": "2021-06-18T18:13:59.241Z"
   },
   {
    "duration": 7,
    "start_time": "2021-06-18T18:13:59.248Z"
   },
   {
    "duration": 15,
    "start_time": "2021-06-18T18:13:59.286Z"
   },
   {
    "duration": 7,
    "start_time": "2021-06-18T18:13:59.307Z"
   },
   {
    "duration": 12,
    "start_time": "2021-06-18T18:13:59.316Z"
   },
   {
    "duration": 343,
    "start_time": "2021-06-18T18:13:59.330Z"
   },
   {
    "duration": 28,
    "start_time": "2021-06-18T18:13:59.675Z"
   },
   {
    "duration": 319,
    "start_time": "2021-06-18T18:13:59.705Z"
   },
   {
    "duration": 15,
    "start_time": "2021-06-18T18:14:00.026Z"
   },
   {
    "duration": 11,
    "start_time": "2021-06-18T18:14:00.043Z"
   },
   {
    "duration": 1035,
    "start_time": "2021-06-18T18:14:00.056Z"
   },
   {
    "duration": 7,
    "start_time": "2021-06-18T18:15:13.053Z"
   },
   {
    "duration": 11,
    "start_time": "2021-06-18T18:15:18.602Z"
   },
   {
    "duration": 9,
    "start_time": "2021-06-18T18:15:37.262Z"
   },
   {
    "duration": 15,
    "start_time": "2021-06-18T18:16:57.178Z"
   },
   {
    "duration": 271,
    "start_time": "2021-06-18T18:18:18.220Z"
   },
   {
    "duration": 1104,
    "start_time": "2021-06-18T18:18:25.498Z"
   },
   {
    "duration": 56,
    "start_time": "2021-06-18T18:18:26.606Z"
   },
   {
    "duration": 8,
    "start_time": "2021-06-18T18:18:26.664Z"
   },
   {
    "duration": 24,
    "start_time": "2021-06-18T18:18:26.673Z"
   },
   {
    "duration": 4,
    "start_time": "2021-06-18T18:18:26.699Z"
   },
   {
    "duration": 28,
    "start_time": "2021-06-18T18:18:26.704Z"
   },
   {
    "duration": 3,
    "start_time": "2021-06-18T18:18:26.735Z"
   },
   {
    "duration": 7,
    "start_time": "2021-06-18T18:18:26.740Z"
   },
   {
    "duration": 10,
    "start_time": "2021-06-18T18:18:26.749Z"
   },
   {
    "duration": 28,
    "start_time": "2021-06-18T18:18:26.760Z"
   },
   {
    "duration": 14,
    "start_time": "2021-06-18T18:18:26.791Z"
   },
   {
    "duration": 331,
    "start_time": "2021-06-18T18:18:26.807Z"
   },
   {
    "duration": 18,
    "start_time": "2021-06-18T18:18:27.139Z"
   },
   {
    "duration": 317,
    "start_time": "2021-06-18T18:18:27.158Z"
   },
   {
    "duration": 25,
    "start_time": "2021-06-18T18:18:27.477Z"
   },
   {
    "duration": 13,
    "start_time": "2021-06-18T18:18:27.503Z"
   },
   {
    "duration": 1050,
    "start_time": "2021-06-18T18:18:27.517Z"
   },
   {
    "duration": 16,
    "start_time": "2021-06-18T18:18:28.569Z"
   },
   {
    "duration": 292,
    "start_time": "2021-06-18T18:18:28.587Z"
   },
   {
    "duration": 267,
    "start_time": "2021-06-18T18:19:39.261Z"
   },
   {
    "duration": 13,
    "start_time": "2021-06-18T18:20:32.491Z"
   },
   {
    "duration": 383,
    "start_time": "2021-06-18T18:20:35.344Z"
   },
   {
    "duration": 211,
    "start_time": "2021-06-18T18:21:16.387Z"
   },
   {
    "duration": 12,
    "start_time": "2021-06-18T18:21:22.920Z"
   },
   {
    "duration": 315,
    "start_time": "2021-06-18T18:21:26.514Z"
   },
   {
    "duration": 336,
    "start_time": "2021-06-18T18:22:19.283Z"
   },
   {
    "duration": 413,
    "start_time": "2021-06-18T18:25:03.404Z"
   },
   {
    "duration": 319,
    "start_time": "2021-06-18T18:25:11.819Z"
   },
   {
    "duration": 331,
    "start_time": "2021-06-18T18:26:50.332Z"
   },
   {
    "duration": 1039,
    "start_time": "2021-06-18T18:27:20.523Z"
   },
   {
    "duration": 310,
    "start_time": "2021-06-18T18:27:34.442Z"
   },
   {
    "duration": 205,
    "start_time": "2021-06-18T18:27:59.308Z"
   },
   {
    "duration": 386,
    "start_time": "2021-06-18T18:28:04.387Z"
   },
   {
    "duration": 319,
    "start_time": "2021-06-18T18:29:06.075Z"
   },
   {
    "duration": 1028,
    "start_time": "2021-06-18T18:29:13.147Z"
   },
   {
    "duration": 313,
    "start_time": "2021-06-18T18:29:22.720Z"
   },
   {
    "duration": 176,
    "start_time": "2021-06-18T19:05:57.147Z"
   },
   {
    "duration": 790,
    "start_time": "2021-06-18T19:06:12.462Z"
   },
   {
    "duration": 163,
    "start_time": "2021-06-18T19:06:21.574Z"
   },
   {
    "duration": 14,
    "start_time": "2021-06-18T19:06:25.697Z"
   },
   {
    "duration": 62,
    "start_time": "2021-06-18T19:10:44.144Z"
   },
   {
    "duration": 16,
    "start_time": "2021-06-18T19:10:50.686Z"
   },
   {
    "duration": 14,
    "start_time": "2021-06-18T19:10:55.493Z"
   },
   {
    "duration": 23,
    "start_time": "2021-06-18T19:11:32.000Z"
   },
   {
    "duration": 15,
    "start_time": "2021-06-18T19:11:33.999Z"
   },
   {
    "duration": 25,
    "start_time": "2021-06-18T19:13:07.825Z"
   },
   {
    "duration": 16,
    "start_time": "2021-06-18T19:13:09.624Z"
   },
   {
    "duration": 32,
    "start_time": "2021-06-18T19:16:31.173Z"
   },
   {
    "duration": 47,
    "start_time": "2021-06-18T19:16:33.783Z"
   },
   {
    "duration": 14,
    "start_time": "2021-06-18T19:16:36.013Z"
   },
   {
    "duration": 1109,
    "start_time": "2021-06-18T19:16:42.957Z"
   },
   {
    "duration": 68,
    "start_time": "2021-06-18T19:16:44.068Z"
   },
   {
    "duration": 9,
    "start_time": "2021-06-18T19:16:44.138Z"
   },
   {
    "duration": 38,
    "start_time": "2021-06-18T19:16:44.149Z"
   },
   {
    "duration": 7,
    "start_time": "2021-06-18T19:16:44.190Z"
   },
   {
    "duration": 19,
    "start_time": "2021-06-18T19:16:44.200Z"
   },
   {
    "duration": 4,
    "start_time": "2021-06-18T19:16:44.221Z"
   },
   {
    "duration": 5,
    "start_time": "2021-06-18T19:16:44.228Z"
   },
   {
    "duration": 10,
    "start_time": "2021-06-18T19:16:44.235Z"
   },
   {
    "duration": 40,
    "start_time": "2021-06-18T19:16:44.247Z"
   },
   {
    "duration": 15,
    "start_time": "2021-06-18T19:16:44.290Z"
   },
   {
    "duration": 355,
    "start_time": "2021-06-18T19:16:44.307Z"
   },
   {
    "duration": 30,
    "start_time": "2021-06-18T19:16:44.663Z"
   },
   {
    "duration": 347,
    "start_time": "2021-06-18T19:16:44.696Z"
   },
   {
    "duration": 17,
    "start_time": "2021-06-18T19:16:45.045Z"
   },
   {
    "duration": 28,
    "start_time": "2021-06-18T19:16:45.063Z"
   },
   {
    "duration": 1091,
    "start_time": "2021-06-18T19:16:45.094Z"
   },
   {
    "duration": 21,
    "start_time": "2021-06-18T19:16:46.187Z"
   },
   {
    "duration": 340,
    "start_time": "2021-06-18T19:16:46.209Z"
   },
   {
    "duration": 35,
    "start_time": "2021-06-18T19:16:46.551Z"
   },
   {
    "duration": 22,
    "start_time": "2021-06-18T19:16:46.589Z"
   },
   {
    "duration": 24,
    "start_time": "2021-06-18T19:18:28.345Z"
   },
   {
    "duration": 34,
    "start_time": "2021-06-18T19:18:31.382Z"
   },
   {
    "duration": 20,
    "start_time": "2021-06-18T19:18:37.168Z"
   },
   {
    "duration": 40,
    "start_time": "2021-06-18T19:18:48.008Z"
   },
   {
    "duration": 13,
    "start_time": "2021-06-18T19:29:38.043Z"
   },
   {
    "duration": 20,
    "start_time": "2021-06-18T19:29:42.574Z"
   },
   {
    "duration": 15,
    "start_time": "2021-06-18T19:29:53.461Z"
   },
   {
    "duration": 13,
    "start_time": "2021-06-18T19:30:15.362Z"
   },
   {
    "duration": 58,
    "start_time": "2021-06-18T19:40:44.168Z"
   },
   {
    "duration": 1194,
    "start_time": "2021-06-18T19:40:49.928Z"
   },
   {
    "duration": 871,
    "start_time": "2021-06-18T19:54:49.078Z"
   },
   {
    "duration": 712,
    "start_time": "2021-06-18T19:55:18.815Z"
   },
   {
    "duration": 28,
    "start_time": "2021-06-18T19:57:11.720Z"
   },
   {
    "duration": 29,
    "start_time": "2021-06-18T19:57:26.478Z"
   },
   {
    "duration": 30,
    "start_time": "2021-06-18T19:57:40.976Z"
   },
   {
    "duration": 1071,
    "start_time": "2021-06-18T19:59:49.050Z"
   },
   {
    "duration": 57,
    "start_time": "2021-06-18T19:59:50.122Z"
   },
   {
    "duration": 10,
    "start_time": "2021-06-18T19:59:50.181Z"
   },
   {
    "duration": 22,
    "start_time": "2021-06-18T19:59:50.193Z"
   },
   {
    "duration": 4,
    "start_time": "2021-06-18T19:59:50.217Z"
   },
   {
    "duration": 18,
    "start_time": "2021-06-18T19:59:50.223Z"
   },
   {
    "duration": 3,
    "start_time": "2021-06-18T19:59:50.242Z"
   },
   {
    "duration": 37,
    "start_time": "2021-06-18T19:59:50.248Z"
   },
   {
    "duration": 14,
    "start_time": "2021-06-18T19:59:50.288Z"
   },
   {
    "duration": 4,
    "start_time": "2021-06-18T19:59:50.304Z"
   },
   {
    "duration": 11,
    "start_time": "2021-06-18T19:59:50.310Z"
   },
   {
    "duration": 355,
    "start_time": "2021-06-18T19:59:50.323Z"
   },
   {
    "duration": 28,
    "start_time": "2021-06-18T19:59:50.680Z"
   },
   {
    "duration": 332,
    "start_time": "2021-06-18T19:59:50.710Z"
   },
   {
    "duration": 15,
    "start_time": "2021-06-18T19:59:51.044Z"
   },
   {
    "duration": 30,
    "start_time": "2021-06-18T19:59:51.061Z"
   },
   {
    "duration": 1066,
    "start_time": "2021-06-18T19:59:51.095Z"
   },
   {
    "duration": 11,
    "start_time": "2021-06-18T19:59:52.162Z"
   },
   {
    "duration": 315,
    "start_time": "2021-06-18T19:59:52.184Z"
   },
   {
    "duration": 34,
    "start_time": "2021-06-18T19:59:52.501Z"
   },
   {
    "duration": 15,
    "start_time": "2021-06-18T19:59:52.537Z"
   },
   {
    "duration": 994,
    "start_time": "2021-06-18T19:59:52.553Z"
   },
   {
    "duration": 21,
    "start_time": "2021-06-18T19:59:53.550Z"
   },
   {
    "duration": 18,
    "start_time": "2021-06-18T20:00:20.634Z"
   },
   {
    "duration": 22,
    "start_time": "2021-06-18T20:00:51.494Z"
   },
   {
    "duration": 34,
    "start_time": "2021-06-18T20:01:00.994Z"
   },
   {
    "duration": 32,
    "start_time": "2021-06-18T20:01:09.247Z"
   },
   {
    "duration": 36,
    "start_time": "2021-06-18T20:01:39.672Z"
   },
   {
    "duration": 28,
    "start_time": "2021-06-18T20:01:59.202Z"
   },
   {
    "duration": 28,
    "start_time": "2021-06-18T20:02:23.740Z"
   },
   {
    "duration": 25,
    "start_time": "2021-06-18T20:02:50.138Z"
   },
   {
    "duration": 33,
    "start_time": "2021-06-18T20:03:18.694Z"
   },
   {
    "duration": 20,
    "start_time": "2021-06-18T20:03:21.488Z"
   },
   {
    "duration": 292,
    "start_time": "2021-06-18T20:03:38.034Z"
   },
   {
    "duration": 242,
    "start_time": "2021-06-18T20:03:51.391Z"
   },
   {
    "duration": 1143,
    "start_time": "2021-06-18T20:04:04.669Z"
   },
   {
    "duration": 56,
    "start_time": "2021-06-18T20:04:05.814Z"
   },
   {
    "duration": 17,
    "start_time": "2021-06-18T20:04:05.873Z"
   },
   {
    "duration": 20,
    "start_time": "2021-06-18T20:04:05.892Z"
   },
   {
    "duration": 4,
    "start_time": "2021-06-18T20:04:05.913Z"
   },
   {
    "duration": 30,
    "start_time": "2021-06-18T20:04:05.919Z"
   },
   {
    "duration": 5,
    "start_time": "2021-06-18T20:04:05.951Z"
   },
   {
    "duration": 42,
    "start_time": "2021-06-18T20:04:05.959Z"
   },
   {
    "duration": 11,
    "start_time": "2021-06-18T20:04:06.003Z"
   },
   {
    "duration": 5,
    "start_time": "2021-06-18T20:04:06.015Z"
   },
   {
    "duration": 12,
    "start_time": "2021-06-18T20:04:06.021Z"
   },
   {
    "duration": 341,
    "start_time": "2021-06-18T20:04:06.035Z"
   },
   {
    "duration": 31,
    "start_time": "2021-06-18T20:04:06.378Z"
   },
   {
    "duration": 320,
    "start_time": "2021-06-18T20:04:06.413Z"
   },
   {
    "duration": 15,
    "start_time": "2021-06-18T20:04:06.735Z"
   },
   {
    "duration": 11,
    "start_time": "2021-06-18T20:04:06.752Z"
   },
   {
    "duration": 1129,
    "start_time": "2021-06-18T20:04:06.765Z"
   },
   {
    "duration": 23,
    "start_time": "2021-06-18T20:04:07.897Z"
   },
   {
    "duration": 328,
    "start_time": "2021-06-18T20:04:07.922Z"
   },
   {
    "duration": 48,
    "start_time": "2021-06-18T20:04:08.252Z"
   },
   {
    "duration": 19,
    "start_time": "2021-06-18T20:04:08.301Z"
   },
   {
    "duration": 832,
    "start_time": "2021-06-18T20:04:08.322Z"
   },
   {
    "duration": 38,
    "start_time": "2021-06-18T20:04:09.157Z"
   },
   {
    "duration": 281,
    "start_time": "2021-06-18T20:04:09.197Z"
   },
   {
    "duration": 34,
    "start_time": "2021-06-18T20:04:19.276Z"
   },
   {
    "duration": 1122,
    "start_time": "2021-06-18T20:04:28.153Z"
   },
   {
    "duration": 62,
    "start_time": "2021-06-18T20:04:29.277Z"
   },
   {
    "duration": 8,
    "start_time": "2021-06-18T20:04:29.341Z"
   },
   {
    "duration": 40,
    "start_time": "2021-06-18T20:04:29.351Z"
   },
   {
    "duration": 6,
    "start_time": "2021-06-18T20:04:29.393Z"
   },
   {
    "duration": 30,
    "start_time": "2021-06-18T20:04:29.401Z"
   },
   {
    "duration": 19,
    "start_time": "2021-06-18T20:04:29.433Z"
   },
   {
    "duration": 28,
    "start_time": "2021-06-18T20:04:29.454Z"
   },
   {
    "duration": 32,
    "start_time": "2021-06-18T20:04:29.485Z"
   },
   {
    "duration": 22,
    "start_time": "2021-06-18T20:04:29.518Z"
   },
   {
    "duration": 32,
    "start_time": "2021-06-18T20:04:29.542Z"
   },
   {
    "duration": 325,
    "start_time": "2021-06-18T20:04:29.576Z"
   },
   {
    "duration": 19,
    "start_time": "2021-06-18T20:04:29.903Z"
   },
   {
    "duration": 333,
    "start_time": "2021-06-18T20:04:29.924Z"
   },
   {
    "duration": 15,
    "start_time": "2021-06-18T20:04:30.259Z"
   },
   {
    "duration": 22,
    "start_time": "2021-06-18T20:04:30.285Z"
   },
   {
    "duration": 1078,
    "start_time": "2021-06-18T20:04:30.309Z"
   },
   {
    "duration": 11,
    "start_time": "2021-06-18T20:04:31.389Z"
   },
   {
    "duration": 339,
    "start_time": "2021-06-18T20:04:31.402Z"
   },
   {
    "duration": 30,
    "start_time": "2021-06-18T20:04:31.743Z"
   },
   {
    "duration": 28,
    "start_time": "2021-06-18T20:04:31.775Z"
   },
   {
    "duration": 919,
    "start_time": "2021-06-18T20:04:31.805Z"
   },
   {
    "duration": 22,
    "start_time": "2021-06-18T20:04:32.727Z"
   },
   {
    "duration": 286,
    "start_time": "2021-06-18T20:04:32.751Z"
   },
   {
    "duration": 1369,
    "start_time": "2021-06-19T04:45:10.925Z"
   },
   {
    "duration": 74,
    "start_time": "2021-06-19T04:45:12.297Z"
   },
   {
    "duration": 19,
    "start_time": "2021-06-19T04:45:12.375Z"
   },
   {
    "duration": 25,
    "start_time": "2021-06-19T04:45:12.398Z"
   },
   {
    "duration": 6,
    "start_time": "2021-06-19T04:45:12.426Z"
   },
   {
    "duration": 67,
    "start_time": "2021-06-19T04:45:12.435Z"
   },
   {
    "duration": 7,
    "start_time": "2021-06-19T04:45:12.505Z"
   },
   {
    "duration": 7,
    "start_time": "2021-06-19T04:45:12.517Z"
   },
   {
    "duration": 15,
    "start_time": "2021-06-19T04:45:12.528Z"
   },
   {
    "duration": 7,
    "start_time": "2021-06-19T04:45:12.584Z"
   },
   {
    "duration": 18,
    "start_time": "2021-06-19T04:45:12.594Z"
   },
   {
    "duration": 505,
    "start_time": "2021-06-19T04:45:12.615Z"
   },
   {
    "duration": 29,
    "start_time": "2021-06-19T04:45:13.123Z"
   },
   {
    "duration": 476,
    "start_time": "2021-06-19T04:45:13.155Z"
   },
   {
    "duration": 28,
    "start_time": "2021-06-19T04:45:13.634Z"
   },
   {
    "duration": 35,
    "start_time": "2021-06-19T04:45:13.665Z"
   },
   {
    "duration": 1430,
    "start_time": "2021-06-19T04:45:13.702Z"
   },
   {
    "duration": 19,
    "start_time": "2021-06-19T04:45:15.135Z"
   },
   {
    "duration": 476,
    "start_time": "2021-06-19T04:45:15.156Z"
   },
   {
    "duration": 61,
    "start_time": "2021-06-19T04:45:15.635Z"
   },
   {
    "duration": 27,
    "start_time": "2021-06-19T04:45:15.699Z"
   },
   {
    "duration": 1619,
    "start_time": "2021-06-19T04:45:15.729Z"
   },
   {
    "duration": 33,
    "start_time": "2021-06-19T04:45:17.352Z"
   },
   {
    "duration": 399,
    "start_time": "2021-06-19T04:45:17.388Z"
   },
   {
    "duration": 1603,
    "start_time": "2021-06-19T04:53:04.882Z"
   },
   {
    "duration": 1556,
    "start_time": "2021-06-19T04:53:31.659Z"
   },
   {
    "duration": 1856,
    "start_time": "2021-06-19T04:53:44.850Z"
   },
   {
    "duration": 1322,
    "start_time": "2021-06-19T04:54:07.208Z"
   },
   {
    "duration": 1406,
    "start_time": "2021-06-19T04:56:44.639Z"
   },
   {
    "duration": 1393,
    "start_time": "2021-06-19T04:56:51.466Z"
   },
   {
    "duration": 45,
    "start_time": "2021-06-19T05:00:11.728Z"
   },
   {
    "duration": 60,
    "start_time": "2021-06-19T05:01:05.572Z"
   },
   {
    "duration": 36,
    "start_time": "2021-06-19T05:01:21.643Z"
   },
   {
    "duration": 45,
    "start_time": "2021-06-19T05:01:29.312Z"
   },
   {
    "duration": 41,
    "start_time": "2021-06-19T05:01:38.680Z"
   },
   {
    "duration": 28,
    "start_time": "2021-06-19T05:01:56.906Z"
   },
   {
    "duration": 358,
    "start_time": "2021-06-19T05:03:35.232Z"
   },
   {
    "duration": 53,
    "start_time": "2021-06-19T05:03:45.731Z"
   },
   {
    "duration": 20,
    "start_time": "2021-06-19T05:04:29.939Z"
   },
   {
    "duration": 20,
    "start_time": "2021-06-19T05:08:17.627Z"
   },
   {
    "duration": 20,
    "start_time": "2021-06-19T05:08:33.072Z"
   },
   {
    "duration": 1300,
    "start_time": "2021-06-19T05:09:20.733Z"
   },
   {
    "duration": 70,
    "start_time": "2021-06-19T05:09:22.036Z"
   },
   {
    "duration": 12,
    "start_time": "2021-06-19T05:09:22.109Z"
   },
   {
    "duration": 30,
    "start_time": "2021-06-19T05:09:22.123Z"
   },
   {
    "duration": 5,
    "start_time": "2021-06-19T05:09:22.156Z"
   },
   {
    "duration": 27,
    "start_time": "2021-06-19T05:09:22.182Z"
   },
   {
    "duration": 8,
    "start_time": "2021-06-19T05:09:22.211Z"
   },
   {
    "duration": 8,
    "start_time": "2021-06-19T05:09:22.223Z"
   },
   {
    "duration": 18,
    "start_time": "2021-06-19T05:09:22.234Z"
   },
   {
    "duration": 32,
    "start_time": "2021-06-19T05:09:22.254Z"
   },
   {
    "duration": 23,
    "start_time": "2021-06-19T05:09:22.289Z"
   },
   {
    "duration": 472,
    "start_time": "2021-06-19T05:09:22.314Z"
   },
   {
    "duration": 25,
    "start_time": "2021-06-19T05:09:22.789Z"
   },
   {
    "duration": 459,
    "start_time": "2021-06-19T05:09:22.816Z"
   },
   {
    "duration": 32,
    "start_time": "2021-06-19T05:09:23.277Z"
   },
   {
    "duration": 18,
    "start_time": "2021-06-19T05:09:23.311Z"
   },
   {
    "duration": 1418,
    "start_time": "2021-06-19T05:09:23.331Z"
   },
   {
    "duration": 16,
    "start_time": "2021-06-19T05:09:24.752Z"
   },
   {
    "duration": 456,
    "start_time": "2021-06-19T05:09:24.782Z"
   },
   {
    "duration": 57,
    "start_time": "2021-06-19T05:09:25.240Z"
   },
   {
    "duration": 1184,
    "start_time": "2021-06-19T05:09:25.299Z"
   },
   {
    "duration": 40,
    "start_time": "2021-06-19T05:09:26.485Z"
   },
   {
    "duration": 23,
    "start_time": "2021-06-19T05:09:26.529Z"
   },
   {
    "duration": 3,
    "start_time": "2021-06-19T05:09:26.554Z"
   },
   {
    "duration": 463,
    "start_time": "2021-06-19T05:17:58.170Z"
   },
   {
    "duration": 39,
    "start_time": "2021-06-19T05:18:11.455Z"
   },
   {
    "duration": 35,
    "start_time": "2021-06-19T05:18:37.729Z"
   },
   {
    "duration": 37,
    "start_time": "2021-06-19T05:19:47.545Z"
   },
   {
    "duration": 1022,
    "start_time": "2021-06-19T05:20:11.090Z"
   },
   {
    "duration": 1220,
    "start_time": "2021-06-19T05:20:22.705Z"
   },
   {
    "duration": 21,
    "start_time": "2021-06-19T05:21:23.416Z"
   },
   {
    "duration": 41,
    "start_time": "2021-06-19T05:21:32.441Z"
   },
   {
    "duration": 15,
    "start_time": "2021-06-19T05:22:10.456Z"
   },
   {
    "duration": 1349,
    "start_time": "2021-06-19T05:22:16.278Z"
   },
   {
    "duration": 71,
    "start_time": "2021-06-19T05:22:17.630Z"
   },
   {
    "duration": 12,
    "start_time": "2021-06-19T05:22:17.703Z"
   },
   {
    "duration": 23,
    "start_time": "2021-06-19T05:22:17.718Z"
   },
   {
    "duration": 5,
    "start_time": "2021-06-19T05:22:17.744Z"
   },
   {
    "duration": 52,
    "start_time": "2021-06-19T05:22:17.751Z"
   },
   {
    "duration": 5,
    "start_time": "2021-06-19T05:22:17.805Z"
   },
   {
    "duration": 9,
    "start_time": "2021-06-19T05:22:17.814Z"
   },
   {
    "duration": 13,
    "start_time": "2021-06-19T05:22:17.827Z"
   },
   {
    "duration": 42,
    "start_time": "2021-06-19T05:22:17.843Z"
   },
   {
    "duration": 22,
    "start_time": "2021-06-19T05:22:17.887Z"
   },
   {
    "duration": 489,
    "start_time": "2021-06-19T05:22:17.911Z"
   },
   {
    "duration": 25,
    "start_time": "2021-06-19T05:22:18.403Z"
   },
   {
    "duration": 470,
    "start_time": "2021-06-19T05:22:18.430Z"
   },
   {
    "duration": 26,
    "start_time": "2021-06-19T05:22:18.903Z"
   },
   {
    "duration": 20,
    "start_time": "2021-06-19T05:22:18.932Z"
   },
   {
    "duration": 1417,
    "start_time": "2021-06-19T05:22:18.955Z"
   },
   {
    "duration": 24,
    "start_time": "2021-06-19T05:22:20.375Z"
   },
   {
    "duration": 466,
    "start_time": "2021-06-19T05:22:20.401Z"
   },
   {
    "duration": 55,
    "start_time": "2021-06-19T05:22:20.870Z"
   },
   {
    "duration": 15,
    "start_time": "2021-06-19T05:22:20.929Z"
   },
   {
    "duration": 1347,
    "start_time": "2021-06-19T05:22:20.947Z"
   },
   {
    "duration": 20,
    "start_time": "2021-06-19T05:22:22.298Z"
   },
   {
    "duration": 64,
    "start_time": "2021-06-19T05:22:22.320Z"
   },
   {
    "duration": 25,
    "start_time": "2021-06-19T05:22:22.386Z"
   },
   {
    "duration": 3,
    "start_time": "2021-06-19T05:22:22.413Z"
   },
   {
    "duration": 406,
    "start_time": "2021-06-19T05:26:00.422Z"
   },
   {
    "duration": 437,
    "start_time": "2021-06-19T05:28:48.283Z"
   },
   {
    "duration": 1313,
    "start_time": "2021-06-19T05:28:53.831Z"
   },
   {
    "duration": 71,
    "start_time": "2021-06-19T05:28:55.146Z"
   },
   {
    "duration": 12,
    "start_time": "2021-06-19T05:28:55.220Z"
   },
   {
    "duration": 24,
    "start_time": "2021-06-19T05:28:55.235Z"
   },
   {
    "duration": 6,
    "start_time": "2021-06-19T05:28:55.282Z"
   },
   {
    "duration": 25,
    "start_time": "2021-06-19T05:28:55.290Z"
   },
   {
    "duration": 6,
    "start_time": "2021-06-19T05:28:55.317Z"
   },
   {
    "duration": 7,
    "start_time": "2021-06-19T05:28:55.326Z"
   },
   {
    "duration": 55,
    "start_time": "2021-06-19T05:28:55.336Z"
   },
   {
    "duration": 5,
    "start_time": "2021-06-19T05:28:55.394Z"
   },
   {
    "duration": 17,
    "start_time": "2021-06-19T05:28:55.401Z"
   },
   {
    "duration": 501,
    "start_time": "2021-06-19T05:28:55.420Z"
   },
   {
    "duration": 26,
    "start_time": "2021-06-19T05:28:55.923Z"
   },
   {
    "duration": 459,
    "start_time": "2021-06-19T05:28:55.951Z"
   },
   {
    "duration": 26,
    "start_time": "2021-06-19T05:28:56.413Z"
   },
   {
    "duration": 18,
    "start_time": "2021-06-19T05:28:56.441Z"
   },
   {
    "duration": 1451,
    "start_time": "2021-06-19T05:28:56.461Z"
   },
   {
    "duration": 16,
    "start_time": "2021-06-19T05:28:57.914Z"
   },
   {
    "duration": 459,
    "start_time": "2021-06-19T05:28:57.932Z"
   },
   {
    "duration": 48,
    "start_time": "2021-06-19T05:28:58.393Z"
   },
   {
    "duration": 22,
    "start_time": "2021-06-19T05:28:58.443Z"
   },
   {
    "duration": 1482,
    "start_time": "2021-06-19T05:28:58.486Z"
   },
   {
    "duration": 6852,
    "start_time": "2021-06-19T05:28:59.972Z"
   },
   {
    "duration": -53,
    "start_time": "2021-06-19T05:29:06.880Z"
   },
   {
    "duration": -61,
    "start_time": "2021-06-19T05:29:06.890Z"
   },
   {
    "duration": -67,
    "start_time": "2021-06-19T05:29:06.897Z"
   },
   {
    "duration": 22,
    "start_time": "2021-06-19T05:29:16.791Z"
   },
   {
    "duration": 268,
    "start_time": "2021-06-19T05:29:28.560Z"
   },
   {
    "duration": 261,
    "start_time": "2021-06-19T05:29:45.680Z"
   },
   {
    "duration": 281,
    "start_time": "2021-06-19T05:51:22.248Z"
   },
   {
    "duration": 13,
    "start_time": "2021-06-19T05:51:37.704Z"
   },
   {
    "duration": 15,
    "start_time": "2021-06-19T05:51:56.677Z"
   },
   {
    "duration": 45,
    "start_time": "2021-06-19T05:52:17.533Z"
   },
   {
    "duration": 1481,
    "start_time": "2021-06-19T05:53:48.137Z"
   },
   {
    "duration": 80,
    "start_time": "2021-06-19T05:53:49.621Z"
   },
   {
    "duration": 12,
    "start_time": "2021-06-19T05:53:49.704Z"
   },
   {
    "duration": 32,
    "start_time": "2021-06-19T05:53:49.718Z"
   },
   {
    "duration": 5,
    "start_time": "2021-06-19T05:53:49.753Z"
   },
   {
    "duration": 24,
    "start_time": "2021-06-19T05:53:49.783Z"
   },
   {
    "duration": 16,
    "start_time": "2021-06-19T05:53:49.809Z"
   },
   {
    "duration": 11,
    "start_time": "2021-06-19T05:53:49.829Z"
   },
   {
    "duration": 19,
    "start_time": "2021-06-19T05:53:49.843Z"
   },
   {
    "duration": 20,
    "start_time": "2021-06-19T05:53:49.864Z"
   },
   {
    "duration": 24,
    "start_time": "2021-06-19T05:53:49.887Z"
   },
   {
    "duration": 497,
    "start_time": "2021-06-19T05:53:49.913Z"
   },
   {
    "duration": 27,
    "start_time": "2021-06-19T05:53:50.413Z"
   },
   {
    "duration": 447,
    "start_time": "2021-06-19T05:53:50.442Z"
   },
   {
    "duration": 27,
    "start_time": "2021-06-19T05:53:50.892Z"
   },
   {
    "duration": 18,
    "start_time": "2021-06-19T05:53:50.921Z"
   },
   {
    "duration": 1557,
    "start_time": "2021-06-19T05:53:50.942Z"
   },
   {
    "duration": 16,
    "start_time": "2021-06-19T05:53:52.502Z"
   },
   {
    "duration": 488,
    "start_time": "2021-06-19T05:53:52.520Z"
   },
   {
    "duration": 46,
    "start_time": "2021-06-19T05:53:53.011Z"
   },
   {
    "duration": 32,
    "start_time": "2021-06-19T05:53:53.059Z"
   },
   {
    "duration": 1476,
    "start_time": "2021-06-19T05:53:53.093Z"
   },
   {
    "duration": 13,
    "start_time": "2021-06-19T05:53:54.574Z"
   },
   {
    "duration": 25,
    "start_time": "2021-06-19T05:53:54.590Z"
   },
   {
    "duration": 42,
    "start_time": "2021-06-19T05:53:54.617Z"
   },
   {
    "duration": 41,
    "start_time": "2021-06-19T05:53:54.662Z"
   },
   {
    "duration": 3,
    "start_time": "2021-06-19T05:53:54.705Z"
   },
   {
    "duration": 489,
    "start_time": "2021-06-19T05:55:20.844Z"
   },
   {
    "duration": 298,
    "start_time": "2021-06-19T05:55:38.922Z"
   },
   {
    "duration": 41,
    "start_time": "2021-06-19T06:00:04.379Z"
   },
   {
    "duration": 1362,
    "start_time": "2021-06-19T06:00:40.274Z"
   },
   {
    "duration": 6463,
    "start_time": "2021-06-19T06:01:37.388Z"
   },
   {
    "duration": 330,
    "start_time": "2021-06-19T06:01:51.176Z"
   },
   {
    "duration": 1064,
    "start_time": "2021-06-19T06:02:26.043Z"
   },
   {
    "duration": 1200,
    "start_time": "2021-06-19T06:02:40.282Z"
   },
   {
    "duration": 6491,
    "start_time": "2021-06-19T06:02:50.362Z"
   },
   {
    "duration": 32,
    "start_time": "2021-06-19T06:03:08.665Z"
   },
   {
    "duration": 55,
    "start_time": "2021-06-19T06:03:19.923Z"
   },
   {
    "duration": 63,
    "start_time": "2021-06-19T06:04:42.123Z"
   },
   {
    "duration": 60,
    "start_time": "2021-06-19T06:04:50.977Z"
   },
   {
    "duration": 1505,
    "start_time": "2021-06-19T06:04:58.349Z"
   },
   {
    "duration": 76,
    "start_time": "2021-06-19T06:04:59.857Z"
   },
   {
    "duration": 13,
    "start_time": "2021-06-19T06:04:59.936Z"
   },
   {
    "duration": 51,
    "start_time": "2021-06-19T06:04:59.952Z"
   },
   {
    "duration": 7,
    "start_time": "2021-06-19T06:05:00.006Z"
   },
   {
    "duration": 34,
    "start_time": "2021-06-19T06:05:00.015Z"
   },
   {
    "duration": 43,
    "start_time": "2021-06-19T06:05:00.051Z"
   },
   {
    "duration": 19,
    "start_time": "2021-06-19T06:05:00.098Z"
   },
   {
    "duration": 27,
    "start_time": "2021-06-19T06:05:00.121Z"
   },
   {
    "duration": 10,
    "start_time": "2021-06-19T06:05:00.151Z"
   },
   {
    "duration": 16,
    "start_time": "2021-06-19T06:05:00.183Z"
   },
   {
    "duration": 531,
    "start_time": "2021-06-19T06:05:00.202Z"
   },
   {
    "duration": 27,
    "start_time": "2021-06-19T06:05:00.736Z"
   },
   {
    "duration": 491,
    "start_time": "2021-06-19T06:05:00.784Z"
   },
   {
    "duration": 34,
    "start_time": "2021-06-19T06:05:01.277Z"
   },
   {
    "duration": 19,
    "start_time": "2021-06-19T06:05:01.313Z"
   },
   {
    "duration": 1501,
    "start_time": "2021-06-19T06:05:01.335Z"
   },
   {
    "duration": 18,
    "start_time": "2021-06-19T06:05:02.838Z"
   },
   {
    "duration": 503,
    "start_time": "2021-06-19T06:05:02.858Z"
   },
   {
    "duration": 58,
    "start_time": "2021-06-19T06:05:03.363Z"
   },
   {
    "duration": 16,
    "start_time": "2021-06-19T06:05:03.423Z"
   },
   {
    "duration": 1283,
    "start_time": "2021-06-19T06:05:03.442Z"
   },
   {
    "duration": 34,
    "start_time": "2021-06-19T06:05:04.729Z"
   },
   {
    "duration": 1324,
    "start_time": "2021-06-19T06:05:04.783Z"
   },
   {
    "duration": 14,
    "start_time": "2021-06-19T06:05:06.110Z"
   },
   {
    "duration": 19,
    "start_time": "2021-06-19T06:05:06.126Z"
   },
   {
    "duration": 69,
    "start_time": "2021-06-19T06:05:06.148Z"
   },
   {
    "duration": 434,
    "start_time": "2021-06-19T06:05:06.220Z"
   },
   {
    "duration": -36,
    "start_time": "2021-06-19T06:05:06.694Z"
   },
   {
    "duration": 45,
    "start_time": "2021-06-19T06:06:50.348Z"
   },
   {
    "duration": 51,
    "start_time": "2021-06-19T06:07:23.156Z"
   },
   {
    "duration": 116,
    "start_time": "2021-06-19T06:07:47.604Z"
   },
   {
    "duration": 1332,
    "start_time": "2021-06-19T06:08:01.307Z"
   },
   {
    "duration": 71,
    "start_time": "2021-06-19T06:08:02.642Z"
   },
   {
    "duration": 12,
    "start_time": "2021-06-19T06:08:02.716Z"
   },
   {
    "duration": 26,
    "start_time": "2021-06-19T06:08:02.731Z"
   },
   {
    "duration": 26,
    "start_time": "2021-06-19T06:08:02.760Z"
   },
   {
    "duration": 28,
    "start_time": "2021-06-19T06:08:02.788Z"
   },
   {
    "duration": 6,
    "start_time": "2021-06-19T06:08:02.818Z"
   },
   {
    "duration": 8,
    "start_time": "2021-06-19T06:08:02.828Z"
   },
   {
    "duration": 51,
    "start_time": "2021-06-19T06:08:02.840Z"
   },
   {
    "duration": 6,
    "start_time": "2021-06-19T06:08:02.894Z"
   },
   {
    "duration": 22,
    "start_time": "2021-06-19T06:08:02.902Z"
   },
   {
    "duration": 497,
    "start_time": "2021-06-19T06:08:02.927Z"
   },
   {
    "duration": 26,
    "start_time": "2021-06-19T06:08:03.427Z"
   },
   {
    "duration": 458,
    "start_time": "2021-06-19T06:08:03.456Z"
   },
   {
    "duration": 26,
    "start_time": "2021-06-19T06:08:03.917Z"
   },
   {
    "duration": 37,
    "start_time": "2021-06-19T06:08:03.946Z"
   },
   {
    "duration": 1415,
    "start_time": "2021-06-19T06:08:03.986Z"
   },
   {
    "duration": 16,
    "start_time": "2021-06-19T06:08:05.403Z"
   },
   {
    "duration": 464,
    "start_time": "2021-06-19T06:08:05.421Z"
   },
   {
    "duration": 48,
    "start_time": "2021-06-19T06:08:05.887Z"
   },
   {
    "duration": 15,
    "start_time": "2021-06-19T06:08:05.937Z"
   },
   {
    "duration": 1337,
    "start_time": "2021-06-19T06:08:05.954Z"
   },
   {
    "duration": 32,
    "start_time": "2021-06-19T06:08:07.295Z"
   },
   {
    "duration": 1060,
    "start_time": "2021-06-19T06:08:07.329Z"
   },
   {
    "duration": 13,
    "start_time": "2021-06-19T06:08:08.392Z"
   },
   {
    "duration": 15,
    "start_time": "2021-06-19T06:08:08.407Z"
   },
   {
    "duration": 70,
    "start_time": "2021-06-19T06:08:08.424Z"
   },
   {
    "duration": 422,
    "start_time": "2021-06-19T06:08:08.496Z"
   },
   {
    "duration": -37,
    "start_time": "2021-06-19T06:08:08.958Z"
   },
   {
    "duration": 1362,
    "start_time": "2021-06-19T06:08:30.392Z"
   },
   {
    "duration": 74,
    "start_time": "2021-06-19T06:08:31.756Z"
   },
   {
    "duration": 12,
    "start_time": "2021-06-19T06:08:31.833Z"
   },
   {
    "duration": 42,
    "start_time": "2021-06-19T06:08:31.848Z"
   },
   {
    "duration": 5,
    "start_time": "2021-06-19T06:08:31.893Z"
   },
   {
    "duration": 35,
    "start_time": "2021-06-19T06:08:31.901Z"
   },
   {
    "duration": 19,
    "start_time": "2021-06-19T06:08:31.939Z"
   },
   {
    "duration": 22,
    "start_time": "2021-06-19T06:08:31.962Z"
   },
   {
    "duration": 18,
    "start_time": "2021-06-19T06:08:31.987Z"
   },
   {
    "duration": 15,
    "start_time": "2021-06-19T06:08:32.007Z"
   },
   {
    "duration": 26,
    "start_time": "2021-06-19T06:08:32.024Z"
   },
   {
    "duration": 472,
    "start_time": "2021-06-19T06:08:32.052Z"
   },
   {
    "duration": 28,
    "start_time": "2021-06-19T06:08:32.527Z"
   },
   {
    "duration": 472,
    "start_time": "2021-06-19T06:08:32.557Z"
   },
   {
    "duration": 27,
    "start_time": "2021-06-19T06:08:33.031Z"
   },
   {
    "duration": 33,
    "start_time": "2021-06-19T06:08:33.060Z"
   },
   {
    "duration": 1446,
    "start_time": "2021-06-19T06:08:33.095Z"
   },
   {
    "duration": 17,
    "start_time": "2021-06-19T06:08:34.543Z"
   },
   {
    "duration": 465,
    "start_time": "2021-06-19T06:08:34.562Z"
   },
   {
    "duration": 55,
    "start_time": "2021-06-19T06:08:35.029Z"
   },
   {
    "duration": 14,
    "start_time": "2021-06-19T06:08:35.086Z"
   },
   {
    "duration": 1199,
    "start_time": "2021-06-19T06:08:35.103Z"
   },
   {
    "duration": 30,
    "start_time": "2021-06-19T06:08:36.307Z"
   },
   {
    "duration": 1082,
    "start_time": "2021-06-19T06:08:36.340Z"
   },
   {
    "duration": 13,
    "start_time": "2021-06-19T06:08:37.424Z"
   },
   {
    "duration": 17,
    "start_time": "2021-06-19T06:08:37.439Z"
   },
   {
    "duration": 49,
    "start_time": "2021-06-19T06:08:37.459Z"
   },
   {
    "duration": 4,
    "start_time": "2021-06-19T06:08:37.510Z"
   },
   {
    "duration": 1452,
    "start_time": "2021-06-19T06:09:26.588Z"
   },
   {
    "duration": 77,
    "start_time": "2021-06-19T06:09:28.042Z"
   },
   {
    "duration": 12,
    "start_time": "2021-06-19T06:09:28.122Z"
   },
   {
    "duration": 27,
    "start_time": "2021-06-19T06:09:28.136Z"
   },
   {
    "duration": 22,
    "start_time": "2021-06-19T06:09:28.165Z"
   },
   {
    "duration": 28,
    "start_time": "2021-06-19T06:09:28.190Z"
   },
   {
    "duration": 13,
    "start_time": "2021-06-19T06:09:28.221Z"
   },
   {
    "duration": 18,
    "start_time": "2021-06-19T06:09:28.238Z"
   },
   {
    "duration": 33,
    "start_time": "2021-06-19T06:09:28.259Z"
   },
   {
    "duration": 8,
    "start_time": "2021-06-19T06:09:28.295Z"
   },
   {
    "duration": 26,
    "start_time": "2021-06-19T06:09:28.305Z"
   },
   {
    "duration": 494,
    "start_time": "2021-06-19T06:09:28.333Z"
   },
   {
    "duration": 26,
    "start_time": "2021-06-19T06:09:28.830Z"
   },
   {
    "duration": 461,
    "start_time": "2021-06-19T06:09:28.859Z"
   },
   {
    "duration": 28,
    "start_time": "2021-06-19T06:09:29.322Z"
   },
   {
    "duration": 40,
    "start_time": "2021-06-19T06:09:29.352Z"
   },
   {
    "duration": 1425,
    "start_time": "2021-06-19T06:09:29.394Z"
   },
   {
    "duration": 16,
    "start_time": "2021-06-19T06:09:30.821Z"
   },
   {
    "duration": 460,
    "start_time": "2021-06-19T06:09:30.839Z"
   },
   {
    "duration": 49,
    "start_time": "2021-06-19T06:09:31.302Z"
   },
   {
    "duration": 41,
    "start_time": "2021-06-19T06:09:31.353Z"
   },
   {
    "duration": 1102,
    "start_time": "2021-06-19T06:09:31.396Z"
   },
   {
    "duration": 31,
    "start_time": "2021-06-19T06:09:32.502Z"
   },
   {
    "duration": 1090,
    "start_time": "2021-06-19T06:09:32.536Z"
   },
   {
    "duration": 12,
    "start_time": "2021-06-19T06:09:33.628Z"
   },
   {
    "duration": 24,
    "start_time": "2021-06-19T06:09:33.643Z"
   },
   {
    "duration": 41,
    "start_time": "2021-06-19T06:09:33.669Z"
   },
   {
    "duration": 3,
    "start_time": "2021-06-19T06:09:33.712Z"
   },
   {
    "duration": 41,
    "start_time": "2021-06-19T06:25:30.419Z"
   },
   {
    "duration": 1437,
    "start_time": "2021-06-19T06:25:39.613Z"
   },
   {
    "duration": 72,
    "start_time": "2021-06-19T06:25:41.053Z"
   },
   {
    "duration": 13,
    "start_time": "2021-06-19T06:25:41.128Z"
   },
   {
    "duration": 51,
    "start_time": "2021-06-19T06:25:41.144Z"
   },
   {
    "duration": 6,
    "start_time": "2021-06-19T06:25:41.197Z"
   },
   {
    "duration": 30,
    "start_time": "2021-06-19T06:25:41.206Z"
   },
   {
    "duration": 5,
    "start_time": "2021-06-19T06:25:41.239Z"
   },
   {
    "duration": 36,
    "start_time": "2021-06-19T06:25:41.247Z"
   },
   {
    "duration": 18,
    "start_time": "2021-06-19T06:25:41.286Z"
   },
   {
    "duration": 8,
    "start_time": "2021-06-19T06:25:41.306Z"
   },
   {
    "duration": 25,
    "start_time": "2021-06-19T06:25:41.317Z"
   },
   {
    "duration": 517,
    "start_time": "2021-06-19T06:25:41.345Z"
   },
   {
    "duration": 36,
    "start_time": "2021-06-19T06:25:41.864Z"
   },
   {
    "duration": 483,
    "start_time": "2021-06-19T06:25:41.903Z"
   },
   {
    "duration": 29,
    "start_time": "2021-06-19T06:25:42.388Z"
   },
   {
    "duration": 20,
    "start_time": "2021-06-19T06:25:42.419Z"
   },
   {
    "duration": 1550,
    "start_time": "2021-06-19T06:25:42.441Z"
   },
   {
    "duration": 16,
    "start_time": "2021-06-19T06:25:43.995Z"
   },
   {
    "duration": 502,
    "start_time": "2021-06-19T06:25:44.015Z"
   },
   {
    "duration": 66,
    "start_time": "2021-06-19T06:25:44.519Z"
   },
   {
    "duration": 15,
    "start_time": "2021-06-19T06:25:44.587Z"
   },
   {
    "duration": 2004,
    "start_time": "2021-06-19T06:25:44.605Z"
   },
   {
    "duration": 32,
    "start_time": "2021-06-19T06:25:46.612Z"
   },
   {
    "duration": 978,
    "start_time": "2021-06-19T06:25:46.646Z"
   },
   {
    "duration": 14,
    "start_time": "2021-06-19T06:25:47.626Z"
   },
   {
    "duration": 29,
    "start_time": "2021-06-19T06:25:47.642Z"
   },
   {
    "duration": 39,
    "start_time": "2021-06-19T06:25:47.673Z"
   },
   {
    "duration": 3,
    "start_time": "2021-06-19T06:25:47.715Z"
   },
   {
    "duration": 1436,
    "start_time": "2021-06-19T06:26:01.009Z"
   },
   {
    "duration": 74,
    "start_time": "2021-06-19T06:26:02.448Z"
   },
   {
    "duration": 12,
    "start_time": "2021-06-19T06:26:02.525Z"
   },
   {
    "duration": 44,
    "start_time": "2021-06-19T06:26:02.539Z"
   },
   {
    "duration": 5,
    "start_time": "2021-06-19T06:26:02.586Z"
   },
   {
    "duration": 38,
    "start_time": "2021-06-19T06:26:02.593Z"
   },
   {
    "duration": 5,
    "start_time": "2021-06-19T06:26:02.634Z"
   },
   {
    "duration": 11,
    "start_time": "2021-06-19T06:26:02.643Z"
   },
   {
    "duration": 37,
    "start_time": "2021-06-19T06:26:02.657Z"
   },
   {
    "duration": 19,
    "start_time": "2021-06-19T06:26:02.696Z"
   },
   {
    "duration": 14,
    "start_time": "2021-06-19T06:26:02.717Z"
   },
   {
    "duration": 513,
    "start_time": "2021-06-19T06:26:02.733Z"
   },
   {
    "duration": 41,
    "start_time": "2021-06-19T06:26:03.248Z"
   },
   {
    "duration": 457,
    "start_time": "2021-06-19T06:26:03.292Z"
   },
   {
    "duration": 36,
    "start_time": "2021-06-19T06:26:03.752Z"
   },
   {
    "duration": 22,
    "start_time": "2021-06-19T06:26:03.791Z"
   },
   {
    "duration": 1421,
    "start_time": "2021-06-19T06:26:03.816Z"
   },
   {
    "duration": 18,
    "start_time": "2021-06-19T06:26:05.241Z"
   },
   {
    "duration": 489,
    "start_time": "2021-06-19T06:26:05.262Z"
   },
   {
    "duration": 56,
    "start_time": "2021-06-19T06:26:05.754Z"
   },
   {
    "duration": 15,
    "start_time": "2021-06-19T06:26:05.812Z"
   },
   {
    "duration": 1482,
    "start_time": "2021-06-19T06:26:05.829Z"
   },
   {
    "duration": 32,
    "start_time": "2021-06-19T06:26:07.316Z"
   },
   {
    "duration": 1021,
    "start_time": "2021-06-19T06:26:07.351Z"
   },
   {
    "duration": 13,
    "start_time": "2021-06-19T06:26:08.374Z"
   },
   {
    "duration": 20,
    "start_time": "2021-06-19T06:26:08.389Z"
   },
   {
    "duration": 51,
    "start_time": "2021-06-19T06:26:08.411Z"
   },
   {
    "duration": 3,
    "start_time": "2021-06-19T06:26:08.484Z"
   },
   {
    "duration": 58,
    "start_time": "2021-06-19T06:26:30.059Z"
   },
   {
    "duration": 104,
    "start_time": "2021-06-19T06:26:37.168Z"
   },
   {
    "duration": 1531,
    "start_time": "2021-06-19T06:26:59.313Z"
   },
   {
    "duration": 75,
    "start_time": "2021-06-19T06:27:00.847Z"
   },
   {
    "duration": 13,
    "start_time": "2021-06-19T06:27:00.925Z"
   },
   {
    "duration": 44,
    "start_time": "2021-06-19T06:27:00.940Z"
   },
   {
    "duration": 5,
    "start_time": "2021-06-19T06:27:00.987Z"
   },
   {
    "duration": 25,
    "start_time": "2021-06-19T06:27:00.995Z"
   },
   {
    "duration": 11,
    "start_time": "2021-06-19T06:27:01.022Z"
   },
   {
    "duration": 12,
    "start_time": "2021-06-19T06:27:01.037Z"
   },
   {
    "duration": 43,
    "start_time": "2021-06-19T06:27:01.052Z"
   },
   {
    "duration": 14,
    "start_time": "2021-06-19T06:27:01.097Z"
   },
   {
    "duration": 28,
    "start_time": "2021-06-19T06:27:01.113Z"
   },
   {
    "duration": 486,
    "start_time": "2021-06-19T06:27:01.143Z"
   },
   {
    "duration": 26,
    "start_time": "2021-06-19T06:27:01.632Z"
   },
   {
    "duration": 490,
    "start_time": "2021-06-19T06:27:01.661Z"
   },
   {
    "duration": 35,
    "start_time": "2021-06-19T06:27:02.154Z"
   },
   {
    "duration": 17,
    "start_time": "2021-06-19T06:27:02.192Z"
   },
   {
    "duration": 1437,
    "start_time": "2021-06-19T06:27:02.212Z"
   },
   {
    "duration": 16,
    "start_time": "2021-06-19T06:27:03.652Z"
   },
   {
    "duration": 487,
    "start_time": "2021-06-19T06:27:03.683Z"
   },
   {
    "duration": 58,
    "start_time": "2021-06-19T06:27:04.172Z"
   },
   {
    "duration": 16,
    "start_time": "2021-06-19T06:27:04.232Z"
   },
   {
    "duration": 1504,
    "start_time": "2021-06-19T06:27:04.250Z"
   },
   {
    "duration": 35,
    "start_time": "2021-06-19T06:27:05.758Z"
   },
   {
    "duration": 1154,
    "start_time": "2021-06-19T06:27:05.796Z"
   },
   {
    "duration": 14,
    "start_time": "2021-06-19T06:27:06.954Z"
   },
   {
    "duration": 19,
    "start_time": "2021-06-19T06:27:06.970Z"
   },
   {
    "duration": 55,
    "start_time": "2021-06-19T06:27:06.992Z"
   },
   {
    "duration": 4,
    "start_time": "2021-06-19T06:27:07.050Z"
   },
   {
    "duration": 1440,
    "start_time": "2021-06-19T06:28:41.184Z"
   },
   {
    "duration": 77,
    "start_time": "2021-06-19T06:28:42.627Z"
   },
   {
    "duration": 13,
    "start_time": "2021-06-19T06:28:42.707Z"
   },
   {
    "duration": 28,
    "start_time": "2021-06-19T06:28:42.723Z"
   },
   {
    "duration": 33,
    "start_time": "2021-06-19T06:28:42.754Z"
   },
   {
    "duration": 26,
    "start_time": "2021-06-19T06:28:42.789Z"
   },
   {
    "duration": 7,
    "start_time": "2021-06-19T06:28:42.817Z"
   },
   {
    "duration": 11,
    "start_time": "2021-06-19T06:28:42.828Z"
   },
   {
    "duration": 48,
    "start_time": "2021-06-19T06:28:42.843Z"
   },
   {
    "duration": 6,
    "start_time": "2021-06-19T06:28:42.894Z"
   },
   {
    "duration": 19,
    "start_time": "2021-06-19T06:28:42.904Z"
   },
   {
    "duration": 515,
    "start_time": "2021-06-19T06:28:42.926Z"
   },
   {
    "duration": 41,
    "start_time": "2021-06-19T06:28:43.443Z"
   },
   {
    "duration": 461,
    "start_time": "2021-06-19T06:28:43.487Z"
   },
   {
    "duration": 40,
    "start_time": "2021-06-19T06:28:43.951Z"
   },
   {
    "duration": 18,
    "start_time": "2021-06-19T06:28:43.993Z"
   },
   {
    "duration": 1656,
    "start_time": "2021-06-19T06:28:44.014Z"
   },
   {
    "duration": 22,
    "start_time": "2021-06-19T06:28:45.673Z"
   },
   {
    "duration": 469,
    "start_time": "2021-06-19T06:28:45.698Z"
   },
   {
    "duration": 51,
    "start_time": "2021-06-19T06:28:46.170Z"
   },
   {
    "duration": 14,
    "start_time": "2021-06-19T06:28:46.224Z"
   },
   {
    "duration": 1499,
    "start_time": "2021-06-19T06:28:46.241Z"
   },
   {
    "duration": 40,
    "start_time": "2021-06-19T06:28:47.744Z"
   },
   {
    "duration": 813,
    "start_time": "2021-06-19T06:28:47.787Z"
   },
   {
    "duration": 13,
    "start_time": "2021-06-19T06:28:48.603Z"
   },
   {
    "duration": 20,
    "start_time": "2021-06-19T06:28:48.619Z"
   },
   {
    "duration": 61,
    "start_time": "2021-06-19T06:28:48.641Z"
   },
   {
    "duration": 3,
    "start_time": "2021-06-19T06:28:48.704Z"
   },
   {
    "duration": 18,
    "start_time": "2021-06-19T06:33:25.227Z"
   },
   {
    "duration": 1496,
    "start_time": "2021-06-19T06:34:01.946Z"
   },
   {
    "duration": 72,
    "start_time": "2021-06-19T06:34:03.445Z"
   },
   {
    "duration": 13,
    "start_time": "2021-06-19T06:34:03.519Z"
   },
   {
    "duration": 25,
    "start_time": "2021-06-19T06:34:03.535Z"
   },
   {
    "duration": 8,
    "start_time": "2021-06-19T06:34:03.584Z"
   },
   {
    "duration": 27,
    "start_time": "2021-06-19T06:34:03.594Z"
   },
   {
    "duration": 4,
    "start_time": "2021-06-19T06:34:03.625Z"
   },
   {
    "duration": 6,
    "start_time": "2021-06-19T06:34:03.632Z"
   },
   {
    "duration": 56,
    "start_time": "2021-06-19T06:34:03.640Z"
   },
   {
    "duration": 6,
    "start_time": "2021-06-19T06:34:03.699Z"
   },
   {
    "duration": 18,
    "start_time": "2021-06-19T06:34:03.708Z"
   },
   {
    "duration": 538,
    "start_time": "2021-06-19T06:34:03.728Z"
   },
   {
    "duration": 40,
    "start_time": "2021-06-19T06:34:04.269Z"
   },
   {
    "duration": 475,
    "start_time": "2021-06-19T06:34:04.312Z"
   },
   {
    "duration": 29,
    "start_time": "2021-06-19T06:34:04.790Z"
   },
   {
    "duration": 21,
    "start_time": "2021-06-19T06:34:04.822Z"
   },
   {
    "duration": 1528,
    "start_time": "2021-06-19T06:34:04.845Z"
   },
   {
    "duration": 23,
    "start_time": "2021-06-19T06:34:06.376Z"
   },
   {
    "duration": 492,
    "start_time": "2021-06-19T06:34:06.402Z"
   },
   {
    "duration": 51,
    "start_time": "2021-06-19T06:34:06.897Z"
   },
   {
    "duration": 51,
    "start_time": "2021-06-19T06:34:06.952Z"
   },
   {
    "duration": 1170,
    "start_time": "2021-06-19T06:34:07.008Z"
   },
   {
    "duration": 16,
    "start_time": "2021-06-19T06:34:08.181Z"
   },
   {
    "duration": 42,
    "start_time": "2021-06-19T06:34:08.199Z"
   },
   {
    "duration": 3,
    "start_time": "2021-06-19T06:34:08.243Z"
   },
   {
    "duration": 485,
    "start_time": "2021-06-19T06:34:27.747Z"
   },
   {
    "duration": 20,
    "start_time": "2021-06-19T06:35:27.161Z"
   },
   {
    "duration": 8,
    "start_time": "2021-06-19T06:39:20.502Z"
   },
   {
    "duration": 14,
    "start_time": "2021-06-19T06:39:28.364Z"
   },
   {
    "duration": 1654,
    "start_time": "2021-06-19T06:39:53.016Z"
   },
   {
    "duration": 76,
    "start_time": "2021-06-19T06:39:54.673Z"
   },
   {
    "duration": 17,
    "start_time": "2021-06-19T06:39:54.753Z"
   },
   {
    "duration": 28,
    "start_time": "2021-06-19T06:39:54.783Z"
   },
   {
    "duration": 5,
    "start_time": "2021-06-19T06:39:54.814Z"
   },
   {
    "duration": 26,
    "start_time": "2021-06-19T06:39:54.821Z"
   },
   {
    "duration": 39,
    "start_time": "2021-06-19T06:39:54.849Z"
   },
   {
    "duration": 7,
    "start_time": "2021-06-19T06:39:54.892Z"
   },
   {
    "duration": 14,
    "start_time": "2021-06-19T06:39:54.902Z"
   },
   {
    "duration": 8,
    "start_time": "2021-06-19T06:39:54.918Z"
   },
   {
    "duration": 60,
    "start_time": "2021-06-19T06:39:54.928Z"
   },
   {
    "duration": 546,
    "start_time": "2021-06-19T06:39:54.991Z"
   },
   {
    "duration": 25,
    "start_time": "2021-06-19T06:39:55.540Z"
   },
   {
    "duration": 508,
    "start_time": "2021-06-19T06:39:55.583Z"
   },
   {
    "duration": 40,
    "start_time": "2021-06-19T06:39:56.094Z"
   },
   {
    "duration": 19,
    "start_time": "2021-06-19T06:39:56.136Z"
   },
   {
    "duration": 1611,
    "start_time": "2021-06-19T06:39:56.157Z"
   },
   {
    "duration": 27,
    "start_time": "2021-06-19T06:39:57.772Z"
   },
   {
    "duration": 493,
    "start_time": "2021-06-19T06:39:57.802Z"
   },
   {
    "duration": 48,
    "start_time": "2021-06-19T06:39:58.297Z"
   },
   {
    "duration": 59,
    "start_time": "2021-06-19T06:39:58.348Z"
   },
   {
    "duration": 1190,
    "start_time": "2021-06-19T06:39:58.410Z"
   },
   {
    "duration": 19,
    "start_time": "2021-06-19T06:39:59.606Z"
   },
   {
    "duration": 61,
    "start_time": "2021-06-19T06:39:59.628Z"
   },
   {
    "duration": 3,
    "start_time": "2021-06-19T06:39:59.692Z"
   },
   {
    "duration": 26,
    "start_time": "2021-06-19T06:39:59.698Z"
   },
   {
    "duration": 8,
    "start_time": "2021-06-19T06:39:59.726Z"
   },
   {
    "duration": 49,
    "start_time": "2021-06-19T06:39:59.736Z"
   },
   {
    "duration": 8,
    "start_time": "2021-06-19T06:40:09.817Z"
   },
   {
    "duration": 13,
    "start_time": "2021-06-19T06:40:12.589Z"
   },
   {
    "duration": 8,
    "start_time": "2021-06-19T06:40:23.877Z"
   },
   {
    "duration": 13,
    "start_time": "2021-06-19T06:40:26.675Z"
   },
   {
    "duration": 45,
    "start_time": "2021-06-19T06:40:33.524Z"
   },
   {
    "duration": 802,
    "start_time": "2021-06-19T06:41:27.696Z"
   },
   {
    "duration": 300,
    "start_time": "2021-06-19T06:45:56.482Z"
   },
   {
    "duration": 272,
    "start_time": "2021-06-19T06:46:19.281Z"
   },
   {
    "duration": 277,
    "start_time": "2021-06-19T06:46:28.279Z"
   },
   {
    "duration": 8,
    "start_time": "2021-06-19T06:47:48.574Z"
   },
   {
    "duration": 22,
    "start_time": "2021-06-19T06:47:56.430Z"
   },
   {
    "duration": 47,
    "start_time": "2021-06-19T06:48:01.825Z"
   },
   {
    "duration": 8,
    "start_time": "2021-06-19T06:48:37.873Z"
   },
   {
    "duration": 8,
    "start_time": "2021-06-19T06:48:44.633Z"
   },
   {
    "duration": 22,
    "start_time": "2021-06-19T06:48:47.316Z"
   },
   {
    "duration": 1404,
    "start_time": "2021-06-19T06:48:57.122Z"
   },
   {
    "duration": 71,
    "start_time": "2021-06-19T06:48:58.529Z"
   },
   {
    "duration": 13,
    "start_time": "2021-06-19T06:48:58.603Z"
   },
   {
    "duration": 25,
    "start_time": "2021-06-19T06:48:58.619Z"
   },
   {
    "duration": 5,
    "start_time": "2021-06-19T06:48:58.647Z"
   },
   {
    "duration": 26,
    "start_time": "2021-06-19T06:48:58.684Z"
   },
   {
    "duration": 5,
    "start_time": "2021-06-19T06:48:58.713Z"
   },
   {
    "duration": 9,
    "start_time": "2021-06-19T06:48:58.722Z"
   },
   {
    "duration": 15,
    "start_time": "2021-06-19T06:48:58.735Z"
   },
   {
    "duration": 6,
    "start_time": "2021-06-19T06:48:58.784Z"
   },
   {
    "duration": 16,
    "start_time": "2021-06-19T06:48:58.793Z"
   },
   {
    "duration": 499,
    "start_time": "2021-06-19T06:48:58.812Z"
   },
   {
    "duration": 25,
    "start_time": "2021-06-19T06:48:59.313Z"
   },
   {
    "duration": 483,
    "start_time": "2021-06-19T06:48:59.341Z"
   },
   {
    "duration": 31,
    "start_time": "2021-06-19T06:48:59.827Z"
   },
   {
    "duration": 32,
    "start_time": "2021-06-19T06:48:59.860Z"
   },
   {
    "duration": 1373,
    "start_time": "2021-06-19T06:48:59.894Z"
   },
   {
    "duration": 20,
    "start_time": "2021-06-19T06:49:01.269Z"
   },
   {
    "duration": 476,
    "start_time": "2021-06-19T06:49:01.292Z"
   },
   {
    "duration": 56,
    "start_time": "2021-06-19T06:49:01.770Z"
   },
   {
    "duration": 36,
    "start_time": "2021-06-19T06:49:01.828Z"
   },
   {
    "duration": 1344,
    "start_time": "2021-06-19T06:49:01.867Z"
   },
   {
    "duration": 14,
    "start_time": "2021-06-19T06:49:03.215Z"
   },
   {
    "duration": 57,
    "start_time": "2021-06-19T06:49:03.231Z"
   },
   {
    "duration": 3,
    "start_time": "2021-06-19T06:49:03.290Z"
   },
   {
    "duration": 25,
    "start_time": "2021-06-19T06:49:03.295Z"
   },
   {
    "duration": 6,
    "start_time": "2021-06-19T06:49:03.322Z"
   },
   {
    "duration": 15,
    "start_time": "2021-06-19T06:49:03.331Z"
   },
   {
    "duration": 72,
    "start_time": "2021-06-19T06:49:03.348Z"
   },
   {
    "duration": 8,
    "start_time": "2021-06-19T06:52:22.311Z"
   },
   {
    "duration": 20,
    "start_time": "2021-06-19T06:52:26.141Z"
   },
   {
    "duration": 8,
    "start_time": "2021-06-19T06:54:07.672Z"
   },
   {
    "duration": 14,
    "start_time": "2021-06-19T06:54:09.993Z"
   },
   {
    "duration": 12,
    "start_time": "2021-06-19T06:54:36.527Z"
   },
   {
    "duration": 14,
    "start_time": "2021-06-19T06:54:40.885Z"
   },
   {
    "duration": 10,
    "start_time": "2021-06-19T06:57:42.436Z"
   },
   {
    "duration": 14,
    "start_time": "2021-06-19T06:57:45.639Z"
   },
   {
    "duration": 55,
    "start_time": "2021-06-19T06:57:54.302Z"
   },
   {
    "duration": 1331,
    "start_time": "2021-06-19T06:58:11.801Z"
   },
   {
    "duration": 73,
    "start_time": "2021-06-19T06:58:13.135Z"
   },
   {
    "duration": 14,
    "start_time": "2021-06-19T06:58:13.212Z"
   },
   {
    "duration": 31,
    "start_time": "2021-06-19T06:58:13.229Z"
   },
   {
    "duration": 24,
    "start_time": "2021-06-19T06:58:13.262Z"
   },
   {
    "duration": 25,
    "start_time": "2021-06-19T06:58:13.289Z"
   },
   {
    "duration": 6,
    "start_time": "2021-06-19T06:58:13.316Z"
   },
   {
    "duration": 12,
    "start_time": "2021-06-19T06:58:13.325Z"
   },
   {
    "duration": 50,
    "start_time": "2021-06-19T06:58:13.340Z"
   },
   {
    "duration": 6,
    "start_time": "2021-06-19T06:58:13.392Z"
   },
   {
    "duration": 16,
    "start_time": "2021-06-19T06:58:13.400Z"
   },
   {
    "duration": 486,
    "start_time": "2021-06-19T06:58:13.419Z"
   },
   {
    "duration": 26,
    "start_time": "2021-06-19T06:58:13.908Z"
   },
   {
    "duration": 453,
    "start_time": "2021-06-19T06:58:13.936Z"
   },
   {
    "duration": 29,
    "start_time": "2021-06-19T06:58:14.391Z"
   },
   {
    "duration": 18,
    "start_time": "2021-06-19T06:58:14.423Z"
   },
   {
    "duration": 1476,
    "start_time": "2021-06-19T06:58:14.444Z"
   },
   {
    "duration": 17,
    "start_time": "2021-06-19T06:58:15.923Z"
   },
   {
    "duration": 464,
    "start_time": "2021-06-19T06:58:15.943Z"
   },
   {
    "duration": 46,
    "start_time": "2021-06-19T06:58:16.409Z"
   },
   {
    "duration": 52,
    "start_time": "2021-06-19T06:58:16.457Z"
   },
   {
    "duration": 1541,
    "start_time": "2021-06-19T06:58:16.512Z"
   },
   {
    "duration": 15,
    "start_time": "2021-06-19T06:58:18.057Z"
   },
   {
    "duration": 41,
    "start_time": "2021-06-19T06:58:18.074Z"
   },
   {
    "duration": 2,
    "start_time": "2021-06-19T06:58:18.118Z"
   },
   {
    "duration": 22,
    "start_time": "2021-06-19T06:58:18.123Z"
   },
   {
    "duration": 9,
    "start_time": "2021-06-19T06:58:18.147Z"
   },
   {
    "duration": 13,
    "start_time": "2021-06-19T06:58:18.184Z"
   },
   {
    "duration": 39,
    "start_time": "2021-06-19T06:58:18.199Z"
   },
   {
    "duration": 1349,
    "start_time": "2021-06-19T06:59:44.688Z"
   },
   {
    "duration": 82,
    "start_time": "2021-06-19T06:59:46.041Z"
   },
   {
    "duration": 13,
    "start_time": "2021-06-19T06:59:46.126Z"
   },
   {
    "duration": 42,
    "start_time": "2021-06-19T06:59:46.142Z"
   },
   {
    "duration": 6,
    "start_time": "2021-06-19T06:59:46.186Z"
   },
   {
    "duration": 25,
    "start_time": "2021-06-19T06:59:46.194Z"
   },
   {
    "duration": 5,
    "start_time": "2021-06-19T06:59:46.222Z"
   },
   {
    "duration": 6,
    "start_time": "2021-06-19T06:59:46.231Z"
   },
   {
    "duration": 54,
    "start_time": "2021-06-19T06:59:46.240Z"
   },
   {
    "duration": 7,
    "start_time": "2021-06-19T06:59:46.297Z"
   },
   {
    "duration": 19,
    "start_time": "2021-06-19T06:59:46.306Z"
   },
   {
    "duration": 486,
    "start_time": "2021-06-19T06:59:46.327Z"
   },
   {
    "duration": 26,
    "start_time": "2021-06-19T06:59:46.815Z"
   },
   {
    "duration": 465,
    "start_time": "2021-06-19T06:59:46.844Z"
   },
   {
    "duration": 28,
    "start_time": "2021-06-19T06:59:47.312Z"
   },
   {
    "duration": 39,
    "start_time": "2021-06-19T06:59:47.343Z"
   },
   {
    "duration": 1461,
    "start_time": "2021-06-19T06:59:47.384Z"
   },
   {
    "duration": 17,
    "start_time": "2021-06-19T06:59:48.847Z"
   },
   {
    "duration": 461,
    "start_time": "2021-06-19T06:59:48.866Z"
   },
   {
    "duration": 57,
    "start_time": "2021-06-19T06:59:49.330Z"
   },
   {
    "duration": 36,
    "start_time": "2021-06-19T06:59:49.389Z"
   },
   {
    "duration": 1208,
    "start_time": "2021-06-19T06:59:49.427Z"
   },
   {
    "duration": 14,
    "start_time": "2021-06-19T06:59:50.639Z"
   },
   {
    "duration": 6,
    "start_time": "2021-06-19T06:59:50.655Z"
   },
   {
    "duration": 24,
    "start_time": "2021-06-19T06:59:50.663Z"
   },
   {
    "duration": 17,
    "start_time": "2021-06-19T06:59:50.689Z"
   },
   {
    "duration": 20,
    "start_time": "2021-06-19T06:59:50.708Z"
   },
   {
    "duration": 39,
    "start_time": "2021-06-19T06:59:50.730Z"
   },
   {
    "duration": 33,
    "start_time": "2021-06-19T07:01:11.865Z"
   },
   {
    "duration": 14,
    "start_time": "2021-06-19T07:02:00.911Z"
   },
   {
    "duration": 31,
    "start_time": "2021-06-19T07:02:18.917Z"
   },
   {
    "duration": 1329,
    "start_time": "2021-06-19T07:02:24.903Z"
   },
   {
    "duration": 72,
    "start_time": "2021-06-19T07:02:26.235Z"
   },
   {
    "duration": 11,
    "start_time": "2021-06-19T07:02:26.310Z"
   },
   {
    "duration": 27,
    "start_time": "2021-06-19T07:02:26.324Z"
   },
   {
    "duration": 5,
    "start_time": "2021-06-19T07:02:26.353Z"
   },
   {
    "duration": 23,
    "start_time": "2021-06-19T07:02:26.384Z"
   },
   {
    "duration": 5,
    "start_time": "2021-06-19T07:02:26.410Z"
   },
   {
    "duration": 7,
    "start_time": "2021-06-19T07:02:26.420Z"
   },
   {
    "duration": 56,
    "start_time": "2021-06-19T07:02:26.431Z"
   },
   {
    "duration": 7,
    "start_time": "2021-06-19T07:02:26.490Z"
   },
   {
    "duration": 17,
    "start_time": "2021-06-19T07:02:26.500Z"
   },
   {
    "duration": 518,
    "start_time": "2021-06-19T07:02:26.520Z"
   },
   {
    "duration": 46,
    "start_time": "2021-06-19T07:02:27.041Z"
   },
   {
    "duration": 464,
    "start_time": "2021-06-19T07:02:27.090Z"
   },
   {
    "duration": 36,
    "start_time": "2021-06-19T07:02:27.557Z"
   },
   {
    "duration": 20,
    "start_time": "2021-06-19T07:02:27.596Z"
   },
   {
    "duration": 1413,
    "start_time": "2021-06-19T07:02:27.619Z"
   },
   {
    "duration": 17,
    "start_time": "2021-06-19T07:02:29.034Z"
   },
   {
    "duration": 467,
    "start_time": "2021-06-19T07:02:29.054Z"
   },
   {
    "duration": 59,
    "start_time": "2021-06-19T07:02:29.523Z"
   },
   {
    "duration": 28,
    "start_time": "2021-06-19T07:02:29.585Z"
   },
   {
    "duration": 1153,
    "start_time": "2021-06-19T07:02:29.615Z"
   },
   {
    "duration": 15,
    "start_time": "2021-06-19T07:02:30.773Z"
   },
   {
    "duration": 9,
    "start_time": "2021-06-19T07:02:30.791Z"
   },
   {
    "duration": 26,
    "start_time": "2021-06-19T07:02:30.803Z"
   },
   {
    "duration": 24,
    "start_time": "2021-06-19T07:02:30.831Z"
   },
   {
    "duration": 33,
    "start_time": "2021-06-19T07:02:30.858Z"
   },
   {
    "duration": 44,
    "start_time": "2021-06-19T07:02:30.894Z"
   },
   {
    "duration": 19,
    "start_time": "2021-06-19T07:02:30.940Z"
   },
   {
    "duration": 15,
    "start_time": "2021-06-19T07:03:00.523Z"
   },
   {
    "duration": 1388,
    "start_time": "2021-06-19T07:03:09.801Z"
   },
   {
    "duration": 72,
    "start_time": "2021-06-19T07:03:11.192Z"
   },
   {
    "duration": 15,
    "start_time": "2021-06-19T07:03:11.268Z"
   },
   {
    "duration": 23,
    "start_time": "2021-06-19T07:03:11.286Z"
   },
   {
    "duration": 5,
    "start_time": "2021-06-19T07:03:11.311Z"
   },
   {
    "duration": 34,
    "start_time": "2021-06-19T07:03:11.318Z"
   },
   {
    "duration": 31,
    "start_time": "2021-06-19T07:03:11.354Z"
   },
   {
    "duration": 6,
    "start_time": "2021-06-19T07:03:11.388Z"
   },
   {
    "duration": 15,
    "start_time": "2021-06-19T07:03:11.397Z"
   },
   {
    "duration": 13,
    "start_time": "2021-06-19T07:03:11.414Z"
   },
   {
    "duration": 23,
    "start_time": "2021-06-19T07:03:11.429Z"
   },
   {
    "duration": 537,
    "start_time": "2021-06-19T07:03:11.454Z"
   },
   {
    "duration": 28,
    "start_time": "2021-06-19T07:03:11.993Z"
   },
   {
    "duration": 471,
    "start_time": "2021-06-19T07:03:12.023Z"
   },
   {
    "duration": 28,
    "start_time": "2021-06-19T07:03:12.496Z"
   },
   {
    "duration": 17,
    "start_time": "2021-06-19T07:03:12.526Z"
   },
   {
    "duration": 1411,
    "start_time": "2021-06-19T07:03:12.546Z"
   },
   {
    "duration": 24,
    "start_time": "2021-06-19T07:03:13.960Z"
   },
   {
    "duration": 471,
    "start_time": "2021-06-19T07:03:13.986Z"
   },
   {
    "duration": 52,
    "start_time": "2021-06-19T07:03:14.460Z"
   },
   {
    "duration": 36,
    "start_time": "2021-06-19T07:03:14.514Z"
   },
   {
    "duration": 1342,
    "start_time": "2021-06-19T07:03:14.552Z"
   },
   {
    "duration": 14,
    "start_time": "2021-06-19T07:03:15.900Z"
   },
   {
    "duration": 6,
    "start_time": "2021-06-19T07:03:15.916Z"
   },
   {
    "duration": 16,
    "start_time": "2021-06-19T07:03:15.925Z"
   },
   {
    "duration": 42,
    "start_time": "2021-06-19T07:03:15.943Z"
   },
   {
    "duration": 17,
    "start_time": "2021-06-19T07:03:15.987Z"
   },
   {
    "duration": 20,
    "start_time": "2021-06-19T07:03:16.007Z"
   },
   {
    "duration": 61,
    "start_time": "2021-06-19T07:03:16.030Z"
   },
   {
    "duration": 17,
    "start_time": "2021-06-19T07:03:16.093Z"
   },
   {
    "duration": 20,
    "start_time": "2021-06-19T07:10:45.101Z"
   },
   {
    "duration": 9,
    "start_time": "2021-06-19T07:11:47.689Z"
   },
   {
    "duration": 1357,
    "start_time": "2021-06-19T07:11:55.588Z"
   },
   {
    "duration": 76,
    "start_time": "2021-06-19T07:11:56.948Z"
   },
   {
    "duration": 11,
    "start_time": "2021-06-19T07:11:57.027Z"
   },
   {
    "duration": 25,
    "start_time": "2021-06-19T07:11:57.041Z"
   },
   {
    "duration": 19,
    "start_time": "2021-06-19T07:11:57.068Z"
   },
   {
    "duration": 25,
    "start_time": "2021-06-19T07:11:57.089Z"
   },
   {
    "duration": 10,
    "start_time": "2021-06-19T07:11:57.117Z"
   },
   {
    "duration": 9,
    "start_time": "2021-06-19T07:11:57.130Z"
   },
   {
    "duration": 46,
    "start_time": "2021-06-19T07:11:57.142Z"
   },
   {
    "duration": 6,
    "start_time": "2021-06-19T07:11:57.190Z"
   },
   {
    "duration": 18,
    "start_time": "2021-06-19T07:11:57.198Z"
   },
   {
    "duration": 492,
    "start_time": "2021-06-19T07:11:57.218Z"
   },
   {
    "duration": 28,
    "start_time": "2021-06-19T07:11:57.712Z"
   },
   {
    "duration": 455,
    "start_time": "2021-06-19T07:11:57.742Z"
   },
   {
    "duration": 27,
    "start_time": "2021-06-19T07:11:58.200Z"
   },
   {
    "duration": 18,
    "start_time": "2021-06-19T07:11:58.229Z"
   },
   {
    "duration": 1402,
    "start_time": "2021-06-19T07:11:58.249Z"
   },
   {
    "duration": 16,
    "start_time": "2021-06-19T07:11:59.653Z"
   },
   {
    "duration": 455,
    "start_time": "2021-06-19T07:11:59.683Z"
   },
   {
    "duration": 58,
    "start_time": "2021-06-19T07:12:00.141Z"
   },
   {
    "duration": 31,
    "start_time": "2021-06-19T07:12:00.202Z"
   },
   {
    "duration": 1526,
    "start_time": "2021-06-19T07:12:00.236Z"
   },
   {
    "duration": 15,
    "start_time": "2021-06-19T07:12:01.767Z"
   },
   {
    "duration": 23,
    "start_time": "2021-06-19T07:12:01.784Z"
   },
   {
    "duration": 23,
    "start_time": "2021-06-19T07:12:01.809Z"
   },
   {
    "duration": 22,
    "start_time": "2021-06-19T07:12:01.835Z"
   },
   {
    "duration": 27,
    "start_time": "2021-06-19T07:12:01.860Z"
   },
   {
    "duration": 43,
    "start_time": "2021-06-19T07:12:01.889Z"
   },
   {
    "duration": 31,
    "start_time": "2021-06-19T07:12:01.934Z"
   },
   {
    "duration": 46,
    "start_time": "2021-06-19T07:12:01.967Z"
   },
   {
    "duration": 19,
    "start_time": "2021-06-19T07:12:02.015Z"
   },
   {
    "duration": 12,
    "start_time": "2021-06-19T07:14:21.359Z"
   },
   {
    "duration": 11,
    "start_time": "2021-06-19T07:14:28.423Z"
   },
   {
    "duration": 406,
    "start_time": "2021-06-19T07:14:46.662Z"
   },
   {
    "duration": 259,
    "start_time": "2021-06-19T07:14:57.567Z"
   },
   {
    "duration": 13,
    "start_time": "2021-06-19T07:15:12.943Z"
   },
   {
    "duration": 14,
    "start_time": "2021-06-19T07:15:18.366Z"
   },
   {
    "duration": 295,
    "start_time": "2021-06-19T07:21:49.496Z"
   },
   {
    "duration": 269,
    "start_time": "2021-06-19T07:22:18.183Z"
   },
   {
    "duration": 289,
    "start_time": "2021-06-19T07:22:25.936Z"
   },
   {
    "duration": 15,
    "start_time": "2021-06-19T07:22:34.127Z"
   },
   {
    "duration": 38,
    "start_time": "2021-06-19T07:22:43.823Z"
   },
   {
    "duration": 1455,
    "start_time": "2021-06-19T07:23:45.005Z"
   },
   {
    "duration": 72,
    "start_time": "2021-06-19T07:23:46.462Z"
   },
   {
    "duration": 12,
    "start_time": "2021-06-19T07:23:46.541Z"
   },
   {
    "duration": 40,
    "start_time": "2021-06-19T07:23:46.555Z"
   },
   {
    "duration": 5,
    "start_time": "2021-06-19T07:23:46.597Z"
   },
   {
    "duration": 27,
    "start_time": "2021-06-19T07:23:46.604Z"
   },
   {
    "duration": 6,
    "start_time": "2021-06-19T07:23:46.635Z"
   },
   {
    "duration": 38,
    "start_time": "2021-06-19T07:23:46.645Z"
   },
   {
    "duration": 16,
    "start_time": "2021-06-19T07:23:46.686Z"
   },
   {
    "duration": 7,
    "start_time": "2021-06-19T07:23:46.705Z"
   },
   {
    "duration": 21,
    "start_time": "2021-06-19T07:23:46.716Z"
   },
   {
    "duration": 533,
    "start_time": "2021-06-19T07:23:46.740Z"
   },
   {
    "duration": 27,
    "start_time": "2021-06-19T07:23:47.283Z"
   },
   {
    "duration": 570,
    "start_time": "2021-06-19T07:23:47.313Z"
   },
   {
    "duration": 27,
    "start_time": "2021-06-19T07:23:47.885Z"
   },
   {
    "duration": 19,
    "start_time": "2021-06-19T07:23:47.914Z"
   },
   {
    "duration": 1458,
    "start_time": "2021-06-19T07:23:47.935Z"
   },
   {
    "duration": 19,
    "start_time": "2021-06-19T07:23:49.396Z"
   },
   {
    "duration": 525,
    "start_time": "2021-06-19T07:23:49.418Z"
   },
   {
    "duration": 61,
    "start_time": "2021-06-19T07:23:49.945Z"
   },
   {
    "duration": 1508,
    "start_time": "2021-06-19T07:23:50.008Z"
   },
   {
    "duration": 3,
    "start_time": "2021-06-19T07:23:51.520Z"
   },
   {
    "duration": 1432,
    "start_time": "2021-06-19T07:23:51.525Z"
   },
   {
    "duration": -76,
    "start_time": "2021-06-19T07:23:53.036Z"
   },
   {
    "duration": 31,
    "start_time": "2021-06-19T07:24:29.205Z"
   },
   {
    "duration": 36,
    "start_time": "2021-06-19T07:24:52.533Z"
   },
   {
    "duration": 52,
    "start_time": "2021-06-19T07:25:02.238Z"
   },
   {
    "duration": 1422,
    "start_time": "2021-06-19T07:25:10.836Z"
   },
   {
    "duration": 74,
    "start_time": "2021-06-19T07:25:12.261Z"
   },
   {
    "duration": 13,
    "start_time": "2021-06-19T07:25:12.338Z"
   },
   {
    "duration": 42,
    "start_time": "2021-06-19T07:25:12.354Z"
   },
   {
    "duration": 5,
    "start_time": "2021-06-19T07:25:12.399Z"
   },
   {
    "duration": 26,
    "start_time": "2021-06-19T07:25:12.407Z"
   },
   {
    "duration": 5,
    "start_time": "2021-06-19T07:25:12.435Z"
   },
   {
    "duration": 39,
    "start_time": "2021-06-19T07:25:12.444Z"
   },
   {
    "duration": 14,
    "start_time": "2021-06-19T07:25:12.486Z"
   },
   {
    "duration": 6,
    "start_time": "2021-06-19T07:25:12.503Z"
   },
   {
    "duration": 15,
    "start_time": "2021-06-19T07:25:12.512Z"
   },
   {
    "duration": 520,
    "start_time": "2021-06-19T07:25:12.530Z"
   },
   {
    "duration": 39,
    "start_time": "2021-06-19T07:25:13.052Z"
   },
   {
    "duration": 450,
    "start_time": "2021-06-19T07:25:13.093Z"
   },
   {
    "duration": 27,
    "start_time": "2021-06-19T07:25:13.546Z"
   },
   {
    "duration": 18,
    "start_time": "2021-06-19T07:25:13.584Z"
   },
   {
    "duration": 1416,
    "start_time": "2021-06-19T07:25:13.604Z"
   },
   {
    "duration": 17,
    "start_time": "2021-06-19T07:25:15.022Z"
   },
   {
    "duration": 463,
    "start_time": "2021-06-19T07:25:15.042Z"
   },
   {
    "duration": 50,
    "start_time": "2021-06-19T07:25:15.509Z"
   },
   {
    "duration": 1158,
    "start_time": "2021-06-19T07:25:15.561Z"
   },
   {
    "duration": 3,
    "start_time": "2021-06-19T07:25:16.721Z"
   },
   {
    "duration": 1426,
    "start_time": "2021-06-19T07:25:16.728Z"
   },
   {
    "duration": -153,
    "start_time": "2021-06-19T07:25:18.310Z"
   },
   {
    "duration": 34,
    "start_time": "2021-06-19T07:25:27.702Z"
   },
   {
    "duration": 1409,
    "start_time": "2021-06-19T07:25:41.922Z"
   },
   {
    "duration": 72,
    "start_time": "2021-06-19T07:25:43.334Z"
   },
   {
    "duration": 14,
    "start_time": "2021-06-19T07:25:43.409Z"
   },
   {
    "duration": 27,
    "start_time": "2021-06-19T07:25:43.427Z"
   },
   {
    "duration": 7,
    "start_time": "2021-06-19T07:25:43.482Z"
   },
   {
    "duration": 28,
    "start_time": "2021-06-19T07:25:43.492Z"
   },
   {
    "duration": 6,
    "start_time": "2021-06-19T07:25:43.523Z"
   },
   {
    "duration": 11,
    "start_time": "2021-06-19T07:25:43.533Z"
   },
   {
    "duration": 45,
    "start_time": "2021-06-19T07:25:43.547Z"
   },
   {
    "duration": 14,
    "start_time": "2021-06-19T07:25:43.595Z"
   },
   {
    "duration": 21,
    "start_time": "2021-06-19T07:25:43.612Z"
   },
   {
    "duration": 478,
    "start_time": "2021-06-19T07:25:43.635Z"
   },
   {
    "duration": 25,
    "start_time": "2021-06-19T07:25:44.116Z"
   },
   {
    "duration": 468,
    "start_time": "2021-06-19T07:25:44.143Z"
   },
   {
    "duration": 28,
    "start_time": "2021-06-19T07:25:44.613Z"
   },
   {
    "duration": 40,
    "start_time": "2021-06-19T07:25:44.643Z"
   },
   {
    "duration": 1453,
    "start_time": "2021-06-19T07:25:44.685Z"
   },
   {
    "duration": 16,
    "start_time": "2021-06-19T07:25:46.140Z"
   },
   {
    "duration": 448,
    "start_time": "2021-06-19T07:25:46.158Z"
   },
   {
    "duration": 47,
    "start_time": "2021-06-19T07:25:46.608Z"
   },
   {
    "duration": 1387,
    "start_time": "2021-06-19T07:25:46.657Z"
   },
   {
    "duration": 3,
    "start_time": "2021-06-19T07:25:48.047Z"
   },
   {
    "duration": 42,
    "start_time": "2021-06-19T07:25:48.054Z"
   },
   {
    "duration": 70,
    "start_time": "2021-06-19T07:25:55.685Z"
   },
   {
    "duration": 1381,
    "start_time": "2021-06-19T07:26:23.360Z"
   },
   {
    "duration": 72,
    "start_time": "2021-06-19T07:26:24.744Z"
   },
   {
    "duration": 14,
    "start_time": "2021-06-19T07:26:24.819Z"
   },
   {
    "duration": 50,
    "start_time": "2021-06-19T07:26:24.836Z"
   },
   {
    "duration": 6,
    "start_time": "2021-06-19T07:26:24.889Z"
   },
   {
    "duration": 26,
    "start_time": "2021-06-19T07:26:24.897Z"
   },
   {
    "duration": 7,
    "start_time": "2021-06-19T07:26:24.926Z"
   },
   {
    "duration": 9,
    "start_time": "2021-06-19T07:26:24.937Z"
   },
   {
    "duration": 46,
    "start_time": "2021-06-19T07:26:24.949Z"
   },
   {
    "duration": 7,
    "start_time": "2021-06-19T07:26:24.997Z"
   },
   {
    "duration": 17,
    "start_time": "2021-06-19T07:26:25.006Z"
   },
   {
    "duration": 506,
    "start_time": "2021-06-19T07:26:25.025Z"
   },
   {
    "duration": 28,
    "start_time": "2021-06-19T07:26:25.533Z"
   },
   {
    "duration": 476,
    "start_time": "2021-06-19T07:26:25.563Z"
   },
   {
    "duration": 29,
    "start_time": "2021-06-19T07:26:26.041Z"
   },
   {
    "duration": 18,
    "start_time": "2021-06-19T07:26:26.083Z"
   },
   {
    "duration": 1479,
    "start_time": "2021-06-19T07:26:26.104Z"
   },
   {
    "duration": 17,
    "start_time": "2021-06-19T07:26:27.585Z"
   },
   {
    "duration": 485,
    "start_time": "2021-06-19T07:26:27.605Z"
   },
   {
    "duration": 49,
    "start_time": "2021-06-19T07:26:28.092Z"
   },
   {
    "duration": 1269,
    "start_time": "2021-06-19T07:26:28.144Z"
   },
   {
    "duration": 3,
    "start_time": "2021-06-19T07:26:29.415Z"
   },
   {
    "duration": 60,
    "start_time": "2021-06-19T07:26:29.423Z"
   },
   {
    "duration": 1369,
    "start_time": "2021-06-19T07:26:53.960Z"
   },
   {
    "duration": 71,
    "start_time": "2021-06-19T07:26:55.332Z"
   },
   {
    "duration": 12,
    "start_time": "2021-06-19T07:26:55.409Z"
   },
   {
    "duration": 24,
    "start_time": "2021-06-19T07:26:55.424Z"
   },
   {
    "duration": 34,
    "start_time": "2021-06-19T07:26:55.451Z"
   },
   {
    "duration": 26,
    "start_time": "2021-06-19T07:26:55.487Z"
   },
   {
    "duration": 5,
    "start_time": "2021-06-19T07:26:55.516Z"
   },
   {
    "duration": 6,
    "start_time": "2021-06-19T07:26:55.524Z"
   },
   {
    "duration": 55,
    "start_time": "2021-06-19T07:26:55.533Z"
   },
   {
    "duration": 6,
    "start_time": "2021-06-19T07:26:55.590Z"
   },
   {
    "duration": 17,
    "start_time": "2021-06-19T07:26:55.599Z"
   },
   {
    "duration": 499,
    "start_time": "2021-06-19T07:26:55.618Z"
   },
   {
    "duration": 27,
    "start_time": "2021-06-19T07:26:56.120Z"
   },
   {
    "duration": 478,
    "start_time": "2021-06-19T07:26:56.149Z"
   },
   {
    "duration": 28,
    "start_time": "2021-06-19T07:26:56.630Z"
   },
   {
    "duration": 29,
    "start_time": "2021-06-19T07:26:56.660Z"
   },
   {
    "duration": 1410,
    "start_time": "2021-06-19T07:26:56.691Z"
   },
   {
    "duration": 16,
    "start_time": "2021-06-19T07:26:58.104Z"
   },
   {
    "duration": 477,
    "start_time": "2021-06-19T07:26:58.122Z"
   },
   {
    "duration": 47,
    "start_time": "2021-06-19T07:26:58.602Z"
   },
   {
    "duration": 35,
    "start_time": "2021-06-19T07:26:58.652Z"
   },
   {
    "duration": 1373,
    "start_time": "2021-06-19T07:26:58.691Z"
   },
   {
    "duration": 3,
    "start_time": "2021-06-19T07:27:00.067Z"
   },
   {
    "duration": 61,
    "start_time": "2021-06-19T07:27:00.072Z"
   },
   {
    "duration": 1429,
    "start_time": "2021-06-19T07:33:47.323Z"
   },
   {
    "duration": 75,
    "start_time": "2021-06-19T07:33:48.754Z"
   },
   {
    "duration": 13,
    "start_time": "2021-06-19T07:33:48.832Z"
   },
   {
    "duration": 42,
    "start_time": "2021-06-19T07:33:48.847Z"
   },
   {
    "duration": 5,
    "start_time": "2021-06-19T07:33:48.892Z"
   },
   {
    "duration": 30,
    "start_time": "2021-06-19T07:33:48.900Z"
   },
   {
    "duration": 6,
    "start_time": "2021-06-19T07:33:48.933Z"
   },
   {
    "duration": 39,
    "start_time": "2021-06-19T07:33:48.945Z"
   },
   {
    "duration": 16,
    "start_time": "2021-06-19T07:33:48.989Z"
   },
   {
    "duration": 7,
    "start_time": "2021-06-19T07:33:49.008Z"
   },
   {
    "duration": 67,
    "start_time": "2021-06-19T07:33:49.018Z"
   },
   {
    "duration": 476,
    "start_time": "2021-06-19T07:33:49.087Z"
   },
   {
    "duration": 33,
    "start_time": "2021-06-19T07:33:49.565Z"
   },
   {
    "duration": 457,
    "start_time": "2021-06-19T07:33:49.601Z"
   },
   {
    "duration": 35,
    "start_time": "2021-06-19T07:33:50.060Z"
   },
   {
    "duration": 18,
    "start_time": "2021-06-19T07:33:50.097Z"
   },
   {
    "duration": 1531,
    "start_time": "2021-06-19T07:33:50.117Z"
   },
   {
    "duration": 17,
    "start_time": "2021-06-19T07:33:51.650Z"
   },
   {
    "duration": 471,
    "start_time": "2021-06-19T07:33:51.669Z"
   },
   {
    "duration": 55,
    "start_time": "2021-06-19T07:33:52.142Z"
   },
   {
    "duration": 15,
    "start_time": "2021-06-19T07:33:52.199Z"
   },
   {
    "duration": 1513,
    "start_time": "2021-06-19T07:33:52.216Z"
   },
   {
    "duration": 14,
    "start_time": "2021-06-19T07:33:53.736Z"
   },
   {
    "duration": 7,
    "start_time": "2021-06-19T07:33:53.753Z"
   },
   {
    "duration": 55,
    "start_time": "2021-06-19T07:33:53.763Z"
   },
   {
    "duration": 1365,
    "start_time": "2021-06-19T07:34:11.680Z"
   },
   {
    "duration": 72,
    "start_time": "2021-06-19T07:34:13.048Z"
   },
   {
    "duration": 12,
    "start_time": "2021-06-19T07:34:13.123Z"
   },
   {
    "duration": 45,
    "start_time": "2021-06-19T07:34:13.138Z"
   },
   {
    "duration": 7,
    "start_time": "2021-06-19T07:34:13.185Z"
   },
   {
    "duration": 31,
    "start_time": "2021-06-19T07:34:13.195Z"
   },
   {
    "duration": 13,
    "start_time": "2021-06-19T07:34:13.228Z"
   },
   {
    "duration": 10,
    "start_time": "2021-06-19T07:34:13.245Z"
   },
   {
    "duration": 16,
    "start_time": "2021-06-19T07:34:13.283Z"
   },
   {
    "duration": 13,
    "start_time": "2021-06-19T07:34:13.302Z"
   },
   {
    "duration": 19,
    "start_time": "2021-06-19T07:34:13.318Z"
   },
   {
    "duration": 488,
    "start_time": "2021-06-19T07:34:13.340Z"
   },
   {
    "duration": 25,
    "start_time": "2021-06-19T07:34:13.831Z"
   },
   {
    "duration": 462,
    "start_time": "2021-06-19T07:34:13.859Z"
   },
   {
    "duration": 28,
    "start_time": "2021-06-19T07:34:14.324Z"
   },
   {
    "duration": 39,
    "start_time": "2021-06-19T07:34:14.355Z"
   },
   {
    "duration": 1445,
    "start_time": "2021-06-19T07:34:14.396Z"
   },
   {
    "duration": 18,
    "start_time": "2021-06-19T07:34:15.843Z"
   },
   {
    "duration": 478,
    "start_time": "2021-06-19T07:34:15.863Z"
   },
   {
    "duration": 54,
    "start_time": "2021-06-19T07:34:16.343Z"
   },
   {
    "duration": 15,
    "start_time": "2021-06-19T07:34:16.399Z"
   },
   {
    "duration": 1223,
    "start_time": "2021-06-19T07:34:16.416Z"
   },
   {
    "duration": 16,
    "start_time": "2021-06-19T07:34:17.645Z"
   },
   {
    "duration": 13,
    "start_time": "2021-06-19T07:34:17.664Z"
   },
   {
    "duration": 50,
    "start_time": "2021-06-19T07:34:17.680Z"
   },
   {
    "duration": 1300,
    "start_time": "2021-06-19T07:34:33.726Z"
   },
   {
    "duration": 76,
    "start_time": "2021-06-19T07:34:35.029Z"
   },
   {
    "duration": 13,
    "start_time": "2021-06-19T07:34:35.109Z"
   },
   {
    "duration": 29,
    "start_time": "2021-06-19T07:34:35.125Z"
   },
   {
    "duration": 29,
    "start_time": "2021-06-19T07:34:35.157Z"
   },
   {
    "duration": 39,
    "start_time": "2021-06-19T07:34:35.189Z"
   },
   {
    "duration": 10,
    "start_time": "2021-06-19T07:34:35.231Z"
   },
   {
    "duration": 8,
    "start_time": "2021-06-19T07:34:35.246Z"
   },
   {
    "duration": 39,
    "start_time": "2021-06-19T07:34:35.258Z"
   },
   {
    "duration": 15,
    "start_time": "2021-06-19T07:34:35.300Z"
   },
   {
    "duration": 31,
    "start_time": "2021-06-19T07:34:35.318Z"
   },
   {
    "duration": 492,
    "start_time": "2021-06-19T07:34:35.352Z"
   },
   {
    "duration": 47,
    "start_time": "2021-06-19T07:34:35.847Z"
   },
   {
    "duration": 443,
    "start_time": "2021-06-19T07:34:35.897Z"
   },
   {
    "duration": 40,
    "start_time": "2021-06-19T07:34:36.343Z"
   },
   {
    "duration": 22,
    "start_time": "2021-06-19T07:34:36.386Z"
   },
   {
    "duration": 1494,
    "start_time": "2021-06-19T07:34:36.411Z"
   },
   {
    "duration": 19,
    "start_time": "2021-06-19T07:34:37.908Z"
   },
   {
    "duration": 476,
    "start_time": "2021-06-19T07:34:37.930Z"
   },
   {
    "duration": 74,
    "start_time": "2021-06-19T07:34:38.409Z"
   },
   {
    "duration": 16,
    "start_time": "2021-06-19T07:34:38.486Z"
   },
   {
    "duration": 33,
    "start_time": "2021-06-19T07:34:38.505Z"
   },
   {
    "duration": 1306,
    "start_time": "2021-06-19T07:34:38.543Z"
   },
   {
    "duration": 14,
    "start_time": "2021-06-19T07:34:39.852Z"
   },
   {
    "duration": 22,
    "start_time": "2021-06-19T07:34:39.868Z"
   },
   {
    "duration": 61,
    "start_time": "2021-06-19T07:34:39.893Z"
   },
   {
    "duration": 47,
    "start_time": "2021-06-19T07:35:26.641Z"
   },
   {
    "duration": 70,
    "start_time": "2021-06-19T07:35:36.706Z"
   },
   {
    "duration": 1458,
    "start_time": "2021-06-19T07:35:44.445Z"
   },
   {
    "duration": 79,
    "start_time": "2021-06-19T07:35:45.905Z"
   },
   {
    "duration": 14,
    "start_time": "2021-06-19T07:35:45.988Z"
   },
   {
    "duration": 24,
    "start_time": "2021-06-19T07:35:46.005Z"
   },
   {
    "duration": 5,
    "start_time": "2021-06-19T07:35:46.031Z"
   },
   {
    "duration": 66,
    "start_time": "2021-06-19T07:35:46.039Z"
   },
   {
    "duration": 6,
    "start_time": "2021-06-19T07:35:46.107Z"
   },
   {
    "duration": 8,
    "start_time": "2021-06-19T07:35:46.117Z"
   },
   {
    "duration": 14,
    "start_time": "2021-06-19T07:35:46.128Z"
   },
   {
    "duration": 40,
    "start_time": "2021-06-19T07:35:46.144Z"
   },
   {
    "duration": 16,
    "start_time": "2021-06-19T07:35:46.187Z"
   },
   {
    "duration": 519,
    "start_time": "2021-06-19T07:35:46.206Z"
   },
   {
    "duration": 26,
    "start_time": "2021-06-19T07:35:46.728Z"
   },
   {
    "duration": 475,
    "start_time": "2021-06-19T07:35:46.756Z"
   },
   {
    "duration": 28,
    "start_time": "2021-06-19T07:35:47.234Z"
   },
   {
    "duration": 34,
    "start_time": "2021-06-19T07:35:47.265Z"
   },
   {
    "duration": 1460,
    "start_time": "2021-06-19T07:35:47.301Z"
   },
   {
    "duration": 25,
    "start_time": "2021-06-19T07:35:48.763Z"
   },
   {
    "duration": 497,
    "start_time": "2021-06-19T07:35:48.791Z"
   },
   {
    "duration": 50,
    "start_time": "2021-06-19T07:35:49.291Z"
   },
   {
    "duration": 43,
    "start_time": "2021-06-19T07:35:49.344Z"
   },
   {
    "duration": 26,
    "start_time": "2021-06-19T07:35:49.390Z"
   },
   {
    "duration": 1386,
    "start_time": "2021-06-19T07:35:49.420Z"
   },
   {
    "duration": 14,
    "start_time": "2021-06-19T07:35:50.808Z"
   },
   {
    "duration": 6,
    "start_time": "2021-06-19T07:35:50.825Z"
   },
   {
    "duration": 91,
    "start_time": "2021-06-19T07:35:50.834Z"
   },
   {
    "duration": 75,
    "start_time": "2021-06-19T07:35:50.928Z"
   },
   {
    "duration": 25,
    "start_time": "2021-06-19T07:37:37.472Z"
   },
   {
    "duration": 1345,
    "start_time": "2021-06-19T07:45:53.687Z"
   },
   {
    "duration": 82,
    "start_time": "2021-06-19T07:45:55.034Z"
   },
   {
    "duration": 12,
    "start_time": "2021-06-19T07:45:55.119Z"
   },
   {
    "duration": 50,
    "start_time": "2021-06-19T07:45:55.134Z"
   },
   {
    "duration": 5,
    "start_time": "2021-06-19T07:45:55.187Z"
   },
   {
    "duration": 26,
    "start_time": "2021-06-19T07:45:55.195Z"
   },
   {
    "duration": 5,
    "start_time": "2021-06-19T07:45:55.223Z"
   },
   {
    "duration": 9,
    "start_time": "2021-06-19T07:45:55.232Z"
   },
   {
    "duration": 51,
    "start_time": "2021-06-19T07:45:55.244Z"
   },
   {
    "duration": 6,
    "start_time": "2021-06-19T07:45:55.297Z"
   },
   {
    "duration": 19,
    "start_time": "2021-06-19T07:45:55.306Z"
   },
   {
    "duration": 491,
    "start_time": "2021-06-19T07:45:55.328Z"
   },
   {
    "duration": 27,
    "start_time": "2021-06-19T07:45:55.822Z"
   },
   {
    "duration": 464,
    "start_time": "2021-06-19T07:45:55.851Z"
   },
   {
    "duration": 27,
    "start_time": "2021-06-19T07:45:56.317Z"
   },
   {
    "duration": 39,
    "start_time": "2021-06-19T07:45:56.346Z"
   },
   {
    "duration": 1374,
    "start_time": "2021-06-19T07:45:56.387Z"
   },
   {
    "duration": 22,
    "start_time": "2021-06-19T07:45:57.764Z"
   },
   {
    "duration": 477,
    "start_time": "2021-06-19T07:45:57.788Z"
   },
   {
    "duration": 62,
    "start_time": "2021-06-19T07:45:58.268Z"
   },
   {
    "duration": 15,
    "start_time": "2021-06-19T07:45:58.332Z"
   },
   {
    "duration": 55,
    "start_time": "2021-06-19T07:45:58.350Z"
   },
   {
    "duration": 1509,
    "start_time": "2021-06-19T07:45:58.409Z"
   },
   {
    "duration": 15,
    "start_time": "2021-06-19T07:45:59.921Z"
   },
   {
    "duration": 23,
    "start_time": "2021-06-19T07:45:59.939Z"
   },
   {
    "duration": 19,
    "start_time": "2021-06-19T07:45:59.965Z"
   },
   {
    "duration": 51,
    "start_time": "2021-06-19T07:45:59.987Z"
   },
   {
    "duration": 56,
    "start_time": "2021-06-19T07:46:00.041Z"
   },
   {
    "duration": 439,
    "start_time": "2021-06-19T07:46:00.100Z"
   },
   {
    "duration": 22,
    "start_time": "2021-06-19T07:46:10.008Z"
   },
   {
    "duration": 1428,
    "start_time": "2021-06-19T07:47:39.708Z"
   },
   {
    "duration": 71,
    "start_time": "2021-06-19T07:47:41.139Z"
   },
   {
    "duration": 12,
    "start_time": "2021-06-19T07:47:41.213Z"
   },
   {
    "duration": 30,
    "start_time": "2021-06-19T07:47:41.228Z"
   },
   {
    "duration": 26,
    "start_time": "2021-06-19T07:47:41.260Z"
   },
   {
    "duration": 34,
    "start_time": "2021-06-19T07:47:41.288Z"
   },
   {
    "duration": 9,
    "start_time": "2021-06-19T07:47:41.325Z"
   },
   {
    "duration": 6,
    "start_time": "2021-06-19T07:47:41.339Z"
   },
   {
    "duration": 41,
    "start_time": "2021-06-19T07:47:41.348Z"
   },
   {
    "duration": 5,
    "start_time": "2021-06-19T07:47:41.392Z"
   },
   {
    "duration": 28,
    "start_time": "2021-06-19T07:47:41.399Z"
   },
   {
    "duration": 502,
    "start_time": "2021-06-19T07:47:41.429Z"
   },
   {
    "duration": 53,
    "start_time": "2021-06-19T07:47:41.934Z"
   },
   {
    "duration": 461,
    "start_time": "2021-06-19T07:47:41.989Z"
   },
   {
    "duration": 37,
    "start_time": "2021-06-19T07:47:42.454Z"
   },
   {
    "duration": 21,
    "start_time": "2021-06-19T07:47:42.494Z"
   },
   {
    "duration": 1478,
    "start_time": "2021-06-19T07:47:42.517Z"
   },
   {
    "duration": 16,
    "start_time": "2021-06-19T07:47:43.997Z"
   },
   {
    "duration": 589,
    "start_time": "2021-06-19T07:47:44.016Z"
   },
   {
    "duration": 48,
    "start_time": "2021-06-19T07:47:44.607Z"
   },
   {
    "duration": 33,
    "start_time": "2021-06-19T07:47:44.658Z"
   },
   {
    "duration": 1234,
    "start_time": "2021-06-19T07:47:44.693Z"
   },
   {
    "duration": 19,
    "start_time": "2021-06-19T07:47:45.932Z"
   },
   {
    "duration": 4,
    "start_time": "2021-06-19T07:47:45.953Z"
   },
   {
    "duration": 57,
    "start_time": "2021-06-19T07:47:45.960Z"
   },
   {
    "duration": 38,
    "start_time": "2021-06-19T07:47:46.019Z"
   },
   {
    "duration": 44,
    "start_time": "2021-06-19T07:47:46.060Z"
   },
   {
    "duration": 420,
    "start_time": "2021-06-19T07:48:06.795Z"
   },
   {
    "duration": 272,
    "start_time": "2021-06-19T07:48:12.554Z"
   },
   {
    "duration": 277,
    "start_time": "2021-06-19T07:48:25.069Z"
   },
   {
    "duration": 25,
    "start_time": "2021-06-19T07:48:34.396Z"
   },
   {
    "duration": 1402,
    "start_time": "2021-06-19T07:48:47.253Z"
   },
   {
    "duration": 74,
    "start_time": "2021-06-19T07:48:48.657Z"
   },
   {
    "duration": 12,
    "start_time": "2021-06-19T07:48:48.735Z"
   },
   {
    "duration": 43,
    "start_time": "2021-06-19T07:48:48.750Z"
   },
   {
    "duration": 5,
    "start_time": "2021-06-19T07:48:48.796Z"
   },
   {
    "duration": 31,
    "start_time": "2021-06-19T07:48:48.804Z"
   },
   {
    "duration": 7,
    "start_time": "2021-06-19T07:48:48.838Z"
   },
   {
    "duration": 38,
    "start_time": "2021-06-19T07:48:48.849Z"
   },
   {
    "duration": 15,
    "start_time": "2021-06-19T07:48:48.891Z"
   },
   {
    "duration": 6,
    "start_time": "2021-06-19T07:48:48.909Z"
   },
   {
    "duration": 19,
    "start_time": "2021-06-19T07:48:48.917Z"
   },
   {
    "duration": 516,
    "start_time": "2021-06-19T07:48:48.938Z"
   },
   {
    "duration": 39,
    "start_time": "2021-06-19T07:48:49.456Z"
   },
   {
    "duration": 471,
    "start_time": "2021-06-19T07:48:49.498Z"
   },
   {
    "duration": 36,
    "start_time": "2021-06-19T07:48:49.972Z"
   },
   {
    "duration": 19,
    "start_time": "2021-06-19T07:48:50.011Z"
   },
   {
    "duration": 1949,
    "start_time": "2021-06-19T07:48:50.034Z"
   },
   {
    "duration": 17,
    "start_time": "2021-06-19T07:48:51.986Z"
   },
   {
    "duration": 516,
    "start_time": "2021-06-19T07:48:52.005Z"
   },
   {
    "duration": 62,
    "start_time": "2021-06-19T07:48:52.524Z"
   },
   {
    "duration": 16,
    "start_time": "2021-06-19T07:48:52.589Z"
   },
   {
    "duration": 1179,
    "start_time": "2021-06-19T07:48:52.608Z"
   },
   {
    "duration": 21,
    "start_time": "2021-06-19T07:48:53.791Z"
   },
   {
    "duration": 3,
    "start_time": "2021-06-19T07:48:53.815Z"
   },
   {
    "duration": 85,
    "start_time": "2021-06-19T07:48:53.820Z"
   },
   {
    "duration": 76,
    "start_time": "2021-06-19T07:48:53.909Z"
   },
   {
    "duration": 50,
    "start_time": "2021-06-19T07:48:53.988Z"
   },
   {
    "duration": 425,
    "start_time": "2021-06-19T07:58:29.872Z"
   },
   {
    "duration": 1397,
    "start_time": "2021-06-19T07:59:13.635Z"
   },
   {
    "duration": 74,
    "start_time": "2021-06-19T07:59:15.035Z"
   },
   {
    "duration": 13,
    "start_time": "2021-06-19T07:59:15.112Z"
   },
   {
    "duration": 28,
    "start_time": "2021-06-19T07:59:15.128Z"
   },
   {
    "duration": 26,
    "start_time": "2021-06-19T07:59:15.158Z"
   },
   {
    "duration": 24,
    "start_time": "2021-06-19T07:59:15.187Z"
   },
   {
    "duration": 5,
    "start_time": "2021-06-19T07:59:15.214Z"
   },
   {
    "duration": 10,
    "start_time": "2021-06-19T07:59:15.223Z"
   },
   {
    "duration": 49,
    "start_time": "2021-06-19T07:59:15.236Z"
   },
   {
    "duration": 5,
    "start_time": "2021-06-19T07:59:15.288Z"
   },
   {
    "duration": 20,
    "start_time": "2021-06-19T07:59:15.295Z"
   },
   {
    "duration": 498,
    "start_time": "2021-06-19T07:59:15.317Z"
   },
   {
    "duration": 26,
    "start_time": "2021-06-19T07:59:15.818Z"
   },
   {
    "duration": 464,
    "start_time": "2021-06-19T07:59:15.847Z"
   },
   {
    "duration": 28,
    "start_time": "2021-06-19T07:59:16.313Z"
   },
   {
    "duration": 42,
    "start_time": "2021-06-19T07:59:16.343Z"
   },
   {
    "duration": 1463,
    "start_time": "2021-06-19T07:59:16.387Z"
   },
   {
    "duration": 33,
    "start_time": "2021-06-19T07:59:17.853Z"
   },
   {
    "duration": 514,
    "start_time": "2021-06-19T07:59:17.889Z"
   },
   {
    "duration": 48,
    "start_time": "2021-06-19T07:59:18.405Z"
   },
   {
    "duration": 13,
    "start_time": "2021-06-19T07:59:18.455Z"
   },
   {
    "duration": 1521,
    "start_time": "2021-06-19T07:59:18.471Z"
   },
   {
    "duration": 20,
    "start_time": "2021-06-19T07:59:19.996Z"
   },
   {
    "duration": 3,
    "start_time": "2021-06-19T07:59:20.019Z"
   },
   {
    "duration": 104,
    "start_time": "2021-06-19T07:59:20.024Z"
   },
   {
    "duration": 40,
    "start_time": "2021-06-19T07:59:20.182Z"
   },
   {
    "duration": 86,
    "start_time": "2021-06-19T07:59:20.224Z"
   },
   {
    "duration": 43820,
    "start_time": "2021-06-19T07:59:20.312Z"
   },
   {
    "duration": 19,
    "start_time": "2021-06-19T08:00:21.593Z"
   },
   {
    "duration": 23,
    "start_time": "2021-06-19T08:00:35.314Z"
   },
   {
    "duration": 20,
    "start_time": "2021-06-19T08:00:40.499Z"
   },
   {
    "duration": 519,
    "start_time": "2021-06-19T08:00:42.256Z"
   },
   {
    "duration": 659,
    "start_time": "2021-06-19T08:01:31.002Z"
   },
   {
    "duration": 485,
    "start_time": "2021-06-19T08:01:46.330Z"
   },
   {
    "duration": 17,
    "start_time": "2021-06-19T08:03:34.128Z"
   },
   {
    "duration": 24,
    "start_time": "2021-06-19T08:03:51.440Z"
   },
   {
    "duration": 15,
    "start_time": "2021-06-19T08:04:04.380Z"
   },
   {
    "duration": 17,
    "start_time": "2021-06-19T08:04:34.470Z"
   },
   {
    "duration": 18,
    "start_time": "2021-06-19T08:06:23.015Z"
   },
   {
    "duration": 1430,
    "start_time": "2021-06-19T08:06:30.287Z"
   },
   {
    "duration": 76,
    "start_time": "2021-06-19T08:06:31.720Z"
   },
   {
    "duration": 12,
    "start_time": "2021-06-19T08:06:31.799Z"
   },
   {
    "duration": 34,
    "start_time": "2021-06-19T08:06:31.814Z"
   },
   {
    "duration": 6,
    "start_time": "2021-06-19T08:06:31.850Z"
   },
   {
    "duration": 25,
    "start_time": "2021-06-19T08:06:31.884Z"
   },
   {
    "duration": 7,
    "start_time": "2021-06-19T08:06:31.911Z"
   },
   {
    "duration": 11,
    "start_time": "2021-06-19T08:06:31.921Z"
   },
   {
    "duration": 17,
    "start_time": "2021-06-19T08:06:31.935Z"
   },
   {
    "duration": 30,
    "start_time": "2021-06-19T08:06:31.954Z"
   },
   {
    "duration": 25,
    "start_time": "2021-06-19T08:06:31.986Z"
   },
   {
    "duration": 480,
    "start_time": "2021-06-19T08:06:32.013Z"
   },
   {
    "duration": 27,
    "start_time": "2021-06-19T08:06:32.496Z"
   },
   {
    "duration": 469,
    "start_time": "2021-06-19T08:06:32.526Z"
   },
   {
    "duration": 28,
    "start_time": "2021-06-19T08:06:32.998Z"
   },
   {
    "duration": 20,
    "start_time": "2021-06-19T08:06:33.029Z"
   },
   {
    "duration": 1380,
    "start_time": "2021-06-19T08:06:33.082Z"
   },
   {
    "duration": 30,
    "start_time": "2021-06-19T08:06:34.464Z"
   },
   {
    "duration": 464,
    "start_time": "2021-06-19T08:06:34.496Z"
   },
   {
    "duration": 57,
    "start_time": "2021-06-19T08:06:34.963Z"
   },
   {
    "duration": 15,
    "start_time": "2021-06-19T08:06:35.022Z"
   },
   {
    "duration": 1422,
    "start_time": "2021-06-19T08:06:35.039Z"
   },
   {
    "duration": 22,
    "start_time": "2021-06-19T08:06:36.465Z"
   },
   {
    "duration": 3,
    "start_time": "2021-06-19T08:06:36.491Z"
   },
   {
    "duration": 58,
    "start_time": "2021-06-19T08:06:36.497Z"
   },
   {
    "duration": 57,
    "start_time": "2021-06-19T08:06:36.558Z"
   },
   {
    "duration": 32,
    "start_time": "2021-06-19T08:06:36.618Z"
   },
   {
    "duration": 504,
    "start_time": "2021-06-19T08:06:36.653Z"
   },
   {
    "duration": 32,
    "start_time": "2021-06-19T08:06:37.160Z"
   },
   {
    "duration": 30,
    "start_time": "2021-06-19T08:07:45.684Z"
   },
   {
    "duration": 432,
    "start_time": "2021-06-19T08:08:30.978Z"
   },
   {
    "duration": 272,
    "start_time": "2021-06-19T08:08:35.072Z"
   },
   {
    "duration": 271,
    "start_time": "2021-06-19T08:08:42.243Z"
   },
   {
    "duration": 311,
    "start_time": "2021-06-19T08:08:51.321Z"
   },
   {
    "duration": 32,
    "start_time": "2021-06-19T08:09:01.964Z"
   },
   {
    "duration": 88,
    "start_time": "2021-06-19T08:11:47.724Z"
   },
   {
    "duration": 1536,
    "start_time": "2021-06-19T08:12:32.658Z"
   },
   {
    "duration": 76,
    "start_time": "2021-06-19T08:12:34.197Z"
   },
   {
    "duration": 136,
    "start_time": "2021-06-19T08:12:34.276Z"
   },
   {
    "duration": 58,
    "start_time": "2021-06-19T08:12:34.415Z"
   },
   {
    "duration": 24,
    "start_time": "2021-06-19T08:12:34.476Z"
   },
   {
    "duration": 53,
    "start_time": "2021-06-19T08:12:34.503Z"
   },
   {
    "duration": 26,
    "start_time": "2021-06-19T08:12:34.559Z"
   },
   {
    "duration": 35,
    "start_time": "2021-06-19T08:12:34.589Z"
   },
   {
    "duration": 41,
    "start_time": "2021-06-19T08:12:34.628Z"
   },
   {
    "duration": 31,
    "start_time": "2021-06-19T08:12:34.671Z"
   },
   {
    "duration": 43,
    "start_time": "2021-06-19T08:12:34.704Z"
   },
   {
    "duration": 502,
    "start_time": "2021-06-19T08:12:34.749Z"
   },
   {
    "duration": 38,
    "start_time": "2021-06-19T08:12:35.254Z"
   },
   {
    "duration": 494,
    "start_time": "2021-06-19T08:12:35.295Z"
   },
   {
    "duration": 26,
    "start_time": "2021-06-19T08:12:35.792Z"
   },
   {
    "duration": 41,
    "start_time": "2021-06-19T08:12:35.821Z"
   },
   {
    "duration": 1514,
    "start_time": "2021-06-19T08:12:35.865Z"
   },
   {
    "duration": 18,
    "start_time": "2021-06-19T08:12:37.384Z"
   },
   {
    "duration": 489,
    "start_time": "2021-06-19T08:12:37.404Z"
   },
   {
    "duration": 50,
    "start_time": "2021-06-19T08:12:37.896Z"
   },
   {
    "duration": 1342,
    "start_time": "2021-06-19T08:12:37.948Z"
   },
   {
    "duration": 3,
    "start_time": "2021-06-19T08:12:39.293Z"
   },
   {
    "duration": 61,
    "start_time": "2021-06-19T08:12:39.301Z"
   },
   {
    "duration": 697,
    "start_time": "2021-06-19T08:12:39.366Z"
   },
   {
    "duration": -56,
    "start_time": "2021-06-19T08:12:40.122Z"
   },
   {
    "duration": -62,
    "start_time": "2021-06-19T08:12:40.130Z"
   },
   {
    "duration": 273,
    "start_time": "2021-06-19T08:12:56.761Z"
   },
   {
    "duration": 24,
    "start_time": "2021-06-19T08:13:04.033Z"
   },
   {
    "duration": 33,
    "start_time": "2021-06-19T08:13:15.119Z"
   },
   {
    "duration": 24,
    "start_time": "2021-06-19T08:13:31.755Z"
   },
   {
    "duration": 33,
    "start_time": "2021-06-19T08:13:38.889Z"
   },
   {
    "duration": 1337,
    "start_time": "2021-06-19T08:13:49.280Z"
   },
   {
    "duration": 69,
    "start_time": "2021-06-19T08:13:50.620Z"
   },
   {
    "duration": 11,
    "start_time": "2021-06-19T08:13:50.692Z"
   },
   {
    "duration": 26,
    "start_time": "2021-06-19T08:13:50.706Z"
   },
   {
    "duration": 5,
    "start_time": "2021-06-19T08:13:50.734Z"
   },
   {
    "duration": 58,
    "start_time": "2021-06-19T08:13:50.742Z"
   },
   {
    "duration": 7,
    "start_time": "2021-06-19T08:13:50.803Z"
   },
   {
    "duration": 6,
    "start_time": "2021-06-19T08:13:50.814Z"
   },
   {
    "duration": 13,
    "start_time": "2021-06-19T08:13:50.824Z"
   },
   {
    "duration": 44,
    "start_time": "2021-06-19T08:13:50.840Z"
   },
   {
    "duration": 19,
    "start_time": "2021-06-19T08:13:50.887Z"
   },
   {
    "duration": 482,
    "start_time": "2021-06-19T08:13:50.909Z"
   },
   {
    "duration": 26,
    "start_time": "2021-06-19T08:13:51.393Z"
   },
   {
    "duration": 562,
    "start_time": "2021-06-19T08:13:51.421Z"
   },
   {
    "duration": 29,
    "start_time": "2021-06-19T08:13:51.985Z"
   },
   {
    "duration": 19,
    "start_time": "2021-06-19T08:13:52.016Z"
   },
   {
    "duration": 1565,
    "start_time": "2021-06-19T08:13:52.037Z"
   },
   {
    "duration": 16,
    "start_time": "2021-06-19T08:13:53.605Z"
   },
   {
    "duration": 472,
    "start_time": "2021-06-19T08:13:53.624Z"
   },
   {
    "duration": 46,
    "start_time": "2021-06-19T08:13:54.099Z"
   },
   {
    "duration": 1280,
    "start_time": "2021-06-19T08:13:54.147Z"
   },
   {
    "duration": 3,
    "start_time": "2021-06-19T08:13:55.429Z"
   },
   {
    "duration": 50,
    "start_time": "2021-06-19T08:13:55.436Z"
   },
   {
    "duration": 38,
    "start_time": "2021-06-19T08:13:55.489Z"
   },
   {
    "duration": 407,
    "start_time": "2021-06-19T08:13:55.529Z"
   },
   {
    "duration": 46,
    "start_time": "2021-06-19T08:13:55.939Z"
   },
   {
    "duration": 24,
    "start_time": "2021-06-19T08:14:06.837Z"
   },
   {
    "duration": 479,
    "start_time": "2021-06-19T08:14:10.071Z"
   },
   {
    "duration": 5,
    "start_time": "2021-06-19T08:16:29.516Z"
   },
   {
    "duration": 7,
    "start_time": "2021-06-19T08:16:33.279Z"
   },
   {
    "duration": 77,
    "start_time": "2021-06-19T08:17:05.751Z"
   },
   {
    "duration": 6,
    "start_time": "2021-06-19T08:17:51.273Z"
   },
   {
    "duration": 1412,
    "start_time": "2021-06-19T08:18:04.873Z"
   },
   {
    "duration": 71,
    "start_time": "2021-06-19T08:18:06.288Z"
   },
   {
    "duration": 21,
    "start_time": "2021-06-19T08:18:06.362Z"
   },
   {
    "duration": 26,
    "start_time": "2021-06-19T08:18:06.386Z"
   },
   {
    "duration": 6,
    "start_time": "2021-06-19T08:18:06.415Z"
   },
   {
    "duration": 64,
    "start_time": "2021-06-19T08:18:06.424Z"
   },
   {
    "duration": 7,
    "start_time": "2021-06-19T08:18:06.491Z"
   },
   {
    "duration": 8,
    "start_time": "2021-06-19T08:18:06.502Z"
   },
   {
    "duration": 13,
    "start_time": "2021-06-19T08:18:06.513Z"
   },
   {
    "duration": 5,
    "start_time": "2021-06-19T08:18:06.529Z"
   },
   {
    "duration": 60,
    "start_time": "2021-06-19T08:18:06.536Z"
   },
   {
    "duration": 476,
    "start_time": "2021-06-19T08:18:06.598Z"
   },
   {
    "duration": 30,
    "start_time": "2021-06-19T08:18:07.076Z"
   },
   {
    "duration": 470,
    "start_time": "2021-06-19T08:18:07.108Z"
   },
   {
    "duration": 28,
    "start_time": "2021-06-19T08:18:07.581Z"
   },
   {
    "duration": 18,
    "start_time": "2021-06-19T08:18:07.611Z"
   },
   {
    "duration": 1435,
    "start_time": "2021-06-19T08:18:07.631Z"
   },
   {
    "duration": 30,
    "start_time": "2021-06-19T08:18:09.068Z"
   },
   {
    "duration": 469,
    "start_time": "2021-06-19T08:18:09.100Z"
   },
   {
    "duration": 50,
    "start_time": "2021-06-19T08:18:09.572Z"
   },
   {
    "duration": 1215,
    "start_time": "2021-06-19T08:18:09.625Z"
   },
   {
    "duration": 3,
    "start_time": "2021-06-19T08:18:10.842Z"
   },
   {
    "duration": 35,
    "start_time": "2021-06-19T08:18:10.849Z"
   },
   {
    "duration": 33,
    "start_time": "2021-06-19T08:18:10.887Z"
   },
   {
    "duration": 524,
    "start_time": "2021-06-19T08:18:10.923Z"
   },
   {
    "duration": 46,
    "start_time": "2021-06-19T08:18:11.449Z"
   },
   {
    "duration": 8,
    "start_time": "2021-06-19T08:18:11.497Z"
   },
   {
    "duration": 82,
    "start_time": "2021-06-19T08:18:11.507Z"
   },
   {
    "duration": 83,
    "start_time": "2021-06-19T08:28:47.877Z"
   },
   {
    "duration": 57,
    "start_time": "2021-06-19T08:30:39.905Z"
   },
   {
    "duration": 30,
    "start_time": "2021-06-19T08:44:43.508Z"
   },
   {
    "duration": 1386,
    "start_time": "2021-06-19T08:45:25.629Z"
   },
   {
    "duration": 74,
    "start_time": "2021-06-19T08:45:27.018Z"
   },
   {
    "duration": 12,
    "start_time": "2021-06-19T08:45:27.096Z"
   },
   {
    "duration": 24,
    "start_time": "2021-06-19T08:45:27.111Z"
   },
   {
    "duration": 5,
    "start_time": "2021-06-19T08:45:27.138Z"
   },
   {
    "duration": 61,
    "start_time": "2021-06-19T08:45:27.146Z"
   },
   {
    "duration": 5,
    "start_time": "2021-06-19T08:45:27.209Z"
   },
   {
    "duration": 8,
    "start_time": "2021-06-19T08:45:27.217Z"
   },
   {
    "duration": 52,
    "start_time": "2021-06-19T08:45:27.231Z"
   },
   {
    "duration": 8,
    "start_time": "2021-06-19T08:45:27.287Z"
   },
   {
    "duration": 21,
    "start_time": "2021-06-19T08:45:27.297Z"
   },
   {
    "duration": 676,
    "start_time": "2021-06-19T08:45:27.320Z"
   },
   {
    "duration": 36,
    "start_time": "2021-06-19T08:45:27.999Z"
   },
   {
    "duration": 626,
    "start_time": "2021-06-19T08:45:28.037Z"
   },
   {
    "duration": 38,
    "start_time": "2021-06-19T08:45:28.666Z"
   },
   {
    "duration": 24,
    "start_time": "2021-06-19T08:45:28.707Z"
   },
   {
    "duration": 1938,
    "start_time": "2021-06-19T08:45:28.734Z"
   },
   {
    "duration": 29,
    "start_time": "2021-06-19T08:45:30.676Z"
   },
   {
    "duration": 736,
    "start_time": "2021-06-19T08:45:30.708Z"
   },
   {
    "duration": 66,
    "start_time": "2021-06-19T08:45:31.447Z"
   },
   {
    "duration": 1341,
    "start_time": "2021-06-19T08:45:31.516Z"
   },
   {
    "duration": 4,
    "start_time": "2021-06-19T08:45:32.860Z"
   },
   {
    "duration": 55,
    "start_time": "2021-06-19T08:45:32.867Z"
   },
   {
    "duration": 60,
    "start_time": "2021-06-19T08:45:32.925Z"
   },
   {
    "duration": 741,
    "start_time": "2021-06-19T08:45:32.988Z"
   },
   {
    "duration": 34,
    "start_time": "2021-06-19T08:45:33.731Z"
   },
   {
    "duration": 36,
    "start_time": "2021-06-19T08:45:53.531Z"
   },
   {
    "duration": 435,
    "start_time": "2021-06-19T08:46:46.931Z"
   },
   {
    "duration": 30,
    "start_time": "2021-06-19T08:46:54.347Z"
   },
   {
    "duration": 43,
    "start_time": "2021-06-19T08:47:23.386Z"
   },
   {
    "duration": 38,
    "start_time": "2021-06-19T08:47:33.300Z"
   },
   {
    "duration": 31,
    "start_time": "2021-06-19T08:47:40.317Z"
   },
   {
    "duration": 1419,
    "start_time": "2021-06-19T08:49:19.516Z"
   },
   {
    "duration": 76,
    "start_time": "2021-06-19T08:49:20.937Z"
   },
   {
    "duration": 14,
    "start_time": "2021-06-19T08:49:21.016Z"
   },
   {
    "duration": 29,
    "start_time": "2021-06-19T08:49:21.033Z"
   },
   {
    "duration": 5,
    "start_time": "2021-06-19T08:49:21.083Z"
   },
   {
    "duration": 30,
    "start_time": "2021-06-19T08:49:21.091Z"
   },
   {
    "duration": 5,
    "start_time": "2021-06-19T08:49:21.124Z"
   },
   {
    "duration": 8,
    "start_time": "2021-06-19T08:49:21.132Z"
   },
   {
    "duration": 49,
    "start_time": "2021-06-19T08:49:21.144Z"
   },
   {
    "duration": 7,
    "start_time": "2021-06-19T08:49:21.196Z"
   },
   {
    "duration": 19,
    "start_time": "2021-06-19T08:49:21.205Z"
   },
   {
    "duration": 512,
    "start_time": "2021-06-19T08:49:21.227Z"
   },
   {
    "duration": 45,
    "start_time": "2021-06-19T08:49:21.742Z"
   },
   {
    "duration": 496,
    "start_time": "2021-06-19T08:49:21.790Z"
   },
   {
    "duration": 29,
    "start_time": "2021-06-19T08:49:22.289Z"
   },
   {
    "duration": 21,
    "start_time": "2021-06-19T08:49:22.321Z"
   },
   {
    "duration": 1550,
    "start_time": "2021-06-19T08:49:22.344Z"
   },
   {
    "duration": 24,
    "start_time": "2021-06-19T08:49:23.898Z"
   },
   {
    "duration": 717,
    "start_time": "2021-06-19T08:49:23.925Z"
   },
   {
    "duration": 90,
    "start_time": "2021-06-19T08:49:24.645Z"
   },
   {
    "duration": 1251,
    "start_time": "2021-06-19T08:49:24.738Z"
   },
   {
    "duration": 36,
    "start_time": "2021-06-19T08:49:25.991Z"
   },
   {
    "duration": 57,
    "start_time": "2021-06-19T08:49:26.031Z"
   },
   {
    "duration": 34,
    "start_time": "2021-06-19T08:49:26.091Z"
   },
   {
    "duration": 508,
    "start_time": "2021-06-19T08:49:26.128Z"
   },
   {
    "duration": 18,
    "start_time": "2021-06-19T09:31:20.060Z"
   },
   {
    "duration": 28,
    "start_time": "2021-06-19T09:31:25.214Z"
   },
   {
    "duration": 29,
    "start_time": "2021-06-19T09:31:37.066Z"
   },
   {
    "duration": 703,
    "start_time": "2021-06-19T09:33:37.207Z"
   },
   {
    "duration": 22,
    "start_time": "2021-06-19T09:34:07.144Z"
   },
   {
    "duration": 26,
    "start_time": "2021-06-19T09:34:58.431Z"
   },
   {
    "duration": 25,
    "start_time": "2021-06-19T09:35:08.888Z"
   },
   {
    "duration": 24,
    "start_time": "2021-06-19T09:36:52.321Z"
   },
   {
    "duration": 18,
    "start_time": "2021-06-19T09:37:32.024Z"
   },
   {
    "duration": 31,
    "start_time": "2021-06-19T09:38:19.305Z"
   },
   {
    "duration": 25,
    "start_time": "2021-06-19T09:38:25.607Z"
   },
   {
    "duration": 82,
    "start_time": "2021-06-19T09:40:35.882Z"
   },
   {
    "duration": 28,
    "start_time": "2021-06-19T09:41:34.210Z"
   },
   {
    "duration": 69,
    "start_time": "2021-06-19T09:41:49.273Z"
   },
   {
    "duration": 18,
    "start_time": "2021-06-19T09:41:58.419Z"
   },
   {
    "duration": 6594,
    "start_time": "2021-06-19T09:42:19.606Z"
   },
   {
    "duration": 6381,
    "start_time": "2021-06-19T09:42:35.840Z"
   },
   {
    "duration": 19,
    "start_time": "2021-06-19T09:42:52.068Z"
   },
   {
    "duration": 7,
    "start_time": "2021-06-19T09:43:00.736Z"
   },
   {
    "duration": 84,
    "start_time": "2021-06-19T09:45:51.871Z"
   },
   {
    "duration": 26,
    "start_time": "2021-06-19T09:57:50.927Z"
   },
   {
    "duration": 366,
    "start_time": "2021-06-19T10:00:25.333Z"
   },
   {
    "duration": 688,
    "start_time": "2021-06-19T10:01:32.503Z"
   },
   {
    "duration": 347,
    "start_time": "2021-06-19T10:01:52.351Z"
   },
   {
    "duration": 309,
    "start_time": "2021-06-19T10:02:51.905Z"
   },
   {
    "duration": 1361,
    "start_time": "2021-06-19T10:05:15.828Z"
   },
   {
    "duration": 73,
    "start_time": "2021-06-19T10:05:17.192Z"
   },
   {
    "duration": 20,
    "start_time": "2021-06-19T10:05:17.268Z"
   },
   {
    "duration": 34,
    "start_time": "2021-06-19T10:05:17.290Z"
   },
   {
    "duration": 6,
    "start_time": "2021-06-19T10:05:17.327Z"
   },
   {
    "duration": 26,
    "start_time": "2021-06-19T10:05:17.335Z"
   },
   {
    "duration": 6,
    "start_time": "2021-06-19T10:05:17.383Z"
   },
   {
    "duration": 9,
    "start_time": "2021-06-19T10:05:17.393Z"
   },
   {
    "duration": 23,
    "start_time": "2021-06-19T10:05:17.405Z"
   },
   {
    "duration": 7,
    "start_time": "2021-06-19T10:05:17.430Z"
   },
   {
    "duration": 46,
    "start_time": "2021-06-19T10:05:17.439Z"
   },
   {
    "duration": 497,
    "start_time": "2021-06-19T10:05:17.488Z"
   },
   {
    "duration": 28,
    "start_time": "2021-06-19T10:05:17.988Z"
   },
   {
    "duration": 487,
    "start_time": "2021-06-19T10:05:18.018Z"
   },
   {
    "duration": 28,
    "start_time": "2021-06-19T10:05:18.508Z"
   },
   {
    "duration": 19,
    "start_time": "2021-06-19T10:05:18.538Z"
   },
   {
    "duration": 1402,
    "start_time": "2021-06-19T10:05:18.584Z"
   },
   {
    "duration": 17,
    "start_time": "2021-06-19T10:05:19.988Z"
   },
   {
    "duration": 475,
    "start_time": "2021-06-19T10:05:20.008Z"
   },
   {
    "duration": 49,
    "start_time": "2021-06-19T10:05:20.486Z"
   },
   {
    "duration": 1456,
    "start_time": "2021-06-19T10:05:20.537Z"
   },
   {
    "duration": 34,
    "start_time": "2021-06-19T10:05:21.996Z"
   },
   {
    "duration": 57,
    "start_time": "2021-06-19T10:05:22.034Z"
   },
   {
    "duration": 34,
    "start_time": "2021-06-19T10:05:22.093Z"
   },
   {
    "duration": 517,
    "start_time": "2021-06-19T10:05:22.130Z"
   },
   {
    "duration": 36,
    "start_time": "2021-06-19T10:05:22.649Z"
   },
   {
    "duration": 96,
    "start_time": "2021-06-19T10:05:22.687Z"
   },
   {
    "duration": 26,
    "start_time": "2021-06-19T10:05:22.786Z"
   },
   {
    "duration": 376,
    "start_time": "2021-06-19T10:05:22.814Z"
   },
   {
    "duration": 22,
    "start_time": "2021-06-19T10:06:07.532Z"
   },
   {
    "duration": 27,
    "start_time": "2021-06-19T10:07:08.578Z"
   },
   {
    "duration": 12,
    "start_time": "2021-06-19T10:07:27.585Z"
   },
   {
    "duration": 14,
    "start_time": "2021-06-19T10:07:48.280Z"
   },
   {
    "duration": 11,
    "start_time": "2021-06-19T10:08:00.341Z"
   },
   {
    "duration": 20,
    "start_time": "2021-06-19T10:12:05.834Z"
   },
   {
    "duration": 18,
    "start_time": "2021-06-19T10:12:15.499Z"
   },
   {
    "duration": 20,
    "start_time": "2021-06-19T10:15:50.074Z"
   },
   {
    "duration": 1179,
    "start_time": "2021-06-19T10:18:15.546Z"
   },
   {
    "duration": 1228,
    "start_time": "2021-06-19T10:18:27.295Z"
   },
   {
    "duration": 1332,
    "start_time": "2021-06-19T11:16:10.400Z"
   },
   {
    "duration": 74,
    "start_time": "2021-06-19T11:16:11.735Z"
   },
   {
    "duration": 14,
    "start_time": "2021-06-19T11:16:11.813Z"
   },
   {
    "duration": 36,
    "start_time": "2021-06-19T11:16:11.830Z"
   },
   {
    "duration": 7,
    "start_time": "2021-06-19T11:16:11.883Z"
   },
   {
    "duration": 42,
    "start_time": "2021-06-19T11:16:11.892Z"
   },
   {
    "duration": 15,
    "start_time": "2021-06-19T11:16:11.937Z"
   },
   {
    "duration": 27,
    "start_time": "2021-06-19T11:16:11.958Z"
   },
   {
    "duration": 15,
    "start_time": "2021-06-19T11:16:11.989Z"
   },
   {
    "duration": 6,
    "start_time": "2021-06-19T11:16:12.007Z"
   },
   {
    "duration": 20,
    "start_time": "2021-06-19T11:16:12.015Z"
   },
   {
    "duration": 520,
    "start_time": "2021-06-19T11:16:12.037Z"
   },
   {
    "duration": 37,
    "start_time": "2021-06-19T11:16:12.560Z"
   },
   {
    "duration": 446,
    "start_time": "2021-06-19T11:16:12.600Z"
   },
   {
    "duration": 35,
    "start_time": "2021-06-19T11:16:13.049Z"
   },
   {
    "duration": 19,
    "start_time": "2021-06-19T11:16:13.087Z"
   },
   {
    "duration": 1429,
    "start_time": "2021-06-19T11:16:13.108Z"
   },
   {
    "duration": 18,
    "start_time": "2021-06-19T11:16:14.539Z"
   },
   {
    "duration": 484,
    "start_time": "2021-06-19T11:16:14.559Z"
   },
   {
    "duration": 63,
    "start_time": "2021-06-19T11:16:15.045Z"
   },
   {
    "duration": 1368,
    "start_time": "2021-06-19T11:16:15.111Z"
   },
   {
    "duration": 35,
    "start_time": "2021-06-19T11:16:16.481Z"
   },
   {
    "duration": 31,
    "start_time": "2021-06-19T11:16:16.520Z"
   },
   {
    "duration": 50,
    "start_time": "2021-06-19T11:16:16.554Z"
   },
   {
    "duration": 496,
    "start_time": "2021-06-19T11:16:16.607Z"
   },
   {
    "duration": 24,
    "start_time": "2021-06-19T11:16:17.105Z"
   },
   {
    "duration": 111,
    "start_time": "2021-06-19T11:16:17.131Z"
   },
   {
    "duration": 10,
    "start_time": "2021-06-19T11:16:17.244Z"
   },
   {
    "duration": 28,
    "start_time": "2021-06-19T11:16:17.256Z"
   },
   {
    "duration": 7,
    "start_time": "2021-06-19T11:22:42.612Z"
   },
   {
    "duration": 1413,
    "start_time": "2021-06-19T11:22:52.058Z"
   },
   {
    "duration": 82,
    "start_time": "2021-06-19T11:22:53.475Z"
   },
   {
    "duration": 12,
    "start_time": "2021-06-19T11:22:53.560Z"
   },
   {
    "duration": 26,
    "start_time": "2021-06-19T11:22:53.584Z"
   },
   {
    "duration": 7,
    "start_time": "2021-06-19T11:22:53.613Z"
   },
   {
    "duration": 63,
    "start_time": "2021-06-19T11:22:53.623Z"
   },
   {
    "duration": 7,
    "start_time": "2021-06-19T11:22:53.689Z"
   },
   {
    "duration": 12,
    "start_time": "2021-06-19T11:22:53.699Z"
   },
   {
    "duration": 27,
    "start_time": "2021-06-19T11:22:53.714Z"
   },
   {
    "duration": 13,
    "start_time": "2021-06-19T11:22:53.744Z"
   },
   {
    "duration": 24,
    "start_time": "2021-06-19T11:22:53.759Z"
   },
   {
    "duration": 27,
    "start_time": "2021-06-19T11:22:53.786Z"
   },
   {
    "duration": 490,
    "start_time": "2021-06-19T11:22:53.816Z"
   },
   {
    "duration": 26,
    "start_time": "2021-06-19T11:22:54.308Z"
   },
   {
    "duration": 459,
    "start_time": "2021-06-19T11:22:54.336Z"
   },
   {
    "duration": 26,
    "start_time": "2021-06-19T11:22:54.797Z"
   },
   {
    "duration": 18,
    "start_time": "2021-06-19T11:22:54.825Z"
   },
   {
    "duration": 1476,
    "start_time": "2021-06-19T11:22:54.846Z"
   },
   {
    "duration": 17,
    "start_time": "2021-06-19T11:22:56.324Z"
   },
   {
    "duration": 457,
    "start_time": "2021-06-19T11:22:56.343Z"
   },
   {
    "duration": 49,
    "start_time": "2021-06-19T11:22:56.804Z"
   },
   {
    "duration": 1934,
    "start_time": "2021-06-19T11:22:56.856Z"
   },
   {
    "duration": 32,
    "start_time": "2021-06-19T11:22:58.795Z"
   },
   {
    "duration": 57,
    "start_time": "2021-06-19T11:22:58.830Z"
   },
   {
    "duration": 37,
    "start_time": "2021-06-19T11:22:58.889Z"
   },
   {
    "duration": 514,
    "start_time": "2021-06-19T11:22:58.929Z"
   },
   {
    "duration": 41,
    "start_time": "2021-06-19T11:22:59.446Z"
   },
   {
    "duration": 94,
    "start_time": "2021-06-19T11:22:59.490Z"
   },
   {
    "duration": 10,
    "start_time": "2021-06-19T11:22:59.587Z"
   },
   {
    "duration": 17,
    "start_time": "2021-06-19T11:22:59.599Z"
   },
   {
    "duration": 1344,
    "start_time": "2021-06-19T11:24:21.117Z"
   },
   {
    "duration": 73,
    "start_time": "2021-06-19T11:24:22.464Z"
   },
   {
    "duration": 11,
    "start_time": "2021-06-19T11:24:22.540Z"
   },
   {
    "duration": 44,
    "start_time": "2021-06-19T11:24:22.554Z"
   },
   {
    "duration": 6,
    "start_time": "2021-06-19T11:24:22.601Z"
   },
   {
    "duration": 27,
    "start_time": "2021-06-19T11:24:22.609Z"
   },
   {
    "duration": 6,
    "start_time": "2021-06-19T11:24:22.639Z"
   },
   {
    "duration": 39,
    "start_time": "2021-06-19T11:24:22.648Z"
   },
   {
    "duration": 15,
    "start_time": "2021-06-19T11:24:22.690Z"
   },
   {
    "duration": 6,
    "start_time": "2021-06-19T11:24:22.707Z"
   },
   {
    "duration": 10,
    "start_time": "2021-06-19T11:24:22.715Z"
   },
   {
    "duration": 56,
    "start_time": "2021-06-19T11:24:22.727Z"
   },
   {
    "duration": 484,
    "start_time": "2021-06-19T11:24:22.786Z"
   },
   {
    "duration": 35,
    "start_time": "2021-06-19T11:24:23.272Z"
   },
   {
    "duration": 453,
    "start_time": "2021-06-19T11:24:23.309Z"
   },
   {
    "duration": 35,
    "start_time": "2021-06-19T11:24:23.764Z"
   },
   {
    "duration": 19,
    "start_time": "2021-06-19T11:24:23.801Z"
   },
   {
    "duration": 1522,
    "start_time": "2021-06-19T11:24:23.822Z"
   },
   {
    "duration": 16,
    "start_time": "2021-06-19T11:24:25.346Z"
   },
   {
    "duration": 451,
    "start_time": "2021-06-19T11:24:25.365Z"
   },
   {
    "duration": 66,
    "start_time": "2021-06-19T11:24:25.819Z"
   },
   {
    "duration": 809,
    "start_time": "2021-06-19T11:24:25.887Z"
   },
   {
    "duration": 35,
    "start_time": "2021-06-19T11:24:26.701Z"
   },
   {
    "duration": 52,
    "start_time": "2021-06-19T11:24:26.739Z"
   },
   {
    "duration": 31,
    "start_time": "2021-06-19T11:24:26.793Z"
   },
   {
    "duration": 567,
    "start_time": "2021-06-19T11:24:26.826Z"
   },
   {
    "duration": 23,
    "start_time": "2021-06-19T11:24:27.396Z"
   },
   {
    "duration": 109,
    "start_time": "2021-06-19T11:24:27.422Z"
   },
   {
    "duration": 9,
    "start_time": "2021-06-19T11:24:27.534Z"
   },
   {
    "duration": 17,
    "start_time": "2021-06-19T11:24:27.546Z"
   },
   {
    "duration": 419,
    "start_time": "2021-06-19T11:36:34.776Z"
   },
   {
    "duration": 438,
    "start_time": "2021-06-19T11:36:50.308Z"
   },
   {
    "duration": 441,
    "start_time": "2021-06-19T11:37:36.887Z"
   },
   {
    "duration": 467,
    "start_time": "2021-06-19T11:38:12.087Z"
   },
   {
    "duration": 1469,
    "start_time": "2021-06-19T12:00:05.849Z"
   },
   {
    "duration": 328,
    "start_time": "2021-06-19T12:00:34.855Z"
   },
   {
    "duration": 416,
    "start_time": "2021-06-19T12:02:29.993Z"
   },
   {
    "duration": 18,
    "start_time": "2021-06-19T12:02:39.950Z"
   },
   {
    "duration": 401,
    "start_time": "2021-06-19T12:03:12.701Z"
   },
   {
    "duration": 17,
    "start_time": "2021-06-19T12:03:25.410Z"
   },
   {
    "duration": 17,
    "start_time": "2021-06-19T12:03:30.461Z"
   },
   {
    "duration": 437,
    "start_time": "2021-06-19T12:03:32.349Z"
   },
   {
    "duration": 425,
    "start_time": "2021-06-19T12:07:57.842Z"
   },
   {
    "duration": 428,
    "start_time": "2021-06-19T12:08:03.950Z"
   },
   {
    "duration": 480,
    "start_time": "2021-06-19T12:08:11.642Z"
   },
   {
    "duration": 439,
    "start_time": "2021-06-19T12:08:28.069Z"
   },
   {
    "duration": 397,
    "start_time": "2021-06-19T12:09:04.809Z"
   },
   {
    "duration": 421,
    "start_time": "2021-06-19T12:09:33.818Z"
   },
   {
    "duration": 1360,
    "start_time": "2021-06-19T12:28:48.505Z"
   },
   {
    "duration": 81,
    "start_time": "2021-06-19T12:28:49.867Z"
   },
   {
    "duration": 11,
    "start_time": "2021-06-19T12:28:49.951Z"
   },
   {
    "duration": 24,
    "start_time": "2021-06-19T12:28:49.983Z"
   },
   {
    "duration": 5,
    "start_time": "2021-06-19T12:28:50.010Z"
   },
   {
    "duration": 27,
    "start_time": "2021-06-19T12:28:50.017Z"
   },
   {
    "duration": 37,
    "start_time": "2021-06-19T12:28:50.047Z"
   },
   {
    "duration": 7,
    "start_time": "2021-06-19T12:28:50.088Z"
   },
   {
    "duration": 14,
    "start_time": "2021-06-19T12:28:50.099Z"
   },
   {
    "duration": 9,
    "start_time": "2021-06-19T12:28:50.115Z"
   },
   {
    "duration": 17,
    "start_time": "2021-06-19T12:28:50.126Z"
   },
   {
    "duration": 44,
    "start_time": "2021-06-19T12:28:50.146Z"
   },
   {
    "duration": 464,
    "start_time": "2021-06-19T12:28:50.192Z"
   },
   {
    "duration": 38,
    "start_time": "2021-06-19T12:28:50.658Z"
   },
   {
    "duration": 435,
    "start_time": "2021-06-19T12:28:50.698Z"
   },
   {
    "duration": 28,
    "start_time": "2021-06-19T12:28:51.135Z"
   },
   {
    "duration": 34,
    "start_time": "2021-06-19T12:28:51.166Z"
   },
   {
    "duration": 1402,
    "start_time": "2021-06-19T12:28:51.202Z"
   },
   {
    "duration": 18,
    "start_time": "2021-06-19T12:28:52.606Z"
   },
   {
    "duration": 460,
    "start_time": "2021-06-19T12:28:52.626Z"
   },
   {
    "duration": 49,
    "start_time": "2021-06-19T12:28:53.089Z"
   },
   {
    "duration": 1586,
    "start_time": "2021-06-19T12:28:53.140Z"
   },
   {
    "duration": 35,
    "start_time": "2021-06-19T12:28:54.730Z"
   },
   {
    "duration": 40,
    "start_time": "2021-06-19T12:28:54.768Z"
   },
   {
    "duration": 31,
    "start_time": "2021-06-19T12:28:54.810Z"
   },
   {
    "duration": 524,
    "start_time": "2021-06-19T12:28:54.843Z"
   },
   {
    "duration": 29,
    "start_time": "2021-06-19T12:28:55.369Z"
   },
   {
    "duration": 107,
    "start_time": "2021-06-19T12:28:55.401Z"
   },
   {
    "duration": 11,
    "start_time": "2021-06-19T12:28:55.511Z"
   },
   {
    "duration": 15,
    "start_time": "2021-06-19T12:28:55.524Z"
   },
   {
    "duration": 451,
    "start_time": "2021-06-19T12:28:55.541Z"
   },
   {
    "duration": 339,
    "start_time": "2021-06-20T10:19:23.141Z"
   },
   {
    "duration": 1483,
    "start_time": "2021-06-20T10:19:25.521Z"
   },
   {
    "duration": 77,
    "start_time": "2021-06-20T10:19:27.007Z"
   },
   {
    "duration": 16,
    "start_time": "2021-06-20T10:19:27.088Z"
   },
   {
    "duration": 27,
    "start_time": "2021-06-20T10:19:27.126Z"
   },
   {
    "duration": 8,
    "start_time": "2021-06-20T10:19:27.156Z"
   },
   {
    "duration": 65,
    "start_time": "2021-06-20T10:19:27.167Z"
   },
   {
    "duration": 5,
    "start_time": "2021-06-20T10:19:27.235Z"
   },
   {
    "duration": 5,
    "start_time": "2021-06-20T10:19:27.244Z"
   },
   {
    "duration": 14,
    "start_time": "2021-06-20T10:19:27.252Z"
   },
   {
    "duration": 5,
    "start_time": "2021-06-20T10:19:27.269Z"
   },
   {
    "duration": 52,
    "start_time": "2021-06-20T10:19:27.277Z"
   },
   {
    "duration": 16,
    "start_time": "2021-06-20T10:19:27.331Z"
   },
   {
    "duration": 497,
    "start_time": "2021-06-20T10:19:27.349Z"
   },
   {
    "duration": 41,
    "start_time": "2021-06-20T10:19:27.848Z"
   },
   {
    "duration": 712,
    "start_time": "2021-06-20T10:19:27.893Z"
   },
   {
    "duration": 32,
    "start_time": "2021-06-20T10:19:28.607Z"
   },
   {
    "duration": 19,
    "start_time": "2021-06-20T10:19:28.641Z"
   },
   {
    "duration": 6,
    "start_time": "2021-06-20T10:19:28.662Z"
   },
   {
    "duration": 1466,
    "start_time": "2021-06-20T10:19:28.670Z"
   },
   {
    "duration": 92,
    "start_time": "2021-06-20T10:19:30.139Z"
   },
   {
    "duration": -34328,
    "start_time": "2021-06-20T10:20:04.562Z"
   },
   {
    "duration": -34328,
    "start_time": "2021-06-20T10:20:04.563Z"
   },
   {
    "duration": -34329,
    "start_time": "2021-06-20T10:20:04.565Z"
   },
   {
    "duration": -34331,
    "start_time": "2021-06-20T10:20:04.568Z"
   },
   {
    "duration": -34337,
    "start_time": "2021-06-20T10:20:04.576Z"
   },
   {
    "duration": -34338,
    "start_time": "2021-06-20T10:20:04.578Z"
   },
   {
    "duration": -34338,
    "start_time": "2021-06-20T10:20:04.579Z"
   },
   {
    "duration": -34338,
    "start_time": "2021-06-20T10:20:04.581Z"
   },
   {
    "duration": -34338,
    "start_time": "2021-06-20T10:20:04.582Z"
   },
   {
    "duration": -34339,
    "start_time": "2021-06-20T10:20:04.584Z"
   },
   {
    "duration": -34339,
    "start_time": "2021-06-20T10:20:04.585Z"
   },
   {
    "duration": -34342,
    "start_time": "2021-06-20T10:20:04.590Z"
   },
   {
    "duration": -34343,
    "start_time": "2021-06-20T10:20:04.592Z"
   },
   {
    "duration": 5,
    "start_time": "2021-06-20T10:20:02.684Z"
   },
   {
    "duration": 8,
    "start_time": "2021-06-20T10:21:43.081Z"
   },
   {
    "duration": 5,
    "start_time": "2021-06-20T10:22:32.636Z"
   },
   {
    "duration": 88,
    "start_time": "2021-06-20T10:22:32.643Z"
   },
   {
    "duration": 13,
    "start_time": "2021-06-20T10:22:32.734Z"
   },
   {
    "duration": 26,
    "start_time": "2021-06-20T10:22:32.750Z"
   },
   {
    "duration": 6,
    "start_time": "2021-06-20T10:22:32.778Z"
   },
   {
    "duration": 27,
    "start_time": "2021-06-20T10:22:32.825Z"
   },
   {
    "duration": 6,
    "start_time": "2021-06-20T10:22:32.854Z"
   },
   {
    "duration": 8,
    "start_time": "2021-06-20T10:22:32.864Z"
   },
   {
    "duration": 50,
    "start_time": "2021-06-20T10:22:32.875Z"
   },
   {
    "duration": 9,
    "start_time": "2021-06-20T10:22:32.927Z"
   },
   {
    "duration": 10,
    "start_time": "2021-06-20T10:22:32.939Z"
   },
   {
    "duration": 15,
    "start_time": "2021-06-20T10:22:32.952Z"
   },
   {
    "duration": 524,
    "start_time": "2021-06-20T10:22:32.970Z"
   },
   {
    "duration": 38,
    "start_time": "2021-06-20T10:22:33.496Z"
   },
   {
    "duration": 535,
    "start_time": "2021-06-20T10:22:33.537Z"
   },
   {
    "duration": 25,
    "start_time": "2021-06-20T10:22:34.075Z"
   },
   {
    "duration": 40,
    "start_time": "2021-06-20T10:22:34.103Z"
   },
   {
    "duration": 1481,
    "start_time": "2021-06-20T10:22:34.146Z"
   },
   {
    "duration": 8,
    "start_time": "2021-06-20T10:22:35.629Z"
   },
   {
    "duration": 17,
    "start_time": "2021-06-20T10:22:35.640Z"
   },
   {
    "duration": 518,
    "start_time": "2021-06-20T10:22:35.659Z"
   },
   {
    "duration": 59,
    "start_time": "2021-06-20T10:22:36.180Z"
   },
   {
    "duration": 1237,
    "start_time": "2021-06-20T10:22:36.244Z"
   },
   {
    "duration": 51,
    "start_time": "2021-06-20T10:22:37.484Z"
   },
   {
    "duration": 49,
    "start_time": "2021-06-20T10:22:37.538Z"
   },
   {
    "duration": 50,
    "start_time": "2021-06-20T10:22:37.589Z"
   },
   {
    "duration": 523,
    "start_time": "2021-06-20T10:22:37.641Z"
   },
   {
    "duration": 28,
    "start_time": "2021-06-20T10:22:38.166Z"
   },
   {
    "duration": 112,
    "start_time": "2021-06-20T10:22:38.197Z"
   },
   {
    "duration": 19,
    "start_time": "2021-06-20T10:22:38.324Z"
   },
   {
    "duration": 21,
    "start_time": "2021-06-20T10:22:38.346Z"
   },
   {
    "duration": 686,
    "start_time": "2021-06-20T10:22:38.370Z"
   },
   {
    "duration": 95,
    "start_time": "2021-06-20T10:41:58.027Z"
   }
  ],
  "kernelspec": {
   "display_name": "Python 3",
   "language": "python",
   "name": "python3"
  },
  "language_info": {
   "codemirror_mode": {
    "name": "ipython",
    "version": 3
   },
   "file_extension": ".py",
   "mimetype": "text/x-python",
   "name": "python",
   "nbconvert_exporter": "python",
   "pygments_lexer": "ipython3",
   "version": "3.8.8"
  },
  "toc": {
   "base_numbering": 1,
   "nav_menu": {},
   "number_sections": true,
   "sideBar": true,
   "skip_h1_title": true,
   "title_cell": "Table of Contents",
   "title_sidebar": "Contents",
   "toc_cell": false,
   "toc_position": {},
   "toc_section_display": true,
   "toc_window_display": false
  }
 },
 "nbformat": 4,
 "nbformat_minor": 2
}
