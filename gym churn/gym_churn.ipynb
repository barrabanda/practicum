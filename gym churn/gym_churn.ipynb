{
 "cells": [
  {
   "cell_type": "markdown",
   "metadata": {},
   "source": [
    "# Прогноз оттока клиентов сети фитнес-центров"
   ]
  },
  {
   "cell_type": "markdown",
   "metadata": {},
   "source": [
    "\n",
    "<b>Цель проекта</b>\n",
    "    \n",
    "На основании данных по клиентам сети фитнес-центров, спрогнозировать вероятность оттока для каждого клиента. Сформировать типичные портреты клиентов, охарактеризовать их основные свойства. Проанализировать основные признаки, наиболее сильно влияющие на отток и разработать рекомендации по повышению качества работы с клиентами.\n"
   ]
  },
  {
   "cell_type": "markdown",
   "metadata": {},
   "source": [
    "    \n",
    "<b>Требуемые шаги:</b>   \n",
    "    \n",
    "<b>Исследовательский анализ данных (EDA)</b> \n",
    "<li>предобработка данных</li>\n",
    "<li>определить средние значения признаков в двух группах — тех, кто ушел в отток и тех, кто остался</li>\n",
    "<li>построить столбчатые гистограммы и распределения признаков для тех, кто ушёл (отток) и тех, кто остался</li>\n",
    "<li>построить матрицу корреляций </li>\n",
    "\n",
    "<b>Построение модели прогнозирования оттока клиентов</b> \n",
    "<li>построить модель бинарной классификации клиентов</li>\n",
    "<li>разбить данные на обучающую и валидационную выборку и обучить двумя способами: логистической регрессией и случайным лесом</li>\n",
    "<li>оценить метрики accuracy, precision и recall для обеих моделей на валидационной выборке и сравнить по ним модели</li>\n",
    "\n",
    "<b>Кластеризация клиентов</b> \n",
    "<li>провести стандартизацию данных</li>\n",
    "<li>построить матрицу расстояний на стандартизованной матрице признаков и нарисовать дендрограмму</li>\n",
    "<li>обучить модель кластеризации на основании алгоритма K-Means и спрогнозировать кластеры клиентов</li>\n",
    "<li>определить средние значения признаков для кластеров</li>\n",
    "<li>построить распределения признаков для кластеров</li>\n",
    "<li>для каждого полученного кластера посчитать долю оттока</li>\n",
    "    \n",
    "На основании полученного анализа предложить рекомендации для стратегии взаимодействия с клиентами и их удержания.\n"
   ]
  },
  {
   "cell_type": "markdown",
   "metadata": {},
   "source": [
    "## Исследовательский анализ данных (EDA)"
   ]
  },
  {
   "cell_type": "markdown",
   "metadata": {},
   "source": [
    "**Импорт библиотек**"
   ]
  },
  {
   "cell_type": "code",
   "execution_count": 1,
   "metadata": {},
   "outputs": [],
   "source": [
    "import pandas as pd\n",
    "import seaborn as sns\n",
    "import numpy as np\n",
    "import matplotlib.pyplot as plt\n",
    "from matplotlib.pyplot import figure\n",
    "from scipy import stats as st\n",
    "from plotly import graph_objects as go\n",
    "from sklearn.preprocessing import StandardScaler\n",
    "from sklearn.model_selection import train_test_split\n",
    "from sklearn.linear_model import LogisticRegression\n",
    "from sklearn.tree import DecisionTreeClassifier\n",
    "from sklearn.ensemble import RandomForestClassifier, GradientBoostingClassifier\n",
    "from sklearn.metrics import accuracy_score, precision_score, recall_score, f1_score\n",
    "from sklearn.metrics import roc_auc_score\n",
    "from scipy.cluster.hierarchy import dendrogram, linkage \n",
    "from sklearn.cluster import KMeans\n",
    "import warnings\n",
    "warnings.filterwarnings('ignore')"
   ]
  },
  {
   "cell_type": "markdown",
   "metadata": {},
   "source": [
    "**Откроем файл и изучим данные**"
   ]
  },
  {
   "cell_type": "code",
   "execution_count": 2,
   "metadata": {
    "scrolled": true
   },
   "outputs": [
    {
     "data": {
      "text/html": [
       "<div>\n",
       "<style scoped>\n",
       "    .dataframe tbody tr th:only-of-type {\n",
       "        vertical-align: middle;\n",
       "    }\n",
       "\n",
       "    .dataframe tbody tr th {\n",
       "        vertical-align: top;\n",
       "    }\n",
       "\n",
       "    .dataframe thead th {\n",
       "        text-align: right;\n",
       "    }\n",
       "</style>\n",
       "<table border=\"1\" class=\"dataframe\">\n",
       "  <thead>\n",
       "    <tr style=\"text-align: right;\">\n",
       "      <th></th>\n",
       "      <th>gender</th>\n",
       "      <th>Near_Location</th>\n",
       "      <th>Partner</th>\n",
       "      <th>Promo_friends</th>\n",
       "      <th>Phone</th>\n",
       "      <th>Contract_period</th>\n",
       "      <th>Group_visits</th>\n",
       "      <th>Age</th>\n",
       "      <th>Avg_additional_charges_total</th>\n",
       "      <th>Month_to_end_contract</th>\n",
       "      <th>Lifetime</th>\n",
       "      <th>Avg_class_frequency_total</th>\n",
       "      <th>Avg_class_frequency_current_month</th>\n",
       "      <th>Churn</th>\n",
       "    </tr>\n",
       "  </thead>\n",
       "  <tbody>\n",
       "    <tr>\n",
       "      <th>0</th>\n",
       "      <td>1</td>\n",
       "      <td>1</td>\n",
       "      <td>1</td>\n",
       "      <td>1</td>\n",
       "      <td>0</td>\n",
       "      <td>6</td>\n",
       "      <td>1</td>\n",
       "      <td>29</td>\n",
       "      <td>14.227470</td>\n",
       "      <td>5.0</td>\n",
       "      <td>3</td>\n",
       "      <td>0.020398</td>\n",
       "      <td>0.000000</td>\n",
       "      <td>0</td>\n",
       "    </tr>\n",
       "    <tr>\n",
       "      <th>1</th>\n",
       "      <td>0</td>\n",
       "      <td>1</td>\n",
       "      <td>0</td>\n",
       "      <td>0</td>\n",
       "      <td>1</td>\n",
       "      <td>12</td>\n",
       "      <td>1</td>\n",
       "      <td>31</td>\n",
       "      <td>113.202938</td>\n",
       "      <td>12.0</td>\n",
       "      <td>7</td>\n",
       "      <td>1.922936</td>\n",
       "      <td>1.910244</td>\n",
       "      <td>0</td>\n",
       "    </tr>\n",
       "    <tr>\n",
       "      <th>2</th>\n",
       "      <td>0</td>\n",
       "      <td>1</td>\n",
       "      <td>1</td>\n",
       "      <td>0</td>\n",
       "      <td>1</td>\n",
       "      <td>1</td>\n",
       "      <td>0</td>\n",
       "      <td>28</td>\n",
       "      <td>129.448479</td>\n",
       "      <td>1.0</td>\n",
       "      <td>2</td>\n",
       "      <td>1.859098</td>\n",
       "      <td>1.736502</td>\n",
       "      <td>0</td>\n",
       "    </tr>\n",
       "    <tr>\n",
       "      <th>3</th>\n",
       "      <td>0</td>\n",
       "      <td>1</td>\n",
       "      <td>1</td>\n",
       "      <td>1</td>\n",
       "      <td>1</td>\n",
       "      <td>12</td>\n",
       "      <td>1</td>\n",
       "      <td>33</td>\n",
       "      <td>62.669863</td>\n",
       "      <td>12.0</td>\n",
       "      <td>2</td>\n",
       "      <td>3.205633</td>\n",
       "      <td>3.357215</td>\n",
       "      <td>0</td>\n",
       "    </tr>\n",
       "    <tr>\n",
       "      <th>4</th>\n",
       "      <td>1</td>\n",
       "      <td>1</td>\n",
       "      <td>1</td>\n",
       "      <td>1</td>\n",
       "      <td>1</td>\n",
       "      <td>1</td>\n",
       "      <td>0</td>\n",
       "      <td>26</td>\n",
       "      <td>198.362265</td>\n",
       "      <td>1.0</td>\n",
       "      <td>3</td>\n",
       "      <td>1.113884</td>\n",
       "      <td>1.120078</td>\n",
       "      <td>0</td>\n",
       "    </tr>\n",
       "  </tbody>\n",
       "</table>\n",
       "</div>"
      ],
      "text/plain": [
       "   gender  Near_Location  Partner  Promo_friends  Phone  Contract_period  \\\n",
       "0       1              1        1              1      0                6   \n",
       "1       0              1        0              0      1               12   \n",
       "2       0              1        1              0      1                1   \n",
       "3       0              1        1              1      1               12   \n",
       "4       1              1        1              1      1                1   \n",
       "\n",
       "   Group_visits  Age  Avg_additional_charges_total  Month_to_end_contract  \\\n",
       "0             1   29                     14.227470                    5.0   \n",
       "1             1   31                    113.202938                   12.0   \n",
       "2             0   28                    129.448479                    1.0   \n",
       "3             1   33                     62.669863                   12.0   \n",
       "4             0   26                    198.362265                    1.0   \n",
       "\n",
       "   Lifetime  Avg_class_frequency_total  Avg_class_frequency_current_month  \\\n",
       "0         3                   0.020398                           0.000000   \n",
       "1         7                   1.922936                           1.910244   \n",
       "2         2                   1.859098                           1.736502   \n",
       "3         2                   3.205633                           3.357215   \n",
       "4         3                   1.113884                           1.120078   \n",
       "\n",
       "   Churn  \n",
       "0      0  \n",
       "1      0  \n",
       "2      0  \n",
       "3      0  \n",
       "4      0  "
      ]
     },
     "execution_count": 2,
     "metadata": {},
     "output_type": "execute_result"
    }
   ],
   "source": [
    "try:\n",
    "    gym_churn = pd.read_csv('/datasets/gym_churn.csv')\n",
    "except:\n",
    "    gym_churn = pd.read_csv('gym_churn.csv')\n",
    "gym_churn.head()"
   ]
  },
  {
   "cell_type": "code",
   "execution_count": 3,
   "metadata": {},
   "outputs": [],
   "source": [
    "gym_churn.rename(columns={\"gender\": \"Gender\"}, inplace=True)"
   ]
  },
  {
   "cell_type": "markdown",
   "metadata": {},
   "source": [
    "Определим размер датасета:"
   ]
  },
  {
   "cell_type": "code",
   "execution_count": 4,
   "metadata": {
    "scrolled": false
   },
   "outputs": [
    {
     "data": {
      "text/plain": [
       "(4000, 14)"
      ]
     },
     "execution_count": 4,
     "metadata": {},
     "output_type": "execute_result"
    }
   ],
   "source": [
    "gym_churn.shape"
   ]
  },
  {
   "cell_type": "markdown",
   "metadata": {},
   "source": [
    "Датасет размером 4000 строк и 14 столбцов, из них 13 столбцов с признаками и один столбец с целевой переменной - Churn (отток). Посмотрим общую информацию о датасете:"
   ]
  },
  {
   "cell_type": "code",
   "execution_count": 5,
   "metadata": {
    "scrolled": true
   },
   "outputs": [
    {
     "name": "stdout",
     "output_type": "stream",
     "text": [
      "<class 'pandas.core.frame.DataFrame'>\n",
      "RangeIndex: 4000 entries, 0 to 3999\n",
      "Data columns (total 14 columns):\n",
      " #   Column                             Non-Null Count  Dtype  \n",
      "---  ------                             --------------  -----  \n",
      " 0   Gender                             4000 non-null   int64  \n",
      " 1   Near_Location                      4000 non-null   int64  \n",
      " 2   Partner                            4000 non-null   int64  \n",
      " 3   Promo_friends                      4000 non-null   int64  \n",
      " 4   Phone                              4000 non-null   int64  \n",
      " 5   Contract_period                    4000 non-null   int64  \n",
      " 6   Group_visits                       4000 non-null   int64  \n",
      " 7   Age                                4000 non-null   int64  \n",
      " 8   Avg_additional_charges_total       4000 non-null   float64\n",
      " 9   Month_to_end_contract              4000 non-null   float64\n",
      " 10  Lifetime                           4000 non-null   int64  \n",
      " 11  Avg_class_frequency_total          4000 non-null   float64\n",
      " 12  Avg_class_frequency_current_month  4000 non-null   float64\n",
      " 13  Churn                              4000 non-null   int64  \n",
      "dtypes: float64(4), int64(10)\n",
      "memory usage: 437.6 KB\n"
     ]
    }
   ],
   "source": [
    "gym_churn.info()"
   ]
  },
  {
   "cell_type": "markdown",
   "metadata": {},
   "source": [
    "Пропуски отсутствуют.\n",
    "Половина признаков категориальные: пол (Gender), проживание или работа в том же районе (Near_Location), сотрудник компании-партнёра (Partner), запись в рамках акции «приведи друга» (Promo_friends), наличие контактного телефона (Phone), факт посещения групповых занятий (Group_visits). Данные признаки уже приобразованы в числовые значения (принимают 0 или 1) и не требуют дополнительной обработки. \n",
    "Числовые признаки представляют поля: длительность текущего действующего абонемента (Contract_period), возраст (Age), суммарная выручка от других услуг фитнес-центра (Avg_additional_charges_total), срок до окончания текущего действующего абонемента (Month_to_end_contract), время с момента первого обращения в фитнес-центр (Lifetime), средняя частота посещений в неделю за все время с начала действия абонемента (Avg_class_frequency_total), средняя частота посещений в неделю за предыдущий месяц (Avg_class_frequency_current_month).\n",
    "Целевая переменная и практически все признаки имеют корректный формат. Приведем к целочисленному формату признак Month_to_end_contract (выражается в месяцах):"
   ]
  },
  {
   "cell_type": "code",
   "execution_count": 6,
   "metadata": {},
   "outputs": [],
   "source": [
    "gym_churn['Month_to_end_contract'] = gym_churn['Month_to_end_contract'].astype('int64')"
   ]
  },
  {
   "cell_type": "markdown",
   "metadata": {},
   "source": [
    "Определим количество дубликатов:"
   ]
  },
  {
   "cell_type": "code",
   "execution_count": 7,
   "metadata": {},
   "outputs": [
    {
     "data": {
      "text/plain": [
       "0"
      ]
     },
     "execution_count": 7,
     "metadata": {},
     "output_type": "execute_result"
    }
   ],
   "source": [
    "gym_churn.duplicated().sum()"
   ]
  },
  {
   "cell_type": "markdown",
   "metadata": {},
   "source": [
    "Выведем информацию о параметрах каждого признака:"
   ]
  },
  {
   "cell_type": "code",
   "execution_count": 8,
   "metadata": {},
   "outputs": [
    {
     "data": {
      "text/html": [
       "<div>\n",
       "<style scoped>\n",
       "    .dataframe tbody tr th:only-of-type {\n",
       "        vertical-align: middle;\n",
       "    }\n",
       "\n",
       "    .dataframe tbody tr th {\n",
       "        vertical-align: top;\n",
       "    }\n",
       "\n",
       "    .dataframe thead th {\n",
       "        text-align: right;\n",
       "    }\n",
       "</style>\n",
       "<table border=\"1\" class=\"dataframe\">\n",
       "  <thead>\n",
       "    <tr style=\"text-align: right;\">\n",
       "      <th></th>\n",
       "      <th>count</th>\n",
       "      <th>mean</th>\n",
       "      <th>std</th>\n",
       "      <th>min</th>\n",
       "      <th>25%</th>\n",
       "      <th>50%</th>\n",
       "      <th>75%</th>\n",
       "      <th>max</th>\n",
       "    </tr>\n",
       "  </thead>\n",
       "  <tbody>\n",
       "    <tr>\n",
       "      <th>Gender</th>\n",
       "      <td>4000.0</td>\n",
       "      <td>0.510250</td>\n",
       "      <td>0.499957</td>\n",
       "      <td>0.000000</td>\n",
       "      <td>0.000000</td>\n",
       "      <td>1.000000</td>\n",
       "      <td>1.000000</td>\n",
       "      <td>1.000000</td>\n",
       "    </tr>\n",
       "    <tr>\n",
       "      <th>Near_Location</th>\n",
       "      <td>4000.0</td>\n",
       "      <td>0.845250</td>\n",
       "      <td>0.361711</td>\n",
       "      <td>0.000000</td>\n",
       "      <td>1.000000</td>\n",
       "      <td>1.000000</td>\n",
       "      <td>1.000000</td>\n",
       "      <td>1.000000</td>\n",
       "    </tr>\n",
       "    <tr>\n",
       "      <th>Partner</th>\n",
       "      <td>4000.0</td>\n",
       "      <td>0.486750</td>\n",
       "      <td>0.499887</td>\n",
       "      <td>0.000000</td>\n",
       "      <td>0.000000</td>\n",
       "      <td>0.000000</td>\n",
       "      <td>1.000000</td>\n",
       "      <td>1.000000</td>\n",
       "    </tr>\n",
       "    <tr>\n",
       "      <th>Promo_friends</th>\n",
       "      <td>4000.0</td>\n",
       "      <td>0.308500</td>\n",
       "      <td>0.461932</td>\n",
       "      <td>0.000000</td>\n",
       "      <td>0.000000</td>\n",
       "      <td>0.000000</td>\n",
       "      <td>1.000000</td>\n",
       "      <td>1.000000</td>\n",
       "    </tr>\n",
       "    <tr>\n",
       "      <th>Phone</th>\n",
       "      <td>4000.0</td>\n",
       "      <td>0.903500</td>\n",
       "      <td>0.295313</td>\n",
       "      <td>0.000000</td>\n",
       "      <td>1.000000</td>\n",
       "      <td>1.000000</td>\n",
       "      <td>1.000000</td>\n",
       "      <td>1.000000</td>\n",
       "    </tr>\n",
       "    <tr>\n",
       "      <th>Contract_period</th>\n",
       "      <td>4000.0</td>\n",
       "      <td>4.681250</td>\n",
       "      <td>4.549706</td>\n",
       "      <td>1.000000</td>\n",
       "      <td>1.000000</td>\n",
       "      <td>1.000000</td>\n",
       "      <td>6.000000</td>\n",
       "      <td>12.000000</td>\n",
       "    </tr>\n",
       "    <tr>\n",
       "      <th>Group_visits</th>\n",
       "      <td>4000.0</td>\n",
       "      <td>0.412250</td>\n",
       "      <td>0.492301</td>\n",
       "      <td>0.000000</td>\n",
       "      <td>0.000000</td>\n",
       "      <td>0.000000</td>\n",
       "      <td>1.000000</td>\n",
       "      <td>1.000000</td>\n",
       "    </tr>\n",
       "    <tr>\n",
       "      <th>Age</th>\n",
       "      <td>4000.0</td>\n",
       "      <td>29.184250</td>\n",
       "      <td>3.258367</td>\n",
       "      <td>18.000000</td>\n",
       "      <td>27.000000</td>\n",
       "      <td>29.000000</td>\n",
       "      <td>31.000000</td>\n",
       "      <td>41.000000</td>\n",
       "    </tr>\n",
       "    <tr>\n",
       "      <th>Avg_additional_charges_total</th>\n",
       "      <td>4000.0</td>\n",
       "      <td>146.943728</td>\n",
       "      <td>96.355602</td>\n",
       "      <td>0.148205</td>\n",
       "      <td>68.868830</td>\n",
       "      <td>136.220159</td>\n",
       "      <td>210.949625</td>\n",
       "      <td>552.590740</td>\n",
       "    </tr>\n",
       "    <tr>\n",
       "      <th>Month_to_end_contract</th>\n",
       "      <td>4000.0</td>\n",
       "      <td>4.322750</td>\n",
       "      <td>4.191297</td>\n",
       "      <td>1.000000</td>\n",
       "      <td>1.000000</td>\n",
       "      <td>1.000000</td>\n",
       "      <td>6.000000</td>\n",
       "      <td>12.000000</td>\n",
       "    </tr>\n",
       "    <tr>\n",
       "      <th>Lifetime</th>\n",
       "      <td>4000.0</td>\n",
       "      <td>3.724750</td>\n",
       "      <td>3.749267</td>\n",
       "      <td>0.000000</td>\n",
       "      <td>1.000000</td>\n",
       "      <td>3.000000</td>\n",
       "      <td>5.000000</td>\n",
       "      <td>31.000000</td>\n",
       "    </tr>\n",
       "    <tr>\n",
       "      <th>Avg_class_frequency_total</th>\n",
       "      <td>4000.0</td>\n",
       "      <td>1.879020</td>\n",
       "      <td>0.972245</td>\n",
       "      <td>0.000000</td>\n",
       "      <td>1.180875</td>\n",
       "      <td>1.832768</td>\n",
       "      <td>2.536078</td>\n",
       "      <td>6.023668</td>\n",
       "    </tr>\n",
       "    <tr>\n",
       "      <th>Avg_class_frequency_current_month</th>\n",
       "      <td>4000.0</td>\n",
       "      <td>1.767052</td>\n",
       "      <td>1.052906</td>\n",
       "      <td>0.000000</td>\n",
       "      <td>0.963003</td>\n",
       "      <td>1.719574</td>\n",
       "      <td>2.510336</td>\n",
       "      <td>6.146783</td>\n",
       "    </tr>\n",
       "    <tr>\n",
       "      <th>Churn</th>\n",
       "      <td>4000.0</td>\n",
       "      <td>0.265250</td>\n",
       "      <td>0.441521</td>\n",
       "      <td>0.000000</td>\n",
       "      <td>0.000000</td>\n",
       "      <td>0.000000</td>\n",
       "      <td>1.000000</td>\n",
       "      <td>1.000000</td>\n",
       "    </tr>\n",
       "  </tbody>\n",
       "</table>\n",
       "</div>"
      ],
      "text/plain": [
       "                                    count        mean        std        min  \\\n",
       "Gender                             4000.0    0.510250   0.499957   0.000000   \n",
       "Near_Location                      4000.0    0.845250   0.361711   0.000000   \n",
       "Partner                            4000.0    0.486750   0.499887   0.000000   \n",
       "Promo_friends                      4000.0    0.308500   0.461932   0.000000   \n",
       "Phone                              4000.0    0.903500   0.295313   0.000000   \n",
       "Contract_period                    4000.0    4.681250   4.549706   1.000000   \n",
       "Group_visits                       4000.0    0.412250   0.492301   0.000000   \n",
       "Age                                4000.0   29.184250   3.258367  18.000000   \n",
       "Avg_additional_charges_total       4000.0  146.943728  96.355602   0.148205   \n",
       "Month_to_end_contract              4000.0    4.322750   4.191297   1.000000   \n",
       "Lifetime                           4000.0    3.724750   3.749267   0.000000   \n",
       "Avg_class_frequency_total          4000.0    1.879020   0.972245   0.000000   \n",
       "Avg_class_frequency_current_month  4000.0    1.767052   1.052906   0.000000   \n",
       "Churn                              4000.0    0.265250   0.441521   0.000000   \n",
       "\n",
       "                                         25%         50%         75%  \\\n",
       "Gender                              0.000000    1.000000    1.000000   \n",
       "Near_Location                       1.000000    1.000000    1.000000   \n",
       "Partner                             0.000000    0.000000    1.000000   \n",
       "Promo_friends                       0.000000    0.000000    1.000000   \n",
       "Phone                               1.000000    1.000000    1.000000   \n",
       "Contract_period                     1.000000    1.000000    6.000000   \n",
       "Group_visits                        0.000000    0.000000    1.000000   \n",
       "Age                                27.000000   29.000000   31.000000   \n",
       "Avg_additional_charges_total       68.868830  136.220159  210.949625   \n",
       "Month_to_end_contract               1.000000    1.000000    6.000000   \n",
       "Lifetime                            1.000000    3.000000    5.000000   \n",
       "Avg_class_frequency_total           1.180875    1.832768    2.536078   \n",
       "Avg_class_frequency_current_month   0.963003    1.719574    2.510336   \n",
       "Churn                               0.000000    0.000000    1.000000   \n",
       "\n",
       "                                          max  \n",
       "Gender                               1.000000  \n",
       "Near_Location                        1.000000  \n",
       "Partner                              1.000000  \n",
       "Promo_friends                        1.000000  \n",
       "Phone                                1.000000  \n",
       "Contract_period                     12.000000  \n",
       "Group_visits                         1.000000  \n",
       "Age                                 41.000000  \n",
       "Avg_additional_charges_total       552.590740  \n",
       "Month_to_end_contract               12.000000  \n",
       "Lifetime                            31.000000  \n",
       "Avg_class_frequency_total            6.023668  \n",
       "Avg_class_frequency_current_month    6.146783  \n",
       "Churn                                1.000000  "
      ]
     },
     "execution_count": 8,
     "metadata": {},
     "output_type": "execute_result"
    }
   ],
   "source": [
    "gym_churn.describe().T"
   ]
  },
  {
   "cell_type": "markdown",
   "metadata": {},
   "source": [
    "Определим средние значения признаков в двух группах — тех, кто ушел в отток и тех, кто остался:"
   ]
  },
  {
   "cell_type": "code",
   "execution_count": 9,
   "metadata": {
    "scrolled": false
   },
   "outputs": [
    {
     "data": {
      "text/html": [
       "<div>\n",
       "<style scoped>\n",
       "    .dataframe tbody tr th:only-of-type {\n",
       "        vertical-align: middle;\n",
       "    }\n",
       "\n",
       "    .dataframe tbody tr th {\n",
       "        vertical-align: top;\n",
       "    }\n",
       "\n",
       "    .dataframe thead th {\n",
       "        text-align: right;\n",
       "    }\n",
       "</style>\n",
       "<table border=\"1\" class=\"dataframe\">\n",
       "  <thead>\n",
       "    <tr style=\"text-align: right;\">\n",
       "      <th></th>\n",
       "      <th>Gender</th>\n",
       "      <th>Near_Location</th>\n",
       "      <th>Partner</th>\n",
       "      <th>Promo_friends</th>\n",
       "      <th>Phone</th>\n",
       "      <th>Contract_period</th>\n",
       "      <th>Group_visits</th>\n",
       "      <th>Age</th>\n",
       "      <th>Avg_additional_charges_total</th>\n",
       "      <th>Month_to_end_contract</th>\n",
       "      <th>Lifetime</th>\n",
       "      <th>Avg_class_frequency_total</th>\n",
       "      <th>Avg_class_frequency_current_month</th>\n",
       "    </tr>\n",
       "    <tr>\n",
       "      <th>Churn</th>\n",
       "      <th></th>\n",
       "      <th></th>\n",
       "      <th></th>\n",
       "      <th></th>\n",
       "      <th></th>\n",
       "      <th></th>\n",
       "      <th></th>\n",
       "      <th></th>\n",
       "      <th></th>\n",
       "      <th></th>\n",
       "      <th></th>\n",
       "      <th></th>\n",
       "      <th></th>\n",
       "    </tr>\n",
       "  </thead>\n",
       "  <tbody>\n",
       "    <tr>\n",
       "      <th>0</th>\n",
       "      <td>0.510037</td>\n",
       "      <td>0.873086</td>\n",
       "      <td>0.534195</td>\n",
       "      <td>0.353522</td>\n",
       "      <td>0.903709</td>\n",
       "      <td>5.747193</td>\n",
       "      <td>0.464103</td>\n",
       "      <td>29.976523</td>\n",
       "      <td>158.445715</td>\n",
       "      <td>5.283089</td>\n",
       "      <td>4.711807</td>\n",
       "      <td>2.024876</td>\n",
       "      <td>2.027882</td>\n",
       "    </tr>\n",
       "    <tr>\n",
       "      <th>1</th>\n",
       "      <td>0.510839</td>\n",
       "      <td>0.768143</td>\n",
       "      <td>0.355325</td>\n",
       "      <td>0.183789</td>\n",
       "      <td>0.902922</td>\n",
       "      <td>1.728558</td>\n",
       "      <td>0.268615</td>\n",
       "      <td>26.989632</td>\n",
       "      <td>115.082899</td>\n",
       "      <td>1.662582</td>\n",
       "      <td>0.990575</td>\n",
       "      <td>1.474995</td>\n",
       "      <td>1.044546</td>\n",
       "    </tr>\n",
       "  </tbody>\n",
       "</table>\n",
       "</div>"
      ],
      "text/plain": [
       "         Gender  Near_Location   Partner  Promo_friends     Phone  \\\n",
       "Churn                                                               \n",
       "0      0.510037       0.873086  0.534195       0.353522  0.903709   \n",
       "1      0.510839       0.768143  0.355325       0.183789  0.902922   \n",
       "\n",
       "       Contract_period  Group_visits        Age  Avg_additional_charges_total  \\\n",
       "Churn                                                                           \n",
       "0             5.747193      0.464103  29.976523                    158.445715   \n",
       "1             1.728558      0.268615  26.989632                    115.082899   \n",
       "\n",
       "       Month_to_end_contract  Lifetime  Avg_class_frequency_total  \\\n",
       "Churn                                                               \n",
       "0                   5.283089  4.711807                   2.024876   \n",
       "1                   1.662582  0.990575                   1.474995   \n",
       "\n",
       "       Avg_class_frequency_current_month  \n",
       "Churn                                     \n",
       "0                               2.027882  \n",
       "1                               1.044546  "
      ]
     },
     "execution_count": 9,
     "metadata": {},
     "output_type": "execute_result"
    }
   ],
   "source": [
    "churn_mean = gym_churn.groupby(['Churn']).mean() \n",
    "churn_mean"
   ]
  },
  {
   "cell_type": "code",
   "execution_count": 10,
   "metadata": {
    "scrolled": true
   },
   "outputs": [
    {
     "data": {
      "image/png": "[encoded data removed]",
      "text/plain": [
       "<Figure size 720x360 with 1 Axes>"
      ]
     },
     "metadata": {
      "needs_background": "light"
     },
     "output_type": "display_data"
    },
    {
     "data": {
      "image/png": "[encoded data removed]",
      "text/plain": [
       "<Figure size 720x360 with 1 Axes>"
      ]
     },
     "metadata": {
      "needs_background": "light"
     },
     "output_type": "display_data"
    },
    {
     "data": {
      "image/png": "[encoded data removed]",
      "text/plain": [
       "<Figure size 720x360 with 1 Axes>"
      ]
     },
     "metadata": {
      "needs_background": "light"
     },
     "output_type": "display_data"
    },
    {
     "data": {
      "image/png": "[encoded data removed]",
      "text/plain": [
       "<Figure size 720x360 with 1 Axes>"
      ]
     },
     "metadata": {
      "needs_background": "light"
     },
     "output_type": "display_data"
    },
    {
     "data": {
      "image/png": "[encoded data removed]",
      "text/plain": [
       "<Figure size 720x360 with 1 Axes>"
      ]
     },
     "metadata": {
      "needs_background": "light"
     },
     "output_type": "display_data"
    },
    {
     "data": {
      "image/png": "[encoded data removed]",
      "text/plain": [
       "<Figure size 720x360 with 1 Axes>"
      ]
     },
     "metadata": {
      "needs_background": "light"
     },
     "output_type": "display_data"
    },
    {
     "data": {
      "image/png": "[encoded data removed]",
      "text/plain": [
       "<Figure size 720x360 with 1 Axes>"
      ]
     },
     "metadata": {
      "needs_background": "light"
     },
     "output_type": "display_data"
    },
    {
     "data": {
      "image/png": "[encoded data removed]",
      "text/plain": [
       "<Figure size 720x360 with 1 Axes>"
      ]
     },
     "metadata": {
      "needs_background": "light"
     },
     "output_type": "display_data"
    },
    {
     "data": {
      "image/png": "[encoded data removed]",
      "text/plain": [
       "<Figure size 720x360 with 1 Axes>"
      ]
     },
     "metadata": {
      "needs_background": "light"
     },
     "output_type": "display_data"
    },
    {
     "data": {
      "image/png": "[encoded data removed]",
      "text/plain": [
       "<Figure size 720x360 with 1 Axes>"
      ]
     },
     "metadata": {
      "needs_background": "light"
     },
     "output_type": "display_data"
    },
    {
     "data": {
      "image/png": "[encoded data removed]",
      "text/plain": [
       "<Figure size 720x360 with 1 Axes>"
      ]
     },
     "metadata": {
      "needs_background": "light"
     },
     "output_type": "display_data"
    },
    {
     "data": {
      "image/png": "[encoded data removed]",
      "text/plain": [
       "<Figure size 720x360 with 1 Axes>"
      ]
     },
     "metadata": {
      "needs_background": "light"
     },
     "output_type": "display_data"
    },
    {
     "data": {
      "image/png": "[encoded data removed]",
      "text/plain": [
       "<Figure size 720x360 with 1 Axes>"
      ]
     },
     "metadata": {
      "needs_background": "light"
     },
     "output_type": "display_data"
    }
   ],
   "source": [
    "for column in gym_churn.drop('Churn', axis = 1).columns: \n",
    "        plt.figure(figsize=(10,5))\n",
    "        gym_churn.groupby('Churn')[column].hist()\n",
    "        plt.title(column)\n",
    "        plt.legend(['Действующие клиенты', 'Отток'])           \n",
    "        plt.show()"
   ]
  },
  {
   "cell_type": "markdown",
   "metadata": {},
   "source": [
    "Можно заметить, что пол не влияет на склонность к оттоку, в среднем, практически одинаковое количество мужчин и женщин либо уходят, либо остаётся. Близость расположения фитнес-центра к работе или дому влияет на отток незначительно, скорее всего это связано с тем, что клиенты изначально выбирают клуб неподалёку. Сотрудники компаний-партнёров уходят реже, чем остаются, возможно это обусловлено предпочтением сотрудников ходить \"за компанию\" с коллегами. По этой же причине обусловлен меньший отток среди клиентов, пришедших по программе \"приведи друга\". Информация о контактном телефоне никак не влияет на отток (одинаково указана и у тех, и у других). Посещение групповых занятий на отток влияет незначительно - в среднем из ушедших лишь 26,8% занимались в группе. Среднее значение длительности действующего абонемента показывает, что уходят в основном обладатели краткосрочных абонементов (до полугода). Средний возраст ушедших - 27 лет. За дополнительные услуги фитнес-центра платят обе категориии клиентов - в среднем 115 у.е. платят клиенты, ушедшие в отток, и 158 у.е. платят действующие клиенты. Покидают фитнес-центр в среднем за полтора месяца до окончания абонемента. Также можно заметить, что ушедшие в отток клиенты в среднем занимались всего 1 месяц, с периодичностью 1 раз в неделю."
   ]
  },
  {
   "cell_type": "markdown",
   "metadata": {},
   "source": [
    "Построим и отобразим матрицу корреляций:"
   ]
  },
  {
   "cell_type": "code",
   "execution_count": 11,
   "metadata": {
    "scrolled": true
   },
   "outputs": [
    {
     "data": {
      "text/plain": [
       "<AxesSubplot:>"
      ]
     },
     "execution_count": 11,
     "metadata": {},
     "output_type": "execute_result"
    },
    {
     "data": {
      "image/png": "[encoded data removed]",
      "text/plain": [
       "<Figure size 1080x720 with 2 Axes>"
      ]
     },
     "metadata": {
      "needs_background": "light"
     },
     "output_type": "display_data"
    }
   ],
   "source": [
    "plt.figure(figsize=(15,10))\n",
    "sns.heatmap(data = gym_churn.corr(), annot = True, square=True) "
   ]
  },
  {
   "cell_type": "markdown",
   "metadata": {},
   "source": [
    "Признаков, которые сильно коррелируют с целевой переменной Churn нет. Можно заметить, что имеются признаки, которые попарно коррелируют между собой: Contract_period (длительность действующего абонемента) и Month_to_end_contract (срок до окончания действующего абонемента) а также Avg_class_frequency_total (средняя частота посещений в неделю за все время с начала действия абонемента) и Avg_class_frequency_current_month (средняя частота посещений в неделю за предыдущий месяц)."
   ]
  },
  {
   "cell_type": "code",
   "execution_count": 12,
   "metadata": {
    "scrolled": false
   },
   "outputs": [
    {
     "data": {
      "image/png": "[encoded data removed]",
      "text/plain": [
       "<Figure size 432x288 with 1 Axes>"
      ]
     },
     "metadata": {
      "needs_background": "light"
     },
     "output_type": "display_data"
    }
   ],
   "source": [
    "sns.scatterplot(gym_churn['Contract_period'], gym_churn['Month_to_end_contract'])\n",
    "plt.xlabel(\"Длительность абонемента\")\n",
    "plt.ylabel(\"Срок до окончания абонемента\")\n",
    "plt.show()"
   ]
  },
  {
   "cell_type": "code",
   "execution_count": 13,
   "metadata": {},
   "outputs": [
    {
     "data": {
      "image/png": "[encoded data removed]",
      "text/plain": [
       "<Figure size 432x288 with 1 Axes>"
      ]
     },
     "metadata": {
      "needs_background": "light"
     },
     "output_type": "display_data"
    }
   ],
   "source": [
    "sns.scatterplot(gym_churn['Avg_class_frequency_total'], gym_churn['Avg_class_frequency_current_month'])\n",
    "plt.xlabel(\"Частота посещений в неделю за все время\")\n",
    "plt.ylabel(\"Частота посещений в неделю за предыдущий месяц\")\n",
    "plt.show()"
   ]
  },
  {
   "cell_type": "markdown",
   "metadata": {},
   "source": [
    "\n",
    "<b>Выводы по исследовательскому анализу данных (EDA):</b>  \n",
    "<li>данные представлены в корректной форме, пропуски и дубликаты отсутствуют, приведен к целочисленному формату признак \"срок до окончания текущего действующего абонемента\"</li>\n",
    "<li>в датасете представлены 13 признаков: 6 категориальных и 7 числовых</li>\n",
    "<li>целевая переменная определена как Churn (отток)</li>\n",
    "<li>явно коррелирующих с целевой переменной признаков не обнаружено</li>\n",
    "<li>обнаружены 2 пары коррелирующих между собой признаков: \"длительность действующего абонемента\" и \"срок до окончания действующего абонемента\", а также \"средняя частота посещений в неделю за все время с начала действия абонемента\" и \"средняя частота посещений в неделю за предыдущий месяц\"</li>\n",
    "<li>пол и наличие телефона в базе не влияют на отток</li>\n",
    "<li>незначительно на отток влияет расположение</li>\n",
    "<li>клиенты, пришедшие по промо-акциям уходят реже</li>    \n",
    "<li>реже уходят клиенты, посещающие групповые занятия</li>\n",
    "<li>возраст между двумя группами различается незначительно</li>    \n",
    "<li>траты за дополнительные услуги осуществляют обе категории клиентов</li>    \n",
    "<li>чаще уходят обладатели краткосрочных абонементов (до полугода)</li>     \n",
    "<li>действующие клиенты посещают клуб в 2 раза чаще</li> \n"
   ]
  },
  {
   "cell_type": "markdown",
   "metadata": {},
   "source": [
    "# Построение модели прогнозирования оттока клиентов"
   ]
  },
  {
   "cell_type": "markdown",
   "metadata": {},
   "source": [
    "Построим модель бинарной классификации клиентов, где целевой признак — факт оттока клиента в следующем месяце.\n",
    "Разделим данные на признаки (матрица X) и целевую переменную (y):"
   ]
  },
  {
   "cell_type": "code",
   "execution_count": 14,
   "metadata": {},
   "outputs": [],
   "source": [
    "X = gym_churn.drop('Churn', axis = 1)\n",
    "y = gym_churn['Churn']"
   ]
  },
  {
   "cell_type": "markdown",
   "metadata": {},
   "source": [
    "Разобьем данные на обучающую и валидационную выборку:"
   ]
  },
  {
   "cell_type": "code",
   "execution_count": 15,
   "metadata": {},
   "outputs": [],
   "source": [
    "X_train, X_test, y_train, y_test = train_test_split(X, y, test_size=0.2, random_state=0)"
   ]
  },
  {
   "cell_type": "code",
   "execution_count": 16,
   "metadata": {},
   "outputs": [
    {
     "data": {
      "text/plain": [
       "<AxesSubplot:xlabel='Churn', ylabel='Density'>"
      ]
     },
     "execution_count": 16,
     "metadata": {},
     "output_type": "execute_result"
    },
    {
     "data": {
      "image/png": "[encoded data removed]",
      "text/plain": [
       "<Figure size 432x288 with 1 Axes>"
      ]
     },
     "metadata": {
      "needs_background": "light"
     },
     "output_type": "display_data"
    }
   ],
   "source": [
    "# гистограмма целевой переменной на train\n",
    "sns.distplot(y_train)\n",
    "# гистограмма целевой переменной на test\n",
    "sns.distplot(y_test)"
   ]
  },
  {
   "cell_type": "markdown",
   "metadata": {},
   "source": [
    "Стандартизируем данные:"
   ]
  },
  {
   "cell_type": "code",
   "execution_count": 17,
   "metadata": {},
   "outputs": [],
   "source": [
    "scaler = StandardScaler()\n",
    "scaler.fit(X_train)\n",
    "\n",
    "X_train_st = scaler.transform(X_train)\n",
    "X_test_st = scaler.transform(X_test)"
   ]
  },
  {
   "cell_type": "markdown",
   "metadata": {},
   "source": [
    "Обучим модель на train-выборке логистической регрессией и случайным лесом:"
   ]
  },
  {
   "cell_type": "code",
   "execution_count": 18,
   "metadata": {},
   "outputs": [
    {
     "name": "stdout",
     "output_type": "stream",
     "text": [
      "LogisticRegression(random_state=0)\n",
      "accuracy:0.91 precision:0.84 recall:0.80 \n",
      "RandomForestClassifier(random_state=0)\n",
      "accuracy:0.92 precision:0.84 recall:0.82 \n"
     ]
    }
   ],
   "source": [
    "models = [\n",
    "    LogisticRegression(random_state=0),\n",
    "    RandomForestClassifier(random_state=0),\n",
    "]\n",
    " \n",
    "def make_prediction(m, X_train, y_train, X_test, y_test):\n",
    "    model = m\n",
    "    model.fit(X_train, y_train)\n",
    "    y_pred = model.predict(X_test)\n",
    "    print(\n",
    "        'accuracy:{:.2f} precision:{:.2f} recall:{:.2f} '.format(\n",
    "            accuracy_score(y_test, y_pred),\n",
    "            precision_score(y_test, y_pred),\n",
    "            recall_score(y_test, y_pred)\n",
    "        )\n",
    "    )    \n",
    "    \n",
    "for i in models:\n",
    "    print(i)\n",
    "    make_prediction(i, X_train, y_train, X_test, y_test)    "
   ]
  },
  {
   "cell_type": "markdown",
   "metadata": {},
   "source": [
    "Можно заметить, что метрики классификации выше у модели логистической регрессии: правильно прогнозируются 93% ответов против 91% у модели случайного леса. Метрики качества работы алгоритма recall и precision также выше у модели логистической регрессии: 0,86 против 0,83 для метрики полноты, и 0,83 против 0,78 для метрики точности."
   ]
  },
  {
   "cell_type": "markdown",
   "metadata": {},
   "source": [
    "\n",
    "<b>Выводы по построению модели прогнозирования оттока клиентов:</b>  \n",
    "<li>целевой признак — факт оттока клиента в следующем месяце</li>\n",
    "<li>для сравнения использовались две модели: логистическая регрессия и случайный лес</li>    \n",
    "<li>по результатам обучения можно заключить, что модель логистической регрессии показала себя точнее по всем метрикам классификации</li>    \n"
   ]
  },
  {
   "cell_type": "markdown",
   "metadata": {},
   "source": [
    "# Кластеризация клиентов"
   ]
  },
  {
   "cell_type": "markdown",
   "metadata": {},
   "source": [
    "Стандартизируем данные:"
   ]
  },
  {
   "cell_type": "code",
   "execution_count": 19,
   "metadata": {},
   "outputs": [],
   "source": [
    "sc = StandardScaler()\n",
    "X_sc = sc.fit_transform(X)"
   ]
  },
  {
   "cell_type": "markdown",
   "metadata": {},
   "source": [
    "Построим матрицу расстояний и нарисуем дендрограмму:"
   ]
  },
  {
   "cell_type": "code",
   "execution_count": 20,
   "metadata": {},
   "outputs": [
    {
     "data": {
      "image/png": "[encoded data removed]",
      "text/plain": [
       "<Figure size 1080x720 with 1 Axes>"
      ]
     },
     "metadata": {
      "needs_background": "light"
     },
     "output_type": "display_data"
    }
   ],
   "source": [
    "linked = linkage(X_sc, method='ward')\n",
    "plt.figure(figsize=(15, 10))\n",
    "dendrogram(linked, orientation='top')\n",
    "plt.title('Иерархическая кластеризация')\n",
    "plt.show()"
   ]
  },
  {
   "cell_type": "markdown",
   "metadata": {},
   "source": [
    "Алгоритм предлагает оптимальное количество кластеров равное 4. Для обучения модели кластеризации на основании алгоритма K-Means, согласно ТЗ, необходимо принять количество кластеров равное 5. Спрогнозируем кластеры клиентов:"
   ]
  },
  {
   "cell_type": "code",
   "execution_count": 21,
   "metadata": {
    "scrolled": true
   },
   "outputs": [
    {
     "data": {
      "text/html": [
       "<div>\n",
       "<style scoped>\n",
       "    .dataframe tbody tr th:only-of-type {\n",
       "        vertical-align: middle;\n",
       "    }\n",
       "\n",
       "    .dataframe tbody tr th {\n",
       "        vertical-align: top;\n",
       "    }\n",
       "\n",
       "    .dataframe thead th {\n",
       "        text-align: right;\n",
       "    }\n",
       "</style>\n",
       "<table border=\"1\" class=\"dataframe\">\n",
       "  <thead>\n",
       "    <tr style=\"text-align: right;\">\n",
       "      <th>cluster_km</th>\n",
       "      <th>0</th>\n",
       "      <th>1</th>\n",
       "      <th>2</th>\n",
       "      <th>3</th>\n",
       "      <th>4</th>\n",
       "    </tr>\n",
       "  </thead>\n",
       "  <tbody>\n",
       "    <tr>\n",
       "      <th>Gender</th>\n",
       "      <td>0.502970</td>\n",
       "      <td>0.522078</td>\n",
       "      <td>0.495050</td>\n",
       "      <td>0.485737</td>\n",
       "      <td>0.559666</td>\n",
       "    </tr>\n",
       "    <tr>\n",
       "      <th>Near_Location</th>\n",
       "      <td>0.959406</td>\n",
       "      <td>0.862338</td>\n",
       "      <td>0.000000</td>\n",
       "      <td>1.000000</td>\n",
       "      <td>0.976134</td>\n",
       "    </tr>\n",
       "    <tr>\n",
       "      <th>Partner</th>\n",
       "      <td>0.783168</td>\n",
       "      <td>0.470130</td>\n",
       "      <td>0.463366</td>\n",
       "      <td>0.350238</td>\n",
       "      <td>0.356802</td>\n",
       "    </tr>\n",
       "    <tr>\n",
       "      <th>Promo_friends</th>\n",
       "      <td>0.574257</td>\n",
       "      <td>0.306494</td>\n",
       "      <td>0.079208</td>\n",
       "      <td>0.240095</td>\n",
       "      <td>0.230310</td>\n",
       "    </tr>\n",
       "    <tr>\n",
       "      <th>Phone</th>\n",
       "      <td>1.000000</td>\n",
       "      <td>0.000000</td>\n",
       "      <td>1.000000</td>\n",
       "      <td>1.000000</td>\n",
       "      <td>0.998807</td>\n",
       "    </tr>\n",
       "    <tr>\n",
       "      <th>Contract_period</th>\n",
       "      <td>10.889109</td>\n",
       "      <td>4.787013</td>\n",
       "      <td>2.352475</td>\n",
       "      <td>1.948494</td>\n",
       "      <td>2.669451</td>\n",
       "    </tr>\n",
       "    <tr>\n",
       "      <th>Group_visits</th>\n",
       "      <td>0.542574</td>\n",
       "      <td>0.425974</td>\n",
       "      <td>0.215842</td>\n",
       "      <td>0.341521</td>\n",
       "      <td>0.473747</td>\n",
       "    </tr>\n",
       "    <tr>\n",
       "      <th>Age</th>\n",
       "      <td>29.982178</td>\n",
       "      <td>29.301299</td>\n",
       "      <td>28.477228</td>\n",
       "      <td>28.167987</td>\n",
       "      <td>30.125298</td>\n",
       "    </tr>\n",
       "    <tr>\n",
       "      <th>Avg_additional_charges_total</th>\n",
       "      <td>160.761016</td>\n",
       "      <td>143.957664</td>\n",
       "      <td>135.457501</td>\n",
       "      <td>131.622204</td>\n",
       "      <td>161.657905</td>\n",
       "    </tr>\n",
       "    <tr>\n",
       "      <th>Month_to_end_contract</th>\n",
       "      <td>9.954455</td>\n",
       "      <td>4.475325</td>\n",
       "      <td>2.198020</td>\n",
       "      <td>1.856577</td>\n",
       "      <td>2.459427</td>\n",
       "    </tr>\n",
       "    <tr>\n",
       "      <th>Lifetime</th>\n",
       "      <td>4.736634</td>\n",
       "      <td>3.924675</td>\n",
       "      <td>2.809901</td>\n",
       "      <td>2.440571</td>\n",
       "      <td>4.898568</td>\n",
       "    </tr>\n",
       "    <tr>\n",
       "      <th>Avg_class_frequency_total</th>\n",
       "      <td>1.982055</td>\n",
       "      <td>1.847220</td>\n",
       "      <td>1.660461</td>\n",
       "      <td>1.247634</td>\n",
       "      <td>2.852002</td>\n",
       "    </tr>\n",
       "    <tr>\n",
       "      <th>Avg_class_frequency_current_month</th>\n",
       "      <td>1.974789</td>\n",
       "      <td>1.716369</td>\n",
       "      <td>1.477324</td>\n",
       "      <td>1.012983</td>\n",
       "      <td>2.850161</td>\n",
       "    </tr>\n",
       "    <tr>\n",
       "      <th>Churn</th>\n",
       "      <td>0.027723</td>\n",
       "      <td>0.267532</td>\n",
       "      <td>0.443564</td>\n",
       "      <td>0.514263</td>\n",
       "      <td>0.068019</td>\n",
       "    </tr>\n",
       "  </tbody>\n",
       "</table>\n",
       "</div>"
      ],
      "text/plain": [
       "cluster_km                                  0           1           2  \\\n",
       "Gender                               0.502970    0.522078    0.495050   \n",
       "Near_Location                        0.959406    0.862338    0.000000   \n",
       "Partner                              0.783168    0.470130    0.463366   \n",
       "Promo_friends                        0.574257    0.306494    0.079208   \n",
       "Phone                                1.000000    0.000000    1.000000   \n",
       "Contract_period                     10.889109    4.787013    2.352475   \n",
       "Group_visits                         0.542574    0.425974    0.215842   \n",
       "Age                                 29.982178   29.301299   28.477228   \n",
       "Avg_additional_charges_total       160.761016  143.957664  135.457501   \n",
       "Month_to_end_contract                9.954455    4.475325    2.198020   \n",
       "Lifetime                             4.736634    3.924675    2.809901   \n",
       "Avg_class_frequency_total            1.982055    1.847220    1.660461   \n",
       "Avg_class_frequency_current_month    1.974789    1.716369    1.477324   \n",
       "Churn                                0.027723    0.267532    0.443564   \n",
       "\n",
       "cluster_km                                  3           4  \n",
       "Gender                               0.485737    0.559666  \n",
       "Near_Location                        1.000000    0.976134  \n",
       "Partner                              0.350238    0.356802  \n",
       "Promo_friends                        0.240095    0.230310  \n",
       "Phone                                1.000000    0.998807  \n",
       "Contract_period                      1.948494    2.669451  \n",
       "Group_visits                         0.341521    0.473747  \n",
       "Age                                 28.167987   30.125298  \n",
       "Avg_additional_charges_total       131.622204  161.657905  \n",
       "Month_to_end_contract                1.856577    2.459427  \n",
       "Lifetime                             2.440571    4.898568  \n",
       "Avg_class_frequency_total            1.247634    2.852002  \n",
       "Avg_class_frequency_current_month    1.012983    2.850161  \n",
       "Churn                                0.514263    0.068019  "
      ]
     },
     "execution_count": 21,
     "metadata": {},
     "output_type": "execute_result"
    }
   ],
   "source": [
    "km = KMeans(n_clusters = 5,  random_state = 0)\n",
    "labels = km.fit_predict(X_sc)\n",
    "gym_churn['cluster_km'] = labels\n",
    "gym_churn_mean = gym_churn.groupby('cluster_km').mean().T\n",
    "gym_churn_mean"
   ]
  },
  {
   "cell_type": "markdown",
   "metadata": {},
   "source": [
    "Построим распределение признаков для кластеров:"
   ]
  },
  {
   "cell_type": "code",
   "execution_count": 22,
   "metadata": {},
   "outputs": [
    {
     "data": {
      "image/png": "[encoded data removed]",
      "text/plain": [
       "<Figure size 1080x720 with 16 Axes>"
      ]
     },
     "metadata": {
      "needs_background": "light"
     },
     "output_type": "display_data"
    },
    {
     "data": {
      "image/png": "[encoded data removed]",
      "text/plain": [
       "<Figure size 1080x720 with 16 Axes>"
      ]
     },
     "metadata": {
      "needs_background": "light"
     },
     "output_type": "display_data"
    },
    {
     "data": {
      "image/png": "[encoded data removed]",
      "text/plain": [
       "<Figure size 1080x720 with 16 Axes>"
      ]
     },
     "metadata": {
      "needs_background": "light"
     },
     "output_type": "display_data"
    },
    {
     "data": {
      "image/png": "[encoded data removed]",
      "text/plain": [
       "<Figure size 1080x720 with 16 Axes>"
      ]
     },
     "metadata": {
      "needs_background": "light"
     },
     "output_type": "display_data"
    },
    {
     "data": {
      "image/png": "[encoded data removed]",
      "text/plain": [
       "<Figure size 1080x720 with 16 Axes>"
      ]
     },
     "metadata": {
      "needs_background": "light"
     },
     "output_type": "display_data"
    }
   ],
   "source": [
    "for row in gym_churn_mean:\n",
    "    gym_churn[gym_churn['cluster_km']==row].hist(figsize=(15,10))\n",
    "    plt.suptitle('Распределение признаков кластера {}'.format(row))\n",
    "    plt.show()"
   ]
  },
  {
   "cell_type": "markdown",
   "metadata": {},
   "source": [
    "На основании полученных данных выявлены следующие особенности кластеров клиентов:\n",
    "<li>Кластер 0: самая низкая доля оттока - 2,7%; 95,9% клиентов живут или работают рядом с фитнес-центром; большинство клиентов пришли по партнерской программе (78%) либо по программе \"приведи друга\" (57%); клиенты занимаются по долгосрочным абонементам, половина клиентов посещает групповые занятия; среднее число посещений в неделю - 2. </li>\n",
    "<li>Кластер 1: доля оттока - 26,7%; большинство клиентов - 86% жвиут или работают рядом с фитнес-центром; меньше половины - клиенты партнерской программы, треть - программы лояльности; обладатели абонементов средней продолжжительности (3-6 месяцев); 42,6% - посетители групповых занятий; клиенты посещают клуб в среднем 2 раза в неделю, или чуть реже.</li>\n",
    "<li>Кластер 2: доля оттока - 44%; клиенты живут или работают в другом районе; 47% клиенты партнерской программы; по акции \"приведи друга\" занимаются всего 8% клиентов; абонементы карткосрочные, на 1-3 месяца; самое малое посещение групповых занятий - 21,6%; посещают клуб 1-2 раза в неделю.</li>\n",
    "<li>Кластер 3: самая сщественная доля оттока - 51,4%; все клиенты живут или работают рядом; примерно треть клиентов участники партнерской программы и программы лояльности; обладатели краткосрочных абонементов, в среднем на 2 месяца; 34% посещают групповые занятия; среднее число посещений в неделю - 1.</li>\n",
    "<li>Кластер 4: доля оттока - 6,8%; 97,6% клиентов живут или работают рядом; 35,6% клиентов участники партнерской программы и 23% - программы лояльности; средняя продолжительность абонемента - 2,6 месяца; почти половина клиентов посещают групповые занятия; самое большое число посещений в неделю - в среднем 3 занятия.</li>"
   ]
  },
  {
   "cell_type": "markdown",
   "metadata": {},
   "source": [
    "\n",
    "<b>Выводы по кластеризации клиентов:</b>  \n",
    "<li>клиенты были разделены на 5 кластеров</li>\n",
    "<li>возраст и пол распределились приблизительно одинаково по всем кластерам</li>\n",
    "<li>самые надежные кластеры - кластер 0 (склонность к оттоку 2,7%) и кластер 4 (склонность к оттоку 6,8%)</li>    \n",
    "<li>наиболее склонны к оттоку кластеры 2 (44%) и 3 (51%)</li>\n",
    "<li>наименее склонны к оттоку обладатели долгосрочных и среднесрочных абонементов - от 3 до 12 месяцев</li>\n",
    "<li>у клиентов наиболее надежных кластеров проходит в среднем 4 месяца с момента первого посещения </li>\n",
    "<li>клиенты наиболее надежных кластеров посещают занятия в среднем 2-3 раза в неделю</li>\n",
    "<li>клиенты надежных кластеров также больше посещают групповые занятия, чем клиенты склонные к оттоку</li>\n"
   ]
  },
  {
   "cell_type": "markdown",
   "metadata": {},
   "source": [
    "# Выводы и рекомендации"
   ]
  },
  {
   "cell_type": "markdown",
   "metadata": {},
   "source": [
    "\n",
    "<b>Целевая группа клиентов:</b>  \n",
    "<li>работающие или живущие рядом клиенты</li>\n",
    "<li>вне зависимости от пола и возраста</li>\n",
    "<li>участники партнерских программ, либо программ лояльности</li>\n",
    "<li>обладатели среднесрочных и долгосрочных абонементов</li>\n",
    "<li>клиенты, посещающие групповые занятия</li>\n",
    "\n",
    "<b>Рекомендации:</b> \n",
    "<li>дальнейшая ориентация на клиентов, которые проживают или работают в районе</li> \n",
    "<li>развитие партнерских программ, путем сотрудничества с новыми компаниями</li> \n",
    "<li>развитие программ лояльности, путем поощрения действующих клиентов за каждого приведенного друга</li>\n",
    "<li>развитие плана групповых занятий, преимущественно в вечернее время в будни</li>\n",
    "<li>предоставление скидок или специальных предложений на среднесрочные и долгосрочные абонементы</li>\n",
    "<li>предоставление рассрочки на покупку абонемента</li>\n"
   ]
  }
 ],
 "metadata": {
  "ExecuteTimeLog": [
   {
    "duration": 2815,
    "start_time": "2021-07-28T10:26:08.896Z"
   },
   {
    "duration": 58,
    "start_time": "2021-07-28T10:26:11.714Z"
   },
   {
    "duration": 566,
    "start_time": "2021-07-28T10:31:17.379Z"
   },
   {
    "duration": 390,
    "start_time": "2021-07-28T10:31:35.194Z"
   },
   {
    "duration": 6,
    "start_time": "2021-07-28T10:31:49.298Z"
   },
   {
    "duration": 13,
    "start_time": "2021-07-28T10:32:00.907Z"
   },
   {
    "duration": 15,
    "start_time": "2021-07-28T10:34:11.124Z"
   },
   {
    "duration": 1965,
    "start_time": "2021-07-28T11:03:52.207Z"
   },
   {
    "duration": 41,
    "start_time": "2021-07-28T11:03:54.175Z"
   },
   {
    "duration": 5,
    "start_time": "2021-07-28T11:03:54.222Z"
   },
   {
    "duration": 14,
    "start_time": "2021-07-28T11:03:54.229Z"
   },
   {
    "duration": 24,
    "start_time": "2021-07-28T11:03:54.245Z"
   },
   {
    "duration": 14,
    "start_time": "2021-07-28T11:03:54.272Z"
   },
   {
    "duration": 14,
    "start_time": "2021-07-28T11:03:54.289Z"
   },
   {
    "duration": 2039,
    "start_time": "2021-07-28T11:04:57.295Z"
   },
   {
    "duration": 42,
    "start_time": "2021-07-28T11:04:59.336Z"
   },
   {
    "duration": 4,
    "start_time": "2021-07-28T11:04:59.381Z"
   },
   {
    "duration": 11,
    "start_time": "2021-07-28T11:04:59.388Z"
   },
   {
    "duration": 13,
    "start_time": "2021-07-28T11:04:59.402Z"
   },
   {
    "duration": 4,
    "start_time": "2021-07-28T11:04:59.418Z"
   },
   {
    "duration": 42,
    "start_time": "2021-07-28T11:04:59.425Z"
   },
   {
    "duration": 11,
    "start_time": "2021-07-28T11:04:59.471Z"
   },
   {
    "duration": 72,
    "start_time": "2021-07-28T11:26:08.782Z"
   },
   {
    "duration": 36,
    "start_time": "2021-07-28T11:33:36.670Z"
   },
   {
    "duration": 29,
    "start_time": "2021-07-28T11:34:01.479Z"
   },
   {
    "duration": 54,
    "start_time": "2021-07-28T11:35:48.191Z"
   },
   {
    "duration": 56,
    "start_time": "2021-07-28T11:35:52.207Z"
   },
   {
    "duration": 120,
    "start_time": "2021-07-28T11:36:05.567Z"
   },
   {
    "duration": 70,
    "start_time": "2021-07-28T11:36:16.368Z"
   },
   {
    "duration": 177021,
    "start_time": "2021-07-28T11:44:36.415Z"
   },
   {
    "duration": 1925,
    "start_time": "2021-07-28T14:59:16.332Z"
   },
   {
    "duration": 40,
    "start_time": "2021-07-28T14:59:18.259Z"
   },
   {
    "duration": 5,
    "start_time": "2021-07-28T14:59:18.302Z"
   },
   {
    "duration": 8,
    "start_time": "2021-07-28T14:59:18.309Z"
   },
   {
    "duration": 11,
    "start_time": "2021-07-28T14:59:18.319Z"
   },
   {
    "duration": 5,
    "start_time": "2021-07-28T14:59:18.332Z"
   },
   {
    "duration": 51,
    "start_time": "2021-07-28T14:59:18.339Z"
   },
   {
    "duration": 68,
    "start_time": "2021-07-28T14:59:18.394Z"
   },
   {
    "duration": 176,
    "start_time": "2021-07-28T14:59:18.465Z"
   },
   {
    "duration": 108,
    "start_time": "2021-07-28T14:59:18.644Z"
   },
   {
    "duration": 37679,
    "start_time": "2021-07-28T15:02:36.901Z"
   },
   {
    "duration": 1783,
    "start_time": "2021-07-28T15:03:33.596Z"
   },
   {
    "duration": 41,
    "start_time": "2021-07-28T15:03:35.381Z"
   },
   {
    "duration": 5,
    "start_time": "2021-07-28T15:03:35.425Z"
   },
   {
    "duration": 7,
    "start_time": "2021-07-28T15:03:35.433Z"
   },
   {
    "duration": 12,
    "start_time": "2021-07-28T15:03:35.442Z"
   },
   {
    "duration": 28,
    "start_time": "2021-07-28T15:03:35.456Z"
   },
   {
    "duration": 25,
    "start_time": "2021-07-28T15:03:35.487Z"
   },
   {
    "duration": 83,
    "start_time": "2021-07-28T15:03:35.516Z"
   },
   {
    "duration": 127,
    "start_time": "2021-07-28T15:03:35.601Z"
   },
   {
    "duration": 81,
    "start_time": "2021-07-28T15:03:35.730Z"
   },
   {
    "duration": 98267,
    "start_time": "2021-07-28T15:03:35.813Z"
   },
   {
    "duration": -293,
    "start_time": "2021-07-28T15:05:14.376Z"
   },
   {
    "duration": 1893,
    "start_time": "2021-07-28T15:05:26.715Z"
   },
   {
    "duration": 41,
    "start_time": "2021-07-28T15:05:28.610Z"
   },
   {
    "duration": 5,
    "start_time": "2021-07-28T15:05:28.654Z"
   },
   {
    "duration": 7,
    "start_time": "2021-07-28T15:05:28.662Z"
   },
   {
    "duration": 11,
    "start_time": "2021-07-28T15:05:28.671Z"
   },
   {
    "duration": 4,
    "start_time": "2021-07-28T15:05:28.685Z"
   },
   {
    "duration": 14,
    "start_time": "2021-07-28T15:05:28.691Z"
   },
   {
    "duration": 96,
    "start_time": "2021-07-28T15:05:28.709Z"
   },
   {
    "duration": 579,
    "start_time": "2021-07-28T15:05:28.807Z"
   },
   {
    "duration": -296,
    "start_time": "2021-07-28T15:05:29.685Z"
   },
   {
    "duration": -298,
    "start_time": "2021-07-28T15:05:29.688Z"
   },
   {
    "duration": 1929,
    "start_time": "2021-07-28T15:05:39.628Z"
   },
   {
    "duration": 41,
    "start_time": "2021-07-28T15:05:41.560Z"
   },
   {
    "duration": 5,
    "start_time": "2021-07-28T15:05:41.607Z"
   },
   {
    "duration": 6,
    "start_time": "2021-07-28T15:05:41.615Z"
   },
   {
    "duration": 14,
    "start_time": "2021-07-28T15:05:41.624Z"
   },
   {
    "duration": 44,
    "start_time": "2021-07-28T15:05:41.641Z"
   },
   {
    "duration": 15,
    "start_time": "2021-07-28T15:05:41.689Z"
   },
   {
    "duration": 88,
    "start_time": "2021-07-28T15:05:41.708Z"
   },
   {
    "duration": 66,
    "start_time": "2021-07-28T15:05:41.798Z"
   },
   {
    "duration": 82,
    "start_time": "2021-07-28T15:05:41.866Z"
   },
   {
    "duration": -257,
    "start_time": "2021-07-28T15:08:38.572Z"
   },
   {
    "duration": 1433,
    "start_time": "2021-07-28T15:09:20.280Z"
   },
   {
    "duration": 1539,
    "start_time": "2021-07-28T15:09:29.722Z"
   },
   {
    "duration": 23,
    "start_time": "2021-07-28T15:09:57.737Z"
   },
   {
    "duration": 77,
    "start_time": "2021-07-28T15:32:58.169Z"
   },
   {
    "duration": 70,
    "start_time": "2021-07-28T15:33:00.337Z"
   },
   {
    "duration": 826,
    "start_time": "2021-07-29T05:57:02.982Z"
   },
   {
    "duration": 1903,
    "start_time": "2021-07-29T05:57:10.323Z"
   },
   {
    "duration": 42,
    "start_time": "2021-07-29T05:57:12.228Z"
   },
   {
    "duration": 5,
    "start_time": "2021-07-29T05:57:12.273Z"
   },
   {
    "duration": 7,
    "start_time": "2021-07-29T05:57:12.281Z"
   },
   {
    "duration": 13,
    "start_time": "2021-07-29T05:57:12.290Z"
   },
   {
    "duration": 4,
    "start_time": "2021-07-29T05:57:12.305Z"
   },
   {
    "duration": 46,
    "start_time": "2021-07-29T05:57:12.312Z"
   },
   {
    "duration": 67,
    "start_time": "2021-07-29T05:57:12.361Z"
   },
   {
    "duration": 90,
    "start_time": "2021-07-29T05:57:12.430Z"
   },
   {
    "duration": 78,
    "start_time": "2021-07-29T05:57:12.522Z"
   },
   {
    "duration": 7,
    "start_time": "2021-07-29T05:57:12.603Z"
   },
   {
    "duration": 46,
    "start_time": "2021-07-29T05:57:12.612Z"
   },
   {
    "duration": 1481,
    "start_time": "2021-07-29T05:57:12.660Z"
   },
   {
    "duration": 8,
    "start_time": "2021-07-29T05:57:51.716Z"
   },
   {
    "duration": 522,
    "start_time": "2021-07-29T06:32:18.796Z"
   },
   {
    "duration": 246,
    "start_time": "2021-07-29T06:32:36.710Z"
   },
   {
    "duration": 312,
    "start_time": "2021-07-29T06:32:55.886Z"
   },
   {
    "duration": 280,
    "start_time": "2021-07-29T06:33:22.934Z"
   },
   {
    "duration": 18,
    "start_time": "2021-07-29T06:33:40.134Z"
   },
   {
    "duration": 6,
    "start_time": "2021-07-29T06:34:22.871Z"
   },
   {
    "duration": 397,
    "start_time": "2021-07-29T06:34:37.238Z"
   },
   {
    "duration": 297,
    "start_time": "2021-07-29T06:35:43.182Z"
   },
   {
    "duration": 28119,
    "start_time": "2021-07-29T06:36:09.022Z"
   },
   {
    "duration": 259,
    "start_time": "2021-07-29T06:39:23.672Z"
   },
   {
    "duration": 237,
    "start_time": "2021-07-29T06:39:41.280Z"
   },
   {
    "duration": 297,
    "start_time": "2021-07-29T06:39:51.072Z"
   },
   {
    "duration": 715,
    "start_time": "2021-07-29T06:40:12.071Z"
   },
   {
    "duration": 590,
    "start_time": "2021-07-29T06:40:27.696Z"
   },
   {
    "duration": 419,
    "start_time": "2021-07-29T06:41:32.574Z"
   },
   {
    "duration": 434,
    "start_time": "2021-07-29T06:41:38.231Z"
   },
   {
    "duration": 466,
    "start_time": "2021-07-29T06:41:51.271Z"
   },
   {
    "duration": 568,
    "start_time": "2021-07-29T06:41:58.774Z"
   },
   {
    "duration": 881,
    "start_time": "2021-07-29T06:42:06.215Z"
   },
   {
    "duration": 432,
    "start_time": "2021-07-29T06:42:23.479Z"
   },
   {
    "duration": 339,
    "start_time": "2021-07-29T06:44:09.064Z"
   },
   {
    "duration": 273,
    "start_time": "2021-07-29T06:45:20.535Z"
   },
   {
    "duration": 729,
    "start_time": "2021-07-29T06:48:57.663Z"
   },
   {
    "duration": 584,
    "start_time": "2021-07-29T06:49:06.056Z"
   },
   {
    "duration": 28563,
    "start_time": "2021-07-29T06:49:21.033Z"
   },
   {
    "duration": 303,
    "start_time": "2021-07-29T06:52:06.303Z"
   },
   {
    "duration": 302,
    "start_time": "2021-07-29T08:31:47.269Z"
   },
   {
    "duration": 4871,
    "start_time": "2021-07-29T08:31:57.677Z"
   },
   {
    "duration": 6821,
    "start_time": "2021-07-29T08:35:08.806Z"
   },
   {
    "duration": 1791,
    "start_time": "2021-07-29T08:40:21.492Z"
   },
   {
    "duration": 43,
    "start_time": "2021-07-29T08:40:23.286Z"
   },
   {
    "duration": 9,
    "start_time": "2021-07-29T08:40:23.332Z"
   },
   {
    "duration": 8,
    "start_time": "2021-07-29T08:40:23.344Z"
   },
   {
    "duration": 16,
    "start_time": "2021-07-29T08:40:23.354Z"
   },
   {
    "duration": 5,
    "start_time": "2021-07-29T08:40:23.372Z"
   },
   {
    "duration": 21,
    "start_time": "2021-07-29T08:40:23.379Z"
   },
   {
    "duration": 87,
    "start_time": "2021-07-29T08:40:23.403Z"
   },
   {
    "duration": 21,
    "start_time": "2021-07-29T08:40:23.493Z"
   },
   {
    "duration": 323,
    "start_time": "2021-07-29T08:40:23.516Z"
   },
   {
    "duration": 298,
    "start_time": "2021-07-29T08:40:23.841Z"
   },
   {
    "duration": 323,
    "start_time": "2021-07-29T08:40:24.142Z"
   },
   {
    "duration": 291,
    "start_time": "2021-07-29T08:40:24.467Z"
   },
   {
    "duration": 1785,
    "start_time": "2021-07-29T08:40:24.761Z"
   },
   {
    "duration": 4518,
    "start_time": "2021-07-29T08:40:26.556Z"
   },
   {
    "duration": 4476,
    "start_time": "2021-07-29T08:41:26.753Z"
   },
   {
    "duration": 278,
    "start_time": "2021-07-29T08:48:59.450Z"
   },
   {
    "duration": 6635,
    "start_time": "2021-07-29T08:49:14.680Z"
   },
   {
    "duration": 3847,
    "start_time": "2021-07-29T08:50:19.859Z"
   },
   {
    "duration": 89,
    "start_time": "2021-07-29T08:57:16.361Z"
   },
   {
    "duration": 107,
    "start_time": "2021-07-29T08:57:23.611Z"
   },
   {
    "duration": 294,
    "start_time": "2021-07-29T08:57:39.953Z"
   },
   {
    "duration": 2345,
    "start_time": "2021-07-29T08:57:46.289Z"
   },
   {
    "duration": 2459,
    "start_time": "2021-07-29T08:58:12.362Z"
   },
   {
    "duration": 2378,
    "start_time": "2021-07-29T08:59:39.730Z"
   },
   {
    "duration": 2331,
    "start_time": "2021-07-29T08:59:52.538Z"
   },
   {
    "duration": 2409,
    "start_time": "2021-07-29T09:00:59.187Z"
   },
   {
    "duration": 2796,
    "start_time": "2021-07-29T09:01:16.098Z"
   },
   {
    "duration": 5478,
    "start_time": "2021-07-29T09:01:28.786Z"
   },
   {
    "duration": 2747,
    "start_time": "2021-07-29T09:01:39.690Z"
   },
   {
    "duration": 107,
    "start_time": "2021-07-29T09:02:04.282Z"
   },
   {
    "duration": 3675,
    "start_time": "2021-07-29T09:02:48.121Z"
   },
   {
    "duration": 3256,
    "start_time": "2021-07-29T09:03:37.730Z"
   },
   {
    "duration": 5521,
    "start_time": "2021-07-29T09:13:11.043Z"
   },
   {
    "duration": 687,
    "start_time": "2021-07-29T09:17:03.611Z"
   },
   {
    "duration": 5722,
    "start_time": "2021-07-29T09:17:15.939Z"
   },
   {
    "duration": 5522,
    "start_time": "2021-07-29T09:17:32.523Z"
   },
   {
    "duration": 89,
    "start_time": "2021-07-29T09:18:19.211Z"
   },
   {
    "duration": 69,
    "start_time": "2021-07-29T09:20:45.930Z"
   },
   {
    "duration": 6158,
    "start_time": "2021-07-29T09:30:02.715Z"
   },
   {
    "duration": 122,
    "start_time": "2021-07-29T09:30:16.245Z"
   },
   {
    "duration": 88,
    "start_time": "2021-07-29T09:30:23.181Z"
   },
   {
    "duration": 99,
    "start_time": "2021-07-29T09:30:29.243Z"
   },
   {
    "duration": 101,
    "start_time": "2021-07-29T09:30:45.947Z"
   },
   {
    "duration": 5759,
    "start_time": "2021-07-29T09:30:52.059Z"
   },
   {
    "duration": 2430,
    "start_time": "2021-07-29T09:33:56.636Z"
   },
   {
    "duration": 1961,
    "start_time": "2021-07-29T09:34:07.315Z"
   },
   {
    "duration": 2001,
    "start_time": "2021-07-29T09:34:14.556Z"
   },
   {
    "duration": 1821,
    "start_time": "2021-07-29T09:34:23.916Z"
   },
   {
    "duration": 2347,
    "start_time": "2021-07-29T09:34:31.117Z"
   },
   {
    "duration": 2168,
    "start_time": "2021-07-29T09:34:43.691Z"
   },
   {
    "duration": 2353,
    "start_time": "2021-07-29T09:35:03.116Z"
   },
   {
    "duration": 1663,
    "start_time": "2021-07-29T09:35:13.916Z"
   },
   {
    "duration": 1395,
    "start_time": "2021-07-29T09:36:12.532Z"
   },
   {
    "duration": 1808,
    "start_time": "2021-07-29T09:36:21.956Z"
   },
   {
    "duration": 1830,
    "start_time": "2021-07-29T09:36:41.174Z"
   },
   {
    "duration": 41,
    "start_time": "2021-07-29T09:36:43.006Z"
   },
   {
    "duration": 5,
    "start_time": "2021-07-29T09:36:43.049Z"
   },
   {
    "duration": 9,
    "start_time": "2021-07-29T09:36:43.057Z"
   },
   {
    "duration": 14,
    "start_time": "2021-07-29T09:36:43.068Z"
   },
   {
    "duration": 4,
    "start_time": "2021-07-29T09:36:43.084Z"
   },
   {
    "duration": 16,
    "start_time": "2021-07-29T09:36:43.091Z"
   },
   {
    "duration": 90,
    "start_time": "2021-07-29T09:36:43.110Z"
   },
   {
    "duration": 22,
    "start_time": "2021-07-29T09:36:43.203Z"
   },
   {
    "duration": 5429,
    "start_time": "2021-07-29T09:36:43.227Z"
   },
   {
    "duration": 1603,
    "start_time": "2021-07-29T09:36:48.658Z"
   },
   {
    "duration": 2325,
    "start_time": "2021-07-29T09:38:40.573Z"
   },
   {
    "duration": 2064,
    "start_time": "2021-07-29T09:38:48.827Z"
   },
   {
    "duration": 42,
    "start_time": "2021-07-29T09:38:50.894Z"
   },
   {
    "duration": 4,
    "start_time": "2021-07-29T09:38:50.939Z"
   },
   {
    "duration": 7,
    "start_time": "2021-07-29T09:38:50.946Z"
   },
   {
    "duration": 15,
    "start_time": "2021-07-29T09:38:50.955Z"
   },
   {
    "duration": 9,
    "start_time": "2021-07-29T09:38:50.972Z"
   },
   {
    "duration": 17,
    "start_time": "2021-07-29T09:38:50.983Z"
   },
   {
    "duration": 80,
    "start_time": "2021-07-29T09:38:51.003Z"
   },
   {
    "duration": 22,
    "start_time": "2021-07-29T09:38:51.086Z"
   },
   {
    "duration": 5338,
    "start_time": "2021-07-29T09:38:51.110Z"
   },
   {
    "duration": 2175,
    "start_time": "2021-07-29T09:38:56.450Z"
   },
   {
    "duration": 2271,
    "start_time": "2021-07-29T09:39:09.349Z"
   },
   {
    "duration": 1509,
    "start_time": "2021-07-29T09:39:30.101Z"
   },
   {
    "duration": 2492,
    "start_time": "2021-07-29T09:39:40.367Z"
   },
   {
    "duration": 1846,
    "start_time": "2021-07-29T09:39:50.495Z"
   },
   {
    "duration": 44,
    "start_time": "2021-07-29T09:39:52.344Z"
   },
   {
    "duration": 5,
    "start_time": "2021-07-29T09:39:52.391Z"
   },
   {
    "duration": 22,
    "start_time": "2021-07-29T09:39:52.398Z"
   },
   {
    "duration": 29,
    "start_time": "2021-07-29T09:39:52.422Z"
   },
   {
    "duration": 25,
    "start_time": "2021-07-29T09:39:52.453Z"
   },
   {
    "duration": 23,
    "start_time": "2021-07-29T09:39:52.480Z"
   },
   {
    "duration": 74,
    "start_time": "2021-07-29T09:39:52.507Z"
   },
   {
    "duration": 23,
    "start_time": "2021-07-29T09:39:52.584Z"
   },
   {
    "duration": 5510,
    "start_time": "2021-07-29T09:39:52.610Z"
   },
   {
    "duration": 1537,
    "start_time": "2021-07-29T09:39:58.123Z"
   },
   {
    "duration": 2078,
    "start_time": "2021-07-29T09:44:14.978Z"
   },
   {
    "duration": 574,
    "start_time": "2021-07-29T09:44:42.250Z"
   },
   {
    "duration": 2023,
    "start_time": "2021-07-29T09:44:53.795Z"
   },
   {
    "duration": 1721,
    "start_time": "2021-07-29T09:46:22.738Z"
   },
   {
    "duration": 5060,
    "start_time": "2021-07-29T10:03:24.796Z"
   },
   {
    "duration": 502,
    "start_time": "2021-07-29T10:04:56.906Z"
   },
   {
    "duration": 573,
    "start_time": "2021-07-29T10:06:03.483Z"
   },
   {
    "duration": 574,
    "start_time": "2021-07-29T10:06:20.668Z"
   },
   {
    "duration": 614,
    "start_time": "2021-07-29T10:06:50.392Z"
   },
   {
    "duration": 1863,
    "start_time": "2021-07-29T10:07:08.302Z"
   },
   {
    "duration": 43,
    "start_time": "2021-07-29T10:07:10.169Z"
   },
   {
    "duration": 5,
    "start_time": "2021-07-29T10:07:10.215Z"
   },
   {
    "duration": 19,
    "start_time": "2021-07-29T10:07:10.223Z"
   },
   {
    "duration": 27,
    "start_time": "2021-07-29T10:07:10.245Z"
   },
   {
    "duration": 5,
    "start_time": "2021-07-29T10:07:10.275Z"
   },
   {
    "duration": 24,
    "start_time": "2021-07-29T10:07:10.282Z"
   },
   {
    "duration": 80,
    "start_time": "2021-07-29T10:07:10.309Z"
   },
   {
    "duration": 24,
    "start_time": "2021-07-29T10:07:10.392Z"
   },
   {
    "duration": 5489,
    "start_time": "2021-07-29T10:07:10.418Z"
   },
   {
    "duration": 1828,
    "start_time": "2021-07-29T10:07:15.910Z"
   },
   {
    "duration": 437,
    "start_time": "2021-07-29T10:07:17.741Z"
   },
   {
    "duration": 627,
    "start_time": "2021-07-29T10:07:18.181Z"
   },
   {
    "duration": 109,
    "start_time": "2021-07-29T10:15:30.776Z"
   },
   {
    "duration": 448,
    "start_time": "2021-07-29T10:15:36.029Z"
   },
   {
    "duration": 423,
    "start_time": "2021-07-29T10:16:35.494Z"
   },
   {
    "duration": 435,
    "start_time": "2021-07-29T10:17:14.758Z"
   },
   {
    "duration": 428,
    "start_time": "2021-07-29T10:17:18.129Z"
   },
   {
    "duration": 1843,
    "start_time": "2021-07-29T10:32:49.781Z"
   },
   {
    "duration": 44,
    "start_time": "2021-07-29T10:32:51.627Z"
   },
   {
    "duration": 5,
    "start_time": "2021-07-29T10:32:51.675Z"
   },
   {
    "duration": 11,
    "start_time": "2021-07-29T10:32:51.683Z"
   },
   {
    "duration": 14,
    "start_time": "2021-07-29T10:32:51.697Z"
   },
   {
    "duration": 4,
    "start_time": "2021-07-29T10:32:51.714Z"
   },
   {
    "duration": 36,
    "start_time": "2021-07-29T10:32:51.721Z"
   },
   {
    "duration": 65,
    "start_time": "2021-07-29T10:32:51.760Z"
   },
   {
    "duration": 41,
    "start_time": "2021-07-29T10:32:51.827Z"
   },
   {
    "duration": 5008,
    "start_time": "2021-07-29T10:32:51.871Z"
   },
   {
    "duration": 1922,
    "start_time": "2021-07-29T10:32:56.881Z"
   },
   {
    "duration": 453,
    "start_time": "2021-07-29T10:32:58.805Z"
   },
   {
    "duration": 540,
    "start_time": "2021-07-29T10:32:59.261Z"
   },
   {
    "duration": 1944,
    "start_time": "2021-07-29T11:28:35.009Z"
   },
   {
    "duration": 43,
    "start_time": "2021-07-29T11:28:36.956Z"
   },
   {
    "duration": 6,
    "start_time": "2021-07-29T11:28:37.002Z"
   },
   {
    "duration": 8,
    "start_time": "2021-07-29T11:28:37.010Z"
   },
   {
    "duration": 11,
    "start_time": "2021-07-29T11:28:37.020Z"
   },
   {
    "duration": 26,
    "start_time": "2021-07-29T11:28:37.033Z"
   },
   {
    "duration": 18,
    "start_time": "2021-07-29T11:28:37.061Z"
   },
   {
    "duration": 81,
    "start_time": "2021-07-29T11:28:37.083Z"
   },
   {
    "duration": 24,
    "start_time": "2021-07-29T11:28:37.167Z"
   },
   {
    "duration": 5245,
    "start_time": "2021-07-29T11:28:37.194Z"
   },
   {
    "duration": 1707,
    "start_time": "2021-07-29T11:28:42.441Z"
   },
   {
    "duration": 537,
    "start_time": "2021-07-29T11:28:44.150Z"
   },
   {
    "duration": 437,
    "start_time": "2021-07-29T11:28:44.690Z"
   },
   {
    "duration": 5,
    "start_time": "2021-07-29T11:28:45.129Z"
   },
   {
    "duration": 25,
    "start_time": "2021-07-29T11:28:45.137Z"
   },
   {
    "duration": 14,
    "start_time": "2021-07-29T11:28:45.165Z"
   },
   {
    "duration": 1846,
    "start_time": "2021-07-29T11:34:38.231Z"
   },
   {
    "duration": 42,
    "start_time": "2021-07-29T11:34:40.080Z"
   },
   {
    "duration": 5,
    "start_time": "2021-07-29T11:34:40.125Z"
   },
   {
    "duration": 8,
    "start_time": "2021-07-29T11:34:40.133Z"
   },
   {
    "duration": 20,
    "start_time": "2021-07-29T11:34:40.143Z"
   },
   {
    "duration": 4,
    "start_time": "2021-07-29T11:34:40.165Z"
   },
   {
    "duration": 13,
    "start_time": "2021-07-29T11:34:40.172Z"
   },
   {
    "duration": 99,
    "start_time": "2021-07-29T11:34:40.189Z"
   },
   {
    "duration": 27,
    "start_time": "2021-07-29T11:34:40.291Z"
   },
   {
    "duration": 5145,
    "start_time": "2021-07-29T11:34:40.321Z"
   },
   {
    "duration": 1749,
    "start_time": "2021-07-29T11:34:45.469Z"
   },
   {
    "duration": 550,
    "start_time": "2021-07-29T11:34:47.221Z"
   },
   {
    "duration": 431,
    "start_time": "2021-07-29T11:34:47.775Z"
   },
   {
    "duration": 5,
    "start_time": "2021-07-29T11:34:48.208Z"
   },
   {
    "duration": 10,
    "start_time": "2021-07-29T11:34:48.215Z"
   },
   {
    "duration": 494,
    "start_time": "2021-07-29T11:34:48.227Z"
   },
   {
    "duration": 9,
    "start_time": "2021-07-29T11:34:48.724Z"
   },
   {
    "duration": 1867,
    "start_time": "2021-07-29T11:47:50.581Z"
   },
   {
    "duration": 43,
    "start_time": "2021-07-29T11:47:52.450Z"
   },
   {
    "duration": 5,
    "start_time": "2021-07-29T11:47:52.495Z"
   },
   {
    "duration": 8,
    "start_time": "2021-07-29T11:47:52.503Z"
   },
   {
    "duration": 18,
    "start_time": "2021-07-29T11:47:52.513Z"
   },
   {
    "duration": 5,
    "start_time": "2021-07-29T11:47:52.533Z"
   },
   {
    "duration": 14,
    "start_time": "2021-07-29T11:47:52.556Z"
   },
   {
    "duration": 87,
    "start_time": "2021-07-29T11:47:52.574Z"
   },
   {
    "duration": 23,
    "start_time": "2021-07-29T11:47:52.664Z"
   },
   {
    "duration": 5055,
    "start_time": "2021-07-29T11:47:52.689Z"
   },
   {
    "duration": 1847,
    "start_time": "2021-07-29T11:47:57.747Z"
   },
   {
    "duration": 559,
    "start_time": "2021-07-29T11:47:59.597Z"
   },
   {
    "duration": 458,
    "start_time": "2021-07-29T11:48:00.159Z"
   },
   {
    "duration": 6,
    "start_time": "2021-07-29T11:48:00.620Z"
   },
   {
    "duration": 28,
    "start_time": "2021-07-29T11:48:00.628Z"
   },
   {
    "duration": 378,
    "start_time": "2021-07-29T11:48:00.658Z"
   },
   {
    "duration": 94,
    "start_time": "2021-07-29T11:48:01.039Z"
   },
   {
    "duration": 483,
    "start_time": "2021-07-29T11:48:08.033Z"
   },
   {
    "duration": 1863,
    "start_time": "2021-07-29T11:49:25.736Z"
   },
   {
    "duration": 49,
    "start_time": "2021-07-29T11:49:27.602Z"
   },
   {
    "duration": 6,
    "start_time": "2021-07-29T11:49:27.655Z"
   },
   {
    "duration": 11,
    "start_time": "2021-07-29T11:49:27.664Z"
   },
   {
    "duration": 15,
    "start_time": "2021-07-29T11:49:27.677Z"
   },
   {
    "duration": 6,
    "start_time": "2021-07-29T11:49:27.695Z"
   },
   {
    "duration": 53,
    "start_time": "2021-07-29T11:49:27.704Z"
   },
   {
    "duration": 67,
    "start_time": "2021-07-29T11:49:27.760Z"
   },
   {
    "duration": 44,
    "start_time": "2021-07-29T11:49:27.832Z"
   },
   {
    "duration": 5166,
    "start_time": "2021-07-29T11:49:27.880Z"
   },
   {
    "duration": 1709,
    "start_time": "2021-07-29T11:49:33.056Z"
   },
   {
    "duration": 557,
    "start_time": "2021-07-29T11:49:34.768Z"
   },
   {
    "duration": 462,
    "start_time": "2021-07-29T11:49:35.327Z"
   },
   {
    "duration": 8,
    "start_time": "2021-07-29T11:49:35.792Z"
   },
   {
    "duration": 13,
    "start_time": "2021-07-29T11:49:35.802Z"
   },
   {
    "duration": 401,
    "start_time": "2021-07-29T11:49:35.818Z"
   },
   {
    "duration": 501,
    "start_time": "2021-07-29T11:49:36.221Z"
   },
   {
    "duration": 1948,
    "start_time": "2021-07-29T11:50:58.080Z"
   },
   {
    "duration": 44,
    "start_time": "2021-07-29T11:51:00.030Z"
   },
   {
    "duration": 5,
    "start_time": "2021-07-29T11:51:00.077Z"
   },
   {
    "duration": 11,
    "start_time": "2021-07-29T11:51:00.086Z"
   },
   {
    "duration": 29,
    "start_time": "2021-07-29T11:51:00.100Z"
   },
   {
    "duration": 15,
    "start_time": "2021-07-29T11:51:00.132Z"
   },
   {
    "duration": 23,
    "start_time": "2021-07-29T11:51:00.149Z"
   },
   {
    "duration": 98,
    "start_time": "2021-07-29T11:51:00.175Z"
   },
   {
    "duration": 34,
    "start_time": "2021-07-29T11:51:00.277Z"
   },
   {
    "duration": 5250,
    "start_time": "2021-07-29T11:51:00.314Z"
   },
   {
    "duration": 1998,
    "start_time": "2021-07-29T11:51:05.567Z"
   },
   {
    "duration": 417,
    "start_time": "2021-07-29T11:51:07.567Z"
   },
   {
    "duration": 446,
    "start_time": "2021-07-29T11:51:07.987Z"
   },
   {
    "duration": 6,
    "start_time": "2021-07-29T11:51:08.435Z"
   },
   {
    "duration": 24,
    "start_time": "2021-07-29T11:51:08.443Z"
   },
   {
    "duration": 371,
    "start_time": "2021-07-29T11:51:08.469Z"
   },
   {
    "duration": 263,
    "start_time": "2021-07-29T11:51:08.843Z"
   },
   {
    "duration": 1893,
    "start_time": "2021-07-29T11:54:46.413Z"
   },
   {
    "duration": 44,
    "start_time": "2021-07-29T11:54:48.309Z"
   },
   {
    "duration": 5,
    "start_time": "2021-07-29T11:54:48.356Z"
   },
   {
    "duration": 13,
    "start_time": "2021-07-29T11:54:48.364Z"
   },
   {
    "duration": 24,
    "start_time": "2021-07-29T11:54:48.379Z"
   },
   {
    "duration": 9,
    "start_time": "2021-07-29T11:54:48.405Z"
   },
   {
    "duration": 20,
    "start_time": "2021-07-29T11:54:48.417Z"
   },
   {
    "duration": 80,
    "start_time": "2021-07-29T11:54:48.440Z"
   },
   {
    "duration": 39,
    "start_time": "2021-07-29T11:54:48.523Z"
   },
   {
    "duration": 5061,
    "start_time": "2021-07-29T11:54:48.564Z"
   },
   {
    "duration": 1850,
    "start_time": "2021-07-29T11:54:53.627Z"
   },
   {
    "duration": 488,
    "start_time": "2021-07-29T11:54:55.479Z"
   },
   {
    "duration": 446,
    "start_time": "2021-07-29T11:54:55.969Z"
   },
   {
    "duration": 5,
    "start_time": "2021-07-29T11:54:56.417Z"
   },
   {
    "duration": 18,
    "start_time": "2021-07-29T11:54:56.424Z"
   },
   {
    "duration": 374,
    "start_time": "2021-07-29T11:54:56.444Z"
   },
   {
    "duration": 9,
    "start_time": "2021-07-29T11:54:56.820Z"
   },
   {
    "duration": 270,
    "start_time": "2021-07-29T11:54:56.831Z"
   },
   {
    "duration": 2176,
    "start_time": "2021-07-29T12:20:10.239Z"
   },
   {
    "duration": 44,
    "start_time": "2021-07-29T12:20:12.417Z"
   },
   {
    "duration": 5,
    "start_time": "2021-07-29T12:20:12.463Z"
   },
   {
    "duration": 8,
    "start_time": "2021-07-29T12:20:12.471Z"
   },
   {
    "duration": 11,
    "start_time": "2021-07-29T12:20:12.482Z"
   },
   {
    "duration": 7,
    "start_time": "2021-07-29T12:20:12.495Z"
   },
   {
    "duration": 20,
    "start_time": "2021-07-29T12:20:12.504Z"
   },
   {
    "duration": 63,
    "start_time": "2021-07-29T12:20:12.555Z"
   },
   {
    "duration": 42,
    "start_time": "2021-07-29T12:20:12.621Z"
   },
   {
    "duration": 5011,
    "start_time": "2021-07-29T12:20:12.665Z"
   },
   {
    "duration": 1827,
    "start_time": "2021-07-29T12:20:17.678Z"
   },
   {
    "duration": 473,
    "start_time": "2021-07-29T12:20:19.508Z"
   },
   {
    "duration": 436,
    "start_time": "2021-07-29T12:20:19.984Z"
   },
   {
    "duration": 5,
    "start_time": "2021-07-29T12:20:20.422Z"
   },
   {
    "duration": 28,
    "start_time": "2021-07-29T12:20:20.429Z"
   },
   {
    "duration": 370,
    "start_time": "2021-07-29T12:20:20.459Z"
   },
   {
    "duration": 269,
    "start_time": "2021-07-29T12:20:20.831Z"
   },
   {
    "duration": 2264,
    "start_time": "2021-07-29T12:20:35.331Z"
   },
   {
    "duration": 42,
    "start_time": "2021-07-29T12:20:37.597Z"
   },
   {
    "duration": 4,
    "start_time": "2021-07-29T12:20:37.642Z"
   },
   {
    "duration": 6,
    "start_time": "2021-07-29T12:20:37.657Z"
   },
   {
    "duration": 15,
    "start_time": "2021-07-29T12:20:37.665Z"
   },
   {
    "duration": 5,
    "start_time": "2021-07-29T12:20:37.682Z"
   },
   {
    "duration": 15,
    "start_time": "2021-07-29T12:20:37.689Z"
   },
   {
    "duration": 94,
    "start_time": "2021-07-29T12:20:37.708Z"
   },
   {
    "duration": 22,
    "start_time": "2021-07-29T12:20:37.805Z"
   },
   {
    "duration": 5589,
    "start_time": "2021-07-29T12:20:37.829Z"
   },
   {
    "duration": 1941,
    "start_time": "2021-07-29T12:20:43.420Z"
   },
   {
    "duration": 422,
    "start_time": "2021-07-29T12:20:45.363Z"
   },
   {
    "duration": 589,
    "start_time": "2021-07-29T12:20:45.788Z"
   },
   {
    "duration": 6,
    "start_time": "2021-07-29T12:20:46.380Z"
   },
   {
    "duration": 18,
    "start_time": "2021-07-29T12:20:46.389Z"
   },
   {
    "duration": 404,
    "start_time": "2021-07-29T12:20:46.409Z"
   },
   {
    "duration": 288,
    "start_time": "2021-07-29T12:20:46.816Z"
   },
   {
    "duration": 1935,
    "start_time": "2021-07-29T12:21:29.093Z"
   },
   {
    "duration": 43,
    "start_time": "2021-07-29T12:21:31.030Z"
   },
   {
    "duration": 5,
    "start_time": "2021-07-29T12:21:31.076Z"
   },
   {
    "duration": 22,
    "start_time": "2021-07-29T12:21:31.084Z"
   },
   {
    "duration": 27,
    "start_time": "2021-07-29T12:21:31.108Z"
   },
   {
    "duration": 18,
    "start_time": "2021-07-29T12:21:31.137Z"
   },
   {
    "duration": 26,
    "start_time": "2021-07-29T12:21:31.157Z"
   },
   {
    "duration": 63,
    "start_time": "2021-07-29T12:21:31.187Z"
   },
   {
    "duration": 23,
    "start_time": "2021-07-29T12:21:31.255Z"
   },
   {
    "duration": 5066,
    "start_time": "2021-07-29T12:21:31.280Z"
   },
   {
    "duration": 1884,
    "start_time": "2021-07-29T12:21:36.348Z"
   },
   {
    "duration": 472,
    "start_time": "2021-07-29T12:21:38.235Z"
   },
   {
    "duration": 569,
    "start_time": "2021-07-29T12:21:38.710Z"
   },
   {
    "duration": 5,
    "start_time": "2021-07-29T12:21:39.282Z"
   },
   {
    "duration": 10,
    "start_time": "2021-07-29T12:21:39.289Z"
   },
   {
    "duration": 383,
    "start_time": "2021-07-29T12:21:39.302Z"
   },
   {
    "duration": 315,
    "start_time": "2021-07-29T12:21:39.688Z"
   },
   {
    "duration": 1964,
    "start_time": "2021-07-29T12:22:04.371Z"
   },
   {
    "duration": 44,
    "start_time": "2021-07-29T12:22:06.337Z"
   },
   {
    "duration": 5,
    "start_time": "2021-07-29T12:22:06.384Z"
   },
   {
    "duration": 8,
    "start_time": "2021-07-29T12:22:06.392Z"
   },
   {
    "duration": 23,
    "start_time": "2021-07-29T12:22:06.402Z"
   },
   {
    "duration": 29,
    "start_time": "2021-07-29T12:22:06.428Z"
   },
   {
    "duration": 14,
    "start_time": "2021-07-29T12:22:06.460Z"
   },
   {
    "duration": 84,
    "start_time": "2021-07-29T12:22:06.478Z"
   },
   {
    "duration": 23,
    "start_time": "2021-07-29T12:22:06.564Z"
   },
   {
    "duration": 5134,
    "start_time": "2021-07-29T12:22:06.590Z"
   },
   {
    "duration": 1922,
    "start_time": "2021-07-29T12:22:11.727Z"
   },
   {
    "duration": 412,
    "start_time": "2021-07-29T12:22:13.655Z"
   },
   {
    "duration": 423,
    "start_time": "2021-07-29T12:22:14.071Z"
   },
   {
    "duration": 6,
    "start_time": "2021-07-29T12:22:14.497Z"
   },
   {
    "duration": 10,
    "start_time": "2021-07-29T12:22:14.506Z"
   },
   {
    "duration": 388,
    "start_time": "2021-07-29T12:22:14.519Z"
   },
   {
    "duration": 293,
    "start_time": "2021-07-29T12:22:14.910Z"
   },
   {
    "duration": 1909,
    "start_time": "2021-07-29T12:23:50.295Z"
   },
   {
    "duration": 44,
    "start_time": "2021-07-29T12:23:52.206Z"
   },
   {
    "duration": 5,
    "start_time": "2021-07-29T12:23:52.253Z"
   },
   {
    "duration": 7,
    "start_time": "2021-07-29T12:23:52.261Z"
   },
   {
    "duration": 17,
    "start_time": "2021-07-29T12:23:52.270Z"
   },
   {
    "duration": 4,
    "start_time": "2021-07-29T12:23:52.290Z"
   },
   {
    "duration": 18,
    "start_time": "2021-07-29T12:23:52.296Z"
   },
   {
    "duration": 93,
    "start_time": "2021-07-29T12:23:52.318Z"
   },
   {
    "duration": 41,
    "start_time": "2021-07-29T12:23:52.414Z"
   },
   {
    "duration": 5162,
    "start_time": "2021-07-29T12:23:52.458Z"
   },
   {
    "duration": 1948,
    "start_time": "2021-07-29T12:23:57.623Z"
   },
   {
    "duration": 406,
    "start_time": "2021-07-29T12:23:59.574Z"
   },
   {
    "duration": 438,
    "start_time": "2021-07-29T12:23:59.982Z"
   },
   {
    "duration": 102,
    "start_time": "2021-07-29T12:24:00.422Z"
   },
   {
    "duration": 929,
    "start_time": "2021-07-29T12:23:59.597Z"
   },
   {
    "duration": 919,
    "start_time": "2021-07-29T12:23:59.608Z"
   },
   {
    "duration": 918,
    "start_time": "2021-07-29T12:23:59.611Z"
   },
   {
    "duration": 916,
    "start_time": "2021-07-29T12:23:59.614Z"
   },
   {
    "duration": 464,
    "start_time": "2021-07-29T12:24:07.344Z"
   },
   {
    "duration": 1833,
    "start_time": "2021-07-29T12:24:43.251Z"
   },
   {
    "duration": 41,
    "start_time": "2021-07-29T12:24:45.086Z"
   },
   {
    "duration": 5,
    "start_time": "2021-07-29T12:24:45.130Z"
   },
   {
    "duration": 19,
    "start_time": "2021-07-29T12:24:45.138Z"
   },
   {
    "duration": 10,
    "start_time": "2021-07-29T12:24:45.159Z"
   },
   {
    "duration": 4,
    "start_time": "2021-07-29T12:24:45.172Z"
   },
   {
    "duration": 15,
    "start_time": "2021-07-29T12:24:45.179Z"
   },
   {
    "duration": 97,
    "start_time": "2021-07-29T12:24:45.197Z"
   },
   {
    "duration": 23,
    "start_time": "2021-07-29T12:24:45.297Z"
   },
   {
    "duration": 5147,
    "start_time": "2021-07-29T12:24:45.322Z"
   },
   {
    "duration": 1842,
    "start_time": "2021-07-29T12:24:50.472Z"
   },
   {
    "duration": 443,
    "start_time": "2021-07-29T12:24:52.317Z"
   },
   {
    "duration": 427,
    "start_time": "2021-07-29T12:24:52.763Z"
   },
   {
    "duration": 32,
    "start_time": "2021-07-29T12:24:53.192Z"
   },
   {
    "duration": 4,
    "start_time": "2021-07-29T12:24:53.227Z"
   },
   {
    "duration": 28,
    "start_time": "2021-07-29T12:24:53.233Z"
   },
   {
    "duration": 364,
    "start_time": "2021-07-29T12:24:53.263Z"
   },
   {
    "duration": 270,
    "start_time": "2021-07-29T12:24:53.630Z"
   },
   {
    "duration": 32,
    "start_time": "2021-07-29T12:25:33.628Z"
   },
   {
    "duration": 1925,
    "start_time": "2021-07-29T12:25:58.918Z"
   },
   {
    "duration": 42,
    "start_time": "2021-07-29T12:26:00.846Z"
   },
   {
    "duration": 5,
    "start_time": "2021-07-29T12:26:00.891Z"
   },
   {
    "duration": 19,
    "start_time": "2021-07-29T12:26:00.899Z"
   },
   {
    "duration": 26,
    "start_time": "2021-07-29T12:26:00.920Z"
   },
   {
    "duration": 28,
    "start_time": "2021-07-29T12:26:00.949Z"
   },
   {
    "duration": 48,
    "start_time": "2021-07-29T12:26:00.979Z"
   },
   {
    "duration": 76,
    "start_time": "2021-07-29T12:26:01.030Z"
   },
   {
    "duration": 20,
    "start_time": "2021-07-29T12:26:01.109Z"
   },
   {
    "duration": 5050,
    "start_time": "2021-07-29T12:26:01.132Z"
   },
   {
    "duration": 1837,
    "start_time": "2021-07-29T12:26:06.185Z"
   },
   {
    "duration": 461,
    "start_time": "2021-07-29T12:26:08.025Z"
   },
   {
    "duration": 450,
    "start_time": "2021-07-29T12:26:08.489Z"
   },
   {
    "duration": 17,
    "start_time": "2021-07-29T12:26:08.941Z"
   },
   {
    "duration": 16,
    "start_time": "2021-07-29T12:26:08.960Z"
   },
   {
    "duration": 8,
    "start_time": "2021-07-29T12:26:08.979Z"
   },
   {
    "duration": 370,
    "start_time": "2021-07-29T12:26:08.990Z"
   },
   {
    "duration": 112,
    "start_time": "2021-07-29T12:26:09.363Z"
   },
   {
    "duration": 468,
    "start_time": "2021-07-29T12:26:31.022Z"
   },
   {
    "duration": 1829,
    "start_time": "2021-07-29T12:26:42.864Z"
   },
   {
    "duration": 42,
    "start_time": "2021-07-29T12:26:44.696Z"
   },
   {
    "duration": 5,
    "start_time": "2021-07-29T12:26:44.741Z"
   },
   {
    "duration": 12,
    "start_time": "2021-07-29T12:26:44.748Z"
   },
   {
    "duration": 13,
    "start_time": "2021-07-29T12:26:44.763Z"
   },
   {
    "duration": 5,
    "start_time": "2021-07-29T12:26:44.779Z"
   },
   {
    "duration": 18,
    "start_time": "2021-07-29T12:26:44.787Z"
   },
   {
    "duration": 102,
    "start_time": "2021-07-29T12:26:44.808Z"
   },
   {
    "duration": 21,
    "start_time": "2021-07-29T12:26:44.912Z"
   },
   {
    "duration": 5056,
    "start_time": "2021-07-29T12:26:44.936Z"
   },
   {
    "duration": 1890,
    "start_time": "2021-07-29T12:26:49.995Z"
   },
   {
    "duration": 463,
    "start_time": "2021-07-29T12:26:51.888Z"
   },
   {
    "duration": 438,
    "start_time": "2021-07-29T12:26:52.353Z"
   },
   {
    "duration": 26,
    "start_time": "2021-07-29T12:26:52.793Z"
   },
   {
    "duration": 14,
    "start_time": "2021-07-29T12:26:52.822Z"
   },
   {
    "duration": 20,
    "start_time": "2021-07-29T12:26:52.839Z"
   },
   {
    "duration": 371,
    "start_time": "2021-07-29T12:26:52.861Z"
   },
   {
    "duration": 112,
    "start_time": "2021-07-29T12:26:53.234Z"
   },
   {
    "duration": 1993,
    "start_time": "2021-07-29T12:27:40.729Z"
   },
   {
    "duration": 43,
    "start_time": "2021-07-29T12:27:42.724Z"
   },
   {
    "duration": 5,
    "start_time": "2021-07-29T12:27:42.769Z"
   },
   {
    "duration": 8,
    "start_time": "2021-07-29T12:27:42.776Z"
   },
   {
    "duration": 18,
    "start_time": "2021-07-29T12:27:42.786Z"
   },
   {
    "duration": 4,
    "start_time": "2021-07-29T12:27:42.806Z"
   },
   {
    "duration": 15,
    "start_time": "2021-07-29T12:27:42.813Z"
   },
   {
    "duration": 65,
    "start_time": "2021-07-29T12:27:42.856Z"
   },
   {
    "duration": 44,
    "start_time": "2021-07-29T12:27:42.924Z"
   },
   {
    "duration": 5104,
    "start_time": "2021-07-29T12:27:42.970Z"
   },
   {
    "duration": 1980,
    "start_time": "2021-07-29T12:27:48.077Z"
   },
   {
    "duration": 434,
    "start_time": "2021-07-29T12:27:50.059Z"
   },
   {
    "duration": 468,
    "start_time": "2021-07-29T12:27:50.495Z"
   },
   {
    "duration": 5,
    "start_time": "2021-07-29T12:27:50.966Z"
   },
   {
    "duration": 15,
    "start_time": "2021-07-29T12:27:50.973Z"
   },
   {
    "duration": 382,
    "start_time": "2021-07-29T12:27:50.990Z"
   },
   {
    "duration": 302,
    "start_time": "2021-07-29T12:27:51.374Z"
   },
   {
    "duration": 2000,
    "start_time": "2021-07-30T05:00:10.295Z"
   },
   {
    "duration": 42,
    "start_time": "2021-07-30T05:00:12.299Z"
   },
   {
    "duration": 7,
    "start_time": "2021-07-30T05:00:12.345Z"
   },
   {
    "duration": 12,
    "start_time": "2021-07-30T05:00:12.355Z"
   },
   {
    "duration": 24,
    "start_time": "2021-07-30T05:00:12.370Z"
   },
   {
    "duration": 9,
    "start_time": "2021-07-30T05:00:12.396Z"
   },
   {
    "duration": 18,
    "start_time": "2021-07-30T05:00:12.408Z"
   },
   {
    "duration": 98,
    "start_time": "2021-07-30T05:00:12.430Z"
   },
   {
    "duration": 22,
    "start_time": "2021-07-30T05:00:12.531Z"
   },
   {
    "duration": 5299,
    "start_time": "2021-07-30T05:00:12.555Z"
   },
   {
    "duration": 1938,
    "start_time": "2021-07-30T05:00:17.857Z"
   },
   {
    "duration": 591,
    "start_time": "2021-07-30T05:00:19.798Z"
   },
   {
    "duration": 448,
    "start_time": "2021-07-30T05:00:20.391Z"
   },
   {
    "duration": 5,
    "start_time": "2021-07-30T05:00:20.842Z"
   },
   {
    "duration": 11,
    "start_time": "2021-07-30T05:00:20.849Z"
   },
   {
    "duration": 426,
    "start_time": "2021-07-30T05:00:20.863Z"
   },
   {
    "duration": 11,
    "start_time": "2021-07-30T05:00:21.292Z"
   },
   {
    "duration": 321,
    "start_time": "2021-07-30T05:00:21.305Z"
   },
   {
    "duration": 2031,
    "start_time": "2021-07-30T05:21:10.499Z"
   },
   {
    "duration": 45,
    "start_time": "2021-07-30T05:21:12.533Z"
   },
   {
    "duration": 8,
    "start_time": "2021-07-30T05:21:12.582Z"
   },
   {
    "duration": 128,
    "start_time": "2021-07-30T05:21:12.593Z"
   },
   {
    "duration": 74,
    "start_time": "2021-07-30T05:21:12.723Z"
   },
   {
    "duration": 10,
    "start_time": "2021-07-30T05:21:12.800Z"
   },
   {
    "duration": 18,
    "start_time": "2021-07-30T05:21:12.813Z"
   },
   {
    "duration": 86,
    "start_time": "2021-07-30T05:21:12.835Z"
   },
   {
    "duration": 27,
    "start_time": "2021-07-30T05:21:12.924Z"
   },
   {
    "duration": 5510,
    "start_time": "2021-07-30T05:21:12.954Z"
   },
   {
    "duration": 1992,
    "start_time": "2021-07-30T05:21:18.467Z"
   },
   {
    "duration": 468,
    "start_time": "2021-07-30T05:21:20.462Z"
   },
   {
    "duration": 520,
    "start_time": "2021-07-30T05:21:20.933Z"
   },
   {
    "duration": 5,
    "start_time": "2021-07-30T05:21:21.456Z"
   },
   {
    "duration": 22,
    "start_time": "2021-07-30T05:21:21.463Z"
   },
   {
    "duration": 397,
    "start_time": "2021-07-30T05:21:21.488Z"
   },
   {
    "duration": 12,
    "start_time": "2021-07-30T05:21:21.888Z"
   },
   {
    "duration": 326,
    "start_time": "2021-07-30T05:21:21.902Z"
   },
   {
    "duration": 2230,
    "start_time": "2021-07-30T05:40:08.627Z"
   },
   {
    "duration": 43,
    "start_time": "2021-07-30T05:40:10.860Z"
   },
   {
    "duration": 4,
    "start_time": "2021-07-30T05:40:10.906Z"
   },
   {
    "duration": 9,
    "start_time": "2021-07-30T05:40:10.913Z"
   },
   {
    "duration": 15,
    "start_time": "2021-07-30T05:40:10.924Z"
   },
   {
    "duration": 5,
    "start_time": "2021-07-30T05:40:10.941Z"
   },
   {
    "duration": 42,
    "start_time": "2021-07-30T05:40:10.948Z"
   },
   {
    "duration": 66,
    "start_time": "2021-07-30T05:40:10.994Z"
   },
   {
    "duration": 42,
    "start_time": "2021-07-30T05:40:11.063Z"
   },
   {
    "duration": 5144,
    "start_time": "2021-07-30T05:40:11.108Z"
   },
   {
    "duration": 1889,
    "start_time": "2021-07-30T05:40:16.255Z"
   },
   {
    "duration": 470,
    "start_time": "2021-07-30T05:40:18.146Z"
   },
   {
    "duration": 459,
    "start_time": "2021-07-30T05:40:18.619Z"
   },
   {
    "duration": 6,
    "start_time": "2021-07-30T05:40:19.081Z"
   },
   {
    "duration": 16,
    "start_time": "2021-07-30T05:40:19.089Z"
   },
   {
    "duration": 478,
    "start_time": "2021-07-30T05:40:19.108Z"
   },
   {
    "duration": 13,
    "start_time": "2021-07-30T05:40:19.588Z"
   },
   {
    "duration": 323,
    "start_time": "2021-07-30T05:40:19.604Z"
   },
   {
    "duration": 1920,
    "start_time": "2021-07-30T05:55:09.719Z"
   },
   {
    "duration": 43,
    "start_time": "2021-07-30T05:55:11.642Z"
   },
   {
    "duration": 5,
    "start_time": "2021-07-30T05:55:11.688Z"
   },
   {
    "duration": 12,
    "start_time": "2021-07-30T05:55:11.696Z"
   },
   {
    "duration": 14,
    "start_time": "2021-07-30T05:55:11.710Z"
   },
   {
    "duration": 4,
    "start_time": "2021-07-30T05:55:11.727Z"
   },
   {
    "duration": 16,
    "start_time": "2021-07-30T05:55:11.733Z"
   },
   {
    "duration": 66,
    "start_time": "2021-07-30T05:55:11.786Z"
   },
   {
    "duration": 48,
    "start_time": "2021-07-30T05:55:11.855Z"
   },
   {
    "duration": 5250,
    "start_time": "2021-07-30T05:55:11.906Z"
   },
   {
    "duration": 1894,
    "start_time": "2021-07-30T05:55:17.159Z"
   },
   {
    "duration": 570,
    "start_time": "2021-07-30T05:55:19.055Z"
   },
   {
    "duration": 441,
    "start_time": "2021-07-30T05:55:19.627Z"
   },
   {
    "duration": 5,
    "start_time": "2021-07-30T05:55:20.071Z"
   },
   {
    "duration": 8,
    "start_time": "2021-07-30T05:55:20.085Z"
   },
   {
    "duration": 393,
    "start_time": "2021-07-30T05:55:20.095Z"
   },
   {
    "duration": 10,
    "start_time": "2021-07-30T05:55:20.490Z"
   },
   {
    "duration": 234,
    "start_time": "2021-07-30T05:55:20.502Z"
   },
   {
    "duration": 50,
    "start_time": "2021-07-30T05:55:20.739Z"
   },
   {
    "duration": 493,
    "start_time": "2021-07-30T05:55:20.792Z"
   },
   {
    "duration": 138619,
    "start_time": "2021-07-30T05:55:30.148Z"
   },
   {
    "duration": 311,
    "start_time": "2021-07-30T06:11:22.531Z"
   },
   {
    "duration": 2026,
    "start_time": "2021-07-30T06:11:45.583Z"
   },
   {
    "duration": 43,
    "start_time": "2021-07-30T06:11:47.612Z"
   },
   {
    "duration": 5,
    "start_time": "2021-07-30T06:11:47.658Z"
   },
   {
    "duration": 21,
    "start_time": "2021-07-30T06:11:47.666Z"
   },
   {
    "duration": 11,
    "start_time": "2021-07-30T06:11:47.690Z"
   },
   {
    "duration": 9,
    "start_time": "2021-07-30T06:11:47.704Z"
   },
   {
    "duration": 24,
    "start_time": "2021-07-30T06:11:47.716Z"
   },
   {
    "duration": 87,
    "start_time": "2021-07-30T06:11:47.745Z"
   },
   {
    "duration": 23,
    "start_time": "2021-07-30T06:11:47.835Z"
   },
   {
    "duration": 5257,
    "start_time": "2021-07-30T06:11:47.860Z"
   },
   {
    "duration": 1940,
    "start_time": "2021-07-30T06:11:53.120Z"
   },
   {
    "duration": 458,
    "start_time": "2021-07-30T06:11:55.063Z"
   },
   {
    "duration": 529,
    "start_time": "2021-07-30T06:11:55.524Z"
   },
   {
    "duration": 7,
    "start_time": "2021-07-30T06:11:56.056Z"
   },
   {
    "duration": 8,
    "start_time": "2021-07-30T06:11:56.084Z"
   },
   {
    "duration": 377,
    "start_time": "2021-07-30T06:11:56.095Z"
   },
   {
    "duration": 18,
    "start_time": "2021-07-30T06:11:56.475Z"
   },
   {
    "duration": 244,
    "start_time": "2021-07-30T06:11:56.495Z"
   },
   {
    "duration": 8,
    "start_time": "2021-07-30T06:11:56.741Z"
   },
   {
    "duration": 143666,
    "start_time": "2021-07-30T06:11:56.752Z"
   },
   {
    "duration": 2475,
    "start_time": "2021-07-30T06:14:20.421Z"
   },
   {
    "duration": 2270,
    "start_time": "2021-07-30T06:18:09.562Z"
   },
   {
    "duration": 1851,
    "start_time": "2021-07-30T06:18:36.161Z"
   },
   {
    "duration": 1793,
    "start_time": "2021-07-30T06:23:59.610Z"
   },
   {
    "duration": 19111,
    "start_time": "2021-07-30T06:26:30.930Z"
   },
   {
    "duration": 368,
    "start_time": "2021-07-30T06:29:39.178Z"
   },
   {
    "duration": 18290,
    "start_time": "2021-07-30T06:29:49.170Z"
   },
   {
    "duration": 18113,
    "start_time": "2021-07-30T06:30:13.810Z"
   },
   {
    "duration": 15,
    "start_time": "2021-07-30T06:37:14.515Z"
   },
   {
    "duration": 426,
    "start_time": "2021-07-30T06:38:42.687Z"
   },
   {
    "duration": 517,
    "start_time": "2021-07-30T06:38:49.604Z"
   },
   {
    "duration": 391,
    "start_time": "2021-07-30T06:38:54.418Z"
   },
   {
    "duration": 2110,
    "start_time": "2021-07-30T08:14:27.580Z"
   },
   {
    "duration": 42,
    "start_time": "2021-07-30T08:14:29.693Z"
   },
   {
    "duration": 5,
    "start_time": "2021-07-30T08:14:29.739Z"
   },
   {
    "duration": 9,
    "start_time": "2021-07-30T08:14:29.746Z"
   },
   {
    "duration": 27,
    "start_time": "2021-07-30T08:14:29.757Z"
   },
   {
    "duration": 7,
    "start_time": "2021-07-30T08:14:29.788Z"
   },
   {
    "duration": 21,
    "start_time": "2021-07-30T08:14:29.797Z"
   },
   {
    "duration": 89,
    "start_time": "2021-07-30T08:14:29.822Z"
   },
   {
    "duration": 23,
    "start_time": "2021-07-30T08:14:29.914Z"
   },
   {
    "duration": 5774,
    "start_time": "2021-07-30T08:14:29.939Z"
   },
   {
    "duration": 2120,
    "start_time": "2021-07-30T08:14:35.715Z"
   },
   {
    "duration": 491,
    "start_time": "2021-07-30T08:14:37.838Z"
   },
   {
    "duration": 507,
    "start_time": "2021-07-30T08:14:38.331Z"
   },
   {
    "duration": 5,
    "start_time": "2021-07-30T08:14:38.840Z"
   },
   {
    "duration": 12,
    "start_time": "2021-07-30T08:14:38.847Z"
   },
   {
    "duration": 421,
    "start_time": "2021-07-30T08:14:38.861Z"
   },
   {
    "duration": 13,
    "start_time": "2021-07-30T08:14:39.286Z"
   },
   {
    "duration": 338,
    "start_time": "2021-07-30T08:14:39.302Z"
   },
   {
    "duration": 8,
    "start_time": "2021-07-30T08:14:39.643Z"
   },
   {
    "duration": 151618,
    "start_time": "2021-07-30T08:14:39.654Z"
   },
   {
    "duration": 1631,
    "start_time": "2021-07-30T08:17:11.274Z"
   },
   {
    "duration": 534,
    "start_time": "2021-07-30T08:17:12.907Z"
   },
   {
    "duration": 1409,
    "start_time": "2021-07-30T09:56:21.777Z"
   },
   {
    "duration": 1468,
    "start_time": "2021-07-30T09:56:29.120Z"
   },
   {
    "duration": 322,
    "start_time": "2021-07-30T09:56:43.912Z"
   },
   {
    "duration": 4070,
    "start_time": "2021-07-30T09:56:51.824Z"
   },
   {
    "duration": 21191,
    "start_time": "2021-07-30T09:56:57.856Z"
   },
   {
    "duration": 1504,
    "start_time": "2021-07-30T10:03:01.089Z"
   },
   {
    "duration": 6154,
    "start_time": "2021-07-30T10:03:09.448Z"
   },
   {
    "duration": 2117,
    "start_time": "2021-07-30T10:04:10.771Z"
   },
   {
    "duration": 46,
    "start_time": "2021-07-30T10:04:12.891Z"
   },
   {
    "duration": 5,
    "start_time": "2021-07-30T10:04:12.943Z"
   },
   {
    "duration": 15,
    "start_time": "2021-07-30T10:04:12.950Z"
   },
   {
    "duration": 30,
    "start_time": "2021-07-30T10:04:12.967Z"
   },
   {
    "duration": 6,
    "start_time": "2021-07-30T10:04:13.000Z"
   },
   {
    "duration": 18,
    "start_time": "2021-07-30T10:04:13.009Z"
   },
   {
    "duration": 100,
    "start_time": "2021-07-30T10:04:13.030Z"
   },
   {
    "duration": 22,
    "start_time": "2021-07-30T10:04:13.133Z"
   },
   {
    "duration": 5469,
    "start_time": "2021-07-30T10:04:13.158Z"
   },
   {
    "duration": 2026,
    "start_time": "2021-07-30T10:04:18.629Z"
   },
   {
    "duration": 472,
    "start_time": "2021-07-30T10:04:20.657Z"
   },
   {
    "duration": 501,
    "start_time": "2021-07-30T10:04:21.131Z"
   },
   {
    "duration": 7,
    "start_time": "2021-07-30T10:04:21.635Z"
   },
   {
    "duration": 15,
    "start_time": "2021-07-30T10:04:21.644Z"
   },
   {
    "duration": 423,
    "start_time": "2021-07-30T10:04:21.662Z"
   },
   {
    "duration": 12,
    "start_time": "2021-07-30T10:04:22.088Z"
   },
   {
    "duration": 235,
    "start_time": "2021-07-30T10:04:22.102Z"
   },
   {
    "duration": 8,
    "start_time": "2021-07-30T10:04:22.339Z"
   },
   {
    "duration": 147386,
    "start_time": "2021-07-30T10:04:22.349Z"
   },
   {
    "duration": 1462,
    "start_time": "2021-07-30T10:06:49.737Z"
   },
   {
    "duration": 20581,
    "start_time": "2021-07-30T10:06:51.204Z"
   },
   {
    "duration": 18182,
    "start_time": "2021-07-30T10:57:05.218Z"
   },
   {
    "duration": 17968,
    "start_time": "2021-07-30T10:58:10.828Z"
   },
   {
    "duration": 2115,
    "start_time": "2021-07-30T12:40:59.423Z"
   },
   {
    "duration": 105,
    "start_time": "2021-07-30T12:41:01.541Z"
   },
   {
    "duration": 5,
    "start_time": "2021-07-30T12:41:01.649Z"
   },
   {
    "duration": 31,
    "start_time": "2021-07-30T12:41:01.657Z"
   },
   {
    "duration": 25,
    "start_time": "2021-07-30T12:41:01.691Z"
   },
   {
    "duration": 10,
    "start_time": "2021-07-30T12:41:01.719Z"
   },
   {
    "duration": 35,
    "start_time": "2021-07-30T12:41:01.731Z"
   },
   {
    "duration": 75,
    "start_time": "2021-07-30T12:41:01.770Z"
   },
   {
    "duration": 24,
    "start_time": "2021-07-30T12:41:01.848Z"
   },
   {
    "duration": 5479,
    "start_time": "2021-07-30T12:41:01.886Z"
   },
   {
    "duration": 2990,
    "start_time": "2021-07-30T12:41:07.368Z"
   },
   {
    "duration": 463,
    "start_time": "2021-07-30T12:41:10.361Z"
   },
   {
    "duration": 537,
    "start_time": "2021-07-30T12:41:10.826Z"
   },
   {
    "duration": 6,
    "start_time": "2021-07-30T12:41:11.366Z"
   },
   {
    "duration": 10,
    "start_time": "2021-07-30T12:41:11.387Z"
   },
   {
    "duration": 434,
    "start_time": "2021-07-30T12:41:11.400Z"
   },
   {
    "duration": 10,
    "start_time": "2021-07-30T12:41:11.837Z"
   },
   {
    "duration": 278,
    "start_time": "2021-07-30T12:41:11.850Z"
   },
   {
    "duration": 8,
    "start_time": "2021-07-30T12:41:12.130Z"
   },
   {
    "duration": 163037,
    "start_time": "2021-07-30T12:41:12.141Z"
   },
   {
    "duration": 1512,
    "start_time": "2021-07-30T12:43:55.180Z"
   },
   {
    "duration": 17880,
    "start_time": "2021-07-30T12:43:56.695Z"
   },
   {
    "duration": 3117,
    "start_time": "2021-07-30T15:43:03.039Z"
   },
   {
    "duration": 259,
    "start_time": "2021-07-30T15:43:06.159Z"
   },
   {
    "duration": 4,
    "start_time": "2021-07-30T15:43:06.425Z"
   },
   {
    "duration": 9,
    "start_time": "2021-07-30T15:43:06.432Z"
   },
   {
    "duration": 21,
    "start_time": "2021-07-30T15:43:06.444Z"
   },
   {
    "duration": 5,
    "start_time": "2021-07-30T15:43:06.467Z"
   },
   {
    "duration": 11,
    "start_time": "2021-07-30T15:43:06.502Z"
   },
   {
    "duration": 84,
    "start_time": "2021-07-30T15:43:06.516Z"
   },
   {
    "duration": 26,
    "start_time": "2021-07-30T15:43:06.603Z"
   },
   {
    "duration": 5174,
    "start_time": "2021-07-30T15:43:06.632Z"
   },
   {
    "duration": 1693,
    "start_time": "2021-07-30T15:43:11.808Z"
   },
   {
    "duration": 205,
    "start_time": "2021-07-30T15:43:13.504Z"
   },
   {
    "duration": 236,
    "start_time": "2021-07-30T15:43:13.711Z"
   },
   {
    "duration": 4,
    "start_time": "2021-07-30T15:43:13.950Z"
   },
   {
    "duration": 12,
    "start_time": "2021-07-30T15:43:13.956Z"
   },
   {
    "duration": 351,
    "start_time": "2021-07-30T15:43:13.970Z"
   },
   {
    "duration": 9,
    "start_time": "2021-07-30T15:43:14.323Z"
   },
   {
    "duration": 299,
    "start_time": "2021-07-30T15:43:14.334Z"
   },
   {
    "duration": 7,
    "start_time": "2021-07-30T15:43:14.636Z"
   },
   {
    "duration": 146585,
    "start_time": "2021-07-30T15:43:14.645Z"
   },
   {
    "duration": 1790,
    "start_time": "2021-07-30T15:45:41.232Z"
   },
   {
    "duration": 12217,
    "start_time": "2021-07-30T15:45:43.026Z"
   }
  ],
  "kernelspec": {
   "display_name": "Python 3",
   "language": "python",
   "name": "python3"
  },
  "language_info": {
   "codemirror_mode": {
    "name": "ipython",
    "version": 3
   },
   "file_extension": ".py",
   "mimetype": "text/x-python",
   "name": "python",
   "nbconvert_exporter": "python",
   "pygments_lexer": "ipython3",
   "version": "3.8.8"
  },
  "toc": {
   "base_numbering": 1,
   "nav_menu": {},
   "number_sections": true,
   "sideBar": true,
   "skip_h1_title": true,
   "title_cell": "Table of Contents",
   "title_sidebar": "Contents",
   "toc_cell": false,
   "toc_position": {},
   "toc_section_display": true,
   "toc_window_display": false
  }
 },
 "nbformat": 4,
 "nbformat_minor": 2
}
